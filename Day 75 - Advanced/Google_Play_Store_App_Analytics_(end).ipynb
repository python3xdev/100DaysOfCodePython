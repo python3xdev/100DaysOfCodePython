{
  "nbformat": 4,
  "nbformat_minor": 0,
  "metadata": {
    "kernelspec": {
      "display_name": "Python 3",
      "language": "python",
      "name": "python3"
    },
    "language_info": {
      "codemirror_mode": {
        "name": "ipython",
        "version": 3
      },
      "file_extension": ".py",
      "mimetype": "text/x-python",
      "name": "python",
      "nbconvert_exporter": "python",
      "pygments_lexer": "ipython3",
      "version": "3.7.3"
    },
    "colab": {
      "name": "Google Play Store App Analytics (start).ipynb",
      "provenance": [],
      "collapsed_sections": []
    }
  },
  "cells": [
    {
      "cell_type": "markdown",
      "metadata": {
        "dc": {
          "key": "4"
        },
        "run_control": {
          "frozen": true
        },
        "tags": [
          "context"
        ],
        "id": "-Sxae4jbdiT2"
      },
      "source": [
        "# Introduction\n",
        "\n",
        "In this notebook, we will do a comprehensive analysis of the Android app market by comparing thousands of apps in the Google Play store."
      ]
    },
    {
      "cell_type": "markdown",
      "metadata": {
        "id": "sDT5lMxadiT3"
      },
      "source": [
        "# About the Dataset of Google Play Store Apps & Reviews"
      ]
    },
    {
      "cell_type": "markdown",
      "metadata": {
        "id": "5CiydsdNdiT3"
      },
      "source": [
        "**Data Source:** <br>\n",
        "App and review data was scraped from the Google Play Store by Lavanya Gupta in 2018. Original files listed [here](\n",
        "https://www.kaggle.com/lava18/google-play-store-apps)."
      ]
    },
    {
      "cell_type": "markdown",
      "metadata": {
        "id": "BBKBNy4UdiT4"
      },
      "source": [
        "# Import Statements"
      ]
    },
    {
      "cell_type": "code",
      "metadata": {
        "id": "_5mfFH4_diT4"
      },
      "source": [
        "import pandas as pd\n",
        "import plotly.express as px"
      ],
      "execution_count": 23,
      "outputs": []
    },
    {
      "cell_type": "markdown",
      "metadata": {
        "id": "KegC9nPDdiT7"
      },
      "source": [
        "# Notebook Presentation"
      ]
    },
    {
      "cell_type": "code",
      "metadata": {
        "id": "WPL7rhJndiT7"
      },
      "source": [
        "# Show numeric output in decimal format e.g., 2.15\n",
        "pd.options.display.float_format = '{:,.2f}'.format"
      ],
      "execution_count": 3,
      "outputs": []
    },
    {
      "cell_type": "markdown",
      "metadata": {
        "id": "Uc9LOZu9diT-"
      },
      "source": [
        "# Read the Dataset"
      ]
    },
    {
      "cell_type": "code",
      "metadata": {
        "id": "zU0Zisv_diT-"
      },
      "source": [
        "df_apps = pd.read_csv('apps.csv')"
      ],
      "execution_count": 5,
      "outputs": []
    },
    {
      "cell_type": "markdown",
      "metadata": {
        "id": "iKvSUwQldiUA"
      },
      "source": [
        "# Data Cleaning"
      ]
    },
    {
      "cell_type": "markdown",
      "metadata": {
        "id": "MWTzYZIds5L9"
      },
      "source": [
        "**Challenge**: How many rows and columns does `df_apps` have? What are the column names? Look at a random sample of 5 different rows with [.sample()](https://pandas.pydata.org/pandas-docs/stable/reference/api/pandas.DataFrame.sample.html)."
      ]
    },
    {
      "cell_type": "code",
      "metadata": {
        "id": "HJI7UsPrnuRf",
        "colab": {
          "base_uri": "https://localhost:8080/"
        },
        "outputId": "38e1e614-6e30-4a86-9916-3804ad57118a"
      },
      "source": [
        "df_apps.shape"
      ],
      "execution_count": 6,
      "outputs": [
        {
          "output_type": "execute_result",
          "data": {
            "text/plain": [
              "(10841, 12)"
            ]
          },
          "metadata": {},
          "execution_count": 6
        }
      ]
    },
    {
      "cell_type": "code",
      "metadata": {
        "id": "fKXFjPkmnuYA",
        "colab": {
          "base_uri": "https://localhost:8080/"
        },
        "outputId": "93464db2-d32f-4fa7-8f4f-4deacd95f886"
      },
      "source": [
        "df_apps.columns"
      ],
      "execution_count": 7,
      "outputs": [
        {
          "output_type": "execute_result",
          "data": {
            "text/plain": [
              "Index(['App', 'Category', 'Rating', 'Reviews', 'Size_MBs', 'Installs', 'Type',\n",
              "       'Price', 'Content_Rating', 'Genres', 'Last_Updated', 'Android_Ver'],\n",
              "      dtype='object')"
            ]
          },
          "metadata": {},
          "execution_count": 7
        }
      ]
    },
    {
      "cell_type": "code",
      "metadata": {
        "id": "MUluaHF5nueH",
        "colab": {
          "base_uri": "https://localhost:8080/",
          "height": 435
        },
        "outputId": "e2f23560-6b98-4829-b54f-2bd1c85f0ad6"
      },
      "source": [
        "df_apps.sample(5)"
      ],
      "execution_count": 8,
      "outputs": [
        {
          "output_type": "execute_result",
          "data": {
            "text/html": [
              "<div>\n",
              "<style scoped>\n",
              "    .dataframe tbody tr th:only-of-type {\n",
              "        vertical-align: middle;\n",
              "    }\n",
              "\n",
              "    .dataframe tbody tr th {\n",
              "        vertical-align: top;\n",
              "    }\n",
              "\n",
              "    .dataframe thead th {\n",
              "        text-align: right;\n",
              "    }\n",
              "</style>\n",
              "<table border=\"1\" class=\"dataframe\">\n",
              "  <thead>\n",
              "    <tr style=\"text-align: right;\">\n",
              "      <th></th>\n",
              "      <th>App</th>\n",
              "      <th>Category</th>\n",
              "      <th>Rating</th>\n",
              "      <th>Reviews</th>\n",
              "      <th>Size_MBs</th>\n",
              "      <th>Installs</th>\n",
              "      <th>Type</th>\n",
              "      <th>Price</th>\n",
              "      <th>Content_Rating</th>\n",
              "      <th>Genres</th>\n",
              "      <th>Last_Updated</th>\n",
              "      <th>Android_Ver</th>\n",
              "    </tr>\n",
              "  </thead>\n",
              "  <tbody>\n",
              "    <tr>\n",
              "      <th>9290</th>\n",
              "      <td>Camera MX - Free Photo &amp; Video Camera</td>\n",
              "      <td>PHOTOGRAPHY</td>\n",
              "      <td>4.30</td>\n",
              "      <td>244371</td>\n",
              "      <td>6.90</td>\n",
              "      <td>10,000,000</td>\n",
              "      <td>Free</td>\n",
              "      <td>0</td>\n",
              "      <td>Everyone</td>\n",
              "      <td>Photography</td>\n",
              "      <td>July 5, 2018</td>\n",
              "      <td>Varies with device</td>\n",
              "    </tr>\n",
              "    <tr>\n",
              "      <th>870</th>\n",
              "      <td>DV Statistics</td>\n",
              "      <td>SOCIAL</td>\n",
              "      <td>4.20</td>\n",
              "      <td>6</td>\n",
              "      <td>2.70</td>\n",
              "      <td>100</td>\n",
              "      <td>Free</td>\n",
              "      <td>0</td>\n",
              "      <td>Everyone</td>\n",
              "      <td>Social</td>\n",
              "      <td>October 8, 2015</td>\n",
              "      <td>4.0.3 and up</td>\n",
              "    </tr>\n",
              "    <tr>\n",
              "      <th>9181</th>\n",
              "      <td>Galaxy Attack: Alien Shooter</td>\n",
              "      <td>GAME</td>\n",
              "      <td>4.60</td>\n",
              "      <td>506275</td>\n",
              "      <td>36.00</td>\n",
              "      <td>10,000,000</td>\n",
              "      <td>Free</td>\n",
              "      <td>0</td>\n",
              "      <td>Everyone</td>\n",
              "      <td>Arcade</td>\n",
              "      <td>August 1, 2018</td>\n",
              "      <td>4.1 and up</td>\n",
              "    </tr>\n",
              "    <tr>\n",
              "      <th>2586</th>\n",
              "      <td>BL Mobile Banking</td>\n",
              "      <td>FINANCE</td>\n",
              "      <td>4.30</td>\n",
              "      <td>23</td>\n",
              "      <td>93.00</td>\n",
              "      <td>1,000</td>\n",
              "      <td>Free</td>\n",
              "      <td>0</td>\n",
              "      <td>Everyone</td>\n",
              "      <td>Finance</td>\n",
              "      <td>August 1, 2018</td>\n",
              "      <td>5.0 and up</td>\n",
              "    </tr>\n",
              "    <tr>\n",
              "      <th>10651</th>\n",
              "      <td>Clash of Clans</td>\n",
              "      <td>GAME</td>\n",
              "      <td>4.60</td>\n",
              "      <td>44891723</td>\n",
              "      <td>98.00</td>\n",
              "      <td>100,000,000</td>\n",
              "      <td>Free</td>\n",
              "      <td>0</td>\n",
              "      <td>Everyone 10+</td>\n",
              "      <td>Strategy</td>\n",
              "      <td>July 15, 2018</td>\n",
              "      <td>4.1 and up</td>\n",
              "    </tr>\n",
              "  </tbody>\n",
              "</table>\n",
              "</div>"
            ],
            "text/plain": [
              "                                         App  ...         Android_Ver\n",
              "9290   Camera MX - Free Photo & Video Camera  ...  Varies with device\n",
              "870                            DV Statistics  ...        4.0.3 and up\n",
              "9181            Galaxy Attack: Alien Shooter  ...          4.1 and up\n",
              "2586                       BL Mobile Banking  ...          5.0 and up\n",
              "10651                         Clash of Clans  ...          4.1 and up\n",
              "\n",
              "[5 rows x 12 columns]"
            ]
          },
          "metadata": {},
          "execution_count": 8
        }
      ]
    },
    {
      "cell_type": "markdown",
      "metadata": {
        "id": "Hh81sMcvdiUI"
      },
      "source": [
        "### Drop Unused Columns\n",
        "\n",
        "**Challenge**: Remove the columns called `Last_Updated` and `Android_Version` from the DataFrame. We will not use these columns. "
      ]
    },
    {
      "cell_type": "code",
      "metadata": {
        "id": "t7EMSKAOnyzI",
        "colab": {
          "base_uri": "https://localhost:8080/",
          "height": 224
        },
        "outputId": "63ba938e-669e-4738-a2ed-813351c039e2"
      },
      "source": [
        "df_apps.drop(['Last_Updated', 'Android_Ver'], axis=1, inplace=True)\n",
        "df_apps.head()"
      ],
      "execution_count": 9,
      "outputs": [
        {
          "output_type": "execute_result",
          "data": {
            "text/html": [
              "<div>\n",
              "<style scoped>\n",
              "    .dataframe tbody tr th:only-of-type {\n",
              "        vertical-align: middle;\n",
              "    }\n",
              "\n",
              "    .dataframe tbody tr th {\n",
              "        vertical-align: top;\n",
              "    }\n",
              "\n",
              "    .dataframe thead th {\n",
              "        text-align: right;\n",
              "    }\n",
              "</style>\n",
              "<table border=\"1\" class=\"dataframe\">\n",
              "  <thead>\n",
              "    <tr style=\"text-align: right;\">\n",
              "      <th></th>\n",
              "      <th>App</th>\n",
              "      <th>Category</th>\n",
              "      <th>Rating</th>\n",
              "      <th>Reviews</th>\n",
              "      <th>Size_MBs</th>\n",
              "      <th>Installs</th>\n",
              "      <th>Type</th>\n",
              "      <th>Price</th>\n",
              "      <th>Content_Rating</th>\n",
              "      <th>Genres</th>\n",
              "    </tr>\n",
              "  </thead>\n",
              "  <tbody>\n",
              "    <tr>\n",
              "      <th>0</th>\n",
              "      <td>Ak Parti Yardım Toplama</td>\n",
              "      <td>SOCIAL</td>\n",
              "      <td>nan</td>\n",
              "      <td>0</td>\n",
              "      <td>8.70</td>\n",
              "      <td>0</td>\n",
              "      <td>Paid</td>\n",
              "      <td>$13.99</td>\n",
              "      <td>Teen</td>\n",
              "      <td>Social</td>\n",
              "    </tr>\n",
              "    <tr>\n",
              "      <th>1</th>\n",
              "      <td>Ain Arabic Kids Alif Ba ta</td>\n",
              "      <td>FAMILY</td>\n",
              "      <td>nan</td>\n",
              "      <td>0</td>\n",
              "      <td>33.00</td>\n",
              "      <td>0</td>\n",
              "      <td>Paid</td>\n",
              "      <td>$2.99</td>\n",
              "      <td>Everyone</td>\n",
              "      <td>Education</td>\n",
              "    </tr>\n",
              "    <tr>\n",
              "      <th>2</th>\n",
              "      <td>Popsicle Launcher for Android P 9.0 launcher</td>\n",
              "      <td>PERSONALIZATION</td>\n",
              "      <td>nan</td>\n",
              "      <td>0</td>\n",
              "      <td>5.50</td>\n",
              "      <td>0</td>\n",
              "      <td>Paid</td>\n",
              "      <td>$1.49</td>\n",
              "      <td>Everyone</td>\n",
              "      <td>Personalization</td>\n",
              "    </tr>\n",
              "    <tr>\n",
              "      <th>3</th>\n",
              "      <td>Command &amp; Conquer: Rivals</td>\n",
              "      <td>FAMILY</td>\n",
              "      <td>nan</td>\n",
              "      <td>0</td>\n",
              "      <td>19.00</td>\n",
              "      <td>0</td>\n",
              "      <td>NaN</td>\n",
              "      <td>0</td>\n",
              "      <td>Everyone 10+</td>\n",
              "      <td>Strategy</td>\n",
              "    </tr>\n",
              "    <tr>\n",
              "      <th>4</th>\n",
              "      <td>CX Network</td>\n",
              "      <td>BUSINESS</td>\n",
              "      <td>nan</td>\n",
              "      <td>0</td>\n",
              "      <td>10.00</td>\n",
              "      <td>0</td>\n",
              "      <td>Free</td>\n",
              "      <td>0</td>\n",
              "      <td>Everyone</td>\n",
              "      <td>Business</td>\n",
              "    </tr>\n",
              "  </tbody>\n",
              "</table>\n",
              "</div>"
            ],
            "text/plain": [
              "                                            App  ...           Genres\n",
              "0                       Ak Parti Yardım Toplama  ...           Social\n",
              "1                    Ain Arabic Kids Alif Ba ta  ...        Education\n",
              "2  Popsicle Launcher for Android P 9.0 launcher  ...  Personalization\n",
              "3                     Command & Conquer: Rivals  ...         Strategy\n",
              "4                                    CX Network  ...         Business\n",
              "\n",
              "[5 rows x 10 columns]"
            ]
          },
          "metadata": {},
          "execution_count": 9
        }
      ]
    },
    {
      "cell_type": "markdown",
      "metadata": {
        "id": "YQGe1DIKdiUM"
      },
      "source": [
        "### Find and Remove NaN values in Ratings\n",
        "\n",
        "**Challenge**: How may rows have a NaN value (not-a-number) in the Ratings column? Create DataFrame called `df_apps_clean` that does not include these rows. "
      ]
    },
    {
      "cell_type": "code",
      "metadata": {
        "id": "grcP1IOZn1Wv"
      },
      "source": [
        "df_apps_clean = df_apps.dropna()"
      ],
      "execution_count": 10,
      "outputs": []
    },
    {
      "cell_type": "code",
      "metadata": {
        "id": "IbQnnPaUn1Pw",
        "colab": {
          "base_uri": "https://localhost:8080/"
        },
        "outputId": "5bc2b204-ef19-4932-c8b6-55d4f7e5d024"
      },
      "source": [
        "df_apps_clean.shape"
      ],
      "execution_count": 11,
      "outputs": [
        {
          "output_type": "execute_result",
          "data": {
            "text/plain": [
              "(9367, 10)"
            ]
          },
          "metadata": {},
          "execution_count": 11
        }
      ]
    },
    {
      "cell_type": "markdown",
      "metadata": {
        "id": "pD26SWlxdiUV"
      },
      "source": [
        "### Find and Remove Duplicates\n",
        "\n",
        "**Challenge**: Are there any duplicates in data? Check for duplicates using the [.duplicated()](https://pandas.pydata.org/pandas-docs/stable/reference/api/pandas.DataFrame.duplicated.html) function. How many entries can you find for the \"Instagram\" app? Use [.drop_duplicates()](https://pandas.pydata.org/pandas-docs/stable/reference/api/pandas.DataFrame.drop_duplicates.html) to remove any duplicates from `df_apps_clean`. \n"
      ]
    },
    {
      "cell_type": "code",
      "metadata": {
        "id": "lE7X6KG3n5pR",
        "colab": {
          "base_uri": "https://localhost:8080/",
          "height": 225
        },
        "outputId": "e50d541c-43bd-4e1d-a1f7-53c290e56b07"
      },
      "source": [
        "duplicateed_rows = df_apps_clean[df_apps_clean.duplicated()]\n",
        "print(duplicateed_rows.shape)\n",
        "duplicateed_rows.head()"
      ],
      "execution_count": 12,
      "outputs": [
        {
          "output_type": "stream",
          "name": "stdout",
          "text": [
            "(476, 10)\n"
          ]
        },
        {
          "output_type": "execute_result",
          "data": {
            "text/html": [
              "<div>\n",
              "<style scoped>\n",
              "    .dataframe tbody tr th:only-of-type {\n",
              "        vertical-align: middle;\n",
              "    }\n",
              "\n",
              "    .dataframe tbody tr th {\n",
              "        vertical-align: top;\n",
              "    }\n",
              "\n",
              "    .dataframe thead th {\n",
              "        text-align: right;\n",
              "    }\n",
              "</style>\n",
              "<table border=\"1\" class=\"dataframe\">\n",
              "  <thead>\n",
              "    <tr style=\"text-align: right;\">\n",
              "      <th></th>\n",
              "      <th>App</th>\n",
              "      <th>Category</th>\n",
              "      <th>Rating</th>\n",
              "      <th>Reviews</th>\n",
              "      <th>Size_MBs</th>\n",
              "      <th>Installs</th>\n",
              "      <th>Type</th>\n",
              "      <th>Price</th>\n",
              "      <th>Content_Rating</th>\n",
              "      <th>Genres</th>\n",
              "    </tr>\n",
              "  </thead>\n",
              "  <tbody>\n",
              "    <tr>\n",
              "      <th>946</th>\n",
              "      <td>420 BZ Budeze Delivery</td>\n",
              "      <td>MEDICAL</td>\n",
              "      <td>5.00</td>\n",
              "      <td>2</td>\n",
              "      <td>11.00</td>\n",
              "      <td>100</td>\n",
              "      <td>Free</td>\n",
              "      <td>0</td>\n",
              "      <td>Mature 17+</td>\n",
              "      <td>Medical</td>\n",
              "    </tr>\n",
              "    <tr>\n",
              "      <th>1133</th>\n",
              "      <td>MouseMingle</td>\n",
              "      <td>DATING</td>\n",
              "      <td>2.70</td>\n",
              "      <td>3</td>\n",
              "      <td>3.90</td>\n",
              "      <td>100</td>\n",
              "      <td>Free</td>\n",
              "      <td>0</td>\n",
              "      <td>Mature 17+</td>\n",
              "      <td>Dating</td>\n",
              "    </tr>\n",
              "    <tr>\n",
              "      <th>1196</th>\n",
              "      <td>Cardiac diagnosis (heart rate, arrhythmia)</td>\n",
              "      <td>MEDICAL</td>\n",
              "      <td>4.40</td>\n",
              "      <td>8</td>\n",
              "      <td>6.50</td>\n",
              "      <td>100</td>\n",
              "      <td>Paid</td>\n",
              "      <td>$12.99</td>\n",
              "      <td>Everyone</td>\n",
              "      <td>Medical</td>\n",
              "    </tr>\n",
              "    <tr>\n",
              "      <th>1231</th>\n",
              "      <td>Sway Medical</td>\n",
              "      <td>MEDICAL</td>\n",
              "      <td>5.00</td>\n",
              "      <td>3</td>\n",
              "      <td>22.00</td>\n",
              "      <td>100</td>\n",
              "      <td>Free</td>\n",
              "      <td>0</td>\n",
              "      <td>Everyone</td>\n",
              "      <td>Medical</td>\n",
              "    </tr>\n",
              "    <tr>\n",
              "      <th>1247</th>\n",
              "      <td>Chat Kids - Chat Room For Kids</td>\n",
              "      <td>DATING</td>\n",
              "      <td>4.70</td>\n",
              "      <td>6</td>\n",
              "      <td>4.90</td>\n",
              "      <td>100</td>\n",
              "      <td>Free</td>\n",
              "      <td>0</td>\n",
              "      <td>Mature 17+</td>\n",
              "      <td>Dating</td>\n",
              "    </tr>\n",
              "  </tbody>\n",
              "</table>\n",
              "</div>"
            ],
            "text/plain": [
              "                                             App  ...   Genres\n",
              "946                       420 BZ Budeze Delivery  ...  Medical\n",
              "1133                                 MouseMingle  ...   Dating\n",
              "1196  Cardiac diagnosis (heart rate, arrhythmia)  ...  Medical\n",
              "1231                                Sway Medical  ...  Medical\n",
              "1247              Chat Kids - Chat Room For Kids  ...   Dating\n",
              "\n",
              "[5 rows x 10 columns]"
            ]
          },
          "metadata": {},
          "execution_count": 12
        }
      ]
    },
    {
      "cell_type": "code",
      "metadata": {
        "id": "GK2rP7wgn53-",
        "colab": {
          "base_uri": "https://localhost:8080/",
          "height": 175
        },
        "outputId": "513df12b-a9d8-47d7-e848-205f3dc8ebf2"
      },
      "source": [
        "# checking how many duplicates there are of a specific App\n",
        "df_apps_clean[df_apps_clean.App == \"Instagram\"]"
      ],
      "execution_count": 13,
      "outputs": [
        {
          "output_type": "execute_result",
          "data": {
            "text/html": [
              "<div>\n",
              "<style scoped>\n",
              "    .dataframe tbody tr th:only-of-type {\n",
              "        vertical-align: middle;\n",
              "    }\n",
              "\n",
              "    .dataframe tbody tr th {\n",
              "        vertical-align: top;\n",
              "    }\n",
              "\n",
              "    .dataframe thead th {\n",
              "        text-align: right;\n",
              "    }\n",
              "</style>\n",
              "<table border=\"1\" class=\"dataframe\">\n",
              "  <thead>\n",
              "    <tr style=\"text-align: right;\">\n",
              "      <th></th>\n",
              "      <th>App</th>\n",
              "      <th>Category</th>\n",
              "      <th>Rating</th>\n",
              "      <th>Reviews</th>\n",
              "      <th>Size_MBs</th>\n",
              "      <th>Installs</th>\n",
              "      <th>Type</th>\n",
              "      <th>Price</th>\n",
              "      <th>Content_Rating</th>\n",
              "      <th>Genres</th>\n",
              "    </tr>\n",
              "  </thead>\n",
              "  <tbody>\n",
              "    <tr>\n",
              "      <th>10806</th>\n",
              "      <td>Instagram</td>\n",
              "      <td>SOCIAL</td>\n",
              "      <td>4.50</td>\n",
              "      <td>66577313</td>\n",
              "      <td>5.30</td>\n",
              "      <td>1,000,000,000</td>\n",
              "      <td>Free</td>\n",
              "      <td>0</td>\n",
              "      <td>Teen</td>\n",
              "      <td>Social</td>\n",
              "    </tr>\n",
              "    <tr>\n",
              "      <th>10808</th>\n",
              "      <td>Instagram</td>\n",
              "      <td>SOCIAL</td>\n",
              "      <td>4.50</td>\n",
              "      <td>66577446</td>\n",
              "      <td>5.30</td>\n",
              "      <td>1,000,000,000</td>\n",
              "      <td>Free</td>\n",
              "      <td>0</td>\n",
              "      <td>Teen</td>\n",
              "      <td>Social</td>\n",
              "    </tr>\n",
              "    <tr>\n",
              "      <th>10809</th>\n",
              "      <td>Instagram</td>\n",
              "      <td>SOCIAL</td>\n",
              "      <td>4.50</td>\n",
              "      <td>66577313</td>\n",
              "      <td>5.30</td>\n",
              "      <td>1,000,000,000</td>\n",
              "      <td>Free</td>\n",
              "      <td>0</td>\n",
              "      <td>Teen</td>\n",
              "      <td>Social</td>\n",
              "    </tr>\n",
              "    <tr>\n",
              "      <th>10810</th>\n",
              "      <td>Instagram</td>\n",
              "      <td>SOCIAL</td>\n",
              "      <td>4.50</td>\n",
              "      <td>66509917</td>\n",
              "      <td>5.30</td>\n",
              "      <td>1,000,000,000</td>\n",
              "      <td>Free</td>\n",
              "      <td>0</td>\n",
              "      <td>Teen</td>\n",
              "      <td>Social</td>\n",
              "    </tr>\n",
              "  </tbody>\n",
              "</table>\n",
              "</div>"
            ],
            "text/plain": [
              "             App Category  Rating   Reviews  ...  Type Price Content_Rating  Genres\n",
              "10806  Instagram   SOCIAL    4.50  66577313  ...  Free     0           Teen  Social\n",
              "10808  Instagram   SOCIAL    4.50  66577446  ...  Free     0           Teen  Social\n",
              "10809  Instagram   SOCIAL    4.50  66577313  ...  Free     0           Teen  Social\n",
              "10810  Instagram   SOCIAL    4.50  66509917  ...  Free     0           Teen  Social\n",
              "\n",
              "[4 rows x 10 columns]"
            ]
          },
          "metadata": {},
          "execution_count": 13
        }
      ]
    },
    {
      "cell_type": "code",
      "metadata": {
        "id": "Wtt09kiRn6GS"
      },
      "source": [
        "df_apps_clean = df_apps_clean.drop_duplicates(subset=['App', 'Type', 'Price'])"
      ],
      "execution_count": 14,
      "outputs": []
    },
    {
      "cell_type": "code",
      "metadata": {
        "id": "30yZCwtKn5xC",
        "colab": {
          "base_uri": "https://localhost:8080/",
          "height": 81
        },
        "outputId": "ae1c8a78-64ec-493b-c30d-acf866798603"
      },
      "source": [
        "df_apps_clean[df_apps_clean.App == \"Instagram\"]"
      ],
      "execution_count": 15,
      "outputs": [
        {
          "output_type": "execute_result",
          "data": {
            "text/html": [
              "<div>\n",
              "<style scoped>\n",
              "    .dataframe tbody tr th:only-of-type {\n",
              "        vertical-align: middle;\n",
              "    }\n",
              "\n",
              "    .dataframe tbody tr th {\n",
              "        vertical-align: top;\n",
              "    }\n",
              "\n",
              "    .dataframe thead th {\n",
              "        text-align: right;\n",
              "    }\n",
              "</style>\n",
              "<table border=\"1\" class=\"dataframe\">\n",
              "  <thead>\n",
              "    <tr style=\"text-align: right;\">\n",
              "      <th></th>\n",
              "      <th>App</th>\n",
              "      <th>Category</th>\n",
              "      <th>Rating</th>\n",
              "      <th>Reviews</th>\n",
              "      <th>Size_MBs</th>\n",
              "      <th>Installs</th>\n",
              "      <th>Type</th>\n",
              "      <th>Price</th>\n",
              "      <th>Content_Rating</th>\n",
              "      <th>Genres</th>\n",
              "    </tr>\n",
              "  </thead>\n",
              "  <tbody>\n",
              "    <tr>\n",
              "      <th>10806</th>\n",
              "      <td>Instagram</td>\n",
              "      <td>SOCIAL</td>\n",
              "      <td>4.50</td>\n",
              "      <td>66577313</td>\n",
              "      <td>5.30</td>\n",
              "      <td>1,000,000,000</td>\n",
              "      <td>Free</td>\n",
              "      <td>0</td>\n",
              "      <td>Teen</td>\n",
              "      <td>Social</td>\n",
              "    </tr>\n",
              "  </tbody>\n",
              "</table>\n",
              "</div>"
            ],
            "text/plain": [
              "             App Category  Rating   Reviews  ...  Type Price Content_Rating  Genres\n",
              "10806  Instagram   SOCIAL    4.50  66577313  ...  Free     0           Teen  Social\n",
              "\n",
              "[1 rows x 10 columns]"
            ]
          },
          "metadata": {},
          "execution_count": 15
        }
      ]
    },
    {
      "cell_type": "code",
      "metadata": {
        "id": "AagS_wgWn5ib",
        "colab": {
          "base_uri": "https://localhost:8080/"
        },
        "outputId": "18690401-f49d-432c-fe70-7098de88b1b0"
      },
      "source": [
        "df_apps_clean.shape"
      ],
      "execution_count": 16,
      "outputs": [
        {
          "output_type": "execute_result",
          "data": {
            "text/plain": [
              "(8199, 10)"
            ]
          },
          "metadata": {},
          "execution_count": 16
        }
      ]
    },
    {
      "cell_type": "markdown",
      "metadata": {
        "id": "GJrM69CfdiUh"
      },
      "source": [
        "# Find Highest Rated Apps\n",
        "\n",
        "**Challenge**: Identify which apps are the highest rated. What problem might you encounter if you rely exclusively on ratings alone to determine the quality of an app?"
      ]
    },
    {
      "cell_type": "code",
      "metadata": {
        "id": "rp7vFHBMn7st",
        "colab": {
          "base_uri": "https://localhost:8080/",
          "height": 206
        },
        "outputId": "f78afc18-cfaa-4673-dfa4-170af385b105"
      },
      "source": [
        "df_apps_clean.sort_values('Rating', ascending=False).head()"
      ],
      "execution_count": 17,
      "outputs": [
        {
          "output_type": "execute_result",
          "data": {
            "text/html": [
              "<div>\n",
              "<style scoped>\n",
              "    .dataframe tbody tr th:only-of-type {\n",
              "        vertical-align: middle;\n",
              "    }\n",
              "\n",
              "    .dataframe tbody tr th {\n",
              "        vertical-align: top;\n",
              "    }\n",
              "\n",
              "    .dataframe thead th {\n",
              "        text-align: right;\n",
              "    }\n",
              "</style>\n",
              "<table border=\"1\" class=\"dataframe\">\n",
              "  <thead>\n",
              "    <tr style=\"text-align: right;\">\n",
              "      <th></th>\n",
              "      <th>App</th>\n",
              "      <th>Category</th>\n",
              "      <th>Rating</th>\n",
              "      <th>Reviews</th>\n",
              "      <th>Size_MBs</th>\n",
              "      <th>Installs</th>\n",
              "      <th>Type</th>\n",
              "      <th>Price</th>\n",
              "      <th>Content_Rating</th>\n",
              "      <th>Genres</th>\n",
              "    </tr>\n",
              "  </thead>\n",
              "  <tbody>\n",
              "    <tr>\n",
              "      <th>21</th>\n",
              "      <td>KBA-EZ Health Guide</td>\n",
              "      <td>MEDICAL</td>\n",
              "      <td>5.00</td>\n",
              "      <td>4</td>\n",
              "      <td>25.00</td>\n",
              "      <td>1</td>\n",
              "      <td>Free</td>\n",
              "      <td>0</td>\n",
              "      <td>Everyone</td>\n",
              "      <td>Medical</td>\n",
              "    </tr>\n",
              "    <tr>\n",
              "      <th>1230</th>\n",
              "      <td>Sway Medical</td>\n",
              "      <td>MEDICAL</td>\n",
              "      <td>5.00</td>\n",
              "      <td>3</td>\n",
              "      <td>22.00</td>\n",
              "      <td>100</td>\n",
              "      <td>Free</td>\n",
              "      <td>0</td>\n",
              "      <td>Everyone</td>\n",
              "      <td>Medical</td>\n",
              "    </tr>\n",
              "    <tr>\n",
              "      <th>1227</th>\n",
              "      <td>AJ Men's Grooming</td>\n",
              "      <td>LIFESTYLE</td>\n",
              "      <td>5.00</td>\n",
              "      <td>2</td>\n",
              "      <td>22.00</td>\n",
              "      <td>100</td>\n",
              "      <td>Free</td>\n",
              "      <td>0</td>\n",
              "      <td>Everyone</td>\n",
              "      <td>Lifestyle</td>\n",
              "    </tr>\n",
              "    <tr>\n",
              "      <th>1224</th>\n",
              "      <td>FK Dedinje BGD</td>\n",
              "      <td>SPORTS</td>\n",
              "      <td>5.00</td>\n",
              "      <td>36</td>\n",
              "      <td>2.60</td>\n",
              "      <td>100</td>\n",
              "      <td>Free</td>\n",
              "      <td>0</td>\n",
              "      <td>Everyone</td>\n",
              "      <td>Sports</td>\n",
              "    </tr>\n",
              "    <tr>\n",
              "      <th>1223</th>\n",
              "      <td>CB VIDEO VISION</td>\n",
              "      <td>PHOTOGRAPHY</td>\n",
              "      <td>5.00</td>\n",
              "      <td>13</td>\n",
              "      <td>2.60</td>\n",
              "      <td>100</td>\n",
              "      <td>Free</td>\n",
              "      <td>0</td>\n",
              "      <td>Everyone</td>\n",
              "      <td>Photography</td>\n",
              "    </tr>\n",
              "  </tbody>\n",
              "</table>\n",
              "</div>"
            ],
            "text/plain": [
              "                      App     Category  ...  Content_Rating       Genres\n",
              "21    KBA-EZ Health Guide      MEDICAL  ...        Everyone      Medical\n",
              "1230         Sway Medical      MEDICAL  ...        Everyone      Medical\n",
              "1227    AJ Men's Grooming    LIFESTYLE  ...        Everyone    Lifestyle\n",
              "1224       FK Dedinje BGD       SPORTS  ...        Everyone       Sports\n",
              "1223      CB VIDEO VISION  PHOTOGRAPHY  ...        Everyone  Photography\n",
              "\n",
              "[5 rows x 10 columns]"
            ]
          },
          "metadata": {},
          "execution_count": 17
        }
      ]
    },
    {
      "cell_type": "markdown",
      "metadata": {
        "id": "28o1Tro4diUi"
      },
      "source": [
        "# Find 5 Largest Apps in terms of Size (MBs)\n",
        "\n",
        "**Challenge**: What's the size in megabytes (MB) of the largest Android apps in the Google Play Store. Based on the data, do you think there could be limit in place or can developers make apps as large as they please? "
      ]
    },
    {
      "cell_type": "code",
      "metadata": {
        "id": "n5r0pJCOn9Vu",
        "colab": {
          "base_uri": "https://localhost:8080/",
          "height": 293
        },
        "outputId": "7c3c95af-61fe-45d5-8438-078b811eb68f"
      },
      "source": [
        "df_apps_clean.sort_values('Size_MBs', ascending=False).head()"
      ],
      "execution_count": 19,
      "outputs": [
        {
          "output_type": "execute_result",
          "data": {
            "text/html": [
              "<div>\n",
              "<style scoped>\n",
              "    .dataframe tbody tr th:only-of-type {\n",
              "        vertical-align: middle;\n",
              "    }\n",
              "\n",
              "    .dataframe tbody tr th {\n",
              "        vertical-align: top;\n",
              "    }\n",
              "\n",
              "    .dataframe thead th {\n",
              "        text-align: right;\n",
              "    }\n",
              "</style>\n",
              "<table border=\"1\" class=\"dataframe\">\n",
              "  <thead>\n",
              "    <tr style=\"text-align: right;\">\n",
              "      <th></th>\n",
              "      <th>App</th>\n",
              "      <th>Category</th>\n",
              "      <th>Rating</th>\n",
              "      <th>Reviews</th>\n",
              "      <th>Size_MBs</th>\n",
              "      <th>Installs</th>\n",
              "      <th>Type</th>\n",
              "      <th>Price</th>\n",
              "      <th>Content_Rating</th>\n",
              "      <th>Genres</th>\n",
              "    </tr>\n",
              "  </thead>\n",
              "  <tbody>\n",
              "    <tr>\n",
              "      <th>9942</th>\n",
              "      <td>Talking Babsy Baby: Baby Games</td>\n",
              "      <td>LIFESTYLE</td>\n",
              "      <td>4.00</td>\n",
              "      <td>140995</td>\n",
              "      <td>100.00</td>\n",
              "      <td>10,000,000</td>\n",
              "      <td>Free</td>\n",
              "      <td>0</td>\n",
              "      <td>Everyone</td>\n",
              "      <td>Lifestyle;Pretend Play</td>\n",
              "    </tr>\n",
              "    <tr>\n",
              "      <th>10687</th>\n",
              "      <td>Hungry Shark Evolution</td>\n",
              "      <td>GAME</td>\n",
              "      <td>4.50</td>\n",
              "      <td>6074334</td>\n",
              "      <td>100.00</td>\n",
              "      <td>100,000,000</td>\n",
              "      <td>Free</td>\n",
              "      <td>0</td>\n",
              "      <td>Teen</td>\n",
              "      <td>Arcade</td>\n",
              "    </tr>\n",
              "    <tr>\n",
              "      <th>9943</th>\n",
              "      <td>Miami crime simulator</td>\n",
              "      <td>GAME</td>\n",
              "      <td>4.00</td>\n",
              "      <td>254518</td>\n",
              "      <td>100.00</td>\n",
              "      <td>10,000,000</td>\n",
              "      <td>Free</td>\n",
              "      <td>0</td>\n",
              "      <td>Mature 17+</td>\n",
              "      <td>Action</td>\n",
              "    </tr>\n",
              "    <tr>\n",
              "      <th>9944</th>\n",
              "      <td>Gangster Town: Vice District</td>\n",
              "      <td>FAMILY</td>\n",
              "      <td>4.30</td>\n",
              "      <td>65146</td>\n",
              "      <td>100.00</td>\n",
              "      <td>10,000,000</td>\n",
              "      <td>Free</td>\n",
              "      <td>0</td>\n",
              "      <td>Mature 17+</td>\n",
              "      <td>Simulation</td>\n",
              "    </tr>\n",
              "    <tr>\n",
              "      <th>3144</th>\n",
              "      <td>Vi Trainer</td>\n",
              "      <td>HEALTH_AND_FITNESS</td>\n",
              "      <td>3.60</td>\n",
              "      <td>124</td>\n",
              "      <td>100.00</td>\n",
              "      <td>5,000</td>\n",
              "      <td>Free</td>\n",
              "      <td>0</td>\n",
              "      <td>Everyone</td>\n",
              "      <td>Health &amp; Fitness</td>\n",
              "    </tr>\n",
              "  </tbody>\n",
              "</table>\n",
              "</div>"
            ],
            "text/plain": [
              "                                  App  ...                  Genres\n",
              "9942   Talking Babsy Baby: Baby Games  ...  Lifestyle;Pretend Play\n",
              "10687          Hungry Shark Evolution  ...                  Arcade\n",
              "9943            Miami crime simulator  ...                  Action\n",
              "9944     Gangster Town: Vice District  ...              Simulation\n",
              "3144                       Vi Trainer  ...        Health & Fitness\n",
              "\n",
              "[5 rows x 10 columns]"
            ]
          },
          "metadata": {},
          "execution_count": 19
        }
      ]
    },
    {
      "cell_type": "markdown",
      "metadata": {
        "id": "C3gTckh7diUk"
      },
      "source": [
        "# Find the 5 App with Most Reviews\n",
        "\n",
        "**Challenge**: Which apps have the highest number of reviews? Are there any paid apps among the top 50?"
      ]
    },
    {
      "cell_type": "code",
      "metadata": {
        "id": "TLt98G0Sn_De",
        "colab": {
          "base_uri": "https://localhost:8080/",
          "height": 224
        },
        "outputId": "d392f34d-5427-4e97-b4c3-6ef28ae8870e"
      },
      "source": [
        "df_apps_clean.sort_values('Reviews', ascending=False).head()"
      ],
      "execution_count": 21,
      "outputs": [
        {
          "output_type": "execute_result",
          "data": {
            "text/html": [
              "<div>\n",
              "<style scoped>\n",
              "    .dataframe tbody tr th:only-of-type {\n",
              "        vertical-align: middle;\n",
              "    }\n",
              "\n",
              "    .dataframe tbody tr th {\n",
              "        vertical-align: top;\n",
              "    }\n",
              "\n",
              "    .dataframe thead th {\n",
              "        text-align: right;\n",
              "    }\n",
              "</style>\n",
              "<table border=\"1\" class=\"dataframe\">\n",
              "  <thead>\n",
              "    <tr style=\"text-align: right;\">\n",
              "      <th></th>\n",
              "      <th>App</th>\n",
              "      <th>Category</th>\n",
              "      <th>Rating</th>\n",
              "      <th>Reviews</th>\n",
              "      <th>Size_MBs</th>\n",
              "      <th>Installs</th>\n",
              "      <th>Type</th>\n",
              "      <th>Price</th>\n",
              "      <th>Content_Rating</th>\n",
              "      <th>Genres</th>\n",
              "    </tr>\n",
              "  </thead>\n",
              "  <tbody>\n",
              "    <tr>\n",
              "      <th>10805</th>\n",
              "      <td>Facebook</td>\n",
              "      <td>SOCIAL</td>\n",
              "      <td>4.10</td>\n",
              "      <td>78158306</td>\n",
              "      <td>5.30</td>\n",
              "      <td>1,000,000,000</td>\n",
              "      <td>Free</td>\n",
              "      <td>0</td>\n",
              "      <td>Teen</td>\n",
              "      <td>Social</td>\n",
              "    </tr>\n",
              "    <tr>\n",
              "      <th>10785</th>\n",
              "      <td>WhatsApp Messenger</td>\n",
              "      <td>COMMUNICATION</td>\n",
              "      <td>4.40</td>\n",
              "      <td>69119316</td>\n",
              "      <td>3.50</td>\n",
              "      <td>1,000,000,000</td>\n",
              "      <td>Free</td>\n",
              "      <td>0</td>\n",
              "      <td>Everyone</td>\n",
              "      <td>Communication</td>\n",
              "    </tr>\n",
              "    <tr>\n",
              "      <th>10806</th>\n",
              "      <td>Instagram</td>\n",
              "      <td>SOCIAL</td>\n",
              "      <td>4.50</td>\n",
              "      <td>66577313</td>\n",
              "      <td>5.30</td>\n",
              "      <td>1,000,000,000</td>\n",
              "      <td>Free</td>\n",
              "      <td>0</td>\n",
              "      <td>Teen</td>\n",
              "      <td>Social</td>\n",
              "    </tr>\n",
              "    <tr>\n",
              "      <th>10784</th>\n",
              "      <td>Messenger – Text and Video Chat for Free</td>\n",
              "      <td>COMMUNICATION</td>\n",
              "      <td>4.00</td>\n",
              "      <td>56642847</td>\n",
              "      <td>3.50</td>\n",
              "      <td>1,000,000,000</td>\n",
              "      <td>Free</td>\n",
              "      <td>0</td>\n",
              "      <td>Everyone</td>\n",
              "      <td>Communication</td>\n",
              "    </tr>\n",
              "    <tr>\n",
              "      <th>10650</th>\n",
              "      <td>Clash of Clans</td>\n",
              "      <td>GAME</td>\n",
              "      <td>4.60</td>\n",
              "      <td>44891723</td>\n",
              "      <td>98.00</td>\n",
              "      <td>100,000,000</td>\n",
              "      <td>Free</td>\n",
              "      <td>0</td>\n",
              "      <td>Everyone 10+</td>\n",
              "      <td>Strategy</td>\n",
              "    </tr>\n",
              "  </tbody>\n",
              "</table>\n",
              "</div>"
            ],
            "text/plain": [
              "                                            App  ...         Genres\n",
              "10805                                  Facebook  ...         Social\n",
              "10785                        WhatsApp Messenger  ...  Communication\n",
              "10806                                 Instagram  ...         Social\n",
              "10784  Messenger – Text and Video Chat for Free  ...  Communication\n",
              "10650                            Clash of Clans  ...       Strategy\n",
              "\n",
              "[5 rows x 10 columns]"
            ]
          },
          "metadata": {},
          "execution_count": 21
        }
      ]
    },
    {
      "cell_type": "markdown",
      "metadata": {
        "id": "BFoRqpezjebe"
      },
      "source": [
        "# Plotly Pie and Donut Charts - Visualise Categorical Data: Content Ratings"
      ]
    },
    {
      "cell_type": "code",
      "metadata": {
        "id": "c0IIxNGnoFKM"
      },
      "source": [
        "ratings = df_apps_clean.Content_Rating.value_counts()"
      ],
      "execution_count": 22,
      "outputs": []
    },
    {
      "cell_type": "code",
      "metadata": {
        "id": "TSiV6ZkjoFVg",
        "colab": {
          "base_uri": "https://localhost:8080/",
          "height": 542
        },
        "outputId": "c20b35ed-23a4-4ac3-bd57-b7f2db6e80f8"
      },
      "source": [
        "fig = px.pie(labels=ratings.index, values=ratings.values)\n",
        "fig.show()"
      ],
      "execution_count": 27,
      "outputs": [
        {
          "output_type": "display_data",
          "data": {
            "text/html": [
              "<html>\n",
              "<head><meta charset=\"utf-8\" /></head>\n",
              "<body>\n",
              "    <div>\n",
              "            <script src=\"https://cdnjs.cloudflare.com/ajax/libs/mathjax/2.7.5/MathJax.js?config=TeX-AMS-MML_SVG\"></script><script type=\"text/javascript\">if (window.MathJax) {MathJax.Hub.Config({SVG: {font: \"STIX-Web\"}});}</script>\n",
              "                <script type=\"text/javascript\">window.PlotlyConfig = {MathJaxConfig: 'local'};</script>\n",
              "        <script src=\"https://cdn.plot.ly/plotly-latest.min.js\"></script>    \n",
              "            <div id=\"ea36710e-2a9e-4cb0-b7c5-3018ebac046d\" class=\"plotly-graph-div\" style=\"height:525px; width:100%;\"></div>\n",
              "            <script type=\"text/javascript\">\n",
              "                \n",
              "                    window.PLOTLYENV=window.PLOTLYENV || {};\n",
              "                    \n",
              "                if (document.getElementById(\"ea36710e-2a9e-4cb0-b7c5-3018ebac046d\")) {\n",
              "                    Plotly.newPlot(\n",
              "                        'ea36710e-2a9e-4cb0-b7c5-3018ebac046d',\n",
              "                        [{\"domain\": {\"x\": [0.0, 1.0], \"y\": [0.0, 1.0]}, \"hoverlabel\": {\"namelength\": 0}, \"hovertemplate\": \"value=%{value}\", \"legendgroup\": \"\", \"name\": \"\", \"showlegend\": false, \"type\": \"pie\", \"values\": [6621, 912, 357, 305, 3, 1]}],\n",
              "                        {\"legend\": {\"tracegroupgap\": 0}, \"margin\": {\"t\": 60}, \"template\": {\"data\": {\"bar\": [{\"error_x\": {\"color\": \"#2a3f5f\"}, \"error_y\": {\"color\": \"#2a3f5f\"}, \"marker\": {\"line\": {\"color\": \"#E5ECF6\", \"width\": 0.5}}, \"type\": \"bar\"}], \"barpolar\": [{\"marker\": {\"line\": {\"color\": \"#E5ECF6\", \"width\": 0.5}}, \"type\": \"barpolar\"}], \"carpet\": [{\"aaxis\": {\"endlinecolor\": \"#2a3f5f\", \"gridcolor\": \"white\", \"linecolor\": \"white\", \"minorgridcolor\": \"white\", \"startlinecolor\": \"#2a3f5f\"}, \"baxis\": {\"endlinecolor\": \"#2a3f5f\", \"gridcolor\": \"white\", \"linecolor\": \"white\", \"minorgridcolor\": \"white\", \"startlinecolor\": \"#2a3f5f\"}, \"type\": \"carpet\"}], \"choropleth\": [{\"colorbar\": {\"outlinewidth\": 0, \"ticks\": \"\"}, \"type\": \"choropleth\"}], \"contour\": [{\"colorbar\": {\"outlinewidth\": 0, \"ticks\": \"\"}, \"colorscale\": [[0.0, \"#0d0887\"], [0.1111111111111111, \"#46039f\"], [0.2222222222222222, \"#7201a8\"], [0.3333333333333333, \"#9c179e\"], [0.4444444444444444, \"#bd3786\"], [0.5555555555555556, \"#d8576b\"], [0.6666666666666666, \"#ed7953\"], [0.7777777777777778, \"#fb9f3a\"], [0.8888888888888888, \"#fdca26\"], [1.0, \"#f0f921\"]], \"type\": \"contour\"}], \"contourcarpet\": [{\"colorbar\": {\"outlinewidth\": 0, \"ticks\": \"\"}, \"type\": \"contourcarpet\"}], \"heatmap\": [{\"colorbar\": {\"outlinewidth\": 0, \"ticks\": \"\"}, \"colorscale\": [[0.0, \"#0d0887\"], [0.1111111111111111, \"#46039f\"], [0.2222222222222222, \"#7201a8\"], [0.3333333333333333, \"#9c179e\"], [0.4444444444444444, \"#bd3786\"], [0.5555555555555556, \"#d8576b\"], [0.6666666666666666, \"#ed7953\"], [0.7777777777777778, \"#fb9f3a\"], [0.8888888888888888, \"#fdca26\"], [1.0, \"#f0f921\"]], \"type\": \"heatmap\"}], \"heatmapgl\": [{\"colorbar\": {\"outlinewidth\": 0, \"ticks\": \"\"}, \"colorscale\": [[0.0, \"#0d0887\"], [0.1111111111111111, \"#46039f\"], [0.2222222222222222, \"#7201a8\"], [0.3333333333333333, \"#9c179e\"], [0.4444444444444444, \"#bd3786\"], [0.5555555555555556, \"#d8576b\"], [0.6666666666666666, \"#ed7953\"], [0.7777777777777778, \"#fb9f3a\"], [0.8888888888888888, \"#fdca26\"], [1.0, \"#f0f921\"]], \"type\": \"heatmapgl\"}], \"histogram\": [{\"marker\": {\"colorbar\": {\"outlinewidth\": 0, \"ticks\": \"\"}}, \"type\": \"histogram\"}], \"histogram2d\": [{\"colorbar\": {\"outlinewidth\": 0, \"ticks\": \"\"}, \"colorscale\": [[0.0, \"#0d0887\"], [0.1111111111111111, \"#46039f\"], [0.2222222222222222, \"#7201a8\"], [0.3333333333333333, \"#9c179e\"], [0.4444444444444444, \"#bd3786\"], [0.5555555555555556, \"#d8576b\"], [0.6666666666666666, \"#ed7953\"], [0.7777777777777778, \"#fb9f3a\"], [0.8888888888888888, \"#fdca26\"], [1.0, \"#f0f921\"]], \"type\": \"histogram2d\"}], \"histogram2dcontour\": [{\"colorbar\": {\"outlinewidth\": 0, \"ticks\": \"\"}, \"colorscale\": [[0.0, \"#0d0887\"], [0.1111111111111111, \"#46039f\"], [0.2222222222222222, \"#7201a8\"], [0.3333333333333333, \"#9c179e\"], [0.4444444444444444, \"#bd3786\"], [0.5555555555555556, \"#d8576b\"], [0.6666666666666666, \"#ed7953\"], [0.7777777777777778, \"#fb9f3a\"], [0.8888888888888888, \"#fdca26\"], [1.0, \"#f0f921\"]], \"type\": \"histogram2dcontour\"}], \"mesh3d\": [{\"colorbar\": {\"outlinewidth\": 0, \"ticks\": \"\"}, \"type\": \"mesh3d\"}], \"parcoords\": [{\"line\": {\"colorbar\": {\"outlinewidth\": 0, \"ticks\": \"\"}}, \"type\": \"parcoords\"}], \"pie\": [{\"automargin\": true, \"type\": \"pie\"}], \"scatter\": [{\"marker\": {\"colorbar\": {\"outlinewidth\": 0, \"ticks\": \"\"}}, \"type\": \"scatter\"}], \"scatter3d\": [{\"line\": {\"colorbar\": {\"outlinewidth\": 0, \"ticks\": \"\"}}, \"marker\": {\"colorbar\": {\"outlinewidth\": 0, \"ticks\": \"\"}}, \"type\": \"scatter3d\"}], \"scattercarpet\": [{\"marker\": {\"colorbar\": {\"outlinewidth\": 0, \"ticks\": \"\"}}, \"type\": \"scattercarpet\"}], \"scattergeo\": [{\"marker\": {\"colorbar\": {\"outlinewidth\": 0, \"ticks\": \"\"}}, \"type\": \"scattergeo\"}], \"scattergl\": [{\"marker\": {\"colorbar\": {\"outlinewidth\": 0, \"ticks\": \"\"}}, \"type\": \"scattergl\"}], \"scattermapbox\": [{\"marker\": {\"colorbar\": {\"outlinewidth\": 0, \"ticks\": \"\"}}, \"type\": \"scattermapbox\"}], \"scatterpolar\": [{\"marker\": {\"colorbar\": {\"outlinewidth\": 0, \"ticks\": \"\"}}, \"type\": \"scatterpolar\"}], \"scatterpolargl\": [{\"marker\": {\"colorbar\": {\"outlinewidth\": 0, \"ticks\": \"\"}}, \"type\": \"scatterpolargl\"}], \"scatterternary\": [{\"marker\": {\"colorbar\": {\"outlinewidth\": 0, \"ticks\": \"\"}}, \"type\": \"scatterternary\"}], \"surface\": [{\"colorbar\": {\"outlinewidth\": 0, \"ticks\": \"\"}, \"colorscale\": [[0.0, \"#0d0887\"], [0.1111111111111111, \"#46039f\"], [0.2222222222222222, \"#7201a8\"], [0.3333333333333333, \"#9c179e\"], [0.4444444444444444, \"#bd3786\"], [0.5555555555555556, \"#d8576b\"], [0.6666666666666666, \"#ed7953\"], [0.7777777777777778, \"#fb9f3a\"], [0.8888888888888888, \"#fdca26\"], [1.0, \"#f0f921\"]], \"type\": \"surface\"}], \"table\": [{\"cells\": {\"fill\": {\"color\": \"#EBF0F8\"}, \"line\": {\"color\": \"white\"}}, \"header\": {\"fill\": {\"color\": \"#C8D4E3\"}, \"line\": {\"color\": \"white\"}}, \"type\": \"table\"}]}, \"layout\": {\"annotationdefaults\": {\"arrowcolor\": \"#2a3f5f\", \"arrowhead\": 0, \"arrowwidth\": 1}, \"coloraxis\": {\"colorbar\": {\"outlinewidth\": 0, \"ticks\": \"\"}}, \"colorscale\": {\"diverging\": [[0, \"#8e0152\"], [0.1, \"#c51b7d\"], [0.2, \"#de77ae\"], [0.3, \"#f1b6da\"], [0.4, \"#fde0ef\"], [0.5, \"#f7f7f7\"], [0.6, \"#e6f5d0\"], [0.7, \"#b8e186\"], [0.8, \"#7fbc41\"], [0.9, \"#4d9221\"], [1, \"#276419\"]], \"sequential\": [[0.0, \"#0d0887\"], [0.1111111111111111, \"#46039f\"], [0.2222222222222222, \"#7201a8\"], [0.3333333333333333, \"#9c179e\"], [0.4444444444444444, \"#bd3786\"], [0.5555555555555556, \"#d8576b\"], [0.6666666666666666, \"#ed7953\"], [0.7777777777777778, \"#fb9f3a\"], [0.8888888888888888, \"#fdca26\"], [1.0, \"#f0f921\"]], \"sequentialminus\": [[0.0, \"#0d0887\"], [0.1111111111111111, \"#46039f\"], [0.2222222222222222, \"#7201a8\"], [0.3333333333333333, \"#9c179e\"], [0.4444444444444444, \"#bd3786\"], [0.5555555555555556, \"#d8576b\"], [0.6666666666666666, \"#ed7953\"], [0.7777777777777778, \"#fb9f3a\"], [0.8888888888888888, \"#fdca26\"], [1.0, \"#f0f921\"]]}, \"colorway\": [\"#636efa\", \"#EF553B\", \"#00cc96\", \"#ab63fa\", \"#FFA15A\", \"#19d3f3\", \"#FF6692\", \"#B6E880\", \"#FF97FF\", \"#FECB52\"], \"font\": {\"color\": \"#2a3f5f\"}, \"geo\": {\"bgcolor\": \"white\", \"lakecolor\": \"white\", \"landcolor\": \"#E5ECF6\", \"showlakes\": true, \"showland\": true, \"subunitcolor\": \"white\"}, \"hoverlabel\": {\"align\": \"left\"}, \"hovermode\": \"closest\", \"mapbox\": {\"style\": \"light\"}, \"paper_bgcolor\": \"white\", \"plot_bgcolor\": \"#E5ECF6\", \"polar\": {\"angularaxis\": {\"gridcolor\": \"white\", \"linecolor\": \"white\", \"ticks\": \"\"}, \"bgcolor\": \"#E5ECF6\", \"radialaxis\": {\"gridcolor\": \"white\", \"linecolor\": \"white\", \"ticks\": \"\"}}, \"scene\": {\"xaxis\": {\"backgroundcolor\": \"#E5ECF6\", \"gridcolor\": \"white\", \"gridwidth\": 2, \"linecolor\": \"white\", \"showbackground\": true, \"ticks\": \"\", \"zerolinecolor\": \"white\"}, \"yaxis\": {\"backgroundcolor\": \"#E5ECF6\", \"gridcolor\": \"white\", \"gridwidth\": 2, \"linecolor\": \"white\", \"showbackground\": true, \"ticks\": \"\", \"zerolinecolor\": \"white\"}, \"zaxis\": {\"backgroundcolor\": \"#E5ECF6\", \"gridcolor\": \"white\", \"gridwidth\": 2, \"linecolor\": \"white\", \"showbackground\": true, \"ticks\": \"\", \"zerolinecolor\": \"white\"}}, \"shapedefaults\": {\"line\": {\"color\": \"#2a3f5f\"}}, \"ternary\": {\"aaxis\": {\"gridcolor\": \"white\", \"linecolor\": \"white\", \"ticks\": \"\"}, \"baxis\": {\"gridcolor\": \"white\", \"linecolor\": \"white\", \"ticks\": \"\"}, \"bgcolor\": \"#E5ECF6\", \"caxis\": {\"gridcolor\": \"white\", \"linecolor\": \"white\", \"ticks\": \"\"}}, \"title\": {\"x\": 0.05}, \"xaxis\": {\"automargin\": true, \"gridcolor\": \"white\", \"linecolor\": \"white\", \"ticks\": \"\", \"title\": {\"standoff\": 15}, \"zerolinecolor\": \"white\", \"zerolinewidth\": 2}, \"yaxis\": {\"automargin\": true, \"gridcolor\": \"white\", \"linecolor\": \"white\", \"ticks\": \"\", \"title\": {\"standoff\": 15}, \"zerolinecolor\": \"white\", \"zerolinewidth\": 2}}}},\n",
              "                        {\"responsive\": true}\n",
              "                    ).then(function(){\n",
              "                            \n",
              "var gd = document.getElementById('ea36710e-2a9e-4cb0-b7c5-3018ebac046d');\n",
              "var x = new MutationObserver(function (mutations, observer) {{\n",
              "        var display = window.getComputedStyle(gd).display;\n",
              "        if (!display || display === 'none') {{\n",
              "            console.log([gd, 'removed!']);\n",
              "            Plotly.purge(gd);\n",
              "            observer.disconnect();\n",
              "        }}\n",
              "}});\n",
              "\n",
              "// Listen for the removal of the full notebook cells\n",
              "var notebookContainer = gd.closest('#notebook-container');\n",
              "if (notebookContainer) {{\n",
              "    x.observe(notebookContainer, {childList: true});\n",
              "}}\n",
              "\n",
              "// Listen for the clearing of the current output cell\n",
              "var outputEl = gd.closest('.output');\n",
              "if (outputEl) {{\n",
              "    x.observe(outputEl, {childList: true});\n",
              "}}\n",
              "\n",
              "                        })\n",
              "                };\n",
              "                \n",
              "            </script>\n",
              "        </div>\n",
              "</body>\n",
              "</html>"
            ]
          },
          "metadata": {}
        }
      ]
    },
    {
      "cell_type": "code",
      "metadata": {
        "id": "7kil2mdfoFOr",
        "colab": {
          "base_uri": "https://localhost:8080/",
          "height": 542
        },
        "outputId": "2dc34f4c-2da7-4423-c889-8096a7d5989a"
      },
      "source": [
        "fig = px.pie(labels=ratings.index, values=ratings.values,\n",
        "             title=\"Google Playstore Content Rating\",\n",
        "             names=ratings.index,\n",
        "             )\n",
        "fig.update_traces(textposition=\"outside\", textinfo=\"percent+label\")\n",
        "fig.show()"
      ],
      "execution_count": 30,
      "outputs": [
        {
          "output_type": "display_data",
          "data": {
            "text/html": [
              "<html>\n",
              "<head><meta charset=\"utf-8\" /></head>\n",
              "<body>\n",
              "    <div>\n",
              "            <script src=\"https://cdnjs.cloudflare.com/ajax/libs/mathjax/2.7.5/MathJax.js?config=TeX-AMS-MML_SVG\"></script><script type=\"text/javascript\">if (window.MathJax) {MathJax.Hub.Config({SVG: {font: \"STIX-Web\"}});}</script>\n",
              "                <script type=\"text/javascript\">window.PlotlyConfig = {MathJaxConfig: 'local'};</script>\n",
              "        <script src=\"https://cdn.plot.ly/plotly-latest.min.js\"></script>    \n",
              "            <div id=\"f90cde0d-bb3f-4778-a948-9abd1c828d8b\" class=\"plotly-graph-div\" style=\"height:525px; width:100%;\"></div>\n",
              "            <script type=\"text/javascript\">\n",
              "                \n",
              "                    window.PLOTLYENV=window.PLOTLYENV || {};\n",
              "                    \n",
              "                if (document.getElementById(\"f90cde0d-bb3f-4778-a948-9abd1c828d8b\")) {\n",
              "                    Plotly.newPlot(\n",
              "                        'f90cde0d-bb3f-4778-a948-9abd1c828d8b',\n",
              "                        [{\"domain\": {\"x\": [0.0, 1.0], \"y\": [0.0, 1.0]}, \"hoverlabel\": {\"namelength\": 0}, \"hovertemplate\": \"label=%{label}<br>value=%{value}\", \"labels\": [\"Everyone\", \"Teen\", \"Mature 17+\", \"Everyone 10+\", \"Adults only 18+\", \"Unrated\"], \"legendgroup\": \"\", \"name\": \"\", \"showlegend\": true, \"textinfo\": \"percent+label\", \"textposition\": \"outside\", \"type\": \"pie\", \"values\": [6621, 912, 357, 305, 3, 1]}],\n",
              "                        {\"legend\": {\"tracegroupgap\": 0}, \"template\": {\"data\": {\"bar\": [{\"error_x\": {\"color\": \"#2a3f5f\"}, \"error_y\": {\"color\": \"#2a3f5f\"}, \"marker\": {\"line\": {\"color\": \"#E5ECF6\", \"width\": 0.5}}, \"type\": \"bar\"}], \"barpolar\": [{\"marker\": {\"line\": {\"color\": \"#E5ECF6\", \"width\": 0.5}}, \"type\": \"barpolar\"}], \"carpet\": [{\"aaxis\": {\"endlinecolor\": \"#2a3f5f\", \"gridcolor\": \"white\", \"linecolor\": \"white\", \"minorgridcolor\": \"white\", \"startlinecolor\": \"#2a3f5f\"}, \"baxis\": {\"endlinecolor\": \"#2a3f5f\", \"gridcolor\": \"white\", \"linecolor\": \"white\", \"minorgridcolor\": \"white\", \"startlinecolor\": \"#2a3f5f\"}, \"type\": \"carpet\"}], \"choropleth\": [{\"colorbar\": {\"outlinewidth\": 0, \"ticks\": \"\"}, \"type\": \"choropleth\"}], \"contour\": [{\"colorbar\": {\"outlinewidth\": 0, \"ticks\": \"\"}, \"colorscale\": [[0.0, \"#0d0887\"], [0.1111111111111111, \"#46039f\"], [0.2222222222222222, \"#7201a8\"], [0.3333333333333333, \"#9c179e\"], [0.4444444444444444, \"#bd3786\"], [0.5555555555555556, \"#d8576b\"], [0.6666666666666666, \"#ed7953\"], [0.7777777777777778, \"#fb9f3a\"], [0.8888888888888888, \"#fdca26\"], [1.0, \"#f0f921\"]], \"type\": \"contour\"}], \"contourcarpet\": [{\"colorbar\": {\"outlinewidth\": 0, \"ticks\": \"\"}, \"type\": \"contourcarpet\"}], \"heatmap\": [{\"colorbar\": {\"outlinewidth\": 0, \"ticks\": \"\"}, \"colorscale\": [[0.0, \"#0d0887\"], [0.1111111111111111, \"#46039f\"], [0.2222222222222222, \"#7201a8\"], [0.3333333333333333, \"#9c179e\"], [0.4444444444444444, \"#bd3786\"], [0.5555555555555556, \"#d8576b\"], [0.6666666666666666, \"#ed7953\"], [0.7777777777777778, \"#fb9f3a\"], [0.8888888888888888, \"#fdca26\"], [1.0, \"#f0f921\"]], \"type\": \"heatmap\"}], \"heatmapgl\": [{\"colorbar\": {\"outlinewidth\": 0, \"ticks\": \"\"}, \"colorscale\": [[0.0, \"#0d0887\"], [0.1111111111111111, \"#46039f\"], [0.2222222222222222, \"#7201a8\"], [0.3333333333333333, \"#9c179e\"], [0.4444444444444444, \"#bd3786\"], [0.5555555555555556, \"#d8576b\"], [0.6666666666666666, \"#ed7953\"], [0.7777777777777778, \"#fb9f3a\"], [0.8888888888888888, \"#fdca26\"], [1.0, \"#f0f921\"]], \"type\": \"heatmapgl\"}], \"histogram\": [{\"marker\": {\"colorbar\": {\"outlinewidth\": 0, \"ticks\": \"\"}}, \"type\": \"histogram\"}], \"histogram2d\": [{\"colorbar\": {\"outlinewidth\": 0, \"ticks\": \"\"}, \"colorscale\": [[0.0, \"#0d0887\"], [0.1111111111111111, \"#46039f\"], [0.2222222222222222, \"#7201a8\"], [0.3333333333333333, \"#9c179e\"], [0.4444444444444444, \"#bd3786\"], [0.5555555555555556, \"#d8576b\"], [0.6666666666666666, \"#ed7953\"], [0.7777777777777778, \"#fb9f3a\"], [0.8888888888888888, \"#fdca26\"], [1.0, \"#f0f921\"]], \"type\": \"histogram2d\"}], \"histogram2dcontour\": [{\"colorbar\": {\"outlinewidth\": 0, \"ticks\": \"\"}, \"colorscale\": [[0.0, \"#0d0887\"], [0.1111111111111111, \"#46039f\"], [0.2222222222222222, \"#7201a8\"], [0.3333333333333333, \"#9c179e\"], [0.4444444444444444, \"#bd3786\"], [0.5555555555555556, \"#d8576b\"], [0.6666666666666666, \"#ed7953\"], [0.7777777777777778, \"#fb9f3a\"], [0.8888888888888888, \"#fdca26\"], [1.0, \"#f0f921\"]], \"type\": \"histogram2dcontour\"}], \"mesh3d\": [{\"colorbar\": {\"outlinewidth\": 0, \"ticks\": \"\"}, \"type\": \"mesh3d\"}], \"parcoords\": [{\"line\": {\"colorbar\": {\"outlinewidth\": 0, \"ticks\": \"\"}}, \"type\": \"parcoords\"}], \"pie\": [{\"automargin\": true, \"type\": \"pie\"}], \"scatter\": [{\"marker\": {\"colorbar\": {\"outlinewidth\": 0, \"ticks\": \"\"}}, \"type\": \"scatter\"}], \"scatter3d\": [{\"line\": {\"colorbar\": {\"outlinewidth\": 0, \"ticks\": \"\"}}, \"marker\": {\"colorbar\": {\"outlinewidth\": 0, \"ticks\": \"\"}}, \"type\": \"scatter3d\"}], \"scattercarpet\": [{\"marker\": {\"colorbar\": {\"outlinewidth\": 0, \"ticks\": \"\"}}, \"type\": \"scattercarpet\"}], \"scattergeo\": [{\"marker\": {\"colorbar\": {\"outlinewidth\": 0, \"ticks\": \"\"}}, \"type\": \"scattergeo\"}], \"scattergl\": [{\"marker\": {\"colorbar\": {\"outlinewidth\": 0, \"ticks\": \"\"}}, \"type\": \"scattergl\"}], \"scattermapbox\": [{\"marker\": {\"colorbar\": {\"outlinewidth\": 0, \"ticks\": \"\"}}, \"type\": \"scattermapbox\"}], \"scatterpolar\": [{\"marker\": {\"colorbar\": {\"outlinewidth\": 0, \"ticks\": \"\"}}, \"type\": \"scatterpolar\"}], \"scatterpolargl\": [{\"marker\": {\"colorbar\": {\"outlinewidth\": 0, \"ticks\": \"\"}}, \"type\": \"scatterpolargl\"}], \"scatterternary\": [{\"marker\": {\"colorbar\": {\"outlinewidth\": 0, \"ticks\": \"\"}}, \"type\": \"scatterternary\"}], \"surface\": [{\"colorbar\": {\"outlinewidth\": 0, \"ticks\": \"\"}, \"colorscale\": [[0.0, \"#0d0887\"], [0.1111111111111111, \"#46039f\"], [0.2222222222222222, \"#7201a8\"], [0.3333333333333333, \"#9c179e\"], [0.4444444444444444, \"#bd3786\"], [0.5555555555555556, \"#d8576b\"], [0.6666666666666666, \"#ed7953\"], [0.7777777777777778, \"#fb9f3a\"], [0.8888888888888888, \"#fdca26\"], [1.0, \"#f0f921\"]], \"type\": \"surface\"}], \"table\": [{\"cells\": {\"fill\": {\"color\": \"#EBF0F8\"}, \"line\": {\"color\": \"white\"}}, \"header\": {\"fill\": {\"color\": \"#C8D4E3\"}, \"line\": {\"color\": \"white\"}}, \"type\": \"table\"}]}, \"layout\": {\"annotationdefaults\": {\"arrowcolor\": \"#2a3f5f\", \"arrowhead\": 0, \"arrowwidth\": 1}, \"coloraxis\": {\"colorbar\": {\"outlinewidth\": 0, \"ticks\": \"\"}}, \"colorscale\": {\"diverging\": [[0, \"#8e0152\"], [0.1, \"#c51b7d\"], [0.2, \"#de77ae\"], [0.3, \"#f1b6da\"], [0.4, \"#fde0ef\"], [0.5, \"#f7f7f7\"], [0.6, \"#e6f5d0\"], [0.7, \"#b8e186\"], [0.8, \"#7fbc41\"], [0.9, \"#4d9221\"], [1, \"#276419\"]], \"sequential\": [[0.0, \"#0d0887\"], [0.1111111111111111, \"#46039f\"], [0.2222222222222222, \"#7201a8\"], [0.3333333333333333, \"#9c179e\"], [0.4444444444444444, \"#bd3786\"], [0.5555555555555556, \"#d8576b\"], [0.6666666666666666, \"#ed7953\"], [0.7777777777777778, \"#fb9f3a\"], [0.8888888888888888, \"#fdca26\"], [1.0, \"#f0f921\"]], \"sequentialminus\": [[0.0, \"#0d0887\"], [0.1111111111111111, \"#46039f\"], [0.2222222222222222, \"#7201a8\"], [0.3333333333333333, \"#9c179e\"], [0.4444444444444444, \"#bd3786\"], [0.5555555555555556, \"#d8576b\"], [0.6666666666666666, \"#ed7953\"], [0.7777777777777778, \"#fb9f3a\"], [0.8888888888888888, \"#fdca26\"], [1.0, \"#f0f921\"]]}, \"colorway\": [\"#636efa\", \"#EF553B\", \"#00cc96\", \"#ab63fa\", \"#FFA15A\", \"#19d3f3\", \"#FF6692\", \"#B6E880\", \"#FF97FF\", \"#FECB52\"], \"font\": {\"color\": \"#2a3f5f\"}, \"geo\": {\"bgcolor\": \"white\", \"lakecolor\": \"white\", \"landcolor\": \"#E5ECF6\", \"showlakes\": true, \"showland\": true, \"subunitcolor\": \"white\"}, \"hoverlabel\": {\"align\": \"left\"}, \"hovermode\": \"closest\", \"mapbox\": {\"style\": \"light\"}, \"paper_bgcolor\": \"white\", \"plot_bgcolor\": \"#E5ECF6\", \"polar\": {\"angularaxis\": {\"gridcolor\": \"white\", \"linecolor\": \"white\", \"ticks\": \"\"}, \"bgcolor\": \"#E5ECF6\", \"radialaxis\": {\"gridcolor\": \"white\", \"linecolor\": \"white\", \"ticks\": \"\"}}, \"scene\": {\"xaxis\": {\"backgroundcolor\": \"#E5ECF6\", \"gridcolor\": \"white\", \"gridwidth\": 2, \"linecolor\": \"white\", \"showbackground\": true, \"ticks\": \"\", \"zerolinecolor\": \"white\"}, \"yaxis\": {\"backgroundcolor\": \"#E5ECF6\", \"gridcolor\": \"white\", \"gridwidth\": 2, \"linecolor\": \"white\", \"showbackground\": true, \"ticks\": \"\", \"zerolinecolor\": \"white\"}, \"zaxis\": {\"backgroundcolor\": \"#E5ECF6\", \"gridcolor\": \"white\", \"gridwidth\": 2, \"linecolor\": \"white\", \"showbackground\": true, \"ticks\": \"\", \"zerolinecolor\": \"white\"}}, \"shapedefaults\": {\"line\": {\"color\": \"#2a3f5f\"}}, \"ternary\": {\"aaxis\": {\"gridcolor\": \"white\", \"linecolor\": \"white\", \"ticks\": \"\"}, \"baxis\": {\"gridcolor\": \"white\", \"linecolor\": \"white\", \"ticks\": \"\"}, \"bgcolor\": \"#E5ECF6\", \"caxis\": {\"gridcolor\": \"white\", \"linecolor\": \"white\", \"ticks\": \"\"}}, \"title\": {\"x\": 0.05}, \"xaxis\": {\"automargin\": true, \"gridcolor\": \"white\", \"linecolor\": \"white\", \"ticks\": \"\", \"title\": {\"standoff\": 15}, \"zerolinecolor\": \"white\", \"zerolinewidth\": 2}, \"yaxis\": {\"automargin\": true, \"gridcolor\": \"white\", \"linecolor\": \"white\", \"ticks\": \"\", \"title\": {\"standoff\": 15}, \"zerolinecolor\": \"white\", \"zerolinewidth\": 2}}}, \"title\": {\"text\": \"Google Playstore Content Rating\"}},\n",
              "                        {\"responsive\": true}\n",
              "                    ).then(function(){\n",
              "                            \n",
              "var gd = document.getElementById('f90cde0d-bb3f-4778-a948-9abd1c828d8b');\n",
              "var x = new MutationObserver(function (mutations, observer) {{\n",
              "        var display = window.getComputedStyle(gd).display;\n",
              "        if (!display || display === 'none') {{\n",
              "            console.log([gd, 'removed!']);\n",
              "            Plotly.purge(gd);\n",
              "            observer.disconnect();\n",
              "        }}\n",
              "}});\n",
              "\n",
              "// Listen for the removal of the full notebook cells\n",
              "var notebookContainer = gd.closest('#notebook-container');\n",
              "if (notebookContainer) {{\n",
              "    x.observe(notebookContainer, {childList: true});\n",
              "}}\n",
              "\n",
              "// Listen for the clearing of the current output cell\n",
              "var outputEl = gd.closest('.output');\n",
              "if (outputEl) {{\n",
              "    x.observe(outputEl, {childList: true});\n",
              "}}\n",
              "\n",
              "                        })\n",
              "                };\n",
              "                \n",
              "            </script>\n",
              "        </div>\n",
              "</body>\n",
              "</html>"
            ]
          },
          "metadata": {}
        }
      ]
    },
    {
      "cell_type": "code",
      "metadata": {
        "id": "6ZaHYNy2oFEE",
        "colab": {
          "base_uri": "https://localhost:8080/",
          "height": 542
        },
        "outputId": "252012a2-7917-4e43-c6c1-eb86e06d1221"
      },
      "source": [
        "    fig = px.pie(labels=ratings.index,\n",
        "    values=ratings.values,\n",
        "    title=\"Google Playstore Content Rating\",\n",
        "    names=ratings.index,\n",
        "    hole=0.6,\n",
        "    )\n",
        "    fig.update_traces(textposition='inside', textfont_size=15, textinfo='percent')\n",
        "     \n",
        "    fig.show()"
      ],
      "execution_count": 38,
      "outputs": [
        {
          "output_type": "display_data",
          "data": {
            "text/html": [
              "<html>\n",
              "<head><meta charset=\"utf-8\" /></head>\n",
              "<body>\n",
              "    <div>\n",
              "            <script src=\"https://cdnjs.cloudflare.com/ajax/libs/mathjax/2.7.5/MathJax.js?config=TeX-AMS-MML_SVG\"></script><script type=\"text/javascript\">if (window.MathJax) {MathJax.Hub.Config({SVG: {font: \"STIX-Web\"}});}</script>\n",
              "                <script type=\"text/javascript\">window.PlotlyConfig = {MathJaxConfig: 'local'};</script>\n",
              "        <script src=\"https://cdn.plot.ly/plotly-latest.min.js\"></script>    \n",
              "            <div id=\"cb5e12b3-18c8-4989-aac8-aeaedd4735ff\" class=\"plotly-graph-div\" style=\"height:525px; width:100%;\"></div>\n",
              "            <script type=\"text/javascript\">\n",
              "                \n",
              "                    window.PLOTLYENV=window.PLOTLYENV || {};\n",
              "                    \n",
              "                if (document.getElementById(\"cb5e12b3-18c8-4989-aac8-aeaedd4735ff\")) {\n",
              "                    Plotly.newPlot(\n",
              "                        'cb5e12b3-18c8-4989-aac8-aeaedd4735ff',\n",
              "                        [{\"domain\": {\"x\": [0.0, 1.0], \"y\": [0.0, 1.0]}, \"hole\": 0.6, \"hoverlabel\": {\"namelength\": 0}, \"hovertemplate\": \"label=%{label}<br>value=%{value}\", \"labels\": [\"Everyone\", \"Teen\", \"Mature 17+\", \"Everyone 10+\", \"Adults only 18+\", \"Unrated\"], \"legendgroup\": \"\", \"name\": \"\", \"showlegend\": true, \"textfont\": {\"size\": 15}, \"textinfo\": \"percent\", \"textposition\": \"inside\", \"type\": \"pie\", \"values\": [6621, 912, 357, 305, 3, 1]}],\n",
              "                        {\"legend\": {\"tracegroupgap\": 0}, \"template\": {\"data\": {\"bar\": [{\"error_x\": {\"color\": \"#2a3f5f\"}, \"error_y\": {\"color\": \"#2a3f5f\"}, \"marker\": {\"line\": {\"color\": \"#E5ECF6\", \"width\": 0.5}}, \"type\": \"bar\"}], \"barpolar\": [{\"marker\": {\"line\": {\"color\": \"#E5ECF6\", \"width\": 0.5}}, \"type\": \"barpolar\"}], \"carpet\": [{\"aaxis\": {\"endlinecolor\": \"#2a3f5f\", \"gridcolor\": \"white\", \"linecolor\": \"white\", \"minorgridcolor\": \"white\", \"startlinecolor\": \"#2a3f5f\"}, \"baxis\": {\"endlinecolor\": \"#2a3f5f\", \"gridcolor\": \"white\", \"linecolor\": \"white\", \"minorgridcolor\": \"white\", \"startlinecolor\": \"#2a3f5f\"}, \"type\": \"carpet\"}], \"choropleth\": [{\"colorbar\": {\"outlinewidth\": 0, \"ticks\": \"\"}, \"type\": \"choropleth\"}], \"contour\": [{\"colorbar\": {\"outlinewidth\": 0, \"ticks\": \"\"}, \"colorscale\": [[0.0, \"#0d0887\"], [0.1111111111111111, \"#46039f\"], [0.2222222222222222, \"#7201a8\"], [0.3333333333333333, \"#9c179e\"], [0.4444444444444444, \"#bd3786\"], [0.5555555555555556, \"#d8576b\"], [0.6666666666666666, \"#ed7953\"], [0.7777777777777778, \"#fb9f3a\"], [0.8888888888888888, \"#fdca26\"], [1.0, \"#f0f921\"]], \"type\": \"contour\"}], \"contourcarpet\": [{\"colorbar\": {\"outlinewidth\": 0, \"ticks\": \"\"}, \"type\": \"contourcarpet\"}], \"heatmap\": [{\"colorbar\": {\"outlinewidth\": 0, \"ticks\": \"\"}, \"colorscale\": [[0.0, \"#0d0887\"], [0.1111111111111111, \"#46039f\"], [0.2222222222222222, \"#7201a8\"], [0.3333333333333333, \"#9c179e\"], [0.4444444444444444, \"#bd3786\"], [0.5555555555555556, \"#d8576b\"], [0.6666666666666666, \"#ed7953\"], [0.7777777777777778, \"#fb9f3a\"], [0.8888888888888888, \"#fdca26\"], [1.0, \"#f0f921\"]], \"type\": \"heatmap\"}], \"heatmapgl\": [{\"colorbar\": {\"outlinewidth\": 0, \"ticks\": \"\"}, \"colorscale\": [[0.0, \"#0d0887\"], [0.1111111111111111, \"#46039f\"], [0.2222222222222222, \"#7201a8\"], [0.3333333333333333, \"#9c179e\"], [0.4444444444444444, \"#bd3786\"], [0.5555555555555556, \"#d8576b\"], [0.6666666666666666, \"#ed7953\"], [0.7777777777777778, \"#fb9f3a\"], [0.8888888888888888, \"#fdca26\"], [1.0, \"#f0f921\"]], \"type\": \"heatmapgl\"}], \"histogram\": [{\"marker\": {\"colorbar\": {\"outlinewidth\": 0, \"ticks\": \"\"}}, \"type\": \"histogram\"}], \"histogram2d\": [{\"colorbar\": {\"outlinewidth\": 0, \"ticks\": \"\"}, \"colorscale\": [[0.0, \"#0d0887\"], [0.1111111111111111, \"#46039f\"], [0.2222222222222222, \"#7201a8\"], [0.3333333333333333, \"#9c179e\"], [0.4444444444444444, \"#bd3786\"], [0.5555555555555556, \"#d8576b\"], [0.6666666666666666, \"#ed7953\"], [0.7777777777777778, \"#fb9f3a\"], [0.8888888888888888, \"#fdca26\"], [1.0, \"#f0f921\"]], \"type\": \"histogram2d\"}], \"histogram2dcontour\": [{\"colorbar\": {\"outlinewidth\": 0, \"ticks\": \"\"}, \"colorscale\": [[0.0, \"#0d0887\"], [0.1111111111111111, \"#46039f\"], [0.2222222222222222, \"#7201a8\"], [0.3333333333333333, \"#9c179e\"], [0.4444444444444444, \"#bd3786\"], [0.5555555555555556, \"#d8576b\"], [0.6666666666666666, \"#ed7953\"], [0.7777777777777778, \"#fb9f3a\"], [0.8888888888888888, \"#fdca26\"], [1.0, \"#f0f921\"]], \"type\": \"histogram2dcontour\"}], \"mesh3d\": [{\"colorbar\": {\"outlinewidth\": 0, \"ticks\": \"\"}, \"type\": \"mesh3d\"}], \"parcoords\": [{\"line\": {\"colorbar\": {\"outlinewidth\": 0, \"ticks\": \"\"}}, \"type\": \"parcoords\"}], \"pie\": [{\"automargin\": true, \"type\": \"pie\"}], \"scatter\": [{\"marker\": {\"colorbar\": {\"outlinewidth\": 0, \"ticks\": \"\"}}, \"type\": \"scatter\"}], \"scatter3d\": [{\"line\": {\"colorbar\": {\"outlinewidth\": 0, \"ticks\": \"\"}}, \"marker\": {\"colorbar\": {\"outlinewidth\": 0, \"ticks\": \"\"}}, \"type\": \"scatter3d\"}], \"scattercarpet\": [{\"marker\": {\"colorbar\": {\"outlinewidth\": 0, \"ticks\": \"\"}}, \"type\": \"scattercarpet\"}], \"scattergeo\": [{\"marker\": {\"colorbar\": {\"outlinewidth\": 0, \"ticks\": \"\"}}, \"type\": \"scattergeo\"}], \"scattergl\": [{\"marker\": {\"colorbar\": {\"outlinewidth\": 0, \"ticks\": \"\"}}, \"type\": \"scattergl\"}], \"scattermapbox\": [{\"marker\": {\"colorbar\": {\"outlinewidth\": 0, \"ticks\": \"\"}}, \"type\": \"scattermapbox\"}], \"scatterpolar\": [{\"marker\": {\"colorbar\": {\"outlinewidth\": 0, \"ticks\": \"\"}}, \"type\": \"scatterpolar\"}], \"scatterpolargl\": [{\"marker\": {\"colorbar\": {\"outlinewidth\": 0, \"ticks\": \"\"}}, \"type\": \"scatterpolargl\"}], \"scatterternary\": [{\"marker\": {\"colorbar\": {\"outlinewidth\": 0, \"ticks\": \"\"}}, \"type\": \"scatterternary\"}], \"surface\": [{\"colorbar\": {\"outlinewidth\": 0, \"ticks\": \"\"}, \"colorscale\": [[0.0, \"#0d0887\"], [0.1111111111111111, \"#46039f\"], [0.2222222222222222, \"#7201a8\"], [0.3333333333333333, \"#9c179e\"], [0.4444444444444444, \"#bd3786\"], [0.5555555555555556, \"#d8576b\"], [0.6666666666666666, \"#ed7953\"], [0.7777777777777778, \"#fb9f3a\"], [0.8888888888888888, \"#fdca26\"], [1.0, \"#f0f921\"]], \"type\": \"surface\"}], \"table\": [{\"cells\": {\"fill\": {\"color\": \"#EBF0F8\"}, \"line\": {\"color\": \"white\"}}, \"header\": {\"fill\": {\"color\": \"#C8D4E3\"}, \"line\": {\"color\": \"white\"}}, \"type\": \"table\"}]}, \"layout\": {\"annotationdefaults\": {\"arrowcolor\": \"#2a3f5f\", \"arrowhead\": 0, \"arrowwidth\": 1}, \"coloraxis\": {\"colorbar\": {\"outlinewidth\": 0, \"ticks\": \"\"}}, \"colorscale\": {\"diverging\": [[0, \"#8e0152\"], [0.1, \"#c51b7d\"], [0.2, \"#de77ae\"], [0.3, \"#f1b6da\"], [0.4, \"#fde0ef\"], [0.5, \"#f7f7f7\"], [0.6, \"#e6f5d0\"], [0.7, \"#b8e186\"], [0.8, \"#7fbc41\"], [0.9, \"#4d9221\"], [1, \"#276419\"]], \"sequential\": [[0.0, \"#0d0887\"], [0.1111111111111111, \"#46039f\"], [0.2222222222222222, \"#7201a8\"], [0.3333333333333333, \"#9c179e\"], [0.4444444444444444, \"#bd3786\"], [0.5555555555555556, \"#d8576b\"], [0.6666666666666666, \"#ed7953\"], [0.7777777777777778, \"#fb9f3a\"], [0.8888888888888888, \"#fdca26\"], [1.0, \"#f0f921\"]], \"sequentialminus\": [[0.0, \"#0d0887\"], [0.1111111111111111, \"#46039f\"], [0.2222222222222222, \"#7201a8\"], [0.3333333333333333, \"#9c179e\"], [0.4444444444444444, \"#bd3786\"], [0.5555555555555556, \"#d8576b\"], [0.6666666666666666, \"#ed7953\"], [0.7777777777777778, \"#fb9f3a\"], [0.8888888888888888, \"#fdca26\"], [1.0, \"#f0f921\"]]}, \"colorway\": [\"#636efa\", \"#EF553B\", \"#00cc96\", \"#ab63fa\", \"#FFA15A\", \"#19d3f3\", \"#FF6692\", \"#B6E880\", \"#FF97FF\", \"#FECB52\"], \"font\": {\"color\": \"#2a3f5f\"}, \"geo\": {\"bgcolor\": \"white\", \"lakecolor\": \"white\", \"landcolor\": \"#E5ECF6\", \"showlakes\": true, \"showland\": true, \"subunitcolor\": \"white\"}, \"hoverlabel\": {\"align\": \"left\"}, \"hovermode\": \"closest\", \"mapbox\": {\"style\": \"light\"}, \"paper_bgcolor\": \"white\", \"plot_bgcolor\": \"#E5ECF6\", \"polar\": {\"angularaxis\": {\"gridcolor\": \"white\", \"linecolor\": \"white\", \"ticks\": \"\"}, \"bgcolor\": \"#E5ECF6\", \"radialaxis\": {\"gridcolor\": \"white\", \"linecolor\": \"white\", \"ticks\": \"\"}}, \"scene\": {\"xaxis\": {\"backgroundcolor\": \"#E5ECF6\", \"gridcolor\": \"white\", \"gridwidth\": 2, \"linecolor\": \"white\", \"showbackground\": true, \"ticks\": \"\", \"zerolinecolor\": \"white\"}, \"yaxis\": {\"backgroundcolor\": \"#E5ECF6\", \"gridcolor\": \"white\", \"gridwidth\": 2, \"linecolor\": \"white\", \"showbackground\": true, \"ticks\": \"\", \"zerolinecolor\": \"white\"}, \"zaxis\": {\"backgroundcolor\": \"#E5ECF6\", \"gridcolor\": \"white\", \"gridwidth\": 2, \"linecolor\": \"white\", \"showbackground\": true, \"ticks\": \"\", \"zerolinecolor\": \"white\"}}, \"shapedefaults\": {\"line\": {\"color\": \"#2a3f5f\"}}, \"ternary\": {\"aaxis\": {\"gridcolor\": \"white\", \"linecolor\": \"white\", \"ticks\": \"\"}, \"baxis\": {\"gridcolor\": \"white\", \"linecolor\": \"white\", \"ticks\": \"\"}, \"bgcolor\": \"#E5ECF6\", \"caxis\": {\"gridcolor\": \"white\", \"linecolor\": \"white\", \"ticks\": \"\"}}, \"title\": {\"x\": 0.05}, \"xaxis\": {\"automargin\": true, \"gridcolor\": \"white\", \"linecolor\": \"white\", \"ticks\": \"\", \"title\": {\"standoff\": 15}, \"zerolinecolor\": \"white\", \"zerolinewidth\": 2}, \"yaxis\": {\"automargin\": true, \"gridcolor\": \"white\", \"linecolor\": \"white\", \"ticks\": \"\", \"title\": {\"standoff\": 15}, \"zerolinecolor\": \"white\", \"zerolinewidth\": 2}}}, \"title\": {\"text\": \"Google Playstore Content Rating\"}},\n",
              "                        {\"responsive\": true}\n",
              "                    ).then(function(){\n",
              "                            \n",
              "var gd = document.getElementById('cb5e12b3-18c8-4989-aac8-aeaedd4735ff');\n",
              "var x = new MutationObserver(function (mutations, observer) {{\n",
              "        var display = window.getComputedStyle(gd).display;\n",
              "        if (!display || display === 'none') {{\n",
              "            console.log([gd, 'removed!']);\n",
              "            Plotly.purge(gd);\n",
              "            observer.disconnect();\n",
              "        }}\n",
              "}});\n",
              "\n",
              "// Listen for the removal of the full notebook cells\n",
              "var notebookContainer = gd.closest('#notebook-container');\n",
              "if (notebookContainer) {{\n",
              "    x.observe(notebookContainer, {childList: true});\n",
              "}}\n",
              "\n",
              "// Listen for the clearing of the current output cell\n",
              "var outputEl = gd.closest('.output');\n",
              "if (outputEl) {{\n",
              "    x.observe(outputEl, {childList: true});\n",
              "}}\n",
              "\n",
              "                        })\n",
              "                };\n",
              "                \n",
              "            </script>\n",
              "        </div>\n",
              "</body>\n",
              "</html>"
            ]
          },
          "metadata": {}
        }
      ]
    },
    {
      "cell_type": "markdown",
      "metadata": {
        "id": "RoPpW37xdiUm"
      },
      "source": [
        "# Numeric Type Conversion: Examine the Number of Installs\n",
        "\n",
        "**Challenge**: How many apps had over 1 billion (that's right - BILLION) installations? How many apps just had a single install? \n",
        "\n",
        "Check the datatype of the Installs column.\n",
        "\n",
        "Count the number of apps at each level of installations. \n",
        "\n",
        "Convert the number of installations (the Installs column) to a numeric data type. Hint: this is a 2-step process. You'll have make sure you remove non-numeric characters first. "
      ]
    },
    {
      "cell_type": "code",
      "metadata": {
        "id": "uTNyWsPboJLq",
        "colab": {
          "base_uri": "https://localhost:8080/",
          "height": 677
        },
        "outputId": "fd1cce47-cb4a-4230-b6ea-cc62fafb49f2"
      },
      "source": [
        "df_apps_clean[['App', 'Installs']].groupby('Installs').count()"
      ],
      "execution_count": 39,
      "outputs": [
        {
          "output_type": "execute_result",
          "data": {
            "text/html": [
              "<div>\n",
              "<style scoped>\n",
              "    .dataframe tbody tr th:only-of-type {\n",
              "        vertical-align: middle;\n",
              "    }\n",
              "\n",
              "    .dataframe tbody tr th {\n",
              "        vertical-align: top;\n",
              "    }\n",
              "\n",
              "    .dataframe thead th {\n",
              "        text-align: right;\n",
              "    }\n",
              "</style>\n",
              "<table border=\"1\" class=\"dataframe\">\n",
              "  <thead>\n",
              "    <tr style=\"text-align: right;\">\n",
              "      <th></th>\n",
              "      <th>App</th>\n",
              "    </tr>\n",
              "    <tr>\n",
              "      <th>Installs</th>\n",
              "      <th></th>\n",
              "    </tr>\n",
              "  </thead>\n",
              "  <tbody>\n",
              "    <tr>\n",
              "      <th>1</th>\n",
              "      <td>3</td>\n",
              "    </tr>\n",
              "    <tr>\n",
              "      <th>1,000</th>\n",
              "      <td>698</td>\n",
              "    </tr>\n",
              "    <tr>\n",
              "      <th>1,000,000</th>\n",
              "      <td>1417</td>\n",
              "    </tr>\n",
              "    <tr>\n",
              "      <th>1,000,000,000</th>\n",
              "      <td>20</td>\n",
              "    </tr>\n",
              "    <tr>\n",
              "      <th>10</th>\n",
              "      <td>69</td>\n",
              "    </tr>\n",
              "    <tr>\n",
              "      <th>10,000</th>\n",
              "      <td>988</td>\n",
              "    </tr>\n",
              "    <tr>\n",
              "      <th>10,000,000</th>\n",
              "      <td>933</td>\n",
              "    </tr>\n",
              "    <tr>\n",
              "      <th>100</th>\n",
              "      <td>303</td>\n",
              "    </tr>\n",
              "    <tr>\n",
              "      <th>100,000</th>\n",
              "      <td>1096</td>\n",
              "    </tr>\n",
              "    <tr>\n",
              "      <th>100,000,000</th>\n",
              "      <td>189</td>\n",
              "    </tr>\n",
              "    <tr>\n",
              "      <th>5</th>\n",
              "      <td>9</td>\n",
              "    </tr>\n",
              "    <tr>\n",
              "      <th>5,000</th>\n",
              "      <td>425</td>\n",
              "    </tr>\n",
              "    <tr>\n",
              "      <th>5,000,000</th>\n",
              "      <td>607</td>\n",
              "    </tr>\n",
              "    <tr>\n",
              "      <th>50</th>\n",
              "      <td>56</td>\n",
              "    </tr>\n",
              "    <tr>\n",
              "      <th>50,000</th>\n",
              "      <td>457</td>\n",
              "    </tr>\n",
              "    <tr>\n",
              "      <th>50,000,000</th>\n",
              "      <td>202</td>\n",
              "    </tr>\n",
              "    <tr>\n",
              "      <th>500</th>\n",
              "      <td>199</td>\n",
              "    </tr>\n",
              "    <tr>\n",
              "      <th>500,000</th>\n",
              "      <td>504</td>\n",
              "    </tr>\n",
              "    <tr>\n",
              "      <th>500,000,000</th>\n",
              "      <td>24</td>\n",
              "    </tr>\n",
              "  </tbody>\n",
              "</table>\n",
              "</div>"
            ],
            "text/plain": [
              "                App\n",
              "Installs           \n",
              "1                 3\n",
              "1,000           698\n",
              "1,000,000      1417\n",
              "1,000,000,000    20\n",
              "10               69\n",
              "10,000          988\n",
              "10,000,000      933\n",
              "100             303\n",
              "100,000        1096\n",
              "100,000,000     189\n",
              "5                 9\n",
              "5,000           425\n",
              "5,000,000       607\n",
              "50               56\n",
              "50,000          457\n",
              "50,000,000      202\n",
              "500             199\n",
              "500,000         504\n",
              "500,000,000      24"
            ]
          },
          "metadata": {},
          "execution_count": 39
        }
      ]
    },
    {
      "cell_type": "code",
      "metadata": {
        "id": "yzR49fYcoJRI",
        "colab": {
          "base_uri": "https://localhost:8080/",
          "height": 677
        },
        "outputId": "beda3031-effe-41fc-87b2-6be33626da61"
      },
      "source": [
        "df_apps_clean.Installs = df_apps_clean.Installs.astype(str).str.replace(',', \"\")\n",
        "df_apps_clean.Installs = pd.to_numeric(df_apps_clean.Installs)\n",
        "df_apps_clean[['App', 'Installs']].groupby('Installs').count()"
      ],
      "execution_count": 40,
      "outputs": [
        {
          "output_type": "execute_result",
          "data": {
            "text/html": [
              "<div>\n",
              "<style scoped>\n",
              "    .dataframe tbody tr th:only-of-type {\n",
              "        vertical-align: middle;\n",
              "    }\n",
              "\n",
              "    .dataframe tbody tr th {\n",
              "        vertical-align: top;\n",
              "    }\n",
              "\n",
              "    .dataframe thead th {\n",
              "        text-align: right;\n",
              "    }\n",
              "</style>\n",
              "<table border=\"1\" class=\"dataframe\">\n",
              "  <thead>\n",
              "    <tr style=\"text-align: right;\">\n",
              "      <th></th>\n",
              "      <th>App</th>\n",
              "    </tr>\n",
              "    <tr>\n",
              "      <th>Installs</th>\n",
              "      <th></th>\n",
              "    </tr>\n",
              "  </thead>\n",
              "  <tbody>\n",
              "    <tr>\n",
              "      <th>1</th>\n",
              "      <td>3</td>\n",
              "    </tr>\n",
              "    <tr>\n",
              "      <th>5</th>\n",
              "      <td>9</td>\n",
              "    </tr>\n",
              "    <tr>\n",
              "      <th>10</th>\n",
              "      <td>69</td>\n",
              "    </tr>\n",
              "    <tr>\n",
              "      <th>50</th>\n",
              "      <td>56</td>\n",
              "    </tr>\n",
              "    <tr>\n",
              "      <th>100</th>\n",
              "      <td>303</td>\n",
              "    </tr>\n",
              "    <tr>\n",
              "      <th>500</th>\n",
              "      <td>199</td>\n",
              "    </tr>\n",
              "    <tr>\n",
              "      <th>1000</th>\n",
              "      <td>698</td>\n",
              "    </tr>\n",
              "    <tr>\n",
              "      <th>5000</th>\n",
              "      <td>425</td>\n",
              "    </tr>\n",
              "    <tr>\n",
              "      <th>10000</th>\n",
              "      <td>988</td>\n",
              "    </tr>\n",
              "    <tr>\n",
              "      <th>50000</th>\n",
              "      <td>457</td>\n",
              "    </tr>\n",
              "    <tr>\n",
              "      <th>100000</th>\n",
              "      <td>1096</td>\n",
              "    </tr>\n",
              "    <tr>\n",
              "      <th>500000</th>\n",
              "      <td>504</td>\n",
              "    </tr>\n",
              "    <tr>\n",
              "      <th>1000000</th>\n",
              "      <td>1417</td>\n",
              "    </tr>\n",
              "    <tr>\n",
              "      <th>5000000</th>\n",
              "      <td>607</td>\n",
              "    </tr>\n",
              "    <tr>\n",
              "      <th>10000000</th>\n",
              "      <td>933</td>\n",
              "    </tr>\n",
              "    <tr>\n",
              "      <th>50000000</th>\n",
              "      <td>202</td>\n",
              "    </tr>\n",
              "    <tr>\n",
              "      <th>100000000</th>\n",
              "      <td>189</td>\n",
              "    </tr>\n",
              "    <tr>\n",
              "      <th>500000000</th>\n",
              "      <td>24</td>\n",
              "    </tr>\n",
              "    <tr>\n",
              "      <th>1000000000</th>\n",
              "      <td>20</td>\n",
              "    </tr>\n",
              "  </tbody>\n",
              "</table>\n",
              "</div>"
            ],
            "text/plain": [
              "             App\n",
              "Installs        \n",
              "1              3\n",
              "5              9\n",
              "10            69\n",
              "50            56\n",
              "100          303\n",
              "500          199\n",
              "1000         698\n",
              "5000         425\n",
              "10000        988\n",
              "50000        457\n",
              "100000      1096\n",
              "500000       504\n",
              "1000000     1417\n",
              "5000000      607\n",
              "10000000     933\n",
              "50000000     202\n",
              "100000000    189\n",
              "500000000     24\n",
              "1000000000    20"
            ]
          },
          "metadata": {},
          "execution_count": 40
        }
      ]
    },
    {
      "cell_type": "code",
      "metadata": {
        "id": "cFjptR-JoJOE"
      },
      "source": [
        ""
      ],
      "execution_count": null,
      "outputs": []
    },
    {
      "cell_type": "code",
      "metadata": {
        "id": "8AMmxKHgoJGT"
      },
      "source": [
        ""
      ],
      "execution_count": null,
      "outputs": []
    },
    {
      "cell_type": "markdown",
      "metadata": {
        "id": "7T4sfNpFdiUv"
      },
      "source": [
        "# Find the Most Expensive Apps, Filter out the Junk, and Calculate a (ballpark) Sales Revenue Estimate\n",
        "\n",
        "Let's examine the Price column more closely.\n",
        "\n",
        "**Challenge**: Convert the price column to numeric data. Then investigate the top 20 most expensive apps in the dataset.\n",
        "\n",
        "Remove all apps that cost more than $250 from the `df_apps_clean` DataFrame.\n",
        "\n",
        "Add a column called 'Revenue_Estimate' to the DataFrame. This column should hold the price of the app times the number of installs. What are the top 10 highest grossing paid apps according to this estimate? Out of the top 10 highest grossing paid apps, how many are games?\n"
      ]
    },
    {
      "cell_type": "code",
      "metadata": {
        "id": "CqhX2WCJoQEp",
        "colab": {
          "base_uri": "https://localhost:8080/",
          "height": 677
        },
        "outputId": "6730646f-9b15-4520-985b-d0368255a463"
      },
      "source": [
        "df_apps_clean.Price.describe()\n",
        "df_apps_clean.Price = df_apps_clean.Price.astype(str).str.replace('$', \"\")\n",
        "df_apps_clean.Price = pd.to_numeric(df_apps_clean.Price)\n",
        "\n",
        "df_apps_clean.sort_values('Price', ascending=False).head(20)"
      ],
      "execution_count": 42,
      "outputs": [
        {
          "output_type": "execute_result",
          "data": {
            "text/html": [
              "<div>\n",
              "<style scoped>\n",
              "    .dataframe tbody tr th:only-of-type {\n",
              "        vertical-align: middle;\n",
              "    }\n",
              "\n",
              "    .dataframe tbody tr th {\n",
              "        vertical-align: top;\n",
              "    }\n",
              "\n",
              "    .dataframe thead th {\n",
              "        text-align: right;\n",
              "    }\n",
              "</style>\n",
              "<table border=\"1\" class=\"dataframe\">\n",
              "  <thead>\n",
              "    <tr style=\"text-align: right;\">\n",
              "      <th></th>\n",
              "      <th>App</th>\n",
              "      <th>Category</th>\n",
              "      <th>Rating</th>\n",
              "      <th>Reviews</th>\n",
              "      <th>Size_MBs</th>\n",
              "      <th>Installs</th>\n",
              "      <th>Type</th>\n",
              "      <th>Price</th>\n",
              "      <th>Content_Rating</th>\n",
              "      <th>Genres</th>\n",
              "    </tr>\n",
              "  </thead>\n",
              "  <tbody>\n",
              "    <tr>\n",
              "      <th>3946</th>\n",
              "      <td>I'm Rich - Trump Edition</td>\n",
              "      <td>LIFESTYLE</td>\n",
              "      <td>3.60</td>\n",
              "      <td>275</td>\n",
              "      <td>7.30</td>\n",
              "      <td>10000</td>\n",
              "      <td>Paid</td>\n",
              "      <td>400.00</td>\n",
              "      <td>Everyone</td>\n",
              "      <td>Lifestyle</td>\n",
              "    </tr>\n",
              "    <tr>\n",
              "      <th>2461</th>\n",
              "      <td>I AM RICH PRO PLUS</td>\n",
              "      <td>FINANCE</td>\n",
              "      <td>4.00</td>\n",
              "      <td>36</td>\n",
              "      <td>41.00</td>\n",
              "      <td>1000</td>\n",
              "      <td>Paid</td>\n",
              "      <td>399.99</td>\n",
              "      <td>Everyone</td>\n",
              "      <td>Finance</td>\n",
              "    </tr>\n",
              "    <tr>\n",
              "      <th>4606</th>\n",
              "      <td>I Am Rich Premium</td>\n",
              "      <td>FINANCE</td>\n",
              "      <td>4.10</td>\n",
              "      <td>1867</td>\n",
              "      <td>4.70</td>\n",
              "      <td>50000</td>\n",
              "      <td>Paid</td>\n",
              "      <td>399.99</td>\n",
              "      <td>Everyone</td>\n",
              "      <td>Finance</td>\n",
              "    </tr>\n",
              "    <tr>\n",
              "      <th>3145</th>\n",
              "      <td>I am rich(premium)</td>\n",
              "      <td>FINANCE</td>\n",
              "      <td>3.50</td>\n",
              "      <td>472</td>\n",
              "      <td>0.94</td>\n",
              "      <td>5000</td>\n",
              "      <td>Paid</td>\n",
              "      <td>399.99</td>\n",
              "      <td>Everyone</td>\n",
              "      <td>Finance</td>\n",
              "    </tr>\n",
              "    <tr>\n",
              "      <th>3554</th>\n",
              "      <td>💎 I'm rich</td>\n",
              "      <td>LIFESTYLE</td>\n",
              "      <td>3.80</td>\n",
              "      <td>718</td>\n",
              "      <td>26.00</td>\n",
              "      <td>10000</td>\n",
              "      <td>Paid</td>\n",
              "      <td>399.99</td>\n",
              "      <td>Everyone</td>\n",
              "      <td>Lifestyle</td>\n",
              "    </tr>\n",
              "    <tr>\n",
              "      <th>5765</th>\n",
              "      <td>I am rich</td>\n",
              "      <td>LIFESTYLE</td>\n",
              "      <td>3.80</td>\n",
              "      <td>3547</td>\n",
              "      <td>1.80</td>\n",
              "      <td>100000</td>\n",
              "      <td>Paid</td>\n",
              "      <td>399.99</td>\n",
              "      <td>Everyone</td>\n",
              "      <td>Lifestyle</td>\n",
              "    </tr>\n",
              "    <tr>\n",
              "      <th>1946</th>\n",
              "      <td>I am rich (Most expensive app)</td>\n",
              "      <td>FINANCE</td>\n",
              "      <td>4.10</td>\n",
              "      <td>129</td>\n",
              "      <td>2.70</td>\n",
              "      <td>1000</td>\n",
              "      <td>Paid</td>\n",
              "      <td>399.99</td>\n",
              "      <td>Teen</td>\n",
              "      <td>Finance</td>\n",
              "    </tr>\n",
              "    <tr>\n",
              "      <th>2775</th>\n",
              "      <td>I Am Rich Pro</td>\n",
              "      <td>FAMILY</td>\n",
              "      <td>4.40</td>\n",
              "      <td>201</td>\n",
              "      <td>2.70</td>\n",
              "      <td>5000</td>\n",
              "      <td>Paid</td>\n",
              "      <td>399.99</td>\n",
              "      <td>Everyone</td>\n",
              "      <td>Entertainment</td>\n",
              "    </tr>\n",
              "    <tr>\n",
              "      <th>3221</th>\n",
              "      <td>I am Rich Plus</td>\n",
              "      <td>FAMILY</td>\n",
              "      <td>4.00</td>\n",
              "      <td>856</td>\n",
              "      <td>8.70</td>\n",
              "      <td>10000</td>\n",
              "      <td>Paid</td>\n",
              "      <td>399.99</td>\n",
              "      <td>Everyone</td>\n",
              "      <td>Entertainment</td>\n",
              "    </tr>\n",
              "    <tr>\n",
              "      <th>3114</th>\n",
              "      <td>I am Rich</td>\n",
              "      <td>FINANCE</td>\n",
              "      <td>4.30</td>\n",
              "      <td>180</td>\n",
              "      <td>3.80</td>\n",
              "      <td>5000</td>\n",
              "      <td>Paid</td>\n",
              "      <td>399.99</td>\n",
              "      <td>Everyone</td>\n",
              "      <td>Finance</td>\n",
              "    </tr>\n",
              "    <tr>\n",
              "      <th>1331</th>\n",
              "      <td>most expensive app (H)</td>\n",
              "      <td>FAMILY</td>\n",
              "      <td>4.30</td>\n",
              "      <td>6</td>\n",
              "      <td>1.50</td>\n",
              "      <td>100</td>\n",
              "      <td>Paid</td>\n",
              "      <td>399.99</td>\n",
              "      <td>Everyone</td>\n",
              "      <td>Entertainment</td>\n",
              "    </tr>\n",
              "    <tr>\n",
              "      <th>2394</th>\n",
              "      <td>I am Rich!</td>\n",
              "      <td>FINANCE</td>\n",
              "      <td>3.80</td>\n",
              "      <td>93</td>\n",
              "      <td>22.00</td>\n",
              "      <td>1000</td>\n",
              "      <td>Paid</td>\n",
              "      <td>399.99</td>\n",
              "      <td>Everyone</td>\n",
              "      <td>Finance</td>\n",
              "    </tr>\n",
              "    <tr>\n",
              "      <th>3897</th>\n",
              "      <td>I Am Rich</td>\n",
              "      <td>FAMILY</td>\n",
              "      <td>3.60</td>\n",
              "      <td>217</td>\n",
              "      <td>4.90</td>\n",
              "      <td>10000</td>\n",
              "      <td>Paid</td>\n",
              "      <td>389.99</td>\n",
              "      <td>Everyone</td>\n",
              "      <td>Entertainment</td>\n",
              "    </tr>\n",
              "    <tr>\n",
              "      <th>2193</th>\n",
              "      <td>I am extremely Rich</td>\n",
              "      <td>LIFESTYLE</td>\n",
              "      <td>2.90</td>\n",
              "      <td>41</td>\n",
              "      <td>2.90</td>\n",
              "      <td>1000</td>\n",
              "      <td>Paid</td>\n",
              "      <td>379.99</td>\n",
              "      <td>Everyone</td>\n",
              "      <td>Lifestyle</td>\n",
              "    </tr>\n",
              "    <tr>\n",
              "      <th>3856</th>\n",
              "      <td>I am rich VIP</td>\n",
              "      <td>LIFESTYLE</td>\n",
              "      <td>3.80</td>\n",
              "      <td>411</td>\n",
              "      <td>2.60</td>\n",
              "      <td>10000</td>\n",
              "      <td>Paid</td>\n",
              "      <td>299.99</td>\n",
              "      <td>Everyone</td>\n",
              "      <td>Lifestyle</td>\n",
              "    </tr>\n",
              "    <tr>\n",
              "      <th>2281</th>\n",
              "      <td>Vargo Anesthesia Mega App</td>\n",
              "      <td>MEDICAL</td>\n",
              "      <td>4.60</td>\n",
              "      <td>92</td>\n",
              "      <td>32.00</td>\n",
              "      <td>1000</td>\n",
              "      <td>Paid</td>\n",
              "      <td>79.99</td>\n",
              "      <td>Everyone</td>\n",
              "      <td>Medical</td>\n",
              "    </tr>\n",
              "    <tr>\n",
              "      <th>1407</th>\n",
              "      <td>LTC AS Legal</td>\n",
              "      <td>MEDICAL</td>\n",
              "      <td>4.00</td>\n",
              "      <td>6</td>\n",
              "      <td>1.30</td>\n",
              "      <td>100</td>\n",
              "      <td>Paid</td>\n",
              "      <td>39.99</td>\n",
              "      <td>Everyone</td>\n",
              "      <td>Medical</td>\n",
              "    </tr>\n",
              "    <tr>\n",
              "      <th>2629</th>\n",
              "      <td>I am Rich Person</td>\n",
              "      <td>LIFESTYLE</td>\n",
              "      <td>4.20</td>\n",
              "      <td>134</td>\n",
              "      <td>1.80</td>\n",
              "      <td>1000</td>\n",
              "      <td>Paid</td>\n",
              "      <td>37.99</td>\n",
              "      <td>Everyone</td>\n",
              "      <td>Lifestyle</td>\n",
              "    </tr>\n",
              "    <tr>\n",
              "      <th>2481</th>\n",
              "      <td>A Manual of Acupuncture</td>\n",
              "      <td>MEDICAL</td>\n",
              "      <td>3.50</td>\n",
              "      <td>214</td>\n",
              "      <td>68.00</td>\n",
              "      <td>1000</td>\n",
              "      <td>Paid</td>\n",
              "      <td>33.99</td>\n",
              "      <td>Everyone</td>\n",
              "      <td>Medical</td>\n",
              "    </tr>\n",
              "    <tr>\n",
              "      <th>4264</th>\n",
              "      <td>Golfshot Plus: Golf GPS</td>\n",
              "      <td>SPORTS</td>\n",
              "      <td>4.10</td>\n",
              "      <td>3387</td>\n",
              "      <td>25.00</td>\n",
              "      <td>50000</td>\n",
              "      <td>Paid</td>\n",
              "      <td>29.99</td>\n",
              "      <td>Everyone</td>\n",
              "      <td>Sports</td>\n",
              "    </tr>\n",
              "  </tbody>\n",
              "</table>\n",
              "</div>"
            ],
            "text/plain": [
              "                                 App   Category  ...  Content_Rating         Genres\n",
              "3946        I'm Rich - Trump Edition  LIFESTYLE  ...        Everyone      Lifestyle\n",
              "2461              I AM RICH PRO PLUS    FINANCE  ...        Everyone        Finance\n",
              "4606               I Am Rich Premium    FINANCE  ...        Everyone        Finance\n",
              "3145              I am rich(premium)    FINANCE  ...        Everyone        Finance\n",
              "3554                      💎 I'm rich  LIFESTYLE  ...        Everyone      Lifestyle\n",
              "5765                       I am rich  LIFESTYLE  ...        Everyone      Lifestyle\n",
              "1946  I am rich (Most expensive app)    FINANCE  ...            Teen        Finance\n",
              "2775                   I Am Rich Pro     FAMILY  ...        Everyone  Entertainment\n",
              "3221                  I am Rich Plus     FAMILY  ...        Everyone  Entertainment\n",
              "3114                       I am Rich    FINANCE  ...        Everyone        Finance\n",
              "1331          most expensive app (H)     FAMILY  ...        Everyone  Entertainment\n",
              "2394                      I am Rich!    FINANCE  ...        Everyone        Finance\n",
              "3897                       I Am Rich     FAMILY  ...        Everyone  Entertainment\n",
              "2193             I am extremely Rich  LIFESTYLE  ...        Everyone      Lifestyle\n",
              "3856                   I am rich VIP  LIFESTYLE  ...        Everyone      Lifestyle\n",
              "2281       Vargo Anesthesia Mega App    MEDICAL  ...        Everyone        Medical\n",
              "1407                    LTC AS Legal    MEDICAL  ...        Everyone        Medical\n",
              "2629                I am Rich Person  LIFESTYLE  ...        Everyone      Lifestyle\n",
              "2481         A Manual of Acupuncture    MEDICAL  ...        Everyone        Medical\n",
              "4264         Golfshot Plus: Golf GPS     SPORTS  ...        Everyone         Sports\n",
              "\n",
              "[20 rows x 10 columns]"
            ]
          },
          "metadata": {},
          "execution_count": 42
        }
      ]
    },
    {
      "cell_type": "markdown",
      "metadata": {
        "id": "Rgposh-CdiU4"
      },
      "source": [
        "### The most expensive apps sub $250"
      ]
    },
    {
      "cell_type": "code",
      "metadata": {
        "id": "c8_n8z8XoUML",
        "colab": {
          "base_uri": "https://localhost:8080/",
          "height": 206
        },
        "outputId": "e5518b83-c348-49a0-b320-27dbd8e04d5c"
      },
      "source": [
        "df_apps_clean = df_apps_clean[df_apps_clean['Price'] < 250]\n",
        "df_apps_clean.sort_values('Price', ascending=False).head(5)"
      ],
      "execution_count": 43,
      "outputs": [
        {
          "output_type": "execute_result",
          "data": {
            "text/html": [
              "<div>\n",
              "<style scoped>\n",
              "    .dataframe tbody tr th:only-of-type {\n",
              "        vertical-align: middle;\n",
              "    }\n",
              "\n",
              "    .dataframe tbody tr th {\n",
              "        vertical-align: top;\n",
              "    }\n",
              "\n",
              "    .dataframe thead th {\n",
              "        text-align: right;\n",
              "    }\n",
              "</style>\n",
              "<table border=\"1\" class=\"dataframe\">\n",
              "  <thead>\n",
              "    <tr style=\"text-align: right;\">\n",
              "      <th></th>\n",
              "      <th>App</th>\n",
              "      <th>Category</th>\n",
              "      <th>Rating</th>\n",
              "      <th>Reviews</th>\n",
              "      <th>Size_MBs</th>\n",
              "      <th>Installs</th>\n",
              "      <th>Type</th>\n",
              "      <th>Price</th>\n",
              "      <th>Content_Rating</th>\n",
              "      <th>Genres</th>\n",
              "    </tr>\n",
              "  </thead>\n",
              "  <tbody>\n",
              "    <tr>\n",
              "      <th>2281</th>\n",
              "      <td>Vargo Anesthesia Mega App</td>\n",
              "      <td>MEDICAL</td>\n",
              "      <td>4.60</td>\n",
              "      <td>92</td>\n",
              "      <td>32.00</td>\n",
              "      <td>1000</td>\n",
              "      <td>Paid</td>\n",
              "      <td>79.99</td>\n",
              "      <td>Everyone</td>\n",
              "      <td>Medical</td>\n",
              "    </tr>\n",
              "    <tr>\n",
              "      <th>1407</th>\n",
              "      <td>LTC AS Legal</td>\n",
              "      <td>MEDICAL</td>\n",
              "      <td>4.00</td>\n",
              "      <td>6</td>\n",
              "      <td>1.30</td>\n",
              "      <td>100</td>\n",
              "      <td>Paid</td>\n",
              "      <td>39.99</td>\n",
              "      <td>Everyone</td>\n",
              "      <td>Medical</td>\n",
              "    </tr>\n",
              "    <tr>\n",
              "      <th>2629</th>\n",
              "      <td>I am Rich Person</td>\n",
              "      <td>LIFESTYLE</td>\n",
              "      <td>4.20</td>\n",
              "      <td>134</td>\n",
              "      <td>1.80</td>\n",
              "      <td>1000</td>\n",
              "      <td>Paid</td>\n",
              "      <td>37.99</td>\n",
              "      <td>Everyone</td>\n",
              "      <td>Lifestyle</td>\n",
              "    </tr>\n",
              "    <tr>\n",
              "      <th>2481</th>\n",
              "      <td>A Manual of Acupuncture</td>\n",
              "      <td>MEDICAL</td>\n",
              "      <td>3.50</td>\n",
              "      <td>214</td>\n",
              "      <td>68.00</td>\n",
              "      <td>1000</td>\n",
              "      <td>Paid</td>\n",
              "      <td>33.99</td>\n",
              "      <td>Everyone</td>\n",
              "      <td>Medical</td>\n",
              "    </tr>\n",
              "    <tr>\n",
              "      <th>2463</th>\n",
              "      <td>PTA Content Master</td>\n",
              "      <td>MEDICAL</td>\n",
              "      <td>4.20</td>\n",
              "      <td>64</td>\n",
              "      <td>41.00</td>\n",
              "      <td>1000</td>\n",
              "      <td>Paid</td>\n",
              "      <td>29.99</td>\n",
              "      <td>Everyone</td>\n",
              "      <td>Medical</td>\n",
              "    </tr>\n",
              "  </tbody>\n",
              "</table>\n",
              "</div>"
            ],
            "text/plain": [
              "                            App   Category  ...  Content_Rating     Genres\n",
              "2281  Vargo Anesthesia Mega App    MEDICAL  ...        Everyone    Medical\n",
              "1407               LTC AS Legal    MEDICAL  ...        Everyone    Medical\n",
              "2629           I am Rich Person  LIFESTYLE  ...        Everyone  Lifestyle\n",
              "2481    A Manual of Acupuncture    MEDICAL  ...        Everyone    Medical\n",
              "2463         PTA Content Master    MEDICAL  ...        Everyone    Medical\n",
              "\n",
              "[5 rows x 10 columns]"
            ]
          },
          "metadata": {},
          "execution_count": 43
        }
      ]
    },
    {
      "cell_type": "markdown",
      "metadata": {
        "id": "VGu85CLb4OOH"
      },
      "source": [
        "### Highest Grossing Paid Apps (ballpark estimate)"
      ]
    },
    {
      "cell_type": "code",
      "metadata": {
        "id": "3mDi45iIoVzE",
        "colab": {
          "base_uri": "https://localhost:8080/",
          "height": 641
        },
        "outputId": "da855ec6-dfed-474c-98b4-c6cce66afbcc"
      },
      "source": [
        "df_apps_clean['Revenue_Estimate'] = df_apps_clean.Installs.mul(df_apps_clean.Price)\n",
        "df_apps_clean.sort_values('Revenue_Estimate', ascending=False)[:10]"
      ],
      "execution_count": 44,
      "outputs": [
        {
          "output_type": "execute_result",
          "data": {
            "text/html": [
              "<div>\n",
              "<style scoped>\n",
              "    .dataframe tbody tr th:only-of-type {\n",
              "        vertical-align: middle;\n",
              "    }\n",
              "\n",
              "    .dataframe tbody tr th {\n",
              "        vertical-align: top;\n",
              "    }\n",
              "\n",
              "    .dataframe thead th {\n",
              "        text-align: right;\n",
              "    }\n",
              "</style>\n",
              "<table border=\"1\" class=\"dataframe\">\n",
              "  <thead>\n",
              "    <tr style=\"text-align: right;\">\n",
              "      <th></th>\n",
              "      <th>App</th>\n",
              "      <th>Category</th>\n",
              "      <th>Rating</th>\n",
              "      <th>Reviews</th>\n",
              "      <th>Size_MBs</th>\n",
              "      <th>Installs</th>\n",
              "      <th>Type</th>\n",
              "      <th>Price</th>\n",
              "      <th>Content_Rating</th>\n",
              "      <th>Genres</th>\n",
              "      <th>Revenue_Estimate</th>\n",
              "    </tr>\n",
              "  </thead>\n",
              "  <tbody>\n",
              "    <tr>\n",
              "      <th>9220</th>\n",
              "      <td>Minecraft</td>\n",
              "      <td>FAMILY</td>\n",
              "      <td>4.50</td>\n",
              "      <td>2376564</td>\n",
              "      <td>19.00</td>\n",
              "      <td>10000000</td>\n",
              "      <td>Paid</td>\n",
              "      <td>6.99</td>\n",
              "      <td>Everyone 10+</td>\n",
              "      <td>Arcade;Action &amp; Adventure</td>\n",
              "      <td>69,900,000.00</td>\n",
              "    </tr>\n",
              "    <tr>\n",
              "      <th>8825</th>\n",
              "      <td>Hitman Sniper</td>\n",
              "      <td>GAME</td>\n",
              "      <td>4.60</td>\n",
              "      <td>408292</td>\n",
              "      <td>29.00</td>\n",
              "      <td>10000000</td>\n",
              "      <td>Paid</td>\n",
              "      <td>0.99</td>\n",
              "      <td>Mature 17+</td>\n",
              "      <td>Action</td>\n",
              "      <td>9,900,000.00</td>\n",
              "    </tr>\n",
              "    <tr>\n",
              "      <th>7151</th>\n",
              "      <td>Grand Theft Auto: San Andreas</td>\n",
              "      <td>GAME</td>\n",
              "      <td>4.40</td>\n",
              "      <td>348962</td>\n",
              "      <td>26.00</td>\n",
              "      <td>1000000</td>\n",
              "      <td>Paid</td>\n",
              "      <td>6.99</td>\n",
              "      <td>Mature 17+</td>\n",
              "      <td>Action</td>\n",
              "      <td>6,990,000.00</td>\n",
              "    </tr>\n",
              "    <tr>\n",
              "      <th>7477</th>\n",
              "      <td>Facetune - For Free</td>\n",
              "      <td>PHOTOGRAPHY</td>\n",
              "      <td>4.40</td>\n",
              "      <td>49553</td>\n",
              "      <td>48.00</td>\n",
              "      <td>1000000</td>\n",
              "      <td>Paid</td>\n",
              "      <td>5.99</td>\n",
              "      <td>Everyone</td>\n",
              "      <td>Photography</td>\n",
              "      <td>5,990,000.00</td>\n",
              "    </tr>\n",
              "    <tr>\n",
              "      <th>7977</th>\n",
              "      <td>Sleep as Android Unlock</td>\n",
              "      <td>LIFESTYLE</td>\n",
              "      <td>4.50</td>\n",
              "      <td>23966</td>\n",
              "      <td>0.85</td>\n",
              "      <td>1000000</td>\n",
              "      <td>Paid</td>\n",
              "      <td>5.99</td>\n",
              "      <td>Everyone</td>\n",
              "      <td>Lifestyle</td>\n",
              "      <td>5,990,000.00</td>\n",
              "    </tr>\n",
              "    <tr>\n",
              "      <th>6594</th>\n",
              "      <td>DraStic DS Emulator</td>\n",
              "      <td>GAME</td>\n",
              "      <td>4.60</td>\n",
              "      <td>87766</td>\n",
              "      <td>12.00</td>\n",
              "      <td>1000000</td>\n",
              "      <td>Paid</td>\n",
              "      <td>4.99</td>\n",
              "      <td>Everyone</td>\n",
              "      <td>Action</td>\n",
              "      <td>4,990,000.00</td>\n",
              "    </tr>\n",
              "    <tr>\n",
              "      <th>6082</th>\n",
              "      <td>Weather Live</td>\n",
              "      <td>WEATHER</td>\n",
              "      <td>4.50</td>\n",
              "      <td>76593</td>\n",
              "      <td>4.75</td>\n",
              "      <td>500000</td>\n",
              "      <td>Paid</td>\n",
              "      <td>5.99</td>\n",
              "      <td>Everyone</td>\n",
              "      <td>Weather</td>\n",
              "      <td>2,995,000.00</td>\n",
              "    </tr>\n",
              "    <tr>\n",
              "      <th>7954</th>\n",
              "      <td>Bloons TD 5</td>\n",
              "      <td>FAMILY</td>\n",
              "      <td>4.60</td>\n",
              "      <td>190086</td>\n",
              "      <td>94.00</td>\n",
              "      <td>1000000</td>\n",
              "      <td>Paid</td>\n",
              "      <td>2.99</td>\n",
              "      <td>Everyone</td>\n",
              "      <td>Strategy</td>\n",
              "      <td>2,990,000.00</td>\n",
              "    </tr>\n",
              "    <tr>\n",
              "      <th>7633</th>\n",
              "      <td>Five Nights at Freddy's</td>\n",
              "      <td>GAME</td>\n",
              "      <td>4.60</td>\n",
              "      <td>100805</td>\n",
              "      <td>50.00</td>\n",
              "      <td>1000000</td>\n",
              "      <td>Paid</td>\n",
              "      <td>2.99</td>\n",
              "      <td>Teen</td>\n",
              "      <td>Action</td>\n",
              "      <td>2,990,000.00</td>\n",
              "    </tr>\n",
              "    <tr>\n",
              "      <th>6746</th>\n",
              "      <td>Card Wars - Adventure Time</td>\n",
              "      <td>FAMILY</td>\n",
              "      <td>4.30</td>\n",
              "      <td>129603</td>\n",
              "      <td>23.00</td>\n",
              "      <td>1000000</td>\n",
              "      <td>Paid</td>\n",
              "      <td>2.99</td>\n",
              "      <td>Everyone 10+</td>\n",
              "      <td>Card;Action &amp; Adventure</td>\n",
              "      <td>2,990,000.00</td>\n",
              "    </tr>\n",
              "  </tbody>\n",
              "</table>\n",
              "</div>"
            ],
            "text/plain": [
              "                                App  ... Revenue_Estimate\n",
              "9220                      Minecraft  ...    69,900,000.00\n",
              "8825                  Hitman Sniper  ...     9,900,000.00\n",
              "7151  Grand Theft Auto: San Andreas  ...     6,990,000.00\n",
              "7477            Facetune - For Free  ...     5,990,000.00\n",
              "7977        Sleep as Android Unlock  ...     5,990,000.00\n",
              "6594            DraStic DS Emulator  ...     4,990,000.00\n",
              "6082                   Weather Live  ...     2,995,000.00\n",
              "7954                    Bloons TD 5  ...     2,990,000.00\n",
              "7633        Five Nights at Freddy's  ...     2,990,000.00\n",
              "6746     Card Wars - Adventure Time  ...     2,990,000.00\n",
              "\n",
              "[10 rows x 11 columns]"
            ]
          },
          "metadata": {},
          "execution_count": 44
        }
      ]
    },
    {
      "cell_type": "markdown",
      "metadata": {
        "dc": {
          "key": "18"
        },
        "run_control": {
          "frozen": true
        },
        "tags": [
          "context"
        ],
        "id": "lvpM2MyTdiU6"
      },
      "source": [
        "# Plotly Bar Charts & Scatter Plots: Analysing App Categories"
      ]
    },
    {
      "cell_type": "code",
      "metadata": {
        "id": "3L6hK0aLoYxY",
        "colab": {
          "base_uri": "https://localhost:8080/"
        },
        "outputId": "bf20497b-b6b6-44b4-d776-8ef92e29b598"
      },
      "source": [
        "df_apps_clean.Category.nunique()"
      ],
      "execution_count": 45,
      "outputs": [
        {
          "output_type": "execute_result",
          "data": {
            "text/plain": [
              "33"
            ]
          },
          "metadata": {},
          "execution_count": 45
        }
      ]
    },
    {
      "cell_type": "code",
      "metadata": {
        "id": "mg50Ts9joYz1"
      },
      "source": [
        "top10_category = df_apps_clean.Category.value_counts()[:10]"
      ],
      "execution_count": 47,
      "outputs": []
    },
    {
      "cell_type": "code",
      "metadata": {
        "id": "WZZizlGjoYfn",
        "colab": {
          "base_uri": "https://localhost:8080/",
          "height": 542
        },
        "outputId": "07d5036a-c092-4972-cff1-e4261b02677d"
      },
      "source": [
        "bar = px.bar(x = top10_category.index, # index = category name\n",
        "             y = top10_category.values)\n",
        "\n",
        "bar.show()"
      ],
      "execution_count": 48,
      "outputs": [
        {
          "output_type": "display_data",
          "data": {
            "text/html": [
              "<html>\n",
              "<head><meta charset=\"utf-8\" /></head>\n",
              "<body>\n",
              "    <div>\n",
              "            <script src=\"https://cdnjs.cloudflare.com/ajax/libs/mathjax/2.7.5/MathJax.js?config=TeX-AMS-MML_SVG\"></script><script type=\"text/javascript\">if (window.MathJax) {MathJax.Hub.Config({SVG: {font: \"STIX-Web\"}});}</script>\n",
              "                <script type=\"text/javascript\">window.PlotlyConfig = {MathJaxConfig: 'local'};</script>\n",
              "        <script src=\"https://cdn.plot.ly/plotly-latest.min.js\"></script>    \n",
              "            <div id=\"facb63fb-0ac4-422f-9f89-75c063f505ef\" class=\"plotly-graph-div\" style=\"height:525px; width:100%;\"></div>\n",
              "            <script type=\"text/javascript\">\n",
              "                \n",
              "                    window.PLOTLYENV=window.PLOTLYENV || {};\n",
              "                    \n",
              "                if (document.getElementById(\"facb63fb-0ac4-422f-9f89-75c063f505ef\")) {\n",
              "                    Plotly.newPlot(\n",
              "                        'facb63fb-0ac4-422f-9f89-75c063f505ef',\n",
              "                        [{\"alignmentgroup\": \"True\", \"hoverlabel\": {\"namelength\": 0}, \"hovertemplate\": \"x=%{x}<br>y=%{y}\", \"legendgroup\": \"\", \"marker\": {\"color\": \"#636efa\"}, \"name\": \"\", \"offsetgroup\": \"\", \"orientation\": \"v\", \"showlegend\": false, \"textposition\": \"auto\", \"type\": \"bar\", \"x\": [\"FAMILY\", \"GAME\", \"TOOLS\", \"PRODUCTIVITY\", \"PERSONALIZATION\", \"LIFESTYLE\", \"FINANCE\", \"MEDICAL\", \"PHOTOGRAPHY\", \"BUSINESS\"], \"xaxis\": \"x\", \"y\": [1606, 910, 719, 301, 298, 297, 296, 292, 263, 262], \"yaxis\": \"y\"}],\n",
              "                        {\"barmode\": \"relative\", \"legend\": {\"tracegroupgap\": 0}, \"margin\": {\"t\": 60}, \"template\": {\"data\": {\"bar\": [{\"error_x\": {\"color\": \"#2a3f5f\"}, \"error_y\": {\"color\": \"#2a3f5f\"}, \"marker\": {\"line\": {\"color\": \"#E5ECF6\", \"width\": 0.5}}, \"type\": \"bar\"}], \"barpolar\": [{\"marker\": {\"line\": {\"color\": \"#E5ECF6\", \"width\": 0.5}}, \"type\": \"barpolar\"}], \"carpet\": [{\"aaxis\": {\"endlinecolor\": \"#2a3f5f\", \"gridcolor\": \"white\", \"linecolor\": \"white\", \"minorgridcolor\": \"white\", \"startlinecolor\": \"#2a3f5f\"}, \"baxis\": {\"endlinecolor\": \"#2a3f5f\", \"gridcolor\": \"white\", \"linecolor\": \"white\", \"minorgridcolor\": \"white\", \"startlinecolor\": \"#2a3f5f\"}, \"type\": \"carpet\"}], \"choropleth\": [{\"colorbar\": {\"outlinewidth\": 0, \"ticks\": \"\"}, \"type\": \"choropleth\"}], \"contour\": [{\"colorbar\": {\"outlinewidth\": 0, \"ticks\": \"\"}, \"colorscale\": [[0.0, \"#0d0887\"], [0.1111111111111111, \"#46039f\"], [0.2222222222222222, \"#7201a8\"], [0.3333333333333333, \"#9c179e\"], [0.4444444444444444, \"#bd3786\"], [0.5555555555555556, \"#d8576b\"], [0.6666666666666666, \"#ed7953\"], [0.7777777777777778, \"#fb9f3a\"], [0.8888888888888888, \"#fdca26\"], [1.0, \"#f0f921\"]], \"type\": \"contour\"}], \"contourcarpet\": [{\"colorbar\": {\"outlinewidth\": 0, \"ticks\": \"\"}, \"type\": \"contourcarpet\"}], \"heatmap\": [{\"colorbar\": {\"outlinewidth\": 0, \"ticks\": \"\"}, \"colorscale\": [[0.0, \"#0d0887\"], [0.1111111111111111, \"#46039f\"], [0.2222222222222222, \"#7201a8\"], [0.3333333333333333, \"#9c179e\"], [0.4444444444444444, \"#bd3786\"], [0.5555555555555556, \"#d8576b\"], [0.6666666666666666, \"#ed7953\"], [0.7777777777777778, \"#fb9f3a\"], [0.8888888888888888, \"#fdca26\"], [1.0, \"#f0f921\"]], \"type\": \"heatmap\"}], \"heatmapgl\": [{\"colorbar\": {\"outlinewidth\": 0, \"ticks\": \"\"}, \"colorscale\": [[0.0, \"#0d0887\"], [0.1111111111111111, \"#46039f\"], [0.2222222222222222, \"#7201a8\"], [0.3333333333333333, \"#9c179e\"], [0.4444444444444444, \"#bd3786\"], [0.5555555555555556, \"#d8576b\"], [0.6666666666666666, \"#ed7953\"], [0.7777777777777778, \"#fb9f3a\"], [0.8888888888888888, \"#fdca26\"], [1.0, \"#f0f921\"]], \"type\": \"heatmapgl\"}], \"histogram\": [{\"marker\": {\"colorbar\": {\"outlinewidth\": 0, \"ticks\": \"\"}}, \"type\": \"histogram\"}], \"histogram2d\": [{\"colorbar\": {\"outlinewidth\": 0, \"ticks\": \"\"}, \"colorscale\": [[0.0, \"#0d0887\"], [0.1111111111111111, \"#46039f\"], [0.2222222222222222, \"#7201a8\"], [0.3333333333333333, \"#9c179e\"], [0.4444444444444444, \"#bd3786\"], [0.5555555555555556, \"#d8576b\"], [0.6666666666666666, \"#ed7953\"], [0.7777777777777778, \"#fb9f3a\"], [0.8888888888888888, \"#fdca26\"], [1.0, \"#f0f921\"]], \"type\": \"histogram2d\"}], \"histogram2dcontour\": [{\"colorbar\": {\"outlinewidth\": 0, \"ticks\": \"\"}, \"colorscale\": [[0.0, \"#0d0887\"], [0.1111111111111111, \"#46039f\"], [0.2222222222222222, \"#7201a8\"], [0.3333333333333333, \"#9c179e\"], [0.4444444444444444, \"#bd3786\"], [0.5555555555555556, \"#d8576b\"], [0.6666666666666666, \"#ed7953\"], [0.7777777777777778, \"#fb9f3a\"], [0.8888888888888888, \"#fdca26\"], [1.0, \"#f0f921\"]], \"type\": \"histogram2dcontour\"}], \"mesh3d\": [{\"colorbar\": {\"outlinewidth\": 0, \"ticks\": \"\"}, \"type\": \"mesh3d\"}], \"parcoords\": [{\"line\": {\"colorbar\": {\"outlinewidth\": 0, \"ticks\": \"\"}}, \"type\": \"parcoords\"}], \"pie\": [{\"automargin\": true, \"type\": \"pie\"}], \"scatter\": [{\"marker\": {\"colorbar\": {\"outlinewidth\": 0, \"ticks\": \"\"}}, \"type\": \"scatter\"}], \"scatter3d\": [{\"line\": {\"colorbar\": {\"outlinewidth\": 0, \"ticks\": \"\"}}, \"marker\": {\"colorbar\": {\"outlinewidth\": 0, \"ticks\": \"\"}}, \"type\": \"scatter3d\"}], \"scattercarpet\": [{\"marker\": {\"colorbar\": {\"outlinewidth\": 0, \"ticks\": \"\"}}, \"type\": \"scattercarpet\"}], \"scattergeo\": [{\"marker\": {\"colorbar\": {\"outlinewidth\": 0, \"ticks\": \"\"}}, \"type\": \"scattergeo\"}], \"scattergl\": [{\"marker\": {\"colorbar\": {\"outlinewidth\": 0, \"ticks\": \"\"}}, \"type\": \"scattergl\"}], \"scattermapbox\": [{\"marker\": {\"colorbar\": {\"outlinewidth\": 0, \"ticks\": \"\"}}, \"type\": \"scattermapbox\"}], \"scatterpolar\": [{\"marker\": {\"colorbar\": {\"outlinewidth\": 0, \"ticks\": \"\"}}, \"type\": \"scatterpolar\"}], \"scatterpolargl\": [{\"marker\": {\"colorbar\": {\"outlinewidth\": 0, \"ticks\": \"\"}}, \"type\": \"scatterpolargl\"}], \"scatterternary\": [{\"marker\": {\"colorbar\": {\"outlinewidth\": 0, \"ticks\": \"\"}}, \"type\": \"scatterternary\"}], \"surface\": [{\"colorbar\": {\"outlinewidth\": 0, \"ticks\": \"\"}, \"colorscale\": [[0.0, \"#0d0887\"], [0.1111111111111111, \"#46039f\"], [0.2222222222222222, \"#7201a8\"], [0.3333333333333333, \"#9c179e\"], [0.4444444444444444, \"#bd3786\"], [0.5555555555555556, \"#d8576b\"], [0.6666666666666666, \"#ed7953\"], [0.7777777777777778, \"#fb9f3a\"], [0.8888888888888888, \"#fdca26\"], [1.0, \"#f0f921\"]], \"type\": \"surface\"}], \"table\": [{\"cells\": {\"fill\": {\"color\": \"#EBF0F8\"}, \"line\": {\"color\": \"white\"}}, \"header\": {\"fill\": {\"color\": \"#C8D4E3\"}, \"line\": {\"color\": \"white\"}}, \"type\": \"table\"}]}, \"layout\": {\"annotationdefaults\": {\"arrowcolor\": \"#2a3f5f\", \"arrowhead\": 0, \"arrowwidth\": 1}, \"coloraxis\": {\"colorbar\": {\"outlinewidth\": 0, \"ticks\": \"\"}}, \"colorscale\": {\"diverging\": [[0, \"#8e0152\"], [0.1, \"#c51b7d\"], [0.2, \"#de77ae\"], [0.3, \"#f1b6da\"], [0.4, \"#fde0ef\"], [0.5, \"#f7f7f7\"], [0.6, \"#e6f5d0\"], [0.7, \"#b8e186\"], [0.8, \"#7fbc41\"], [0.9, \"#4d9221\"], [1, \"#276419\"]], \"sequential\": [[0.0, \"#0d0887\"], [0.1111111111111111, \"#46039f\"], [0.2222222222222222, \"#7201a8\"], [0.3333333333333333, \"#9c179e\"], [0.4444444444444444, \"#bd3786\"], [0.5555555555555556, \"#d8576b\"], [0.6666666666666666, \"#ed7953\"], [0.7777777777777778, \"#fb9f3a\"], [0.8888888888888888, \"#fdca26\"], [1.0, \"#f0f921\"]], \"sequentialminus\": [[0.0, \"#0d0887\"], [0.1111111111111111, \"#46039f\"], [0.2222222222222222, \"#7201a8\"], [0.3333333333333333, \"#9c179e\"], [0.4444444444444444, \"#bd3786\"], [0.5555555555555556, \"#d8576b\"], [0.6666666666666666, \"#ed7953\"], [0.7777777777777778, \"#fb9f3a\"], [0.8888888888888888, \"#fdca26\"], [1.0, \"#f0f921\"]]}, \"colorway\": [\"#636efa\", \"#EF553B\", \"#00cc96\", \"#ab63fa\", \"#FFA15A\", \"#19d3f3\", \"#FF6692\", \"#B6E880\", \"#FF97FF\", \"#FECB52\"], \"font\": {\"color\": \"#2a3f5f\"}, \"geo\": {\"bgcolor\": \"white\", \"lakecolor\": \"white\", \"landcolor\": \"#E5ECF6\", \"showlakes\": true, \"showland\": true, \"subunitcolor\": \"white\"}, \"hoverlabel\": {\"align\": \"left\"}, \"hovermode\": \"closest\", \"mapbox\": {\"style\": \"light\"}, \"paper_bgcolor\": \"white\", \"plot_bgcolor\": \"#E5ECF6\", \"polar\": {\"angularaxis\": {\"gridcolor\": \"white\", \"linecolor\": \"white\", \"ticks\": \"\"}, \"bgcolor\": \"#E5ECF6\", \"radialaxis\": {\"gridcolor\": \"white\", \"linecolor\": \"white\", \"ticks\": \"\"}}, \"scene\": {\"xaxis\": {\"backgroundcolor\": \"#E5ECF6\", \"gridcolor\": \"white\", \"gridwidth\": 2, \"linecolor\": \"white\", \"showbackground\": true, \"ticks\": \"\", \"zerolinecolor\": \"white\"}, \"yaxis\": {\"backgroundcolor\": \"#E5ECF6\", \"gridcolor\": \"white\", \"gridwidth\": 2, \"linecolor\": \"white\", \"showbackground\": true, \"ticks\": \"\", \"zerolinecolor\": \"white\"}, \"zaxis\": {\"backgroundcolor\": \"#E5ECF6\", \"gridcolor\": \"white\", \"gridwidth\": 2, \"linecolor\": \"white\", \"showbackground\": true, \"ticks\": \"\", \"zerolinecolor\": \"white\"}}, \"shapedefaults\": {\"line\": {\"color\": \"#2a3f5f\"}}, \"ternary\": {\"aaxis\": {\"gridcolor\": \"white\", \"linecolor\": \"white\", \"ticks\": \"\"}, \"baxis\": {\"gridcolor\": \"white\", \"linecolor\": \"white\", \"ticks\": \"\"}, \"bgcolor\": \"#E5ECF6\", \"caxis\": {\"gridcolor\": \"white\", \"linecolor\": \"white\", \"ticks\": \"\"}}, \"title\": {\"x\": 0.05}, \"xaxis\": {\"automargin\": true, \"gridcolor\": \"white\", \"linecolor\": \"white\", \"ticks\": \"\", \"title\": {\"standoff\": 15}, \"zerolinecolor\": \"white\", \"zerolinewidth\": 2}, \"yaxis\": {\"automargin\": true, \"gridcolor\": \"white\", \"linecolor\": \"white\", \"ticks\": \"\", \"title\": {\"standoff\": 15}, \"zerolinecolor\": \"white\", \"zerolinewidth\": 2}}}, \"xaxis\": {\"anchor\": \"y\", \"domain\": [0.0, 1.0], \"title\": {\"text\": \"x\"}}, \"yaxis\": {\"anchor\": \"x\", \"domain\": [0.0, 1.0], \"title\": {\"text\": \"y\"}}},\n",
              "                        {\"responsive\": true}\n",
              "                    ).then(function(){\n",
              "                            \n",
              "var gd = document.getElementById('facb63fb-0ac4-422f-9f89-75c063f505ef');\n",
              "var x = new MutationObserver(function (mutations, observer) {{\n",
              "        var display = window.getComputedStyle(gd).display;\n",
              "        if (!display || display === 'none') {{\n",
              "            console.log([gd, 'removed!']);\n",
              "            Plotly.purge(gd);\n",
              "            observer.disconnect();\n",
              "        }}\n",
              "}});\n",
              "\n",
              "// Listen for the removal of the full notebook cells\n",
              "var notebookContainer = gd.closest('#notebook-container');\n",
              "if (notebookContainer) {{\n",
              "    x.observe(notebookContainer, {childList: true});\n",
              "}}\n",
              "\n",
              "// Listen for the clearing of the current output cell\n",
              "var outputEl = gd.closest('.output');\n",
              "if (outputEl) {{\n",
              "    x.observe(outputEl, {childList: true});\n",
              "}}\n",
              "\n",
              "                        })\n",
              "                };\n",
              "                \n",
              "            </script>\n",
              "        </div>\n",
              "</body>\n",
              "</html>"
            ]
          },
          "metadata": {}
        }
      ]
    },
    {
      "cell_type": "markdown",
      "metadata": {
        "id": "0tTurR7qdiU9"
      },
      "source": [
        "### Vertical Bar Chart - Highest Competition (Number of Apps)"
      ]
    },
    {
      "cell_type": "code",
      "metadata": {
        "id": "SFSMH00AoaMB",
        "colab": {
          "base_uri": "https://localhost:8080/",
          "height": 542
        },
        "outputId": "4b64c1ea-cfef-4a63-e4a4-780161634a53"
      },
      "source": [
        "category_installs = df_apps_clean.groupby('Category').agg({'Installs': pd.Series.sum})\n",
        "category_installs.sort_values('Installs', ascending=True, inplace=True)\n",
        "h_bar = px.bar(x = category_installs.Installs, \n",
        "               y = category_installs.index, orientation='h')\n",
        "\n",
        "h_bar.show()"
      ],
      "execution_count": 49,
      "outputs": [
        {
          "output_type": "display_data",
          "data": {
            "text/html": [
              "<html>\n",
              "<head><meta charset=\"utf-8\" /></head>\n",
              "<body>\n",
              "    <div>\n",
              "            <script src=\"https://cdnjs.cloudflare.com/ajax/libs/mathjax/2.7.5/MathJax.js?config=TeX-AMS-MML_SVG\"></script><script type=\"text/javascript\">if (window.MathJax) {MathJax.Hub.Config({SVG: {font: \"STIX-Web\"}});}</script>\n",
              "                <script type=\"text/javascript\">window.PlotlyConfig = {MathJaxConfig: 'local'};</script>\n",
              "        <script src=\"https://cdn.plot.ly/plotly-latest.min.js\"></script>    \n",
              "            <div id=\"07b1f917-37cf-420a-bf22-84bd967aa596\" class=\"plotly-graph-div\" style=\"height:525px; width:100%;\"></div>\n",
              "            <script type=\"text/javascript\">\n",
              "                \n",
              "                    window.PLOTLYENV=window.PLOTLYENV || {};\n",
              "                    \n",
              "                if (document.getElementById(\"07b1f917-37cf-420a-bf22-84bd967aa596\")) {\n",
              "                    Plotly.newPlot(\n",
              "                        '07b1f917-37cf-420a-bf22-84bd967aa596',\n",
              "                        [{\"alignmentgroup\": \"True\", \"hoverlabel\": {\"namelength\": 0}, \"hovertemplate\": \"x=%{x}<br>y=%{y}\", \"legendgroup\": \"\", \"marker\": {\"color\": \"#636efa\"}, \"name\": \"\", \"offsetgroup\": \"\", \"orientation\": \"h\", \"showlegend\": false, \"textposition\": \"auto\", \"type\": \"bar\", \"x\": [15949410, 26916200, 31116110, 39162676, 44931100, 52083000, 53129800, 97082000, 114233100, 140912410, 211677750, 352852000, 361096500, 455249400, 503267560, 503611120, 692018120, 1096431465, 1134006220, 1400331540, 1532352930, 1665791655, 2113660000, 2369110650, 2894859300, 3916897200, 4437554490, 4649143130, 5487841475, 5788070180, 8099724500, 11039241530, 13858762717], \"xaxis\": \"x\", \"y\": [\"EVENTS\", \"BEAUTY\", \"PARENTING\", \"MEDICAL\", \"COMICS\", \"LIBRARIES_AND_DEMO\", \"AUTO_AND_VEHICLES\", \"HOUSE_AND_HOME\", \"ART_AND_DESIGN\", \"DATING\", \"FOOD_AND_DRINK\", \"EDUCATION\", \"WEATHER\", \"FINANCE\", \"MAPS_AND_NAVIGATION\", \"LIFESTYLE\", \"BUSINESS\", \"SPORTS\", \"HEALTH_AND_FITNESS\", \"SHOPPING\", \"PERSONALIZATION\", \"BOOKS_AND_REFERENCE\", \"ENTERTAINMENT\", \"NEWS_AND_MAGAZINES\", \"TRAVEL_AND_LOCAL\", \"VIDEO_PLAYERS\", \"FAMILY\", \"PHOTOGRAPHY\", \"SOCIAL\", \"PRODUCTIVITY\", \"TOOLS\", \"COMMUNICATION\", \"GAME\"], \"yaxis\": \"y\"}],\n",
              "                        {\"barmode\": \"relative\", \"legend\": {\"tracegroupgap\": 0}, \"margin\": {\"t\": 60}, \"template\": {\"data\": {\"bar\": [{\"error_x\": {\"color\": \"#2a3f5f\"}, \"error_y\": {\"color\": \"#2a3f5f\"}, \"marker\": {\"line\": {\"color\": \"#E5ECF6\", \"width\": 0.5}}, \"type\": \"bar\"}], \"barpolar\": [{\"marker\": {\"line\": {\"color\": \"#E5ECF6\", \"width\": 0.5}}, \"type\": \"barpolar\"}], \"carpet\": [{\"aaxis\": {\"endlinecolor\": \"#2a3f5f\", \"gridcolor\": \"white\", \"linecolor\": \"white\", \"minorgridcolor\": \"white\", \"startlinecolor\": \"#2a3f5f\"}, \"baxis\": {\"endlinecolor\": \"#2a3f5f\", \"gridcolor\": \"white\", \"linecolor\": \"white\", \"minorgridcolor\": \"white\", \"startlinecolor\": \"#2a3f5f\"}, \"type\": \"carpet\"}], \"choropleth\": [{\"colorbar\": {\"outlinewidth\": 0, \"ticks\": \"\"}, \"type\": \"choropleth\"}], \"contour\": [{\"colorbar\": {\"outlinewidth\": 0, \"ticks\": \"\"}, \"colorscale\": [[0.0, \"#0d0887\"], [0.1111111111111111, \"#46039f\"], [0.2222222222222222, \"#7201a8\"], [0.3333333333333333, \"#9c179e\"], [0.4444444444444444, \"#bd3786\"], [0.5555555555555556, \"#d8576b\"], [0.6666666666666666, \"#ed7953\"], [0.7777777777777778, \"#fb9f3a\"], [0.8888888888888888, \"#fdca26\"], [1.0, \"#f0f921\"]], \"type\": \"contour\"}], \"contourcarpet\": [{\"colorbar\": {\"outlinewidth\": 0, \"ticks\": \"\"}, \"type\": \"contourcarpet\"}], \"heatmap\": [{\"colorbar\": {\"outlinewidth\": 0, \"ticks\": \"\"}, \"colorscale\": [[0.0, \"#0d0887\"], [0.1111111111111111, \"#46039f\"], [0.2222222222222222, \"#7201a8\"], [0.3333333333333333, \"#9c179e\"], [0.4444444444444444, \"#bd3786\"], [0.5555555555555556, \"#d8576b\"], [0.6666666666666666, \"#ed7953\"], [0.7777777777777778, \"#fb9f3a\"], [0.8888888888888888, \"#fdca26\"], [1.0, \"#f0f921\"]], \"type\": \"heatmap\"}], \"heatmapgl\": [{\"colorbar\": {\"outlinewidth\": 0, \"ticks\": \"\"}, \"colorscale\": [[0.0, \"#0d0887\"], [0.1111111111111111, \"#46039f\"], [0.2222222222222222, \"#7201a8\"], [0.3333333333333333, \"#9c179e\"], [0.4444444444444444, \"#bd3786\"], [0.5555555555555556, \"#d8576b\"], [0.6666666666666666, \"#ed7953\"], [0.7777777777777778, \"#fb9f3a\"], [0.8888888888888888, \"#fdca26\"], [1.0, \"#f0f921\"]], \"type\": \"heatmapgl\"}], \"histogram\": [{\"marker\": {\"colorbar\": {\"outlinewidth\": 0, \"ticks\": \"\"}}, \"type\": \"histogram\"}], \"histogram2d\": [{\"colorbar\": {\"outlinewidth\": 0, \"ticks\": \"\"}, \"colorscale\": [[0.0, \"#0d0887\"], [0.1111111111111111, \"#46039f\"], [0.2222222222222222, \"#7201a8\"], [0.3333333333333333, \"#9c179e\"], [0.4444444444444444, \"#bd3786\"], [0.5555555555555556, \"#d8576b\"], [0.6666666666666666, \"#ed7953\"], [0.7777777777777778, \"#fb9f3a\"], [0.8888888888888888, \"#fdca26\"], [1.0, \"#f0f921\"]], \"type\": \"histogram2d\"}], \"histogram2dcontour\": [{\"colorbar\": {\"outlinewidth\": 0, \"ticks\": \"\"}, \"colorscale\": [[0.0, \"#0d0887\"], [0.1111111111111111, \"#46039f\"], [0.2222222222222222, \"#7201a8\"], [0.3333333333333333, \"#9c179e\"], [0.4444444444444444, \"#bd3786\"], [0.5555555555555556, \"#d8576b\"], [0.6666666666666666, \"#ed7953\"], [0.7777777777777778, \"#fb9f3a\"], [0.8888888888888888, \"#fdca26\"], [1.0, \"#f0f921\"]], \"type\": \"histogram2dcontour\"}], \"mesh3d\": [{\"colorbar\": {\"outlinewidth\": 0, \"ticks\": \"\"}, \"type\": \"mesh3d\"}], \"parcoords\": [{\"line\": {\"colorbar\": {\"outlinewidth\": 0, \"ticks\": \"\"}}, \"type\": \"parcoords\"}], \"pie\": [{\"automargin\": true, \"type\": \"pie\"}], \"scatter\": [{\"marker\": {\"colorbar\": {\"outlinewidth\": 0, \"ticks\": \"\"}}, \"type\": \"scatter\"}], \"scatter3d\": [{\"line\": {\"colorbar\": {\"outlinewidth\": 0, \"ticks\": \"\"}}, \"marker\": {\"colorbar\": {\"outlinewidth\": 0, \"ticks\": \"\"}}, \"type\": \"scatter3d\"}], \"scattercarpet\": [{\"marker\": {\"colorbar\": {\"outlinewidth\": 0, \"ticks\": \"\"}}, \"type\": \"scattercarpet\"}], \"scattergeo\": [{\"marker\": {\"colorbar\": {\"outlinewidth\": 0, \"ticks\": \"\"}}, \"type\": \"scattergeo\"}], \"scattergl\": [{\"marker\": {\"colorbar\": {\"outlinewidth\": 0, \"ticks\": \"\"}}, \"type\": \"scattergl\"}], \"scattermapbox\": [{\"marker\": {\"colorbar\": {\"outlinewidth\": 0, \"ticks\": \"\"}}, \"type\": \"scattermapbox\"}], \"scatterpolar\": [{\"marker\": {\"colorbar\": {\"outlinewidth\": 0, \"ticks\": \"\"}}, \"type\": \"scatterpolar\"}], \"scatterpolargl\": [{\"marker\": {\"colorbar\": {\"outlinewidth\": 0, \"ticks\": \"\"}}, \"type\": \"scatterpolargl\"}], \"scatterternary\": [{\"marker\": {\"colorbar\": {\"outlinewidth\": 0, \"ticks\": \"\"}}, \"type\": \"scatterternary\"}], \"surface\": [{\"colorbar\": {\"outlinewidth\": 0, \"ticks\": \"\"}, \"colorscale\": [[0.0, \"#0d0887\"], [0.1111111111111111, \"#46039f\"], [0.2222222222222222, \"#7201a8\"], [0.3333333333333333, \"#9c179e\"], [0.4444444444444444, \"#bd3786\"], [0.5555555555555556, \"#d8576b\"], [0.6666666666666666, \"#ed7953\"], [0.7777777777777778, \"#fb9f3a\"], [0.8888888888888888, \"#fdca26\"], [1.0, \"#f0f921\"]], \"type\": \"surface\"}], \"table\": [{\"cells\": {\"fill\": {\"color\": \"#EBF0F8\"}, \"line\": {\"color\": \"white\"}}, \"header\": {\"fill\": {\"color\": \"#C8D4E3\"}, \"line\": {\"color\": \"white\"}}, \"type\": \"table\"}]}, \"layout\": {\"annotationdefaults\": {\"arrowcolor\": \"#2a3f5f\", \"arrowhead\": 0, \"arrowwidth\": 1}, \"coloraxis\": {\"colorbar\": {\"outlinewidth\": 0, \"ticks\": \"\"}}, \"colorscale\": {\"diverging\": [[0, \"#8e0152\"], [0.1, \"#c51b7d\"], [0.2, \"#de77ae\"], [0.3, \"#f1b6da\"], [0.4, \"#fde0ef\"], [0.5, \"#f7f7f7\"], [0.6, \"#e6f5d0\"], [0.7, \"#b8e186\"], [0.8, \"#7fbc41\"], [0.9, \"#4d9221\"], [1, \"#276419\"]], \"sequential\": [[0.0, \"#0d0887\"], [0.1111111111111111, \"#46039f\"], [0.2222222222222222, \"#7201a8\"], [0.3333333333333333, \"#9c179e\"], [0.4444444444444444, \"#bd3786\"], [0.5555555555555556, \"#d8576b\"], [0.6666666666666666, \"#ed7953\"], [0.7777777777777778, \"#fb9f3a\"], [0.8888888888888888, \"#fdca26\"], [1.0, \"#f0f921\"]], \"sequentialminus\": [[0.0, \"#0d0887\"], [0.1111111111111111, \"#46039f\"], [0.2222222222222222, \"#7201a8\"], [0.3333333333333333, \"#9c179e\"], [0.4444444444444444, \"#bd3786\"], [0.5555555555555556, \"#d8576b\"], [0.6666666666666666, \"#ed7953\"], [0.7777777777777778, \"#fb9f3a\"], [0.8888888888888888, \"#fdca26\"], [1.0, \"#f0f921\"]]}, \"colorway\": [\"#636efa\", \"#EF553B\", \"#00cc96\", \"#ab63fa\", \"#FFA15A\", \"#19d3f3\", \"#FF6692\", \"#B6E880\", \"#FF97FF\", \"#FECB52\"], \"font\": {\"color\": \"#2a3f5f\"}, \"geo\": {\"bgcolor\": \"white\", \"lakecolor\": \"white\", \"landcolor\": \"#E5ECF6\", \"showlakes\": true, \"showland\": true, \"subunitcolor\": \"white\"}, \"hoverlabel\": {\"align\": \"left\"}, \"hovermode\": \"closest\", \"mapbox\": {\"style\": \"light\"}, \"paper_bgcolor\": \"white\", \"plot_bgcolor\": \"#E5ECF6\", \"polar\": {\"angularaxis\": {\"gridcolor\": \"white\", \"linecolor\": \"white\", \"ticks\": \"\"}, \"bgcolor\": \"#E5ECF6\", \"radialaxis\": {\"gridcolor\": \"white\", \"linecolor\": \"white\", \"ticks\": \"\"}}, \"scene\": {\"xaxis\": {\"backgroundcolor\": \"#E5ECF6\", \"gridcolor\": \"white\", \"gridwidth\": 2, \"linecolor\": \"white\", \"showbackground\": true, \"ticks\": \"\", \"zerolinecolor\": \"white\"}, \"yaxis\": {\"backgroundcolor\": \"#E5ECF6\", \"gridcolor\": \"white\", \"gridwidth\": 2, \"linecolor\": \"white\", \"showbackground\": true, \"ticks\": \"\", \"zerolinecolor\": \"white\"}, \"zaxis\": {\"backgroundcolor\": \"#E5ECF6\", \"gridcolor\": \"white\", \"gridwidth\": 2, \"linecolor\": \"white\", \"showbackground\": true, \"ticks\": \"\", \"zerolinecolor\": \"white\"}}, \"shapedefaults\": {\"line\": {\"color\": \"#2a3f5f\"}}, \"ternary\": {\"aaxis\": {\"gridcolor\": \"white\", \"linecolor\": \"white\", \"ticks\": \"\"}, \"baxis\": {\"gridcolor\": \"white\", \"linecolor\": \"white\", \"ticks\": \"\"}, \"bgcolor\": \"#E5ECF6\", \"caxis\": {\"gridcolor\": \"white\", \"linecolor\": \"white\", \"ticks\": \"\"}}, \"title\": {\"x\": 0.05}, \"xaxis\": {\"automargin\": true, \"gridcolor\": \"white\", \"linecolor\": \"white\", \"ticks\": \"\", \"title\": {\"standoff\": 15}, \"zerolinecolor\": \"white\", \"zerolinewidth\": 2}, \"yaxis\": {\"automargin\": true, \"gridcolor\": \"white\", \"linecolor\": \"white\", \"ticks\": \"\", \"title\": {\"standoff\": 15}, \"zerolinecolor\": \"white\", \"zerolinewidth\": 2}}}, \"xaxis\": {\"anchor\": \"y\", \"domain\": [0.0, 1.0], \"title\": {\"text\": \"x\"}}, \"yaxis\": {\"anchor\": \"x\", \"domain\": [0.0, 1.0], \"title\": {\"text\": \"y\"}}},\n",
              "                        {\"responsive\": true}\n",
              "                    ).then(function(){\n",
              "                            \n",
              "var gd = document.getElementById('07b1f917-37cf-420a-bf22-84bd967aa596');\n",
              "var x = new MutationObserver(function (mutations, observer) {{\n",
              "        var display = window.getComputedStyle(gd).display;\n",
              "        if (!display || display === 'none') {{\n",
              "            console.log([gd, 'removed!']);\n",
              "            Plotly.purge(gd);\n",
              "            observer.disconnect();\n",
              "        }}\n",
              "}});\n",
              "\n",
              "// Listen for the removal of the full notebook cells\n",
              "var notebookContainer = gd.closest('#notebook-container');\n",
              "if (notebookContainer) {{\n",
              "    x.observe(notebookContainer, {childList: true});\n",
              "}}\n",
              "\n",
              "// Listen for the clearing of the current output cell\n",
              "var outputEl = gd.closest('.output');\n",
              "if (outputEl) {{\n",
              "    x.observe(outputEl, {childList: true});\n",
              "}}\n",
              "\n",
              "                        })\n",
              "                };\n",
              "                \n",
              "            </script>\n",
              "        </div>\n",
              "</body>\n",
              "</html>"
            ]
          },
          "metadata": {}
        }
      ]
    },
    {
      "cell_type": "markdown",
      "metadata": {
        "id": "57mowetLdiU_"
      },
      "source": [
        "### Horizontal Bar Chart - Most Popular Categories (Highest Downloads)"
      ]
    },
    {
      "cell_type": "code",
      "metadata": {
        "id": "zHO7eTJmocLm",
        "colab": {
          "base_uri": "https://localhost:8080/",
          "height": 542
        },
        "outputId": "0ed22a7e-9eda-409f-8d61-a721cc14412b"
      },
      "source": [
        "h_bar = px.bar(x = category_installs.Installs,\n",
        "                y = category_installs.index,\n",
        "                orientation='h',\n",
        "                title='Category Popularity')\n",
        "  \n",
        "h_bar.update_layout(xaxis_title='Number of Downloads', yaxis_title='Category')\n",
        "h_bar.show()"
      ],
      "execution_count": 51,
      "outputs": [
        {
          "output_type": "display_data",
          "data": {
            "text/html": [
              "<html>\n",
              "<head><meta charset=\"utf-8\" /></head>\n",
              "<body>\n",
              "    <div>\n",
              "            <script src=\"https://cdnjs.cloudflare.com/ajax/libs/mathjax/2.7.5/MathJax.js?config=TeX-AMS-MML_SVG\"></script><script type=\"text/javascript\">if (window.MathJax) {MathJax.Hub.Config({SVG: {font: \"STIX-Web\"}});}</script>\n",
              "                <script type=\"text/javascript\">window.PlotlyConfig = {MathJaxConfig: 'local'};</script>\n",
              "        <script src=\"https://cdn.plot.ly/plotly-latest.min.js\"></script>    \n",
              "            <div id=\"5524bc2f-f8d4-4cb2-91a1-ce635afbb66e\" class=\"plotly-graph-div\" style=\"height:525px; width:100%;\"></div>\n",
              "            <script type=\"text/javascript\">\n",
              "                \n",
              "                    window.PLOTLYENV=window.PLOTLYENV || {};\n",
              "                    \n",
              "                if (document.getElementById(\"5524bc2f-f8d4-4cb2-91a1-ce635afbb66e\")) {\n",
              "                    Plotly.newPlot(\n",
              "                        '5524bc2f-f8d4-4cb2-91a1-ce635afbb66e',\n",
              "                        [{\"alignmentgroup\": \"True\", \"hoverlabel\": {\"namelength\": 0}, \"hovertemplate\": \"x=%{x}<br>y=%{y}\", \"legendgroup\": \"\", \"marker\": {\"color\": \"#636efa\"}, \"name\": \"\", \"offsetgroup\": \"\", \"orientation\": \"h\", \"showlegend\": false, \"textposition\": \"auto\", \"type\": \"bar\", \"x\": [15949410, 26916200, 31116110, 39162676, 44931100, 52083000, 53129800, 97082000, 114233100, 140912410, 211677750, 352852000, 361096500, 455249400, 503267560, 503611120, 692018120, 1096431465, 1134006220, 1400331540, 1532352930, 1665791655, 2113660000, 2369110650, 2894859300, 3916897200, 4437554490, 4649143130, 5487841475, 5788070180, 8099724500, 11039241530, 13858762717], \"xaxis\": \"x\", \"y\": [\"EVENTS\", \"BEAUTY\", \"PARENTING\", \"MEDICAL\", \"COMICS\", \"LIBRARIES_AND_DEMO\", \"AUTO_AND_VEHICLES\", \"HOUSE_AND_HOME\", \"ART_AND_DESIGN\", \"DATING\", \"FOOD_AND_DRINK\", \"EDUCATION\", \"WEATHER\", \"FINANCE\", \"MAPS_AND_NAVIGATION\", \"LIFESTYLE\", \"BUSINESS\", \"SPORTS\", \"HEALTH_AND_FITNESS\", \"SHOPPING\", \"PERSONALIZATION\", \"BOOKS_AND_REFERENCE\", \"ENTERTAINMENT\", \"NEWS_AND_MAGAZINES\", \"TRAVEL_AND_LOCAL\", \"VIDEO_PLAYERS\", \"FAMILY\", \"PHOTOGRAPHY\", \"SOCIAL\", \"PRODUCTIVITY\", \"TOOLS\", \"COMMUNICATION\", \"GAME\"], \"yaxis\": \"y\"}],\n",
              "                        {\"barmode\": \"relative\", \"legend\": {\"tracegroupgap\": 0}, \"template\": {\"data\": {\"bar\": [{\"error_x\": {\"color\": \"#2a3f5f\"}, \"error_y\": {\"color\": \"#2a3f5f\"}, \"marker\": {\"line\": {\"color\": \"#E5ECF6\", \"width\": 0.5}}, \"type\": \"bar\"}], \"barpolar\": [{\"marker\": {\"line\": {\"color\": \"#E5ECF6\", \"width\": 0.5}}, \"type\": \"barpolar\"}], \"carpet\": [{\"aaxis\": {\"endlinecolor\": \"#2a3f5f\", \"gridcolor\": \"white\", \"linecolor\": \"white\", \"minorgridcolor\": \"white\", \"startlinecolor\": \"#2a3f5f\"}, \"baxis\": {\"endlinecolor\": \"#2a3f5f\", \"gridcolor\": \"white\", \"linecolor\": \"white\", \"minorgridcolor\": \"white\", \"startlinecolor\": \"#2a3f5f\"}, \"type\": \"carpet\"}], \"choropleth\": [{\"colorbar\": {\"outlinewidth\": 0, \"ticks\": \"\"}, \"type\": \"choropleth\"}], \"contour\": [{\"colorbar\": {\"outlinewidth\": 0, \"ticks\": \"\"}, \"colorscale\": [[0.0, \"#0d0887\"], [0.1111111111111111, \"#46039f\"], [0.2222222222222222, \"#7201a8\"], [0.3333333333333333, \"#9c179e\"], [0.4444444444444444, \"#bd3786\"], [0.5555555555555556, \"#d8576b\"], [0.6666666666666666, \"#ed7953\"], [0.7777777777777778, \"#fb9f3a\"], [0.8888888888888888, \"#fdca26\"], [1.0, \"#f0f921\"]], \"type\": \"contour\"}], \"contourcarpet\": [{\"colorbar\": {\"outlinewidth\": 0, \"ticks\": \"\"}, \"type\": \"contourcarpet\"}], \"heatmap\": [{\"colorbar\": {\"outlinewidth\": 0, \"ticks\": \"\"}, \"colorscale\": [[0.0, \"#0d0887\"], [0.1111111111111111, \"#46039f\"], [0.2222222222222222, \"#7201a8\"], [0.3333333333333333, \"#9c179e\"], [0.4444444444444444, \"#bd3786\"], [0.5555555555555556, \"#d8576b\"], [0.6666666666666666, \"#ed7953\"], [0.7777777777777778, \"#fb9f3a\"], [0.8888888888888888, \"#fdca26\"], [1.0, \"#f0f921\"]], \"type\": \"heatmap\"}], \"heatmapgl\": [{\"colorbar\": {\"outlinewidth\": 0, \"ticks\": \"\"}, \"colorscale\": [[0.0, \"#0d0887\"], [0.1111111111111111, \"#46039f\"], [0.2222222222222222, \"#7201a8\"], [0.3333333333333333, \"#9c179e\"], [0.4444444444444444, \"#bd3786\"], [0.5555555555555556, \"#d8576b\"], [0.6666666666666666, \"#ed7953\"], [0.7777777777777778, \"#fb9f3a\"], [0.8888888888888888, \"#fdca26\"], [1.0, \"#f0f921\"]], \"type\": \"heatmapgl\"}], \"histogram\": [{\"marker\": {\"colorbar\": {\"outlinewidth\": 0, \"ticks\": \"\"}}, \"type\": \"histogram\"}], \"histogram2d\": [{\"colorbar\": {\"outlinewidth\": 0, \"ticks\": \"\"}, \"colorscale\": [[0.0, \"#0d0887\"], [0.1111111111111111, \"#46039f\"], [0.2222222222222222, \"#7201a8\"], [0.3333333333333333, \"#9c179e\"], [0.4444444444444444, \"#bd3786\"], [0.5555555555555556, \"#d8576b\"], [0.6666666666666666, \"#ed7953\"], [0.7777777777777778, \"#fb9f3a\"], [0.8888888888888888, \"#fdca26\"], [1.0, \"#f0f921\"]], \"type\": \"histogram2d\"}], \"histogram2dcontour\": [{\"colorbar\": {\"outlinewidth\": 0, \"ticks\": \"\"}, \"colorscale\": [[0.0, \"#0d0887\"], [0.1111111111111111, \"#46039f\"], [0.2222222222222222, \"#7201a8\"], [0.3333333333333333, \"#9c179e\"], [0.4444444444444444, \"#bd3786\"], [0.5555555555555556, \"#d8576b\"], [0.6666666666666666, \"#ed7953\"], [0.7777777777777778, \"#fb9f3a\"], [0.8888888888888888, \"#fdca26\"], [1.0, \"#f0f921\"]], \"type\": \"histogram2dcontour\"}], \"mesh3d\": [{\"colorbar\": {\"outlinewidth\": 0, \"ticks\": \"\"}, \"type\": \"mesh3d\"}], \"parcoords\": [{\"line\": {\"colorbar\": {\"outlinewidth\": 0, \"ticks\": \"\"}}, \"type\": \"parcoords\"}], \"pie\": [{\"automargin\": true, \"type\": \"pie\"}], \"scatter\": [{\"marker\": {\"colorbar\": {\"outlinewidth\": 0, \"ticks\": \"\"}}, \"type\": \"scatter\"}], \"scatter3d\": [{\"line\": {\"colorbar\": {\"outlinewidth\": 0, \"ticks\": \"\"}}, \"marker\": {\"colorbar\": {\"outlinewidth\": 0, \"ticks\": \"\"}}, \"type\": \"scatter3d\"}], \"scattercarpet\": [{\"marker\": {\"colorbar\": {\"outlinewidth\": 0, \"ticks\": \"\"}}, \"type\": \"scattercarpet\"}], \"scattergeo\": [{\"marker\": {\"colorbar\": {\"outlinewidth\": 0, \"ticks\": \"\"}}, \"type\": \"scattergeo\"}], \"scattergl\": [{\"marker\": {\"colorbar\": {\"outlinewidth\": 0, \"ticks\": \"\"}}, \"type\": \"scattergl\"}], \"scattermapbox\": [{\"marker\": {\"colorbar\": {\"outlinewidth\": 0, \"ticks\": \"\"}}, \"type\": \"scattermapbox\"}], \"scatterpolar\": [{\"marker\": {\"colorbar\": {\"outlinewidth\": 0, \"ticks\": \"\"}}, \"type\": \"scatterpolar\"}], \"scatterpolargl\": [{\"marker\": {\"colorbar\": {\"outlinewidth\": 0, \"ticks\": \"\"}}, \"type\": \"scatterpolargl\"}], \"scatterternary\": [{\"marker\": {\"colorbar\": {\"outlinewidth\": 0, \"ticks\": \"\"}}, \"type\": \"scatterternary\"}], \"surface\": [{\"colorbar\": {\"outlinewidth\": 0, \"ticks\": \"\"}, \"colorscale\": [[0.0, \"#0d0887\"], [0.1111111111111111, \"#46039f\"], [0.2222222222222222, \"#7201a8\"], [0.3333333333333333, \"#9c179e\"], [0.4444444444444444, \"#bd3786\"], [0.5555555555555556, \"#d8576b\"], [0.6666666666666666, \"#ed7953\"], [0.7777777777777778, \"#fb9f3a\"], [0.8888888888888888, \"#fdca26\"], [1.0, \"#f0f921\"]], \"type\": \"surface\"}], \"table\": [{\"cells\": {\"fill\": {\"color\": \"#EBF0F8\"}, \"line\": {\"color\": \"white\"}}, \"header\": {\"fill\": {\"color\": \"#C8D4E3\"}, \"line\": {\"color\": \"white\"}}, \"type\": \"table\"}]}, \"layout\": {\"annotationdefaults\": {\"arrowcolor\": \"#2a3f5f\", \"arrowhead\": 0, \"arrowwidth\": 1}, \"coloraxis\": {\"colorbar\": {\"outlinewidth\": 0, \"ticks\": \"\"}}, \"colorscale\": {\"diverging\": [[0, \"#8e0152\"], [0.1, \"#c51b7d\"], [0.2, \"#de77ae\"], [0.3, \"#f1b6da\"], [0.4, \"#fde0ef\"], [0.5, \"#f7f7f7\"], [0.6, \"#e6f5d0\"], [0.7, \"#b8e186\"], [0.8, \"#7fbc41\"], [0.9, \"#4d9221\"], [1, \"#276419\"]], \"sequential\": [[0.0, \"#0d0887\"], [0.1111111111111111, \"#46039f\"], [0.2222222222222222, \"#7201a8\"], [0.3333333333333333, \"#9c179e\"], [0.4444444444444444, \"#bd3786\"], [0.5555555555555556, \"#d8576b\"], [0.6666666666666666, \"#ed7953\"], [0.7777777777777778, \"#fb9f3a\"], [0.8888888888888888, \"#fdca26\"], [1.0, \"#f0f921\"]], \"sequentialminus\": [[0.0, \"#0d0887\"], [0.1111111111111111, \"#46039f\"], [0.2222222222222222, \"#7201a8\"], [0.3333333333333333, \"#9c179e\"], [0.4444444444444444, \"#bd3786\"], [0.5555555555555556, \"#d8576b\"], [0.6666666666666666, \"#ed7953\"], [0.7777777777777778, \"#fb9f3a\"], [0.8888888888888888, \"#fdca26\"], [1.0, \"#f0f921\"]]}, \"colorway\": [\"#636efa\", \"#EF553B\", \"#00cc96\", \"#ab63fa\", \"#FFA15A\", \"#19d3f3\", \"#FF6692\", \"#B6E880\", \"#FF97FF\", \"#FECB52\"], \"font\": {\"color\": \"#2a3f5f\"}, \"geo\": {\"bgcolor\": \"white\", \"lakecolor\": \"white\", \"landcolor\": \"#E5ECF6\", \"showlakes\": true, \"showland\": true, \"subunitcolor\": \"white\"}, \"hoverlabel\": {\"align\": \"left\"}, \"hovermode\": \"closest\", \"mapbox\": {\"style\": \"light\"}, \"paper_bgcolor\": \"white\", \"plot_bgcolor\": \"#E5ECF6\", \"polar\": {\"angularaxis\": {\"gridcolor\": \"white\", \"linecolor\": \"white\", \"ticks\": \"\"}, \"bgcolor\": \"#E5ECF6\", \"radialaxis\": {\"gridcolor\": \"white\", \"linecolor\": \"white\", \"ticks\": \"\"}}, \"scene\": {\"xaxis\": {\"backgroundcolor\": \"#E5ECF6\", \"gridcolor\": \"white\", \"gridwidth\": 2, \"linecolor\": \"white\", \"showbackground\": true, \"ticks\": \"\", \"zerolinecolor\": \"white\"}, \"yaxis\": {\"backgroundcolor\": \"#E5ECF6\", \"gridcolor\": \"white\", \"gridwidth\": 2, \"linecolor\": \"white\", \"showbackground\": true, \"ticks\": \"\", \"zerolinecolor\": \"white\"}, \"zaxis\": {\"backgroundcolor\": \"#E5ECF6\", \"gridcolor\": \"white\", \"gridwidth\": 2, \"linecolor\": \"white\", \"showbackground\": true, \"ticks\": \"\", \"zerolinecolor\": \"white\"}}, \"shapedefaults\": {\"line\": {\"color\": \"#2a3f5f\"}}, \"ternary\": {\"aaxis\": {\"gridcolor\": \"white\", \"linecolor\": \"white\", \"ticks\": \"\"}, \"baxis\": {\"gridcolor\": \"white\", \"linecolor\": \"white\", \"ticks\": \"\"}, \"bgcolor\": \"#E5ECF6\", \"caxis\": {\"gridcolor\": \"white\", \"linecolor\": \"white\", \"ticks\": \"\"}}, \"title\": {\"x\": 0.05}, \"xaxis\": {\"automargin\": true, \"gridcolor\": \"white\", \"linecolor\": \"white\", \"ticks\": \"\", \"title\": {\"standoff\": 15}, \"zerolinecolor\": \"white\", \"zerolinewidth\": 2}, \"yaxis\": {\"automargin\": true, \"gridcolor\": \"white\", \"linecolor\": \"white\", \"ticks\": \"\", \"title\": {\"standoff\": 15}, \"zerolinecolor\": \"white\", \"zerolinewidth\": 2}}}, \"title\": {\"text\": \"Category Popularity\"}, \"xaxis\": {\"anchor\": \"y\", \"domain\": [0.0, 1.0], \"title\": {\"text\": \"Number of Downloads\"}}, \"yaxis\": {\"anchor\": \"x\", \"domain\": [0.0, 1.0], \"title\": {\"text\": \"Category\"}}},\n",
              "                        {\"responsive\": true}\n",
              "                    ).then(function(){\n",
              "                            \n",
              "var gd = document.getElementById('5524bc2f-f8d4-4cb2-91a1-ce635afbb66e');\n",
              "var x = new MutationObserver(function (mutations, observer) {{\n",
              "        var display = window.getComputedStyle(gd).display;\n",
              "        if (!display || display === 'none') {{\n",
              "            console.log([gd, 'removed!']);\n",
              "            Plotly.purge(gd);\n",
              "            observer.disconnect();\n",
              "        }}\n",
              "}});\n",
              "\n",
              "// Listen for the removal of the full notebook cells\n",
              "var notebookContainer = gd.closest('#notebook-container');\n",
              "if (notebookContainer) {{\n",
              "    x.observe(notebookContainer, {childList: true});\n",
              "}}\n",
              "\n",
              "// Listen for the clearing of the current output cell\n",
              "var outputEl = gd.closest('.output');\n",
              "if (outputEl) {{\n",
              "    x.observe(outputEl, {childList: true});\n",
              "}}\n",
              "\n",
              "                        })\n",
              "                };\n",
              "                \n",
              "            </script>\n",
              "        </div>\n",
              "</body>\n",
              "</html>"
            ]
          },
          "metadata": {}
        }
      ]
    },
    {
      "cell_type": "code",
      "metadata": {
        "id": "h7aUARLtocCy"
      },
      "source": [
        ""
      ],
      "execution_count": null,
      "outputs": []
    },
    {
      "cell_type": "markdown",
      "metadata": {
        "id": "Uxk24qMk8vrz"
      },
      "source": [
        "### Category Concentration - Downloads vs. Competition\n",
        "\n",
        "**Challenge**: \n",
        "* First, create a DataFrame that has the number of apps in one column and the number of installs in another:\n",
        "\n",
        "<img src=https://imgur.com/uQRSlXi.png width=\"350\">\n",
        "\n",
        "* Then use the [plotly express examples from the documentation](https://plotly.com/python/line-and-scatter/) alongside the [.scatter() API reference](https://plotly.com/python-api-reference/generated/plotly.express.scatter.html)to create scatter plot that looks like this. \n",
        "\n",
        "<img src=https://imgur.com/cHsqh6a.png>\n",
        "\n",
        "*Hint*: Use the size, hover_name and color parameters in .scatter(). To scale the yaxis, call .update_layout() and specify that the yaxis should be on a log-scale like so: yaxis=dict(type='log') "
      ]
    },
    {
      "cell_type": "code",
      "metadata": {
        "id": "tVvGPDY7oe5A",
        "colab": {
          "base_uri": "https://localhost:8080/",
          "height": 560
        },
        "outputId": "42a9e724-7182-4ffb-92a6-aa9307aeeaa5"
      },
      "source": [
        "cat_number = df_apps_clean.groupby('Category').agg({'App': pd.Series.count})\n",
        "cat_merged_df = pd.merge(cat_number, category_installs, on='Category', how=\"inner\")\n",
        "print(f'The dimensions of the DataFrame are: {cat_merged_df.shape}')\n",
        "cat_merged_df.sort_values('Installs', ascending=False)\n",
        "\n",
        "scatter = px.scatter(cat_merged_df, # data\n",
        "                    x='App', # column name\n",
        "                    y='Installs',\n",
        "                    title='Category Concentration',\n",
        "                    size='App',\n",
        "                    hover_name=cat_merged_df.index,\n",
        "                    color='Installs')\n",
        "  \n",
        "scatter.update_layout(xaxis_title=\"Number of Apps (Lower=More Concentrated)\",\n",
        "                      yaxis_title=\"Installs\",\n",
        "                      yaxis=dict(type='log'))\n",
        "  \n",
        "scatter.show()"
      ],
      "execution_count": 54,
      "outputs": [
        {
          "output_type": "stream",
          "name": "stdout",
          "text": [
            "The dimensions of the DataFrame are: (33, 2)\n"
          ]
        },
        {
          "output_type": "display_data",
          "data": {
            "text/html": [
              "<html>\n",
              "<head><meta charset=\"utf-8\" /></head>\n",
              "<body>\n",
              "    <div>\n",
              "            <script src=\"https://cdnjs.cloudflare.com/ajax/libs/mathjax/2.7.5/MathJax.js?config=TeX-AMS-MML_SVG\"></script><script type=\"text/javascript\">if (window.MathJax) {MathJax.Hub.Config({SVG: {font: \"STIX-Web\"}});}</script>\n",
              "                <script type=\"text/javascript\">window.PlotlyConfig = {MathJaxConfig: 'local'};</script>\n",
              "        <script src=\"https://cdn.plot.ly/plotly-latest.min.js\"></script>    \n",
              "            <div id=\"99869225-b528-49ad-a190-1c179d92171b\" class=\"plotly-graph-div\" style=\"height:525px; width:100%;\"></div>\n",
              "            <script type=\"text/javascript\">\n",
              "                \n",
              "                    window.PLOTLYENV=window.PLOTLYENV || {};\n",
              "                    \n",
              "                if (document.getElementById(\"99869225-b528-49ad-a190-1c179d92171b\")) {\n",
              "                    Plotly.newPlot(\n",
              "                        '99869225-b528-49ad-a190-1c179d92171b',\n",
              "                        [{\"hoverlabel\": {\"namelength\": 0}, \"hovertemplate\": \"<b>%{hovertext}</b><br><br>App=%{marker.size}<br>Installs=%{marker.color}\", \"hovertext\": [\"ART_AND_DESIGN\", \"AUTO_AND_VEHICLES\", \"BEAUTY\", \"BOOKS_AND_REFERENCE\", \"BUSINESS\", \"COMICS\", \"COMMUNICATION\", \"DATING\", \"EDUCATION\", \"ENTERTAINMENT\", \"EVENTS\", \"FAMILY\", \"FINANCE\", \"FOOD_AND_DRINK\", \"GAME\", \"HEALTH_AND_FITNESS\", \"HOUSE_AND_HOME\", \"LIBRARIES_AND_DEMO\", \"LIFESTYLE\", \"MAPS_AND_NAVIGATION\", \"MEDICAL\", \"NEWS_AND_MAGAZINES\", \"PARENTING\", \"PERSONALIZATION\", \"PHOTOGRAPHY\", \"PRODUCTIVITY\", \"SHOPPING\", \"SOCIAL\", \"SPORTS\", \"TOOLS\", \"TRAVEL_AND_LOCAL\", \"VIDEO_PLAYERS\", \"WEATHER\"], \"legendgroup\": \"\", \"marker\": {\"color\": [114233100, 53129800, 26916200, 1665791655, 692018120, 44931100, 11039241530, 140912410, 352852000, 2113660000, 15949410, 4437554490, 455249400, 211677750, 13858762717, 1134006220, 97082000, 52083000, 503611120, 503267560, 39162676, 2369110650, 31116110, 1532352930, 4649143130, 5788070180, 1400331540, 5487841475, 1096431465, 8099724500, 2894859300, 3916897200, 361096500], \"coloraxis\": \"coloraxis\", \"size\": [61, 73, 42, 169, 262, 54, 257, 134, 118, 102, 45, 1606, 296, 94, 910, 243, 62, 64, 297, 118, 292, 204, 50, 298, 263, 301, 180, 203, 260, 719, 187, 148, 72], \"sizemode\": \"area\", \"sizeref\": 4.015, \"symbol\": \"circle\"}, \"mode\": \"markers\", \"name\": \"\", \"showlegend\": false, \"type\": \"scatter\", \"x\": [61, 73, 42, 169, 262, 54, 257, 134, 118, 102, 45, 1606, 296, 94, 910, 243, 62, 64, 297, 118, 292, 204, 50, 298, 263, 301, 180, 203, 260, 719, 187, 148, 72], \"xaxis\": \"x\", \"y\": [114233100, 53129800, 26916200, 1665791655, 692018120, 44931100, 11039241530, 140912410, 352852000, 2113660000, 15949410, 4437554490, 455249400, 211677750, 13858762717, 1134006220, 97082000, 52083000, 503611120, 503267560, 39162676, 2369110650, 31116110, 1532352930, 4649143130, 5788070180, 1400331540, 5487841475, 1096431465, 8099724500, 2894859300, 3916897200, 361096500], \"yaxis\": \"y\"}],\n",
              "                        {\"coloraxis\": {\"colorbar\": {\"title\": {\"text\": \"Installs\"}}, \"colorscale\": [[0.0, \"#0d0887\"], [0.1111111111111111, \"#46039f\"], [0.2222222222222222, \"#7201a8\"], [0.3333333333333333, \"#9c179e\"], [0.4444444444444444, \"#bd3786\"], [0.5555555555555556, \"#d8576b\"], [0.6666666666666666, \"#ed7953\"], [0.7777777777777778, \"#fb9f3a\"], [0.8888888888888888, \"#fdca26\"], [1.0, \"#f0f921\"]]}, \"legend\": {\"itemsizing\": \"constant\", \"tracegroupgap\": 0}, \"template\": {\"data\": {\"bar\": [{\"error_x\": {\"color\": \"#2a3f5f\"}, \"error_y\": {\"color\": \"#2a3f5f\"}, \"marker\": {\"line\": {\"color\": \"#E5ECF6\", \"width\": 0.5}}, \"type\": \"bar\"}], \"barpolar\": [{\"marker\": {\"line\": {\"color\": \"#E5ECF6\", \"width\": 0.5}}, \"type\": \"barpolar\"}], \"carpet\": [{\"aaxis\": {\"endlinecolor\": \"#2a3f5f\", \"gridcolor\": \"white\", \"linecolor\": \"white\", \"minorgridcolor\": \"white\", \"startlinecolor\": \"#2a3f5f\"}, \"baxis\": {\"endlinecolor\": \"#2a3f5f\", \"gridcolor\": \"white\", \"linecolor\": \"white\", \"minorgridcolor\": \"white\", \"startlinecolor\": \"#2a3f5f\"}, \"type\": \"carpet\"}], \"choropleth\": [{\"colorbar\": {\"outlinewidth\": 0, \"ticks\": \"\"}, \"type\": \"choropleth\"}], \"contour\": [{\"colorbar\": {\"outlinewidth\": 0, \"ticks\": \"\"}, \"colorscale\": [[0.0, \"#0d0887\"], [0.1111111111111111, \"#46039f\"], [0.2222222222222222, \"#7201a8\"], [0.3333333333333333, \"#9c179e\"], [0.4444444444444444, \"#bd3786\"], [0.5555555555555556, \"#d8576b\"], [0.6666666666666666, \"#ed7953\"], [0.7777777777777778, \"#fb9f3a\"], [0.8888888888888888, \"#fdca26\"], [1.0, \"#f0f921\"]], \"type\": \"contour\"}], \"contourcarpet\": [{\"colorbar\": {\"outlinewidth\": 0, \"ticks\": \"\"}, \"type\": \"contourcarpet\"}], \"heatmap\": [{\"colorbar\": {\"outlinewidth\": 0, \"ticks\": \"\"}, \"colorscale\": [[0.0, \"#0d0887\"], [0.1111111111111111, \"#46039f\"], [0.2222222222222222, \"#7201a8\"], [0.3333333333333333, \"#9c179e\"], [0.4444444444444444, \"#bd3786\"], [0.5555555555555556, \"#d8576b\"], [0.6666666666666666, \"#ed7953\"], [0.7777777777777778, \"#fb9f3a\"], [0.8888888888888888, \"#fdca26\"], [1.0, \"#f0f921\"]], \"type\": \"heatmap\"}], \"heatmapgl\": [{\"colorbar\": {\"outlinewidth\": 0, \"ticks\": \"\"}, \"colorscale\": [[0.0, \"#0d0887\"], [0.1111111111111111, \"#46039f\"], [0.2222222222222222, \"#7201a8\"], [0.3333333333333333, \"#9c179e\"], [0.4444444444444444, \"#bd3786\"], [0.5555555555555556, \"#d8576b\"], [0.6666666666666666, \"#ed7953\"], [0.7777777777777778, \"#fb9f3a\"], [0.8888888888888888, \"#fdca26\"], [1.0, \"#f0f921\"]], \"type\": \"heatmapgl\"}], \"histogram\": [{\"marker\": {\"colorbar\": {\"outlinewidth\": 0, \"ticks\": \"\"}}, \"type\": \"histogram\"}], \"histogram2d\": [{\"colorbar\": {\"outlinewidth\": 0, \"ticks\": \"\"}, \"colorscale\": [[0.0, \"#0d0887\"], [0.1111111111111111, \"#46039f\"], [0.2222222222222222, \"#7201a8\"], [0.3333333333333333, \"#9c179e\"], [0.4444444444444444, \"#bd3786\"], [0.5555555555555556, \"#d8576b\"], [0.6666666666666666, \"#ed7953\"], [0.7777777777777778, \"#fb9f3a\"], [0.8888888888888888, \"#fdca26\"], [1.0, \"#f0f921\"]], \"type\": \"histogram2d\"}], \"histogram2dcontour\": [{\"colorbar\": {\"outlinewidth\": 0, \"ticks\": \"\"}, \"colorscale\": [[0.0, \"#0d0887\"], [0.1111111111111111, \"#46039f\"], [0.2222222222222222, \"#7201a8\"], [0.3333333333333333, \"#9c179e\"], [0.4444444444444444, \"#bd3786\"], [0.5555555555555556, \"#d8576b\"], [0.6666666666666666, \"#ed7953\"], [0.7777777777777778, \"#fb9f3a\"], [0.8888888888888888, \"#fdca26\"], [1.0, \"#f0f921\"]], \"type\": \"histogram2dcontour\"}], \"mesh3d\": [{\"colorbar\": {\"outlinewidth\": 0, \"ticks\": \"\"}, \"type\": \"mesh3d\"}], \"parcoords\": [{\"line\": {\"colorbar\": {\"outlinewidth\": 0, \"ticks\": \"\"}}, \"type\": \"parcoords\"}], \"pie\": [{\"automargin\": true, \"type\": \"pie\"}], \"scatter\": [{\"marker\": {\"colorbar\": {\"outlinewidth\": 0, \"ticks\": \"\"}}, \"type\": \"scatter\"}], \"scatter3d\": [{\"line\": {\"colorbar\": {\"outlinewidth\": 0, \"ticks\": \"\"}}, \"marker\": {\"colorbar\": {\"outlinewidth\": 0, \"ticks\": \"\"}}, \"type\": \"scatter3d\"}], \"scattercarpet\": [{\"marker\": {\"colorbar\": {\"outlinewidth\": 0, \"ticks\": \"\"}}, \"type\": \"scattercarpet\"}], \"scattergeo\": [{\"marker\": {\"colorbar\": {\"outlinewidth\": 0, \"ticks\": \"\"}}, \"type\": \"scattergeo\"}], \"scattergl\": [{\"marker\": {\"colorbar\": {\"outlinewidth\": 0, \"ticks\": \"\"}}, \"type\": \"scattergl\"}], \"scattermapbox\": [{\"marker\": {\"colorbar\": {\"outlinewidth\": 0, \"ticks\": \"\"}}, \"type\": \"scattermapbox\"}], \"scatterpolar\": [{\"marker\": {\"colorbar\": {\"outlinewidth\": 0, \"ticks\": \"\"}}, \"type\": \"scatterpolar\"}], \"scatterpolargl\": [{\"marker\": {\"colorbar\": {\"outlinewidth\": 0, \"ticks\": \"\"}}, \"type\": \"scatterpolargl\"}], \"scatterternary\": [{\"marker\": {\"colorbar\": {\"outlinewidth\": 0, \"ticks\": \"\"}}, \"type\": \"scatterternary\"}], \"surface\": [{\"colorbar\": {\"outlinewidth\": 0, \"ticks\": \"\"}, \"colorscale\": [[0.0, \"#0d0887\"], [0.1111111111111111, \"#46039f\"], [0.2222222222222222, \"#7201a8\"], [0.3333333333333333, \"#9c179e\"], [0.4444444444444444, \"#bd3786\"], [0.5555555555555556, \"#d8576b\"], [0.6666666666666666, \"#ed7953\"], [0.7777777777777778, \"#fb9f3a\"], [0.8888888888888888, \"#fdca26\"], [1.0, \"#f0f921\"]], \"type\": \"surface\"}], \"table\": [{\"cells\": {\"fill\": {\"color\": \"#EBF0F8\"}, \"line\": {\"color\": \"white\"}}, \"header\": {\"fill\": {\"color\": \"#C8D4E3\"}, \"line\": {\"color\": \"white\"}}, \"type\": \"table\"}]}, \"layout\": {\"annotationdefaults\": {\"arrowcolor\": \"#2a3f5f\", \"arrowhead\": 0, \"arrowwidth\": 1}, \"coloraxis\": {\"colorbar\": {\"outlinewidth\": 0, \"ticks\": \"\"}}, \"colorscale\": {\"diverging\": [[0, \"#8e0152\"], [0.1, \"#c51b7d\"], [0.2, \"#de77ae\"], [0.3, \"#f1b6da\"], [0.4, \"#fde0ef\"], [0.5, \"#f7f7f7\"], [0.6, \"#e6f5d0\"], [0.7, \"#b8e186\"], [0.8, \"#7fbc41\"], [0.9, \"#4d9221\"], [1, \"#276419\"]], \"sequential\": [[0.0, \"#0d0887\"], [0.1111111111111111, \"#46039f\"], [0.2222222222222222, \"#7201a8\"], [0.3333333333333333, \"#9c179e\"], [0.4444444444444444, \"#bd3786\"], [0.5555555555555556, \"#d8576b\"], [0.6666666666666666, \"#ed7953\"], [0.7777777777777778, \"#fb9f3a\"], [0.8888888888888888, \"#fdca26\"], [1.0, \"#f0f921\"]], \"sequentialminus\": [[0.0, \"#0d0887\"], [0.1111111111111111, \"#46039f\"], [0.2222222222222222, \"#7201a8\"], [0.3333333333333333, \"#9c179e\"], [0.4444444444444444, \"#bd3786\"], [0.5555555555555556, \"#d8576b\"], [0.6666666666666666, \"#ed7953\"], [0.7777777777777778, \"#fb9f3a\"], [0.8888888888888888, \"#fdca26\"], [1.0, \"#f0f921\"]]}, \"colorway\": [\"#636efa\", \"#EF553B\", \"#00cc96\", \"#ab63fa\", \"#FFA15A\", \"#19d3f3\", \"#FF6692\", \"#B6E880\", \"#FF97FF\", \"#FECB52\"], \"font\": {\"color\": \"#2a3f5f\"}, \"geo\": {\"bgcolor\": \"white\", \"lakecolor\": \"white\", \"landcolor\": \"#E5ECF6\", \"showlakes\": true, \"showland\": true, \"subunitcolor\": \"white\"}, \"hoverlabel\": {\"align\": \"left\"}, \"hovermode\": \"closest\", \"mapbox\": {\"style\": \"light\"}, \"paper_bgcolor\": \"white\", \"plot_bgcolor\": \"#E5ECF6\", \"polar\": {\"angularaxis\": {\"gridcolor\": \"white\", \"linecolor\": \"white\", \"ticks\": \"\"}, \"bgcolor\": \"#E5ECF6\", \"radialaxis\": {\"gridcolor\": \"white\", \"linecolor\": \"white\", \"ticks\": \"\"}}, \"scene\": {\"xaxis\": {\"backgroundcolor\": \"#E5ECF6\", \"gridcolor\": \"white\", \"gridwidth\": 2, \"linecolor\": \"white\", \"showbackground\": true, \"ticks\": \"\", \"zerolinecolor\": \"white\"}, \"yaxis\": {\"backgroundcolor\": \"#E5ECF6\", \"gridcolor\": \"white\", \"gridwidth\": 2, \"linecolor\": \"white\", \"showbackground\": true, \"ticks\": \"\", \"zerolinecolor\": \"white\"}, \"zaxis\": {\"backgroundcolor\": \"#E5ECF6\", \"gridcolor\": \"white\", \"gridwidth\": 2, \"linecolor\": \"white\", \"showbackground\": true, \"ticks\": \"\", \"zerolinecolor\": \"white\"}}, \"shapedefaults\": {\"line\": {\"color\": \"#2a3f5f\"}}, \"ternary\": {\"aaxis\": {\"gridcolor\": \"white\", \"linecolor\": \"white\", \"ticks\": \"\"}, \"baxis\": {\"gridcolor\": \"white\", \"linecolor\": \"white\", \"ticks\": \"\"}, \"bgcolor\": \"#E5ECF6\", \"caxis\": {\"gridcolor\": \"white\", \"linecolor\": \"white\", \"ticks\": \"\"}}, \"title\": {\"x\": 0.05}, \"xaxis\": {\"automargin\": true, \"gridcolor\": \"white\", \"linecolor\": \"white\", \"ticks\": \"\", \"title\": {\"standoff\": 15}, \"zerolinecolor\": \"white\", \"zerolinewidth\": 2}, \"yaxis\": {\"automargin\": true, \"gridcolor\": \"white\", \"linecolor\": \"white\", \"ticks\": \"\", \"title\": {\"standoff\": 15}, \"zerolinecolor\": \"white\", \"zerolinewidth\": 2}}}, \"title\": {\"text\": \"Category Concentration\"}, \"xaxis\": {\"anchor\": \"y\", \"domain\": [0.0, 1.0], \"title\": {\"text\": \"Number of Apps (Lower=More Concentrated)\"}}, \"yaxis\": {\"anchor\": \"x\", \"domain\": [0.0, 1.0], \"title\": {\"text\": \"Installs\"}, \"type\": \"log\"}},\n",
              "                        {\"responsive\": true}\n",
              "                    ).then(function(){\n",
              "                            \n",
              "var gd = document.getElementById('99869225-b528-49ad-a190-1c179d92171b');\n",
              "var x = new MutationObserver(function (mutations, observer) {{\n",
              "        var display = window.getComputedStyle(gd).display;\n",
              "        if (!display || display === 'none') {{\n",
              "            console.log([gd, 'removed!']);\n",
              "            Plotly.purge(gd);\n",
              "            observer.disconnect();\n",
              "        }}\n",
              "}});\n",
              "\n",
              "// Listen for the removal of the full notebook cells\n",
              "var notebookContainer = gd.closest('#notebook-container');\n",
              "if (notebookContainer) {{\n",
              "    x.observe(notebookContainer, {childList: true});\n",
              "}}\n",
              "\n",
              "// Listen for the clearing of the current output cell\n",
              "var outputEl = gd.closest('.output');\n",
              "if (outputEl) {{\n",
              "    x.observe(outputEl, {childList: true});\n",
              "}}\n",
              "\n",
              "                        })\n",
              "                };\n",
              "                \n",
              "            </script>\n",
              "        </div>\n",
              "</body>\n",
              "</html>"
            ]
          },
          "metadata": {}
        }
      ]
    },
    {
      "cell_type": "markdown",
      "metadata": {
        "id": "dmXDF75WdiVC"
      },
      "source": [
        "# Extracting Nested Data from a Column\n",
        "\n",
        "**Challenge**: How many different types of genres are there? Can an app belong to more than one genre? Check what happens when you use .value_counts() on a column with nested values? See if you can work around this problem by using the .split() function and the DataFrame's [.stack() method](https://pandas.pydata.org/pandas-docs/stable/reference/api/pandas.DataFrame.stack.html). \n"
      ]
    },
    {
      "cell_type": "code",
      "metadata": {
        "id": "3Lo69kS6ogdm",
        "colab": {
          "base_uri": "https://localhost:8080/"
        },
        "outputId": "9a9b7695-9e2c-4e2d-db70-4b76d2e44afe"
      },
      "source": [
        "# Split the strings on the semi-colon and then .stack them.\n",
        "stack = df_apps_clean.Genres.str.split(';', expand=True).stack()\n",
        "print(f'We now have a single column with shape: {stack.shape}')\n",
        "num_genres = stack.value_counts()\n",
        "print(f'Number of genres: {len(num_genres)}')"
      ],
      "execution_count": 55,
      "outputs": [
        {
          "output_type": "stream",
          "name": "stdout",
          "text": [
            "We now have a single column with shape: (8564,)\n",
            "Number of genres: 53\n"
          ]
        }
      ]
    },
    {
      "cell_type": "markdown",
      "metadata": {
        "id": "F3zaKvfydiVI"
      },
      "source": [
        "# Colour Scales in Plotly Charts - Competition in Genres"
      ]
    },
    {
      "cell_type": "markdown",
      "metadata": {
        "id": "Ucw6RT59diVK"
      },
      "source": [
        "**Challenge**: Can you create this chart with the Series containing the genre data? \n",
        "\n",
        "<img src=https://imgur.com/DbcoQli.png width=400>\n",
        "\n",
        "Try experimenting with the built in colour scales in Plotly. You can find a full list [here](https://plotly.com/python/builtin-colorscales/). \n",
        "\n",
        "* Find a way to set the colour scale using the color_continuous_scale parameter. \n",
        "* Find a way to make the color axis disappear by using coloraxis_showscale. "
      ]
    },
    {
      "cell_type": "code",
      "metadata": {
        "id": "c5xbfMgxojoA",
        "colab": {
          "base_uri": "https://localhost:8080/",
          "height": 542
        },
        "outputId": "5b386ef9-1d72-48d1-f4e8-f66543c43cfb"
      },
      "source": [
        "bar = px.bar(x = num_genres.index[:15],\n",
        "             y = num_genres.values[:15],\n",
        "             title=\"Top Genres\",\n",
        "             hover_name=num_genres.index[:15],\n",
        "             color=num_genres.index[:15],\n",
        "             color_continuous_scale=\"Agsunset\")\n",
        "\n",
        "bar.update_layout(xaxis_title=\"Genre\",\n",
        "                  yaxis_title=\"Number of Apps\",\n",
        "                  coloraxis_showscale=False)\n",
        "\n",
        "bar.show()"
      ],
      "execution_count": 58,
      "outputs": [
        {
          "output_type": "display_data",
          "data": {
            "text/html": [
              "<html>\n",
              "<head><meta charset=\"utf-8\" /></head>\n",
              "<body>\n",
              "    <div>\n",
              "            <script src=\"https://cdnjs.cloudflare.com/ajax/libs/mathjax/2.7.5/MathJax.js?config=TeX-AMS-MML_SVG\"></script><script type=\"text/javascript\">if (window.MathJax) {MathJax.Hub.Config({SVG: {font: \"STIX-Web\"}});}</script>\n",
              "                <script type=\"text/javascript\">window.PlotlyConfig = {MathJaxConfig: 'local'};</script>\n",
              "        <script src=\"https://cdn.plot.ly/plotly-latest.min.js\"></script>    \n",
              "            <div id=\"57b8c714-44aa-4e94-9efe-924fa7226b83\" class=\"plotly-graph-div\" style=\"height:525px; width:100%;\"></div>\n",
              "            <script type=\"text/javascript\">\n",
              "                \n",
              "                    window.PLOTLYENV=window.PLOTLYENV || {};\n",
              "                    \n",
              "                if (document.getElementById(\"57b8c714-44aa-4e94-9efe-924fa7226b83\")) {\n",
              "                    Plotly.newPlot(\n",
              "                        '57b8c714-44aa-4e94-9efe-924fa7226b83',\n",
              "                        [{\"alignmentgroup\": \"True\", \"hoverlabel\": {\"namelength\": 0}, \"hovertemplate\": \"<b>%{hovertext}</b><br><br>color=Tools<br>x=%{x}<br>y=%{y}\", \"hovertext\": [\"Tools\"], \"legendgroup\": \"color=Tools\", \"marker\": {\"color\": \"#636efa\"}, \"name\": \"color=Tools\", \"offsetgroup\": \"color=Tools\", \"orientation\": \"v\", \"showlegend\": true, \"textposition\": \"auto\", \"type\": \"bar\", \"x\": [\"Tools\"], \"xaxis\": \"x\", \"y\": [719], \"yaxis\": \"y\"}, {\"alignmentgroup\": \"True\", \"hoverlabel\": {\"namelength\": 0}, \"hovertemplate\": \"<b>%{hovertext}</b><br><br>color=Education<br>x=%{x}<br>y=%{y}\", \"hovertext\": [\"Education\"], \"legendgroup\": \"color=Education\", \"marker\": {\"color\": \"#EF553B\"}, \"name\": \"color=Education\", \"offsetgroup\": \"color=Education\", \"orientation\": \"v\", \"showlegend\": true, \"textposition\": \"auto\", \"type\": \"bar\", \"x\": [\"Education\"], \"xaxis\": \"x\", \"y\": [587], \"yaxis\": \"y\"}, {\"alignmentgroup\": \"True\", \"hoverlabel\": {\"namelength\": 0}, \"hovertemplate\": \"<b>%{hovertext}</b><br><br>color=Entertainment<br>x=%{x}<br>y=%{y}\", \"hovertext\": [\"Entertainment\"], \"legendgroup\": \"color=Entertainment\", \"marker\": {\"color\": \"#00cc96\"}, \"name\": \"color=Entertainment\", \"offsetgroup\": \"color=Entertainment\", \"orientation\": \"v\", \"showlegend\": true, \"textposition\": \"auto\", \"type\": \"bar\", \"x\": [\"Entertainment\"], \"xaxis\": \"x\", \"y\": [498], \"yaxis\": \"y\"}, {\"alignmentgroup\": \"True\", \"hoverlabel\": {\"namelength\": 0}, \"hovertemplate\": \"<b>%{hovertext}</b><br><br>color=Action<br>x=%{x}<br>y=%{y}\", \"hovertext\": [\"Action\"], \"legendgroup\": \"color=Action\", \"marker\": {\"color\": \"#ab63fa\"}, \"name\": \"color=Action\", \"offsetgroup\": \"color=Action\", \"orientation\": \"v\", \"showlegend\": true, \"textposition\": \"auto\", \"type\": \"bar\", \"x\": [\"Action\"], \"xaxis\": \"x\", \"y\": [304], \"yaxis\": \"y\"}, {\"alignmentgroup\": \"True\", \"hoverlabel\": {\"namelength\": 0}, \"hovertemplate\": \"<b>%{hovertext}</b><br><br>color=Productivity<br>x=%{x}<br>y=%{y}\", \"hovertext\": [\"Productivity\"], \"legendgroup\": \"color=Productivity\", \"marker\": {\"color\": \"#FFA15A\"}, \"name\": \"color=Productivity\", \"offsetgroup\": \"color=Productivity\", \"orientation\": \"v\", \"showlegend\": true, \"textposition\": \"auto\", \"type\": \"bar\", \"x\": [\"Productivity\"], \"xaxis\": \"x\", \"y\": [301], \"yaxis\": \"y\"}, {\"alignmentgroup\": \"True\", \"hoverlabel\": {\"namelength\": 0}, \"hovertemplate\": \"<b>%{hovertext}</b><br><br>color=Personalization<br>x=%{x}<br>y=%{y}\", \"hovertext\": [\"Personalization\"], \"legendgroup\": \"color=Personalization\", \"marker\": {\"color\": \"#19d3f3\"}, \"name\": \"color=Personalization\", \"offsetgroup\": \"color=Personalization\", \"orientation\": \"v\", \"showlegend\": true, \"textposition\": \"auto\", \"type\": \"bar\", \"x\": [\"Personalization\"], \"xaxis\": \"x\", \"y\": [298], \"yaxis\": \"y\"}, {\"alignmentgroup\": \"True\", \"hoverlabel\": {\"namelength\": 0}, \"hovertemplate\": \"<b>%{hovertext}</b><br><br>color=Lifestyle<br>x=%{x}<br>y=%{y}\", \"hovertext\": [\"Lifestyle\"], \"legendgroup\": \"color=Lifestyle\", \"marker\": {\"color\": \"#FF6692\"}, \"name\": \"color=Lifestyle\", \"offsetgroup\": \"color=Lifestyle\", \"orientation\": \"v\", \"showlegend\": true, \"textposition\": \"auto\", \"type\": \"bar\", \"x\": [\"Lifestyle\"], \"xaxis\": \"x\", \"y\": [298], \"yaxis\": \"y\"}, {\"alignmentgroup\": \"True\", \"hoverlabel\": {\"namelength\": 0}, \"hovertemplate\": \"<b>%{hovertext}</b><br><br>color=Finance<br>x=%{x}<br>y=%{y}\", \"hovertext\": [\"Finance\"], \"legendgroup\": \"color=Finance\", \"marker\": {\"color\": \"#B6E880\"}, \"name\": \"color=Finance\", \"offsetgroup\": \"color=Finance\", \"orientation\": \"v\", \"showlegend\": true, \"textposition\": \"auto\", \"type\": \"bar\", \"x\": [\"Finance\"], \"xaxis\": \"x\", \"y\": [296], \"yaxis\": \"y\"}, {\"alignmentgroup\": \"True\", \"hoverlabel\": {\"namelength\": 0}, \"hovertemplate\": \"<b>%{hovertext}</b><br><br>color=Medical<br>x=%{x}<br>y=%{y}\", \"hovertext\": [\"Medical\"], \"legendgroup\": \"color=Medical\", \"marker\": {\"color\": \"#FF97FF\"}, \"name\": \"color=Medical\", \"offsetgroup\": \"color=Medical\", \"orientation\": \"v\", \"showlegend\": true, \"textposition\": \"auto\", \"type\": \"bar\", \"x\": [\"Medical\"], \"xaxis\": \"x\", \"y\": [292], \"yaxis\": \"y\"}, {\"alignmentgroup\": \"True\", \"hoverlabel\": {\"namelength\": 0}, \"hovertemplate\": \"<b>%{hovertext}</b><br><br>color=Sports<br>x=%{x}<br>y=%{y}\", \"hovertext\": [\"Sports\"], \"legendgroup\": \"color=Sports\", \"marker\": {\"color\": \"#FECB52\"}, \"name\": \"color=Sports\", \"offsetgroup\": \"color=Sports\", \"orientation\": \"v\", \"showlegend\": true, \"textposition\": \"auto\", \"type\": \"bar\", \"x\": [\"Sports\"], \"xaxis\": \"x\", \"y\": [270], \"yaxis\": \"y\"}, {\"alignmentgroup\": \"True\", \"hoverlabel\": {\"namelength\": 0}, \"hovertemplate\": \"<b>%{hovertext}</b><br><br>color=Photography<br>x=%{x}<br>y=%{y}\", \"hovertext\": [\"Photography\"], \"legendgroup\": \"color=Photography\", \"marker\": {\"color\": \"#636efa\"}, \"name\": \"color=Photography\", \"offsetgroup\": \"color=Photography\", \"orientation\": \"v\", \"showlegend\": true, \"textposition\": \"auto\", \"type\": \"bar\", \"x\": [\"Photography\"], \"xaxis\": \"x\", \"y\": [263], \"yaxis\": \"y\"}, {\"alignmentgroup\": \"True\", \"hoverlabel\": {\"namelength\": 0}, \"hovertemplate\": \"<b>%{hovertext}</b><br><br>color=Business<br>x=%{x}<br>y=%{y}\", \"hovertext\": [\"Business\"], \"legendgroup\": \"color=Business\", \"marker\": {\"color\": \"#EF553B\"}, \"name\": \"color=Business\", \"offsetgroup\": \"color=Business\", \"orientation\": \"v\", \"showlegend\": true, \"textposition\": \"auto\", \"type\": \"bar\", \"x\": [\"Business\"], \"xaxis\": \"x\", \"y\": [262], \"yaxis\": \"y\"}, {\"alignmentgroup\": \"True\", \"hoverlabel\": {\"namelength\": 0}, \"hovertemplate\": \"<b>%{hovertext}</b><br><br>color=Communication<br>x=%{x}<br>y=%{y}\", \"hovertext\": [\"Communication\"], \"legendgroup\": \"color=Communication\", \"marker\": {\"color\": \"#00cc96\"}, \"name\": \"color=Communication\", \"offsetgroup\": \"color=Communication\", \"orientation\": \"v\", \"showlegend\": true, \"textposition\": \"auto\", \"type\": \"bar\", \"x\": [\"Communication\"], \"xaxis\": \"x\", \"y\": [258], \"yaxis\": \"y\"}, {\"alignmentgroup\": \"True\", \"hoverlabel\": {\"namelength\": 0}, \"hovertemplate\": \"<b>%{hovertext}</b><br><br>color=Health & Fitness<br>x=%{x}<br>y=%{y}\", \"hovertext\": [\"Health & Fitness\"], \"legendgroup\": \"color=Health & Fitness\", \"marker\": {\"color\": \"#ab63fa\"}, \"name\": \"color=Health & Fitness\", \"offsetgroup\": \"color=Health & Fitness\", \"orientation\": \"v\", \"showlegend\": true, \"textposition\": \"auto\", \"type\": \"bar\", \"x\": [\"Health & Fitness\"], \"xaxis\": \"x\", \"y\": [245], \"yaxis\": \"y\"}, {\"alignmentgroup\": \"True\", \"hoverlabel\": {\"namelength\": 0}, \"hovertemplate\": \"<b>%{hovertext}</b><br><br>color=Casual<br>x=%{x}<br>y=%{y}\", \"hovertext\": [\"Casual\"], \"legendgroup\": \"color=Casual\", \"marker\": {\"color\": \"#FFA15A\"}, \"name\": \"color=Casual\", \"offsetgroup\": \"color=Casual\", \"orientation\": \"v\", \"showlegend\": true, \"textposition\": \"auto\", \"type\": \"bar\", \"x\": [\"Casual\"], \"xaxis\": \"x\", \"y\": [216], \"yaxis\": \"y\"}],\n",
              "                        {\"barmode\": \"relative\", \"coloraxis\": {\"showscale\": false}, \"legend\": {\"tracegroupgap\": 0}, \"template\": {\"data\": {\"bar\": [{\"error_x\": {\"color\": \"#2a3f5f\"}, \"error_y\": {\"color\": \"#2a3f5f\"}, \"marker\": {\"line\": {\"color\": \"#E5ECF6\", \"width\": 0.5}}, \"type\": \"bar\"}], \"barpolar\": [{\"marker\": {\"line\": {\"color\": \"#E5ECF6\", \"width\": 0.5}}, \"type\": \"barpolar\"}], \"carpet\": [{\"aaxis\": {\"endlinecolor\": \"#2a3f5f\", \"gridcolor\": \"white\", \"linecolor\": \"white\", \"minorgridcolor\": \"white\", \"startlinecolor\": \"#2a3f5f\"}, \"baxis\": {\"endlinecolor\": \"#2a3f5f\", \"gridcolor\": \"white\", \"linecolor\": \"white\", \"minorgridcolor\": \"white\", \"startlinecolor\": \"#2a3f5f\"}, \"type\": \"carpet\"}], \"choropleth\": [{\"colorbar\": {\"outlinewidth\": 0, \"ticks\": \"\"}, \"type\": \"choropleth\"}], \"contour\": [{\"colorbar\": {\"outlinewidth\": 0, \"ticks\": \"\"}, \"colorscale\": [[0.0, \"#0d0887\"], [0.1111111111111111, \"#46039f\"], [0.2222222222222222, \"#7201a8\"], [0.3333333333333333, \"#9c179e\"], [0.4444444444444444, \"#bd3786\"], [0.5555555555555556, \"#d8576b\"], [0.6666666666666666, \"#ed7953\"], [0.7777777777777778, \"#fb9f3a\"], [0.8888888888888888, \"#fdca26\"], [1.0, \"#f0f921\"]], \"type\": \"contour\"}], \"contourcarpet\": [{\"colorbar\": {\"outlinewidth\": 0, \"ticks\": \"\"}, \"type\": \"contourcarpet\"}], \"heatmap\": [{\"colorbar\": {\"outlinewidth\": 0, \"ticks\": \"\"}, \"colorscale\": [[0.0, \"#0d0887\"], [0.1111111111111111, \"#46039f\"], [0.2222222222222222, \"#7201a8\"], [0.3333333333333333, \"#9c179e\"], [0.4444444444444444, \"#bd3786\"], [0.5555555555555556, \"#d8576b\"], [0.6666666666666666, \"#ed7953\"], [0.7777777777777778, \"#fb9f3a\"], [0.8888888888888888, \"#fdca26\"], [1.0, \"#f0f921\"]], \"type\": \"heatmap\"}], \"heatmapgl\": [{\"colorbar\": {\"outlinewidth\": 0, \"ticks\": \"\"}, \"colorscale\": [[0.0, \"#0d0887\"], [0.1111111111111111, \"#46039f\"], [0.2222222222222222, \"#7201a8\"], [0.3333333333333333, \"#9c179e\"], [0.4444444444444444, \"#bd3786\"], [0.5555555555555556, \"#d8576b\"], [0.6666666666666666, \"#ed7953\"], [0.7777777777777778, \"#fb9f3a\"], [0.8888888888888888, \"#fdca26\"], [1.0, \"#f0f921\"]], \"type\": \"heatmapgl\"}], \"histogram\": [{\"marker\": {\"colorbar\": {\"outlinewidth\": 0, \"ticks\": \"\"}}, \"type\": \"histogram\"}], \"histogram2d\": [{\"colorbar\": {\"outlinewidth\": 0, \"ticks\": \"\"}, \"colorscale\": [[0.0, \"#0d0887\"], [0.1111111111111111, \"#46039f\"], [0.2222222222222222, \"#7201a8\"], [0.3333333333333333, \"#9c179e\"], [0.4444444444444444, \"#bd3786\"], [0.5555555555555556, \"#d8576b\"], [0.6666666666666666, \"#ed7953\"], [0.7777777777777778, \"#fb9f3a\"], [0.8888888888888888, \"#fdca26\"], [1.0, \"#f0f921\"]], \"type\": \"histogram2d\"}], \"histogram2dcontour\": [{\"colorbar\": {\"outlinewidth\": 0, \"ticks\": \"\"}, \"colorscale\": [[0.0, \"#0d0887\"], [0.1111111111111111, \"#46039f\"], [0.2222222222222222, \"#7201a8\"], [0.3333333333333333, \"#9c179e\"], [0.4444444444444444, \"#bd3786\"], [0.5555555555555556, \"#d8576b\"], [0.6666666666666666, \"#ed7953\"], [0.7777777777777778, \"#fb9f3a\"], [0.8888888888888888, \"#fdca26\"], [1.0, \"#f0f921\"]], \"type\": \"histogram2dcontour\"}], \"mesh3d\": [{\"colorbar\": {\"outlinewidth\": 0, \"ticks\": \"\"}, \"type\": \"mesh3d\"}], \"parcoords\": [{\"line\": {\"colorbar\": {\"outlinewidth\": 0, \"ticks\": \"\"}}, \"type\": \"parcoords\"}], \"pie\": [{\"automargin\": true, \"type\": \"pie\"}], \"scatter\": [{\"marker\": {\"colorbar\": {\"outlinewidth\": 0, \"ticks\": \"\"}}, \"type\": \"scatter\"}], \"scatter3d\": [{\"line\": {\"colorbar\": {\"outlinewidth\": 0, \"ticks\": \"\"}}, \"marker\": {\"colorbar\": {\"outlinewidth\": 0, \"ticks\": \"\"}}, \"type\": \"scatter3d\"}], \"scattercarpet\": [{\"marker\": {\"colorbar\": {\"outlinewidth\": 0, \"ticks\": \"\"}}, \"type\": \"scattercarpet\"}], \"scattergeo\": [{\"marker\": {\"colorbar\": {\"outlinewidth\": 0, \"ticks\": \"\"}}, \"type\": \"scattergeo\"}], \"scattergl\": [{\"marker\": {\"colorbar\": {\"outlinewidth\": 0, \"ticks\": \"\"}}, \"type\": \"scattergl\"}], \"scattermapbox\": [{\"marker\": {\"colorbar\": {\"outlinewidth\": 0, \"ticks\": \"\"}}, \"type\": \"scattermapbox\"}], \"scatterpolar\": [{\"marker\": {\"colorbar\": {\"outlinewidth\": 0, \"ticks\": \"\"}}, \"type\": \"scatterpolar\"}], \"scatterpolargl\": [{\"marker\": {\"colorbar\": {\"outlinewidth\": 0, \"ticks\": \"\"}}, \"type\": \"scatterpolargl\"}], \"scatterternary\": [{\"marker\": {\"colorbar\": {\"outlinewidth\": 0, \"ticks\": \"\"}}, \"type\": \"scatterternary\"}], \"surface\": [{\"colorbar\": {\"outlinewidth\": 0, \"ticks\": \"\"}, \"colorscale\": [[0.0, \"#0d0887\"], [0.1111111111111111, \"#46039f\"], [0.2222222222222222, \"#7201a8\"], [0.3333333333333333, \"#9c179e\"], [0.4444444444444444, \"#bd3786\"], [0.5555555555555556, \"#d8576b\"], [0.6666666666666666, \"#ed7953\"], [0.7777777777777778, \"#fb9f3a\"], [0.8888888888888888, \"#fdca26\"], [1.0, \"#f0f921\"]], \"type\": \"surface\"}], \"table\": [{\"cells\": {\"fill\": {\"color\": \"#EBF0F8\"}, \"line\": {\"color\": \"white\"}}, \"header\": {\"fill\": {\"color\": \"#C8D4E3\"}, \"line\": {\"color\": \"white\"}}, \"type\": \"table\"}]}, \"layout\": {\"annotationdefaults\": {\"arrowcolor\": \"#2a3f5f\", \"arrowhead\": 0, \"arrowwidth\": 1}, \"coloraxis\": {\"colorbar\": {\"outlinewidth\": 0, \"ticks\": \"\"}}, \"colorscale\": {\"diverging\": [[0, \"#8e0152\"], [0.1, \"#c51b7d\"], [0.2, \"#de77ae\"], [0.3, \"#f1b6da\"], [0.4, \"#fde0ef\"], [0.5, \"#f7f7f7\"], [0.6, \"#e6f5d0\"], [0.7, \"#b8e186\"], [0.8, \"#7fbc41\"], [0.9, \"#4d9221\"], [1, \"#276419\"]], \"sequential\": [[0.0, \"#0d0887\"], [0.1111111111111111, \"#46039f\"], [0.2222222222222222, \"#7201a8\"], [0.3333333333333333, \"#9c179e\"], [0.4444444444444444, \"#bd3786\"], [0.5555555555555556, \"#d8576b\"], [0.6666666666666666, \"#ed7953\"], [0.7777777777777778, \"#fb9f3a\"], [0.8888888888888888, \"#fdca26\"], [1.0, \"#f0f921\"]], \"sequentialminus\": [[0.0, \"#0d0887\"], [0.1111111111111111, \"#46039f\"], [0.2222222222222222, \"#7201a8\"], [0.3333333333333333, \"#9c179e\"], [0.4444444444444444, \"#bd3786\"], [0.5555555555555556, \"#d8576b\"], [0.6666666666666666, \"#ed7953\"], [0.7777777777777778, \"#fb9f3a\"], [0.8888888888888888, \"#fdca26\"], [1.0, \"#f0f921\"]]}, \"colorway\": [\"#636efa\", \"#EF553B\", \"#00cc96\", \"#ab63fa\", \"#FFA15A\", \"#19d3f3\", \"#FF6692\", \"#B6E880\", \"#FF97FF\", \"#FECB52\"], \"font\": {\"color\": \"#2a3f5f\"}, \"geo\": {\"bgcolor\": \"white\", \"lakecolor\": \"white\", \"landcolor\": \"#E5ECF6\", \"showlakes\": true, \"showland\": true, \"subunitcolor\": \"white\"}, \"hoverlabel\": {\"align\": \"left\"}, \"hovermode\": \"closest\", \"mapbox\": {\"style\": \"light\"}, \"paper_bgcolor\": \"white\", \"plot_bgcolor\": \"#E5ECF6\", \"polar\": {\"angularaxis\": {\"gridcolor\": \"white\", \"linecolor\": \"white\", \"ticks\": \"\"}, \"bgcolor\": \"#E5ECF6\", \"radialaxis\": {\"gridcolor\": \"white\", \"linecolor\": \"white\", \"ticks\": \"\"}}, \"scene\": {\"xaxis\": {\"backgroundcolor\": \"#E5ECF6\", \"gridcolor\": \"white\", \"gridwidth\": 2, \"linecolor\": \"white\", \"showbackground\": true, \"ticks\": \"\", \"zerolinecolor\": \"white\"}, \"yaxis\": {\"backgroundcolor\": \"#E5ECF6\", \"gridcolor\": \"white\", \"gridwidth\": 2, \"linecolor\": \"white\", \"showbackground\": true, \"ticks\": \"\", \"zerolinecolor\": \"white\"}, \"zaxis\": {\"backgroundcolor\": \"#E5ECF6\", \"gridcolor\": \"white\", \"gridwidth\": 2, \"linecolor\": \"white\", \"showbackground\": true, \"ticks\": \"\", \"zerolinecolor\": \"white\"}}, \"shapedefaults\": {\"line\": {\"color\": \"#2a3f5f\"}}, \"ternary\": {\"aaxis\": {\"gridcolor\": \"white\", \"linecolor\": \"white\", \"ticks\": \"\"}, \"baxis\": {\"gridcolor\": \"white\", \"linecolor\": \"white\", \"ticks\": \"\"}, \"bgcolor\": \"#E5ECF6\", \"caxis\": {\"gridcolor\": \"white\", \"linecolor\": \"white\", \"ticks\": \"\"}}, \"title\": {\"x\": 0.05}, \"xaxis\": {\"automargin\": true, \"gridcolor\": \"white\", \"linecolor\": \"white\", \"ticks\": \"\", \"title\": {\"standoff\": 15}, \"zerolinecolor\": \"white\", \"zerolinewidth\": 2}, \"yaxis\": {\"automargin\": true, \"gridcolor\": \"white\", \"linecolor\": \"white\", \"ticks\": \"\", \"title\": {\"standoff\": 15}, \"zerolinecolor\": \"white\", \"zerolinewidth\": 2}}}, \"title\": {\"text\": \"Top Genres\"}, \"xaxis\": {\"anchor\": \"y\", \"domain\": [0.0, 1.0], \"title\": {\"text\": \"Genre\"}}, \"yaxis\": {\"anchor\": \"x\", \"domain\": [0.0, 1.0], \"title\": {\"text\": \"Number of Apps\"}}},\n",
              "                        {\"responsive\": true}\n",
              "                    ).then(function(){\n",
              "                            \n",
              "var gd = document.getElementById('57b8c714-44aa-4e94-9efe-924fa7226b83');\n",
              "var x = new MutationObserver(function (mutations, observer) {{\n",
              "        var display = window.getComputedStyle(gd).display;\n",
              "        if (!display || display === 'none') {{\n",
              "            console.log([gd, 'removed!']);\n",
              "            Plotly.purge(gd);\n",
              "            observer.disconnect();\n",
              "        }}\n",
              "}});\n",
              "\n",
              "// Listen for the removal of the full notebook cells\n",
              "var notebookContainer = gd.closest('#notebook-container');\n",
              "if (notebookContainer) {{\n",
              "    x.observe(notebookContainer, {childList: true});\n",
              "}}\n",
              "\n",
              "// Listen for the clearing of the current output cell\n",
              "var outputEl = gd.closest('.output');\n",
              "if (outputEl) {{\n",
              "    x.observe(outputEl, {childList: true});\n",
              "}}\n",
              "\n",
              "                        })\n",
              "                };\n",
              "                \n",
              "            </script>\n",
              "        </div>\n",
              "</body>\n",
              "</html>"
            ]
          },
          "metadata": {}
        }
      ]
    },
    {
      "cell_type": "markdown",
      "metadata": {
        "id": "BIWG_10PyIzL"
      },
      "source": [
        "# Grouped Bar Charts: Free vs. Paid Apps per Category"
      ]
    },
    {
      "cell_type": "code",
      "metadata": {
        "id": "ANMs7xywolDH",
        "colab": {
          "base_uri": "https://localhost:8080/"
        },
        "outputId": "13c91be3-a20b-4bf6-bbcc-f1625968f184"
      },
      "source": [
        "df_apps_clean.Type.value_counts()"
      ],
      "execution_count": 59,
      "outputs": [
        {
          "output_type": "execute_result",
          "data": {
            "text/plain": [
              "Free    7595\n",
              "Paid     589\n",
              "Name: Type, dtype: int64"
            ]
          },
          "metadata": {},
          "execution_count": 59
        }
      ]
    },
    {
      "cell_type": "markdown",
      "metadata": {
        "id": "wmRXm0TW1e_Z"
      },
      "source": [
        "**Challenge**: Use the plotly express bar [chart examples](https://plotly.com/python/bar-charts/#bar-chart-with-sorted-or-ordered-categories) and the [.bar() API reference](https://plotly.com/python-api-reference/generated/plotly.express.bar.html#plotly.express.bar) to create this bar chart: \n",
        "\n",
        "<img src=https://imgur.com/LE0XCxA.png>\n",
        "\n",
        "You'll want to use the `df_free_vs_paid` DataFrame that you created above that has the total number of free and paid apps per category. \n",
        "\n",
        "See if you can figure out how to get the look above by changing the `categoryorder` to 'total descending' as outlined in the documentation here [here](https://plotly.com/python/categorical-axes/#automatically-sorting-categories-by-name-or-total-value). "
      ]
    },
    {
      "cell_type": "code",
      "metadata": {
        "id": "tqOntrS7onGt",
        "colab": {
          "base_uri": "https://localhost:8080/",
          "height": 542
        },
        "outputId": "247d0346-8b21-4055-c50c-80c3c566136b"
      },
      "source": [
        "df_free_vs_paid = df_apps_clean.groupby([\"Category\", \"Type\"], as_index=False).agg({'App': pd.Series.count})\n",
        "df_free_vs_paid.head()\n",
        "\n",
        "g_bar = px.bar(df_free_vs_paid,\n",
        "                x='Category',\n",
        "                y='App',\n",
        "                title='Free vs Paid Apps by Category',\n",
        "                color='Type',\n",
        "                barmode='group')\n",
        "  \n",
        "g_bar.update_layout(xaxis_title='Category',\n",
        "                    yaxis_title='Number of Apps',\n",
        "                    xaxis={'categoryorder':'total descending'},\n",
        "                    yaxis=dict(type='log'))\n",
        "  \n",
        "g_bar.show()"
      ],
      "execution_count": 61,
      "outputs": [
        {
          "output_type": "display_data",
          "data": {
            "text/html": [
              "<html>\n",
              "<head><meta charset=\"utf-8\" /></head>\n",
              "<body>\n",
              "    <div>\n",
              "            <script src=\"https://cdnjs.cloudflare.com/ajax/libs/mathjax/2.7.5/MathJax.js?config=TeX-AMS-MML_SVG\"></script><script type=\"text/javascript\">if (window.MathJax) {MathJax.Hub.Config({SVG: {font: \"STIX-Web\"}});}</script>\n",
              "                <script type=\"text/javascript\">window.PlotlyConfig = {MathJaxConfig: 'local'};</script>\n",
              "        <script src=\"https://cdn.plot.ly/plotly-latest.min.js\"></script>    \n",
              "            <div id=\"82377c3d-a225-4b48-8689-967b5f67b634\" class=\"plotly-graph-div\" style=\"height:525px; width:100%;\"></div>\n",
              "            <script type=\"text/javascript\">\n",
              "                \n",
              "                    window.PLOTLYENV=window.PLOTLYENV || {};\n",
              "                    \n",
              "                if (document.getElementById(\"82377c3d-a225-4b48-8689-967b5f67b634\")) {\n",
              "                    Plotly.newPlot(\n",
              "                        '82377c3d-a225-4b48-8689-967b5f67b634',\n",
              "                        [{\"alignmentgroup\": \"True\", \"hoverlabel\": {\"namelength\": 0}, \"hovertemplate\": \"Type=Free<br>Category=%{x}<br>App=%{y}\", \"legendgroup\": \"Type=Free\", \"marker\": {\"color\": \"#636efa\"}, \"name\": \"Type=Free\", \"offsetgroup\": \"Type=Free\", \"orientation\": \"v\", \"showlegend\": true, \"textposition\": \"auto\", \"type\": \"bar\", \"x\": [\"ART_AND_DESIGN\", \"AUTO_AND_VEHICLES\", \"BEAUTY\", \"BOOKS_AND_REFERENCE\", \"BUSINESS\", \"COMICS\", \"COMMUNICATION\", \"DATING\", \"EDUCATION\", \"ENTERTAINMENT\", \"EVENTS\", \"FAMILY\", \"FINANCE\", \"FOOD_AND_DRINK\", \"GAME\", \"HEALTH_AND_FITNESS\", \"HOUSE_AND_HOME\", \"LIBRARIES_AND_DEMO\", \"LIFESTYLE\", \"MAPS_AND_NAVIGATION\", \"MEDICAL\", \"NEWS_AND_MAGAZINES\", \"PARENTING\", \"PERSONALIZATION\", \"PHOTOGRAPHY\", \"PRODUCTIVITY\", \"SHOPPING\", \"SOCIAL\", \"SPORTS\", \"TOOLS\", \"TRAVEL_AND_LOCAL\", \"VIDEO_PLAYERS\", \"WEATHER\"], \"xaxis\": \"x\", \"y\": [58, 72, 42, 161, 253, 54, 235, 131, 114, 100, 45, 1456, 289, 92, 834, 232, 62, 64, 284, 113, 229, 202, 48, 233, 248, 283, 178, 201, 238, 656, 179, 144, 65], \"yaxis\": \"y\"}, {\"alignmentgroup\": \"True\", \"hoverlabel\": {\"namelength\": 0}, \"hovertemplate\": \"Type=Paid<br>Category=%{x}<br>App=%{y}\", \"legendgroup\": \"Type=Paid\", \"marker\": {\"color\": \"#EF553B\"}, \"name\": \"Type=Paid\", \"offsetgroup\": \"Type=Paid\", \"orientation\": \"v\", \"showlegend\": true, \"textposition\": \"auto\", \"type\": \"bar\", \"x\": [\"ART_AND_DESIGN\", \"AUTO_AND_VEHICLES\", \"BOOKS_AND_REFERENCE\", \"BUSINESS\", \"COMMUNICATION\", \"DATING\", \"EDUCATION\", \"ENTERTAINMENT\", \"FAMILY\", \"FINANCE\", \"FOOD_AND_DRINK\", \"GAME\", \"HEALTH_AND_FITNESS\", \"LIFESTYLE\", \"MAPS_AND_NAVIGATION\", \"MEDICAL\", \"NEWS_AND_MAGAZINES\", \"PARENTING\", \"PERSONALIZATION\", \"PHOTOGRAPHY\", \"PRODUCTIVITY\", \"SHOPPING\", \"SOCIAL\", \"SPORTS\", \"TOOLS\", \"TRAVEL_AND_LOCAL\", \"VIDEO_PLAYERS\", \"WEATHER\"], \"xaxis\": \"x\", \"y\": [3, 1, 8, 9, 22, 3, 4, 2, 150, 7, 2, 76, 11, 13, 5, 63, 2, 2, 65, 15, 18, 2, 2, 22, 63, 8, 4, 7], \"yaxis\": \"y\"}],\n",
              "                        {\"barmode\": \"group\", \"legend\": {\"tracegroupgap\": 0}, \"template\": {\"data\": {\"bar\": [{\"error_x\": {\"color\": \"#2a3f5f\"}, \"error_y\": {\"color\": \"#2a3f5f\"}, \"marker\": {\"line\": {\"color\": \"#E5ECF6\", \"width\": 0.5}}, \"type\": \"bar\"}], \"barpolar\": [{\"marker\": {\"line\": {\"color\": \"#E5ECF6\", \"width\": 0.5}}, \"type\": \"barpolar\"}], \"carpet\": [{\"aaxis\": {\"endlinecolor\": \"#2a3f5f\", \"gridcolor\": \"white\", \"linecolor\": \"white\", \"minorgridcolor\": \"white\", \"startlinecolor\": \"#2a3f5f\"}, \"baxis\": {\"endlinecolor\": \"#2a3f5f\", \"gridcolor\": \"white\", \"linecolor\": \"white\", \"minorgridcolor\": \"white\", \"startlinecolor\": \"#2a3f5f\"}, \"type\": \"carpet\"}], \"choropleth\": [{\"colorbar\": {\"outlinewidth\": 0, \"ticks\": \"\"}, \"type\": \"choropleth\"}], \"contour\": [{\"colorbar\": {\"outlinewidth\": 0, \"ticks\": \"\"}, \"colorscale\": [[0.0, \"#0d0887\"], [0.1111111111111111, \"#46039f\"], [0.2222222222222222, \"#7201a8\"], [0.3333333333333333, \"#9c179e\"], [0.4444444444444444, \"#bd3786\"], [0.5555555555555556, \"#d8576b\"], [0.6666666666666666, \"#ed7953\"], [0.7777777777777778, \"#fb9f3a\"], [0.8888888888888888, \"#fdca26\"], [1.0, \"#f0f921\"]], \"type\": \"contour\"}], \"contourcarpet\": [{\"colorbar\": {\"outlinewidth\": 0, \"ticks\": \"\"}, \"type\": \"contourcarpet\"}], \"heatmap\": [{\"colorbar\": {\"outlinewidth\": 0, \"ticks\": \"\"}, \"colorscale\": [[0.0, \"#0d0887\"], [0.1111111111111111, \"#46039f\"], [0.2222222222222222, \"#7201a8\"], [0.3333333333333333, \"#9c179e\"], [0.4444444444444444, \"#bd3786\"], [0.5555555555555556, \"#d8576b\"], [0.6666666666666666, \"#ed7953\"], [0.7777777777777778, \"#fb9f3a\"], [0.8888888888888888, \"#fdca26\"], [1.0, \"#f0f921\"]], \"type\": \"heatmap\"}], \"heatmapgl\": [{\"colorbar\": {\"outlinewidth\": 0, \"ticks\": \"\"}, \"colorscale\": [[0.0, \"#0d0887\"], [0.1111111111111111, \"#46039f\"], [0.2222222222222222, \"#7201a8\"], [0.3333333333333333, \"#9c179e\"], [0.4444444444444444, \"#bd3786\"], [0.5555555555555556, \"#d8576b\"], [0.6666666666666666, \"#ed7953\"], [0.7777777777777778, \"#fb9f3a\"], [0.8888888888888888, \"#fdca26\"], [1.0, \"#f0f921\"]], \"type\": \"heatmapgl\"}], \"histogram\": [{\"marker\": {\"colorbar\": {\"outlinewidth\": 0, \"ticks\": \"\"}}, \"type\": \"histogram\"}], \"histogram2d\": [{\"colorbar\": {\"outlinewidth\": 0, \"ticks\": \"\"}, \"colorscale\": [[0.0, \"#0d0887\"], [0.1111111111111111, \"#46039f\"], [0.2222222222222222, \"#7201a8\"], [0.3333333333333333, \"#9c179e\"], [0.4444444444444444, \"#bd3786\"], [0.5555555555555556, \"#d8576b\"], [0.6666666666666666, \"#ed7953\"], [0.7777777777777778, \"#fb9f3a\"], [0.8888888888888888, \"#fdca26\"], [1.0, \"#f0f921\"]], \"type\": \"histogram2d\"}], \"histogram2dcontour\": [{\"colorbar\": {\"outlinewidth\": 0, \"ticks\": \"\"}, \"colorscale\": [[0.0, \"#0d0887\"], [0.1111111111111111, \"#46039f\"], [0.2222222222222222, \"#7201a8\"], [0.3333333333333333, \"#9c179e\"], [0.4444444444444444, \"#bd3786\"], [0.5555555555555556, \"#d8576b\"], [0.6666666666666666, \"#ed7953\"], [0.7777777777777778, \"#fb9f3a\"], [0.8888888888888888, \"#fdca26\"], [1.0, \"#f0f921\"]], \"type\": \"histogram2dcontour\"}], \"mesh3d\": [{\"colorbar\": {\"outlinewidth\": 0, \"ticks\": \"\"}, \"type\": \"mesh3d\"}], \"parcoords\": [{\"line\": {\"colorbar\": {\"outlinewidth\": 0, \"ticks\": \"\"}}, \"type\": \"parcoords\"}], \"pie\": [{\"automargin\": true, \"type\": \"pie\"}], \"scatter\": [{\"marker\": {\"colorbar\": {\"outlinewidth\": 0, \"ticks\": \"\"}}, \"type\": \"scatter\"}], \"scatter3d\": [{\"line\": {\"colorbar\": {\"outlinewidth\": 0, \"ticks\": \"\"}}, \"marker\": {\"colorbar\": {\"outlinewidth\": 0, \"ticks\": \"\"}}, \"type\": \"scatter3d\"}], \"scattercarpet\": [{\"marker\": {\"colorbar\": {\"outlinewidth\": 0, \"ticks\": \"\"}}, \"type\": \"scattercarpet\"}], \"scattergeo\": [{\"marker\": {\"colorbar\": {\"outlinewidth\": 0, \"ticks\": \"\"}}, \"type\": \"scattergeo\"}], \"scattergl\": [{\"marker\": {\"colorbar\": {\"outlinewidth\": 0, \"ticks\": \"\"}}, \"type\": \"scattergl\"}], \"scattermapbox\": [{\"marker\": {\"colorbar\": {\"outlinewidth\": 0, \"ticks\": \"\"}}, \"type\": \"scattermapbox\"}], \"scatterpolar\": [{\"marker\": {\"colorbar\": {\"outlinewidth\": 0, \"ticks\": \"\"}}, \"type\": \"scatterpolar\"}], \"scatterpolargl\": [{\"marker\": {\"colorbar\": {\"outlinewidth\": 0, \"ticks\": \"\"}}, \"type\": \"scatterpolargl\"}], \"scatterternary\": [{\"marker\": {\"colorbar\": {\"outlinewidth\": 0, \"ticks\": \"\"}}, \"type\": \"scatterternary\"}], \"surface\": [{\"colorbar\": {\"outlinewidth\": 0, \"ticks\": \"\"}, \"colorscale\": [[0.0, \"#0d0887\"], [0.1111111111111111, \"#46039f\"], [0.2222222222222222, \"#7201a8\"], [0.3333333333333333, \"#9c179e\"], [0.4444444444444444, \"#bd3786\"], [0.5555555555555556, \"#d8576b\"], [0.6666666666666666, \"#ed7953\"], [0.7777777777777778, \"#fb9f3a\"], [0.8888888888888888, \"#fdca26\"], [1.0, \"#f0f921\"]], \"type\": \"surface\"}], \"table\": [{\"cells\": {\"fill\": {\"color\": \"#EBF0F8\"}, \"line\": {\"color\": \"white\"}}, \"header\": {\"fill\": {\"color\": \"#C8D4E3\"}, \"line\": {\"color\": \"white\"}}, \"type\": \"table\"}]}, \"layout\": {\"annotationdefaults\": {\"arrowcolor\": \"#2a3f5f\", \"arrowhead\": 0, \"arrowwidth\": 1}, \"coloraxis\": {\"colorbar\": {\"outlinewidth\": 0, \"ticks\": \"\"}}, \"colorscale\": {\"diverging\": [[0, \"#8e0152\"], [0.1, \"#c51b7d\"], [0.2, \"#de77ae\"], [0.3, \"#f1b6da\"], [0.4, \"#fde0ef\"], [0.5, \"#f7f7f7\"], [0.6, \"#e6f5d0\"], [0.7, \"#b8e186\"], [0.8, \"#7fbc41\"], [0.9, \"#4d9221\"], [1, \"#276419\"]], \"sequential\": [[0.0, \"#0d0887\"], [0.1111111111111111, \"#46039f\"], [0.2222222222222222, \"#7201a8\"], [0.3333333333333333, \"#9c179e\"], [0.4444444444444444, \"#bd3786\"], [0.5555555555555556, \"#d8576b\"], [0.6666666666666666, \"#ed7953\"], [0.7777777777777778, \"#fb9f3a\"], [0.8888888888888888, \"#fdca26\"], [1.0, \"#f0f921\"]], \"sequentialminus\": [[0.0, \"#0d0887\"], [0.1111111111111111, \"#46039f\"], [0.2222222222222222, \"#7201a8\"], [0.3333333333333333, \"#9c179e\"], [0.4444444444444444, \"#bd3786\"], [0.5555555555555556, \"#d8576b\"], [0.6666666666666666, \"#ed7953\"], [0.7777777777777778, \"#fb9f3a\"], [0.8888888888888888, \"#fdca26\"], [1.0, \"#f0f921\"]]}, \"colorway\": [\"#636efa\", \"#EF553B\", \"#00cc96\", \"#ab63fa\", \"#FFA15A\", \"#19d3f3\", \"#FF6692\", \"#B6E880\", \"#FF97FF\", \"#FECB52\"], \"font\": {\"color\": \"#2a3f5f\"}, \"geo\": {\"bgcolor\": \"white\", \"lakecolor\": \"white\", \"landcolor\": \"#E5ECF6\", \"showlakes\": true, \"showland\": true, \"subunitcolor\": \"white\"}, \"hoverlabel\": {\"align\": \"left\"}, \"hovermode\": \"closest\", \"mapbox\": {\"style\": \"light\"}, \"paper_bgcolor\": \"white\", \"plot_bgcolor\": \"#E5ECF6\", \"polar\": {\"angularaxis\": {\"gridcolor\": \"white\", \"linecolor\": \"white\", \"ticks\": \"\"}, \"bgcolor\": \"#E5ECF6\", \"radialaxis\": {\"gridcolor\": \"white\", \"linecolor\": \"white\", \"ticks\": \"\"}}, \"scene\": {\"xaxis\": {\"backgroundcolor\": \"#E5ECF6\", \"gridcolor\": \"white\", \"gridwidth\": 2, \"linecolor\": \"white\", \"showbackground\": true, \"ticks\": \"\", \"zerolinecolor\": \"white\"}, \"yaxis\": {\"backgroundcolor\": \"#E5ECF6\", \"gridcolor\": \"white\", \"gridwidth\": 2, \"linecolor\": \"white\", \"showbackground\": true, \"ticks\": \"\", \"zerolinecolor\": \"white\"}, \"zaxis\": {\"backgroundcolor\": \"#E5ECF6\", \"gridcolor\": \"white\", \"gridwidth\": 2, \"linecolor\": \"white\", \"showbackground\": true, \"ticks\": \"\", \"zerolinecolor\": \"white\"}}, \"shapedefaults\": {\"line\": {\"color\": \"#2a3f5f\"}}, \"ternary\": {\"aaxis\": {\"gridcolor\": \"white\", \"linecolor\": \"white\", \"ticks\": \"\"}, \"baxis\": {\"gridcolor\": \"white\", \"linecolor\": \"white\", \"ticks\": \"\"}, \"bgcolor\": \"#E5ECF6\", \"caxis\": {\"gridcolor\": \"white\", \"linecolor\": \"white\", \"ticks\": \"\"}}, \"title\": {\"x\": 0.05}, \"xaxis\": {\"automargin\": true, \"gridcolor\": \"white\", \"linecolor\": \"white\", \"ticks\": \"\", \"title\": {\"standoff\": 15}, \"zerolinecolor\": \"white\", \"zerolinewidth\": 2}, \"yaxis\": {\"automargin\": true, \"gridcolor\": \"white\", \"linecolor\": \"white\", \"ticks\": \"\", \"title\": {\"standoff\": 15}, \"zerolinecolor\": \"white\", \"zerolinewidth\": 2}}}, \"title\": {\"text\": \"Free vs Paid Apps by Category\"}, \"xaxis\": {\"anchor\": \"y\", \"categoryorder\": \"total descending\", \"domain\": [0.0, 1.0], \"title\": {\"text\": \"Category\"}}, \"yaxis\": {\"anchor\": \"x\", \"domain\": [0.0, 1.0], \"title\": {\"text\": \"Number of Apps\"}, \"type\": \"log\"}},\n",
              "                        {\"responsive\": true}\n",
              "                    ).then(function(){\n",
              "                            \n",
              "var gd = document.getElementById('82377c3d-a225-4b48-8689-967b5f67b634');\n",
              "var x = new MutationObserver(function (mutations, observer) {{\n",
              "        var display = window.getComputedStyle(gd).display;\n",
              "        if (!display || display === 'none') {{\n",
              "            console.log([gd, 'removed!']);\n",
              "            Plotly.purge(gd);\n",
              "            observer.disconnect();\n",
              "        }}\n",
              "}});\n",
              "\n",
              "// Listen for the removal of the full notebook cells\n",
              "var notebookContainer = gd.closest('#notebook-container');\n",
              "if (notebookContainer) {{\n",
              "    x.observe(notebookContainer, {childList: true});\n",
              "}}\n",
              "\n",
              "// Listen for the clearing of the current output cell\n",
              "var outputEl = gd.closest('.output');\n",
              "if (outputEl) {{\n",
              "    x.observe(outputEl, {childList: true});\n",
              "}}\n",
              "\n",
              "                        })\n",
              "                };\n",
              "                \n",
              "            </script>\n",
              "        </div>\n",
              "</body>\n",
              "</html>"
            ]
          },
          "metadata": {}
        }
      ]
    },
    {
      "cell_type": "markdown",
      "metadata": {
        "id": "nbYh2tU-VZ-i"
      },
      "source": [
        "# Plotly Box Plots: Lost Downloads for Paid Apps\n",
        "\n",
        "**Challenge**: Create a box plot that shows the number of Installs for free versus paid apps. How does the median number of installations compare? Is the difference large or small?\n",
        "\n",
        "Use the [Box Plots Guide](https://plotly.com/python/box-plots/) and the [.box API reference](https://plotly.com/python-api-reference/generated/plotly.express.box.html) to create the following chart. \n",
        "\n",
        "<img src=https://imgur.com/uVsECT3.png>\n"
      ]
    },
    {
      "cell_type": "code",
      "metadata": {
        "id": "Jip3hMZ7oqLS",
        "colab": {
          "base_uri": "https://localhost:8080/",
          "height": 542
        },
        "outputId": "a3974708-4233-4e24-fb10-e42d664ca733"
      },
      "source": [
        "box = px.box(df_apps_clean,\n",
        "              y='Installs',\n",
        "              x='Type',\n",
        "              color='Type',\n",
        "              notched=True,\n",
        "              points='all',\n",
        "              title='How Many Downloads are Paid Apps Giving Up?')\n",
        "  \n",
        "box.update_layout(yaxis=dict(type='log'))\n",
        "  \n",
        "box.show()"
      ],
      "execution_count": 62,
      "outputs": [
        {
          "output_type": "display_data",
          "data": {
            "text/html": [
              "<html>\n",
              "<head><meta charset=\"utf-8\" /></head>\n",
              "<body>\n",
              "    <div>\n",
              "            <script src=\"https://cdnjs.cloudflare.com/ajax/libs/mathjax/2.7.5/MathJax.js?config=TeX-AMS-MML_SVG\"></script><script type=\"text/javascript\">if (window.MathJax) {MathJax.Hub.Config({SVG: {font: \"STIX-Web\"}});}</script>\n",
              "                <script type=\"text/javascript\">window.PlotlyConfig = {MathJaxConfig: 'local'};</script>\n",
              "        <script src=\"https://cdn.plot.ly/plotly-latest.min.js\"></script>    \n",
              "            <div id=\"d71a7caf-efa2-4fa8-8208-7310e54e3019\" class=\"plotly-graph-div\" style=\"height:525px; width:100%;\"></div>\n",
              "            <script type=\"text/javascript\">\n",
              "                \n",
              "                    window.PLOTLYENV=window.PLOTLYENV || {};\n",
              "                    \n",
              "                if (document.getElementById(\"d71a7caf-efa2-4fa8-8208-7310e54e3019\")) {\n",
              "                    Plotly.newPlot(\n",
              "                        'd71a7caf-efa2-4fa8-8208-7310e54e3019',\n",
              "                        [{\"alignmentgroup\": \"True\", \"boxpoints\": \"all\", \"hoverlabel\": {\"namelength\": 0}, \"hovertemplate\": \"Type=%{x}<br>Installs=%{y}\", \"legendgroup\": \"Type=Free\", \"marker\": {\"color\": \"#636efa\"}, \"name\": \"Type=Free\", \"notched\": true, \"offsetgroup\": \"Type=Free\", \"orientation\": \"v\", \"showlegend\": true, \"type\": \"box\", \"x\": [\"Free\", \"Free\", \"Free\", \"Free\", \"Free\", \"Free\", \"Free\", \"Free\", \"Free\", \"Free\", \"Free\", \"Free\", \"Free\", \"Free\", \"Free\", \"Free\", \"Free\", \"Free\", \"Free\", \"Free\", \"Free\", \"Free\", \"Free\", \"Free\", \"Free\", \"Free\", \"Free\", \"Free\", \"Free\", \"Free\", \"Free\", \"Free\", \"Free\", \"Free\", \"Free\", \"Free\", \"Free\", \"Free\", \"Free\", \"Free\", \"Free\", \"Free\", \"Free\", \"Free\", \"Free\", \"Free\", \"Free\", \"Free\", \"Free\", \"Free\", \"Free\", \"Free\", \"Free\", \"Free\", \"Free\", \"Free\", \"Free\", \"Free\", \"Free\", \"Free\", \"Free\", \"Free\", \"Free\", \"Free\", \"Free\", \"Free\", \"Free\", \"Free\", \"Free\", \"Free\", \"Free\", \"Free\", \"Free\", \"Free\", \"Free\", \"Free\", \"Free\", \"Free\", \"Free\", \"Free\", \"Free\", \"Free\", \"Free\", \"Free\", \"Free\", \"Free\", \"Free\", \"Free\", \"Free\", \"Free\", \"Free\", \"Free\", \"Free\", \"Free\", \"Free\", \"Free\", \"Free\", \"Free\", \"Free\", \"Free\", \"Free\", \"Free\", \"Free\", \"Free\", \"Free\", \"Free\", \"Free\", \"Free\", \"Free\", \"Free\", \"Free\", \"Free\", \"Free\", \"Free\", \"Free\", \"Free\", \"Free\", \"Free\", \"Free\", \"Free\", \"Free\", \"Free\", \"Free\", \"Free\", \"Free\", \"Free\", \"Free\", \"Free\", \"Free\", \"Free\", \"Free\", \"Free\", \"Free\", \"Free\", \"Free\", \"Free\", \"Free\", \"Free\", \"Free\", \"Free\", \"Free\", \"Free\", \"Free\", \"Free\", \"Free\", \"Free\", \"Free\", \"Free\", \"Free\", \"Free\", \"Free\", \"Free\", \"Free\", \"Free\", \"Free\", \"Free\", \"Free\", \"Free\", \"Free\", \"Free\", \"Free\", \"Free\", \"Free\", \"Free\", \"Free\", \"Free\", \"Free\", \"Free\", \"Free\", \"Free\", \"Free\", \"Free\", \"Free\", \"Free\", \"Free\", \"Free\", \"Free\", \"Free\", \"Free\", \"Free\", \"Free\", \"Free\", \"Free\", \"Free\", \"Free\", \"Free\", \"Free\", \"Free\", \"Free\", \"Free\", \"Free\", \"Free\", \"Free\", \"Free\", \"Free\", \"Free\", \"Free\", \"Free\", \"Free\", \"Free\", \"Free\", \"Free\", \"Free\", \"Free\", \"Free\", \"Free\", \"Free\", \"Free\", \"Free\", \"Free\", \"Free\", \"Free\", \"Free\", \"Free\", \"Free\", \"Free\", \"Free\", \"Free\", \"Free\", \"Free\", \"Free\", \"Free\", \"Free\", \"Free\", \"Free\", \"Free\", \"Free\", \"Free\", \"Free\", \"Free\", \"Free\", \"Free\", \"Free\", \"Free\", \"Free\", \"Free\", \"Free\", \"Free\", \"Free\", \"Free\", \"Free\", \"Free\", \"Free\", \"Free\", \"Free\", \"Free\", \"Free\", \"Free\", \"Free\", \"Free\", \"Free\", \"Free\", \"Free\", \"Free\", \"Free\", \"Free\", \"Free\", \"Free\", \"Free\", \"Free\", \"Free\", \"Free\", \"Free\", \"Free\", \"Free\", \"Free\", \"Free\", \"Free\", \"Free\", \"Free\", \"Free\", \"Free\", \"Free\", \"Free\", \"Free\", \"Free\", \"Free\", \"Free\", \"Free\", \"Free\", \"Free\", \"Free\", \"Free\", \"Free\", \"Free\", \"Free\", \"Free\", \"Free\", \"Free\", \"Free\", \"Free\", \"Free\", \"Free\", \"Free\", \"Free\", \"Free\", \"Free\", \"Free\", \"Free\", \"Free\", \"Free\", \"Free\", \"Free\", \"Free\", \"Free\", \"Free\", \"Free\", \"Free\", \"Free\", \"Free\", \"Free\", \"Free\", \"Free\", \"Free\", \"Free\", \"Free\", \"Free\", \"Free\", \"Free\", \"Free\", \"Free\", \"Free\", \"Free\", \"Free\", \"Free\", \"Free\", \"Free\", \"Free\", \"Free\", \"Free\", \"Free\", \"Free\", \"Free\", \"Free\", \"Free\", \"Free\", \"Free\", \"Free\", \"Free\", \"Free\", \"Free\", \"Free\", \"Free\", \"Free\", \"Free\", \"Free\", \"Free\", \"Free\", \"Free\", \"Free\", \"Free\", \"Free\", \"Free\", \"Free\", \"Free\", \"Free\", \"Free\", \"Free\", \"Free\", \"Free\", \"Free\", \"Free\", \"Free\", \"Free\", \"Free\", \"Free\", \"Free\", \"Free\", \"Free\", \"Free\", \"Free\", \"Free\", \"Free\", \"Free\", \"Free\", \"Free\", \"Free\", \"Free\", \"Free\", \"Free\", \"Free\", \"Free\", \"Free\", \"Free\", \"Free\", \"Free\", \"Free\", \"Free\", \"Free\", \"Free\", \"Free\", \"Free\", \"Free\", \"Free\", \"Free\", \"Free\", \"Free\", \"Free\", \"Free\", \"Free\", \"Free\", \"Free\", \"Free\", \"Free\", \"Free\", \"Free\", \"Free\", \"Free\", \"Free\", \"Free\", \"Free\", \"Free\", \"Free\", \"Free\", \"Free\", \"Free\", \"Free\", \"Free\", \"Free\", \"Free\", \"Free\", \"Free\", \"Free\", \"Free\", \"Free\", \"Free\", \"Free\", \"Free\", \"Free\", \"Free\", \"Free\", \"Free\", \"Free\", \"Free\", \"Free\", \"Free\", \"Free\", \"Free\", \"Free\", \"Free\", \"Free\", \"Free\", \"Free\", \"Free\", \"Free\", \"Free\", \"Free\", \"Free\", \"Free\", \"Free\", \"Free\", \"Free\", \"Free\", \"Free\", \"Free\", \"Free\", \"Free\", \"Free\", \"Free\", \"Free\", \"Free\", \"Free\", \"Free\", \"Free\", \"Free\", \"Free\", \"Free\", \"Free\", \"Free\", \"Free\", \"Free\", \"Free\", \"Free\", \"Free\", \"Free\", \"Free\", \"Free\", \"Free\", \"Free\", \"Free\", \"Free\", \"Free\", \"Free\", \"Free\", \"Free\", \"Free\", \"Free\", \"Free\", \"Free\", \"Free\", \"Free\", \"Free\", \"Free\", \"Free\", \"Free\", \"Free\", \"Free\", \"Free\", \"Free\", \"Free\", \"Free\", \"Free\", \"Free\", \"Free\", \"Free\", \"Free\", \"Free\", \"Free\", \"Free\", \"Free\", \"Free\", \"Free\", \"Free\", \"Free\", \"Free\", \"Free\", \"Free\", \"Free\", \"Free\", \"Free\", \"Free\", \"Free\", \"Free\", \"Free\", \"Free\", \"Free\", \"Free\", \"Free\", \"Free\", \"Free\", \"Free\", \"Free\", \"Free\", \"Free\", \"Free\", \"Free\", \"Free\", \"Free\", \"Free\", \"Free\", \"Free\", \"Free\", \"Free\", \"Free\", \"Free\", \"Free\", \"Free\", \"Free\", \"Free\", \"Free\", \"Free\", \"Free\", \"Free\", \"Free\", \"Free\", \"Free\", \"Free\", \"Free\", \"Free\", \"Free\", \"Free\", \"Free\", \"Free\", \"Free\", \"Free\", \"Free\", \"Free\", \"Free\", \"Free\", \"Free\", \"Free\", \"Free\", \"Free\", \"Free\", \"Free\", \"Free\", \"Free\", \"Free\", \"Free\", \"Free\", \"Free\", \"Free\", \"Free\", \"Free\", \"Free\", \"Free\", \"Free\", \"Free\", \"Free\", \"Free\", \"Free\", \"Free\", \"Free\", \"Free\", \"Free\", \"Free\", \"Free\", \"Free\", \"Free\", \"Free\", \"Free\", \"Free\", \"Free\", \"Free\", \"Free\", \"Free\", \"Free\", \"Free\", \"Free\", \"Free\", \"Free\", \"Free\", \"Free\", \"Free\", \"Free\", \"Free\", \"Free\", \"Free\", \"Free\", \"Free\", \"Free\", \"Free\", \"Free\", \"Free\", \"Free\", \"Free\", \"Free\", \"Free\", \"Free\", \"Free\", \"Free\", \"Free\", \"Free\", \"Free\", \"Free\", \"Free\", \"Free\", \"Free\", \"Free\", \"Free\", \"Free\", \"Free\", \"Free\", \"Free\", \"Free\", \"Free\", \"Free\", \"Free\", \"Free\", \"Free\", \"Free\", \"Free\", \"Free\", \"Free\", \"Free\", \"Free\", \"Free\", \"Free\", \"Free\", \"Free\", \"Free\", \"Free\", \"Free\", \"Free\", \"Free\", \"Free\", \"Free\", \"Free\", \"Free\", \"Free\", \"Free\", \"Free\", \"Free\", \"Free\", \"Free\", \"Free\", \"Free\", \"Free\", \"Free\", \"Free\", \"Free\", \"Free\", \"Free\", \"Free\", \"Free\", \"Free\", \"Free\", \"Free\", \"Free\", \"Free\", \"Free\", \"Free\", \"Free\", \"Free\", \"Free\", \"Free\", \"Free\", \"Free\", \"Free\", \"Free\", \"Free\", \"Free\", \"Free\", \"Free\", \"Free\", \"Free\", \"Free\", \"Free\", \"Free\", \"Free\", \"Free\", \"Free\", \"Free\", \"Free\", \"Free\", \"Free\", \"Free\", \"Free\", \"Free\", \"Free\", \"Free\", \"Free\", \"Free\", \"Free\", \"Free\", \"Free\", \"Free\", \"Free\", \"Free\", \"Free\", \"Free\", \"Free\", \"Free\", \"Free\", \"Free\", \"Free\", \"Free\", \"Free\", \"Free\", \"Free\", \"Free\", \"Free\", \"Free\", \"Free\", \"Free\", \"Free\", \"Free\", \"Free\", \"Free\", \"Free\", \"Free\", \"Free\", \"Free\", \"Free\", \"Free\", \"Free\", \"Free\", \"Free\", \"Free\", \"Free\", \"Free\", \"Free\", \"Free\", \"Free\", \"Free\", \"Free\", \"Free\", \"Free\", \"Free\", \"Free\", \"Free\", \"Free\", \"Free\", \"Free\", \"Free\", \"Free\", \"Free\", \"Free\", \"Free\", \"Free\", \"Free\", \"Free\", \"Free\", \"Free\", \"Free\", \"Free\", \"Free\", \"Free\", \"Free\", \"Free\", \"Free\", \"Free\", \"Free\", \"Free\", \"Free\", \"Free\", \"Free\", \"Free\", \"Free\", \"Free\", \"Free\", \"Free\", \"Free\", \"Free\", \"Free\", \"Free\", \"Free\", \"Free\", \"Free\", \"Free\", \"Free\", \"Free\", \"Free\", \"Free\", \"Free\", \"Free\", \"Free\", \"Free\", \"Free\", \"Free\", \"Free\", \"Free\", \"Free\", \"Free\", \"Free\", \"Free\", \"Free\", \"Free\", \"Free\", \"Free\", \"Free\", \"Free\", \"Free\", \"Free\", \"Free\", \"Free\", \"Free\", \"Free\", \"Free\", \"Free\", \"Free\", \"Free\", \"Free\", \"Free\", \"Free\", \"Free\", \"Free\", \"Free\", \"Free\", \"Free\", \"Free\", \"Free\", \"Free\", \"Free\", \"Free\", \"Free\", \"Free\", \"Free\", \"Free\", \"Free\", \"Free\", \"Free\", \"Free\", \"Free\", \"Free\", \"Free\", \"Free\", \"Free\", \"Free\", \"Free\", \"Free\", \"Free\", \"Free\", \"Free\", \"Free\", \"Free\", \"Free\", \"Free\", \"Free\", \"Free\", \"Free\", \"Free\", \"Free\", \"Free\", \"Free\", \"Free\", \"Free\", \"Free\", \"Free\", \"Free\", \"Free\", \"Free\", \"Free\", \"Free\", \"Free\", \"Free\", \"Free\", \"Free\", \"Free\", \"Free\", \"Free\", \"Free\", \"Free\", \"Free\", \"Free\", \"Free\", \"Free\", \"Free\", \"Free\", \"Free\", \"Free\", \"Free\", \"Free\", \"Free\", \"Free\", \"Free\", \"Free\", \"Free\", \"Free\", \"Free\", \"Free\", \"Free\", \"Free\", \"Free\", \"Free\", \"Free\", \"Free\", \"Free\", \"Free\", \"Free\", \"Free\", \"Free\", \"Free\", \"Free\", \"Free\", \"Free\", \"Free\", \"Free\", \"Free\", \"Free\", \"Free\", \"Free\", \"Free\", \"Free\", \"Free\", \"Free\", \"Free\", \"Free\", \"Free\", \"Free\", \"Free\", \"Free\", \"Free\", \"Free\", \"Free\", \"Free\", \"Free\", \"Free\", \"Free\", \"Free\", \"Free\", \"Free\", \"Free\", \"Free\", \"Free\", \"Free\", \"Free\", \"Free\", \"Free\", \"Free\", \"Free\", \"Free\", \"Free\", \"Free\", \"Free\", \"Free\", \"Free\", \"Free\", \"Free\", \"Free\", \"Free\", \"Free\", \"Free\", \"Free\", \"Free\", \"Free\", \"Free\", \"Free\", \"Free\", \"Free\", \"Free\", \"Free\", \"Free\", \"Free\", \"Free\", \"Free\", \"Free\", \"Free\", \"Free\", \"Free\", \"Free\", \"Free\", \"Free\", \"Free\", \"Free\", \"Free\", \"Free\", \"Free\", \"Free\", \"Free\", \"Free\", \"Free\", \"Free\", \"Free\", \"Free\", \"Free\", \"Free\", \"Free\", \"Free\", \"Free\", \"Free\", \"Free\", \"Free\", \"Free\", \"Free\", \"Free\", \"Free\", \"Free\", \"Free\", \"Free\", \"Free\", \"Free\", \"Free\", \"Free\", \"Free\", \"Free\", \"Free\", \"Free\", \"Free\", \"Free\", \"Free\", \"Free\", \"Free\", \"Free\", \"Free\", \"Free\", \"Free\", \"Free\", \"Free\", \"Free\", \"Free\", \"Free\", \"Free\", \"Free\", \"Free\", \"Free\", \"Free\", \"Free\", \"Free\", \"Free\", \"Free\", \"Free\", \"Free\", \"Free\", \"Free\", \"Free\", \"Free\", \"Free\", \"Free\", \"Free\", \"Free\", \"Free\", \"Free\", \"Free\", \"Free\", \"Free\", \"Free\", \"Free\", \"Free\", \"Free\", \"Free\", \"Free\", \"Free\", \"Free\", \"Free\", \"Free\", \"Free\", \"Free\", \"Free\", \"Free\", \"Free\", \"Free\", \"Free\", \"Free\", \"Free\", \"Free\", \"Free\", \"Free\", \"Free\", \"Free\", \"Free\", \"Free\", \"Free\", \"Free\", \"Free\", \"Free\", \"Free\", \"Free\", \"Free\", \"Free\", \"Free\", \"Free\", \"Free\", \"Free\", \"Free\", \"Free\", \"Free\", \"Free\", \"Free\", \"Free\", \"Free\", \"Free\", \"Free\", \"Free\", \"Free\", \"Free\", \"Free\", \"Free\", \"Free\", \"Free\", \"Free\", \"Free\", \"Free\", \"Free\", \"Free\", \"Free\", \"Free\", \"Free\", \"Free\", \"Free\", \"Free\", \"Free\", \"Free\", \"Free\", \"Free\", \"Free\", \"Free\", \"Free\", \"Free\", \"Free\", \"Free\", \"Free\", \"Free\", \"Free\", \"Free\", \"Free\", \"Free\", \"Free\", \"Free\", \"Free\", \"Free\", \"Free\", \"Free\", \"Free\", \"Free\", \"Free\", \"Free\", \"Free\", \"Free\", \"Free\", \"Free\", \"Free\", \"Free\", \"Free\", \"Free\", \"Free\", \"Free\", \"Free\", \"Free\", \"Free\", \"Free\", \"Free\", \"Free\", \"Free\", \"Free\", \"Free\", \"Free\", \"Free\", \"Free\", \"Free\", \"Free\", \"Free\", \"Free\", \"Free\", \"Free\", \"Free\", \"Free\", \"Free\", \"Free\", \"Free\", \"Free\", \"Free\", \"Free\", \"Free\", \"Free\", \"Free\", \"Free\", \"Free\", \"Free\", \"Free\", \"Free\", \"Free\", \"Free\", \"Free\", \"Free\", \"Free\", \"Free\", \"Free\", \"Free\", \"Free\", \"Free\", \"Free\", \"Free\", \"Free\", \"Free\", \"Free\", \"Free\", \"Free\", \"Free\", \"Free\", \"Free\", \"Free\", \"Free\", \"Free\", \"Free\", \"Free\", \"Free\", \"Free\", \"Free\", \"Free\", \"Free\", \"Free\", \"Free\", \"Free\", \"Free\", \"Free\", \"Free\", \"Free\", \"Free\", \"Free\", \"Free\", \"Free\", \"Free\", \"Free\", \"Free\", \"Free\", \"Free\", \"Free\", \"Free\", \"Free\", \"Free\", \"Free\", \"Free\", \"Free\", \"Free\", \"Free\", \"Free\", \"Free\", \"Free\", \"Free\", \"Free\", \"Free\", \"Free\", \"Free\", \"Free\", \"Free\", \"Free\", \"Free\", \"Free\", \"Free\", \"Free\", \"Free\", \"Free\", \"Free\", \"Free\", \"Free\", \"Free\", \"Free\", \"Free\", \"Free\", \"Free\", \"Free\", \"Free\", \"Free\", \"Free\", \"Free\", \"Free\", \"Free\", \"Free\", \"Free\", \"Free\", \"Free\", \"Free\", \"Free\", \"Free\", \"Free\", \"Free\", \"Free\", \"Free\", \"Free\", \"Free\", \"Free\", \"Free\", \"Free\", \"Free\", \"Free\", \"Free\", \"Free\", \"Free\", \"Free\", \"Free\", \"Free\", \"Free\", \"Free\", \"Free\", \"Free\", \"Free\", \"Free\", \"Free\", \"Free\", \"Free\", \"Free\", \"Free\", \"Free\", \"Free\", \"Free\", \"Free\", \"Free\", \"Free\", \"Free\", \"Free\", \"Free\", \"Free\", \"Free\", \"Free\", \"Free\", \"Free\", \"Free\", \"Free\", \"Free\", \"Free\", \"Free\", \"Free\", \"Free\", \"Free\", \"Free\", \"Free\", \"Free\", \"Free\", \"Free\", \"Free\", \"Free\", \"Free\", \"Free\", \"Free\", \"Free\", \"Free\", \"Free\", \"Free\", \"Free\", \"Free\", \"Free\", \"Free\", \"Free\", \"Free\", \"Free\", \"Free\", \"Free\", \"Free\", \"Free\", \"Free\", \"Free\", \"Free\", \"Free\", \"Free\", \"Free\", \"Free\", \"Free\", \"Free\", \"Free\", \"Free\", \"Free\", \"Free\", \"Free\", \"Free\", \"Free\", \"Free\", \"Free\", \"Free\", \"Free\", \"Free\", \"Free\", \"Free\", \"Free\", \"Free\", \"Free\", \"Free\", \"Free\", \"Free\", \"Free\", \"Free\", \"Free\", \"Free\", \"Free\", \"Free\", \"Free\", \"Free\", \"Free\", \"Free\", \"Free\", \"Free\", \"Free\", \"Free\", \"Free\", \"Free\", \"Free\", \"Free\", \"Free\", \"Free\", \"Free\", \"Free\", \"Free\", \"Free\", \"Free\", \"Free\", \"Free\", \"Free\", \"Free\", \"Free\", \"Free\", \"Free\", \"Free\", \"Free\", \"Free\", \"Free\", \"Free\", \"Free\", \"Free\", \"Free\", \"Free\", \"Free\", \"Free\", \"Free\", \"Free\", \"Free\", \"Free\", \"Free\", \"Free\", \"Free\", \"Free\", \"Free\", \"Free\", \"Free\", \"Free\", \"Free\", \"Free\", \"Free\", \"Free\", \"Free\", \"Free\", \"Free\", \"Free\", \"Free\", \"Free\", \"Free\", \"Free\", \"Free\", \"Free\", \"Free\", \"Free\", \"Free\", \"Free\", \"Free\", \"Free\", \"Free\", \"Free\", \"Free\", \"Free\", \"Free\", \"Free\", \"Free\", \"Free\", \"Free\", \"Free\", \"Free\", \"Free\", \"Free\", \"Free\", \"Free\", \"Free\", \"Free\", \"Free\", \"Free\", \"Free\", \"Free\", \"Free\", \"Free\", \"Free\", \"Free\", \"Free\", \"Free\", \"Free\", \"Free\", \"Free\", \"Free\", \"Free\", \"Free\", \"Free\", \"Free\", \"Free\", \"Free\", \"Free\", \"Free\", \"Free\", \"Free\", \"Free\", \"Free\", \"Free\", \"Free\", \"Free\", \"Free\", \"Free\", \"Free\", \"Free\", \"Free\", \"Free\", \"Free\", \"Free\", \"Free\", \"Free\", \"Free\", \"Free\", \"Free\", \"Free\", \"Free\", \"Free\", \"Free\", \"Free\", \"Free\", \"Free\", \"Free\", \"Free\", \"Free\", \"Free\", \"Free\", \"Free\", \"Free\", \"Free\", \"Free\", \"Free\", \"Free\", \"Free\", \"Free\", \"Free\", \"Free\", \"Free\", \"Free\", \"Free\", \"Free\", \"Free\", \"Free\", \"Free\", \"Free\", \"Free\", \"Free\", \"Free\", \"Free\", \"Free\", \"Free\", \"Free\", \"Free\", \"Free\", \"Free\", \"Free\", \"Free\", \"Free\", \"Free\", \"Free\", \"Free\", \"Free\", \"Free\", \"Free\", \"Free\", \"Free\", \"Free\", \"Free\", \"Free\", \"Free\", \"Free\", \"Free\", \"Free\", \"Free\", \"Free\", \"Free\", \"Free\", \"Free\", \"Free\", \"Free\", \"Free\", \"Free\", \"Free\", \"Free\", \"Free\", \"Free\", \"Free\", \"Free\", \"Free\", \"Free\", \"Free\", \"Free\", \"Free\", \"Free\", \"Free\", \"Free\", \"Free\", \"Free\", \"Free\", \"Free\", \"Free\", \"Free\", \"Free\", \"Free\", \"Free\", \"Free\", \"Free\", \"Free\", \"Free\", \"Free\", \"Free\", \"Free\", \"Free\", \"Free\", \"Free\", \"Free\", \"Free\", \"Free\", \"Free\", \"Free\", \"Free\", \"Free\", \"Free\", \"Free\", \"Free\", \"Free\", \"Free\", \"Free\", \"Free\", \"Free\", \"Free\", \"Free\", \"Free\", \"Free\", \"Free\", \"Free\", \"Free\", \"Free\", \"Free\", \"Free\", \"Free\", \"Free\", \"Free\", \"Free\", \"Free\", \"Free\", \"Free\", \"Free\", \"Free\", \"Free\", \"Free\", \"Free\", \"Free\", \"Free\", \"Free\", \"Free\", \"Free\", \"Free\", \"Free\", \"Free\", \"Free\", \"Free\", \"Free\", \"Free\", \"Free\", \"Free\", \"Free\", \"Free\", \"Free\", \"Free\", \"Free\", \"Free\", \"Free\", \"Free\", \"Free\", \"Free\", \"Free\", \"Free\", \"Free\", \"Free\", \"Free\", \"Free\", \"Free\", \"Free\", \"Free\", \"Free\", \"Free\", \"Free\", \"Free\", \"Free\", \"Free\", \"Free\", \"Free\", \"Free\", \"Free\", \"Free\", \"Free\", \"Free\", \"Free\", \"Free\", \"Free\", \"Free\", \"Free\", \"Free\", \"Free\", \"Free\", \"Free\", \"Free\", \"Free\", \"Free\", \"Free\", \"Free\", \"Free\", \"Free\", \"Free\", \"Free\", \"Free\", \"Free\", \"Free\", \"Free\", \"Free\", \"Free\", \"Free\", \"Free\", \"Free\", \"Free\", \"Free\", \"Free\", \"Free\", \"Free\", \"Free\", \"Free\", \"Free\", \"Free\", \"Free\", \"Free\", \"Free\", \"Free\", \"Free\", \"Free\", \"Free\", \"Free\", \"Free\", \"Free\", \"Free\", \"Free\", \"Free\", \"Free\", \"Free\", \"Free\", \"Free\", \"Free\", \"Free\", \"Free\", \"Free\", \"Free\", \"Free\", \"Free\", \"Free\", \"Free\", \"Free\", \"Free\", \"Free\", \"Free\", \"Free\", \"Free\", \"Free\", \"Free\", \"Free\", \"Free\", \"Free\", \"Free\", \"Free\", \"Free\", \"Free\", \"Free\", \"Free\", \"Free\", \"Free\", \"Free\", \"Free\", \"Free\", \"Free\", \"Free\", \"Free\", \"Free\", \"Free\", \"Free\", \"Free\", \"Free\", \"Free\", \"Free\", \"Free\", \"Free\", \"Free\", \"Free\", \"Free\", \"Free\", \"Free\", \"Free\", \"Free\", \"Free\", \"Free\", \"Free\", \"Free\", \"Free\", \"Free\", \"Free\", \"Free\", \"Free\", \"Free\", \"Free\", \"Free\", \"Free\", \"Free\", \"Free\", \"Free\", \"Free\", \"Free\", \"Free\", \"Free\", \"Free\", \"Free\", \"Free\", \"Free\", \"Free\", \"Free\", \"Free\", \"Free\", \"Free\", \"Free\", \"Free\", \"Free\", \"Free\", \"Free\", \"Free\", \"Free\", \"Free\", \"Free\", \"Free\", \"Free\", \"Free\", \"Free\", \"Free\", \"Free\", \"Free\", \"Free\", \"Free\", \"Free\", \"Free\", \"Free\", \"Free\", \"Free\", \"Free\", \"Free\", \"Free\", \"Free\", \"Free\", \"Free\", \"Free\", \"Free\", \"Free\", \"Free\", \"Free\", \"Free\", \"Free\", \"Free\", \"Free\", \"Free\", \"Free\", \"Free\", \"Free\", \"Free\", \"Free\", \"Free\", \"Free\", \"Free\", \"Free\", \"Free\", \"Free\", \"Free\", \"Free\", \"Free\", \"Free\", \"Free\", \"Free\", \"Free\", \"Free\", \"Free\", \"Free\", \"Free\", \"Free\", \"Free\", \"Free\", \"Free\", \"Free\", \"Free\", \"Free\", \"Free\", \"Free\", \"Free\", \"Free\", \"Free\", \"Free\", \"Free\", \"Free\", \"Free\", \"Free\", \"Free\", \"Free\", \"Free\", \"Free\", \"Free\", \"Free\", \"Free\", \"Free\", \"Free\", \"Free\", \"Free\", \"Free\", \"Free\", \"Free\", \"Free\", \"Free\", \"Free\", \"Free\", \"Free\", \"Free\", \"Free\", \"Free\", \"Free\", \"Free\", \"Free\", \"Free\", \"Free\", \"Free\", \"Free\", \"Free\", \"Free\", \"Free\", \"Free\", \"Free\", \"Free\", \"Free\", \"Free\", \"Free\", \"Free\", \"Free\", \"Free\", \"Free\", \"Free\", \"Free\", \"Free\", \"Free\", \"Free\", \"Free\", \"Free\", \"Free\", \"Free\", \"Free\", \"Free\", \"Free\", \"Free\", \"Free\", \"Free\", \"Free\", \"Free\", \"Free\", \"Free\", \"Free\", \"Free\", \"Free\", \"Free\", \"Free\", \"Free\", \"Free\", \"Free\", \"Free\", \"Free\", \"Free\", \"Free\", \"Free\", \"Free\", \"Free\", \"Free\", \"Free\", \"Free\", \"Free\", \"Free\", \"Free\", \"Free\", \"Free\", \"Free\", \"Free\", \"Free\", \"Free\", \"Free\", \"Free\", \"Free\", \"Free\", \"Free\", \"Free\", \"Free\", \"Free\", \"Free\", \"Free\", \"Free\", \"Free\", \"Free\", \"Free\", \"Free\", \"Free\", \"Free\", \"Free\", \"Free\", \"Free\", \"Free\", \"Free\", \"Free\", \"Free\", \"Free\", \"Free\", \"Free\", \"Free\", \"Free\", \"Free\", \"Free\", \"Free\", \"Free\", \"Free\", \"Free\", \"Free\", \"Free\", \"Free\", \"Free\", \"Free\", \"Free\", \"Free\", \"Free\", \"Free\", \"Free\", \"Free\", \"Free\", \"Free\", \"Free\", \"Free\", \"Free\", \"Free\", \"Free\", \"Free\", \"Free\", \"Free\", \"Free\", \"Free\", \"Free\", \"Free\", \"Free\", \"Free\", \"Free\", \"Free\", \"Free\", \"Free\", \"Free\", \"Free\", \"Free\", \"Free\", \"Free\", \"Free\", \"Free\", \"Free\", \"Free\", \"Free\", \"Free\", \"Free\", \"Free\", \"Free\", \"Free\", \"Free\", \"Free\", \"Free\", \"Free\", \"Free\", \"Free\", \"Free\", \"Free\", \"Free\", \"Free\", \"Free\", \"Free\", \"Free\", \"Free\", \"Free\", \"Free\", \"Free\", \"Free\", \"Free\", \"Free\", \"Free\", \"Free\", \"Free\", \"Free\", \"Free\", \"Free\", \"Free\", \"Free\", \"Free\", \"Free\", \"Free\", \"Free\", \"Free\", \"Free\", \"Free\", \"Free\", \"Free\", \"Free\", \"Free\", \"Free\", \"Free\", \"Free\", \"Free\", \"Free\", \"Free\", \"Free\", \"Free\", \"Free\", \"Free\", \"Free\", \"Free\", \"Free\", \"Free\", \"Free\", \"Free\", \"Free\", \"Free\", \"Free\", \"Free\", \"Free\", \"Free\", \"Free\", \"Free\", \"Free\", \"Free\", \"Free\", \"Free\", \"Free\", \"Free\", \"Free\", \"Free\", \"Free\", \"Free\", \"Free\", \"Free\", \"Free\", \"Free\", \"Free\", \"Free\", \"Free\", \"Free\", \"Free\", \"Free\", \"Free\", \"Free\", \"Free\", \"Free\", \"Free\", \"Free\", \"Free\", \"Free\", \"Free\", \"Free\", \"Free\", \"Free\", \"Free\", \"Free\", \"Free\", \"Free\", \"Free\", \"Free\", \"Free\", \"Free\", \"Free\", \"Free\", \"Free\", \"Free\", \"Free\", \"Free\", \"Free\", \"Free\", \"Free\", \"Free\", \"Free\", \"Free\", \"Free\", \"Free\", \"Free\", \"Free\", \"Free\", \"Free\", \"Free\", \"Free\", \"Free\", \"Free\", \"Free\", \"Free\", \"Free\", \"Free\", \"Free\", \"Free\", \"Free\", \"Free\", \"Free\", \"Free\", \"Free\", \"Free\", \"Free\", \"Free\", \"Free\", \"Free\", \"Free\", \"Free\", \"Free\", \"Free\", \"Free\", \"Free\", \"Free\", \"Free\", \"Free\", \"Free\", \"Free\", \"Free\", \"Free\", \"Free\", \"Free\", \"Free\", \"Free\", \"Free\", \"Free\", \"Free\", \"Free\", \"Free\", \"Free\", \"Free\", \"Free\", \"Free\", \"Free\", \"Free\", \"Free\", \"Free\", \"Free\", \"Free\", \"Free\", \"Free\", \"Free\", \"Free\", \"Free\", \"Free\", \"Free\", \"Free\", \"Free\", \"Free\", \"Free\", \"Free\", \"Free\", \"Free\", \"Free\", \"Free\", \"Free\", \"Free\", \"Free\", \"Free\", \"Free\", \"Free\", \"Free\", \"Free\", \"Free\", \"Free\", \"Free\", \"Free\", \"Free\", \"Free\", \"Free\", \"Free\", \"Free\", \"Free\", \"Free\", \"Free\", \"Free\", \"Free\", \"Free\", \"Free\", \"Free\", \"Free\", \"Free\", \"Free\", \"Free\", \"Free\", \"Free\", \"Free\", \"Free\", \"Free\", \"Free\", \"Free\", \"Free\", \"Free\", \"Free\", \"Free\", \"Free\", \"Free\", \"Free\", \"Free\", \"Free\", \"Free\", \"Free\", \"Free\", \"Free\", \"Free\", \"Free\", \"Free\", \"Free\", \"Free\", \"Free\", \"Free\", \"Free\", \"Free\", \"Free\", \"Free\", \"Free\", \"Free\", \"Free\", \"Free\", \"Free\", \"Free\", \"Free\", \"Free\", \"Free\", \"Free\", \"Free\", \"Free\", \"Free\", \"Free\", \"Free\", \"Free\", \"Free\", \"Free\", \"Free\", \"Free\", \"Free\", \"Free\", \"Free\", \"Free\", \"Free\", \"Free\", \"Free\", \"Free\", \"Free\", \"Free\", \"Free\", \"Free\", \"Free\", \"Free\", \"Free\", \"Free\", \"Free\", \"Free\", \"Free\", \"Free\", \"Free\", \"Free\", \"Free\", \"Free\", \"Free\", \"Free\", \"Free\", \"Free\", \"Free\", \"Free\", \"Free\", \"Free\", \"Free\", \"Free\", \"Free\", \"Free\", \"Free\", \"Free\", \"Free\", \"Free\", \"Free\", \"Free\", \"Free\", \"Free\", \"Free\", \"Free\", \"Free\", \"Free\", \"Free\", \"Free\", \"Free\", \"Free\", \"Free\", \"Free\", \"Free\", \"Free\", \"Free\", \"Free\", \"Free\", \"Free\", \"Free\", \"Free\", \"Free\", \"Free\", \"Free\", \"Free\", \"Free\", \"Free\", \"Free\", \"Free\", \"Free\", \"Free\", \"Free\", \"Free\", \"Free\", \"Free\", \"Free\", \"Free\", \"Free\", \"Free\", \"Free\", \"Free\", \"Free\", \"Free\", \"Free\", \"Free\", \"Free\", \"Free\", \"Free\", \"Free\", \"Free\", \"Free\", \"Free\", \"Free\", \"Free\", \"Free\", \"Free\", \"Free\", \"Free\", \"Free\", \"Free\", \"Free\", \"Free\", \"Free\", \"Free\", \"Free\", \"Free\", \"Free\", \"Free\", \"Free\", \"Free\", \"Free\", \"Free\", \"Free\", \"Free\", \"Free\", \"Free\", \"Free\", \"Free\", \"Free\", \"Free\", \"Free\", \"Free\", \"Free\", \"Free\", \"Free\", \"Free\", \"Free\", \"Free\", \"Free\", \"Free\", \"Free\", \"Free\", \"Free\", \"Free\", \"Free\", \"Free\", \"Free\", \"Free\", \"Free\", \"Free\", \"Free\", \"Free\", \"Free\", \"Free\", \"Free\", \"Free\", \"Free\", \"Free\", \"Free\", \"Free\", \"Free\", \"Free\", \"Free\", \"Free\", \"Free\", \"Free\", \"Free\", \"Free\", \"Free\", \"Free\", \"Free\", \"Free\", \"Free\", \"Free\", \"Free\", \"Free\", \"Free\", \"Free\", \"Free\", \"Free\", \"Free\", \"Free\", \"Free\", \"Free\", \"Free\", \"Free\", \"Free\", \"Free\", \"Free\", \"Free\", \"Free\", \"Free\", \"Free\", \"Free\", \"Free\", \"Free\", \"Free\", \"Free\", \"Free\", \"Free\", \"Free\", \"Free\", \"Free\", \"Free\", \"Free\", \"Free\", \"Free\", \"Free\", \"Free\", \"Free\", \"Free\", \"Free\", \"Free\", \"Free\", \"Free\", \"Free\", \"Free\", \"Free\", \"Free\", \"Free\", \"Free\", \"Free\", \"Free\", \"Free\", \"Free\", \"Free\", \"Free\", \"Free\", \"Free\", \"Free\", \"Free\", \"Free\", \"Free\", \"Free\", \"Free\", \"Free\", \"Free\", \"Free\", \"Free\", \"Free\", \"Free\", \"Free\", \"Free\", \"Free\", \"Free\", \"Free\", \"Free\", \"Free\", \"Free\", \"Free\", \"Free\", \"Free\", \"Free\", \"Free\", \"Free\", \"Free\", \"Free\", \"Free\", \"Free\", \"Free\", \"Free\", \"Free\", \"Free\", \"Free\", \"Free\", \"Free\", \"Free\", \"Free\", \"Free\", \"Free\", \"Free\", \"Free\", \"Free\", \"Free\", \"Free\", \"Free\", \"Free\", \"Free\", \"Free\", \"Free\", \"Free\", \"Free\", \"Free\", \"Free\", \"Free\", \"Free\", \"Free\", \"Free\", \"Free\", \"Free\", \"Free\", \"Free\", \"Free\", \"Free\", \"Free\", \"Free\", \"Free\", \"Free\", \"Free\", \"Free\", \"Free\", \"Free\", \"Free\", \"Free\", \"Free\", \"Free\", \"Free\", \"Free\", \"Free\", \"Free\", \"Free\", \"Free\", \"Free\", \"Free\", \"Free\", \"Free\", \"Free\", \"Free\", \"Free\", \"Free\", \"Free\", \"Free\", \"Free\", \"Free\", \"Free\", \"Free\", \"Free\", \"Free\", \"Free\", \"Free\", \"Free\", \"Free\", \"Free\", \"Free\", \"Free\", \"Free\", \"Free\", \"Free\", \"Free\", \"Free\", \"Free\", \"Free\", \"Free\", \"Free\", \"Free\", \"Free\", \"Free\", \"Free\", \"Free\", \"Free\", \"Free\", \"Free\", \"Free\", \"Free\", \"Free\", \"Free\", \"Free\", \"Free\", \"Free\", \"Free\", \"Free\", \"Free\", \"Free\", \"Free\", \"Free\", \"Free\", \"Free\", \"Free\", \"Free\", \"Free\", \"Free\", \"Free\", \"Free\", \"Free\", \"Free\", \"Free\", \"Free\", \"Free\", \"Free\", \"Free\", \"Free\", \"Free\", \"Free\", \"Free\", \"Free\", \"Free\", \"Free\", \"Free\", \"Free\", \"Free\", \"Free\", \"Free\", \"Free\", \"Free\", \"Free\", \"Free\", \"Free\", \"Free\", \"Free\", \"Free\", \"Free\", \"Free\", \"Free\", \"Free\", \"Free\", \"Free\", \"Free\", \"Free\", \"Free\", \"Free\", \"Free\", \"Free\", \"Free\", \"Free\", \"Free\", \"Free\", \"Free\", \"Free\", \"Free\", \"Free\", \"Free\", \"Free\", \"Free\", \"Free\", \"Free\", \"Free\", \"Free\", \"Free\", \"Free\", \"Free\", \"Free\", \"Free\", \"Free\", \"Free\", \"Free\", \"Free\", \"Free\", \"Free\", \"Free\", \"Free\", \"Free\", \"Free\", \"Free\", \"Free\", \"Free\", \"Free\", \"Free\", \"Free\", \"Free\", \"Free\", \"Free\", \"Free\", \"Free\", \"Free\", \"Free\", \"Free\", \"Free\", \"Free\", \"Free\", \"Free\", \"Free\", \"Free\", \"Free\", \"Free\", \"Free\", \"Free\", \"Free\", \"Free\", \"Free\", \"Free\", \"Free\", \"Free\", \"Free\", \"Free\", \"Free\", \"Free\", \"Free\", \"Free\", \"Free\", \"Free\", \"Free\", \"Free\", \"Free\", \"Free\", \"Free\", \"Free\", \"Free\", \"Free\", \"Free\", \"Free\", \"Free\", \"Free\", \"Free\", \"Free\", \"Free\", \"Free\", \"Free\", \"Free\", \"Free\", \"Free\", \"Free\", \"Free\", \"Free\", \"Free\", \"Free\", \"Free\", \"Free\", \"Free\", \"Free\", \"Free\", \"Free\", \"Free\", \"Free\", \"Free\", \"Free\", \"Free\", \"Free\", \"Free\", \"Free\", \"Free\", \"Free\", \"Free\", \"Free\", \"Free\", \"Free\", \"Free\", \"Free\", \"Free\", \"Free\", \"Free\", \"Free\", \"Free\", \"Free\", \"Free\", \"Free\", \"Free\", \"Free\", \"Free\", \"Free\", \"Free\", \"Free\", \"Free\", \"Free\", \"Free\", \"Free\", \"Free\", \"Free\", \"Free\", \"Free\", \"Free\", \"Free\", \"Free\", \"Free\", \"Free\", \"Free\", \"Free\", \"Free\", \"Free\", \"Free\", \"Free\", \"Free\", \"Free\", \"Free\", \"Free\", \"Free\", \"Free\", \"Free\", \"Free\", \"Free\", \"Free\", \"Free\", \"Free\", \"Free\", \"Free\", \"Free\", \"Free\", \"Free\", \"Free\", \"Free\", \"Free\", \"Free\", \"Free\", \"Free\", \"Free\", \"Free\", \"Free\", \"Free\", \"Free\", \"Free\", \"Free\", \"Free\", \"Free\", \"Free\", \"Free\", \"Free\", \"Free\", \"Free\", \"Free\", \"Free\", \"Free\", \"Free\", \"Free\", \"Free\", \"Free\", \"Free\", \"Free\", \"Free\", \"Free\", \"Free\", \"Free\", \"Free\", \"Free\", \"Free\", \"Free\", \"Free\", \"Free\", \"Free\", \"Free\", \"Free\", \"Free\", \"Free\", \"Free\", \"Free\", \"Free\", \"Free\", \"Free\", \"Free\", \"Free\", \"Free\", \"Free\", \"Free\", \"Free\", \"Free\", \"Free\", \"Free\", \"Free\", \"Free\", \"Free\", \"Free\", \"Free\", \"Free\", \"Free\", \"Free\", \"Free\", \"Free\", \"Free\", \"Free\", \"Free\", \"Free\", \"Free\", \"Free\", \"Free\", \"Free\", \"Free\", \"Free\", \"Free\", \"Free\", \"Free\", \"Free\", \"Free\", \"Free\", \"Free\", \"Free\", \"Free\", \"Free\", \"Free\", \"Free\", \"Free\", \"Free\", \"Free\", \"Free\", \"Free\", \"Free\", \"Free\", \"Free\", \"Free\", \"Free\", \"Free\", \"Free\", \"Free\", \"Free\", \"Free\", \"Free\", \"Free\", \"Free\", \"Free\", \"Free\", \"Free\", \"Free\", \"Free\", \"Free\", \"Free\", \"Free\", \"Free\", \"Free\", \"Free\", \"Free\", \"Free\", \"Free\", \"Free\", \"Free\", \"Free\", \"Free\", \"Free\", \"Free\", \"Free\", \"Free\", \"Free\", \"Free\", \"Free\", \"Free\", \"Free\", \"Free\", \"Free\", \"Free\", \"Free\", \"Free\", \"Free\", \"Free\", \"Free\", \"Free\", \"Free\", \"Free\", \"Free\", \"Free\", \"Free\", \"Free\", \"Free\", \"Free\", \"Free\", \"Free\", \"Free\", \"Free\", \"Free\", \"Free\", \"Free\", \"Free\", \"Free\", \"Free\", \"Free\", \"Free\", \"Free\", \"Free\", \"Free\", \"Free\", \"Free\", \"Free\", \"Free\", \"Free\", \"Free\", \"Free\", \"Free\", \"Free\", \"Free\", \"Free\", \"Free\", \"Free\", \"Free\", \"Free\", \"Free\", \"Free\", \"Free\", \"Free\", \"Free\", \"Free\", \"Free\", \"Free\", \"Free\", \"Free\", \"Free\", \"Free\", \"Free\", \"Free\", \"Free\", \"Free\", \"Free\", \"Free\", \"Free\", \"Free\", \"Free\", \"Free\", \"Free\", \"Free\", \"Free\", \"Free\", \"Free\", \"Free\", \"Free\", \"Free\", \"Free\", \"Free\", \"Free\", \"Free\", \"Free\", \"Free\", \"Free\", \"Free\", \"Free\", \"Free\", \"Free\", \"Free\", \"Free\", \"Free\", \"Free\", \"Free\", \"Free\", \"Free\", \"Free\", \"Free\", \"Free\", \"Free\", \"Free\", \"Free\", \"Free\", \"Free\", \"Free\", \"Free\", \"Free\", \"Free\", \"Free\", \"Free\", \"Free\", \"Free\", \"Free\", \"Free\", \"Free\", \"Free\", \"Free\", \"Free\", \"Free\", \"Free\", \"Free\", \"Free\", \"Free\", \"Free\", \"Free\", \"Free\", \"Free\", \"Free\", \"Free\", \"Free\", \"Free\", \"Free\", \"Free\", \"Free\", \"Free\", \"Free\", \"Free\", \"Free\", \"Free\", \"Free\", \"Free\", \"Free\", \"Free\", \"Free\", \"Free\", \"Free\", \"Free\", \"Free\", \"Free\", \"Free\", \"Free\", \"Free\", \"Free\", \"Free\", \"Free\", \"Free\", \"Free\", \"Free\", \"Free\", \"Free\", \"Free\", \"Free\", \"Free\", \"Free\", \"Free\", \"Free\", \"Free\", \"Free\", \"Free\", \"Free\", \"Free\", \"Free\", \"Free\", \"Free\", \"Free\", \"Free\", \"Free\", \"Free\", \"Free\", \"Free\", \"Free\", \"Free\", \"Free\", \"Free\", \"Free\", \"Free\", \"Free\", \"Free\", \"Free\", \"Free\", \"Free\", \"Free\", \"Free\", \"Free\", \"Free\", \"Free\", \"Free\", \"Free\", \"Free\", \"Free\", \"Free\", \"Free\", \"Free\", \"Free\", \"Free\", \"Free\", \"Free\", \"Free\", \"Free\", \"Free\", \"Free\", \"Free\", \"Free\", \"Free\", \"Free\", \"Free\", \"Free\", \"Free\", \"Free\", \"Free\", \"Free\", \"Free\", \"Free\", \"Free\", \"Free\", \"Free\", \"Free\", \"Free\", \"Free\", \"Free\", \"Free\", \"Free\", \"Free\", \"Free\", \"Free\", \"Free\", \"Free\", \"Free\", \"Free\", \"Free\", \"Free\", \"Free\", \"Free\", \"Free\", \"Free\", \"Free\", \"Free\", \"Free\", \"Free\", \"Free\", \"Free\", \"Free\", \"Free\", \"Free\", \"Free\", \"Free\", \"Free\", \"Free\", \"Free\", \"Free\", \"Free\", \"Free\", \"Free\", \"Free\", \"Free\", \"Free\", \"Free\", \"Free\", \"Free\", \"Free\", \"Free\", \"Free\", \"Free\", \"Free\", \"Free\", \"Free\", \"Free\", \"Free\", \"Free\", \"Free\", \"Free\", \"Free\", \"Free\", \"Free\", \"Free\", \"Free\", \"Free\", \"Free\", \"Free\", \"Free\", \"Free\", \"Free\", \"Free\", \"Free\", \"Free\", \"Free\", \"Free\", \"Free\", \"Free\", \"Free\", \"Free\", \"Free\", \"Free\", \"Free\", \"Free\", \"Free\", \"Free\", \"Free\", \"Free\", \"Free\", \"Free\", \"Free\", \"Free\", \"Free\", \"Free\", \"Free\", \"Free\", \"Free\", \"Free\", \"Free\", \"Free\", \"Free\", \"Free\", \"Free\", \"Free\", \"Free\", \"Free\", \"Free\", \"Free\", \"Free\", \"Free\", \"Free\", \"Free\", \"Free\", \"Free\", \"Free\", \"Free\", \"Free\", \"Free\", \"Free\", \"Free\", \"Free\", \"Free\", \"Free\", \"Free\", \"Free\", \"Free\", \"Free\", \"Free\", \"Free\", \"Free\", \"Free\", \"Free\", \"Free\", \"Free\", \"Free\", \"Free\", \"Free\", \"Free\", \"Free\", \"Free\", \"Free\", \"Free\", \"Free\", \"Free\", \"Free\", \"Free\", \"Free\", \"Free\", \"Free\", \"Free\", \"Free\", \"Free\", \"Free\", \"Free\", \"Free\", \"Free\", \"Free\", \"Free\", \"Free\", \"Free\", \"Free\", \"Free\", \"Free\", \"Free\", \"Free\", \"Free\", \"Free\", \"Free\", \"Free\", \"Free\", \"Free\", \"Free\", \"Free\", \"Free\", \"Free\", \"Free\", \"Free\", \"Free\", \"Free\", \"Free\", \"Free\", \"Free\", \"Free\", \"Free\", \"Free\", \"Free\", \"Free\", \"Free\", \"Free\", \"Free\", \"Free\", \"Free\", \"Free\", \"Free\", \"Free\", \"Free\", \"Free\", \"Free\", \"Free\", \"Free\", \"Free\", \"Free\", \"Free\", \"Free\", \"Free\", \"Free\", \"Free\", \"Free\", \"Free\", \"Free\", \"Free\", \"Free\", \"Free\", \"Free\", \"Free\", \"Free\", \"Free\", \"Free\", \"Free\", \"Free\", \"Free\", \"Free\", \"Free\", \"Free\", \"Free\", \"Free\", \"Free\", \"Free\", \"Free\", \"Free\", \"Free\", \"Free\", \"Free\", \"Free\", \"Free\", \"Free\", \"Free\", \"Free\", \"Free\", \"Free\", \"Free\", \"Free\", \"Free\", \"Free\", \"Free\", \"Free\", \"Free\", \"Free\", \"Free\", \"Free\", \"Free\", \"Free\", \"Free\", \"Free\", \"Free\", \"Free\", \"Free\", \"Free\", \"Free\", \"Free\", \"Free\", \"Free\", \"Free\", \"Free\", \"Free\", \"Free\", \"Free\", \"Free\", \"Free\", \"Free\", \"Free\", \"Free\", \"Free\", \"Free\", \"Free\", \"Free\", \"Free\", \"Free\", \"Free\", \"Free\", \"Free\", \"Free\", \"Free\", \"Free\", \"Free\", \"Free\", \"Free\", \"Free\", \"Free\", \"Free\", \"Free\", \"Free\", \"Free\", \"Free\", \"Free\", \"Free\", \"Free\", \"Free\", \"Free\", \"Free\", \"Free\", \"Free\", \"Free\", \"Free\", \"Free\", \"Free\", \"Free\", \"Free\", \"Free\", \"Free\", \"Free\", \"Free\", \"Free\", \"Free\", \"Free\", \"Free\", \"Free\", \"Free\", \"Free\", \"Free\", \"Free\", \"Free\", \"Free\", \"Free\", \"Free\", \"Free\", \"Free\", \"Free\", \"Free\", \"Free\", \"Free\", \"Free\", \"Free\", \"Free\", \"Free\", \"Free\", \"Free\", \"Free\", \"Free\", \"Free\", \"Free\", \"Free\", \"Free\", \"Free\", \"Free\", \"Free\", \"Free\", \"Free\", \"Free\", \"Free\", \"Free\", \"Free\", \"Free\", \"Free\", \"Free\", \"Free\", \"Free\", \"Free\", \"Free\", \"Free\", \"Free\", \"Free\", \"Free\", \"Free\", \"Free\", \"Free\", \"Free\", \"Free\", \"Free\", \"Free\", \"Free\", \"Free\", \"Free\", \"Free\", \"Free\", \"Free\", \"Free\", \"Free\", \"Free\", \"Free\", \"Free\", \"Free\", \"Free\", \"Free\", \"Free\", \"Free\", \"Free\", \"Free\", \"Free\", \"Free\", \"Free\", \"Free\", \"Free\", \"Free\", \"Free\", \"Free\", \"Free\", \"Free\", \"Free\", \"Free\", \"Free\", \"Free\", \"Free\", \"Free\", \"Free\", \"Free\", \"Free\", \"Free\", \"Free\", \"Free\", \"Free\", \"Free\", \"Free\", \"Free\", \"Free\", \"Free\", \"Free\", \"Free\", \"Free\", \"Free\", \"Free\", \"Free\", \"Free\", \"Free\", \"Free\", \"Free\", \"Free\", \"Free\", \"Free\", \"Free\", \"Free\", \"Free\", \"Free\", \"Free\", \"Free\", \"Free\", \"Free\", \"Free\", \"Free\", \"Free\", \"Free\", \"Free\", \"Free\", \"Free\", \"Free\", \"Free\", \"Free\", \"Free\", \"Free\", \"Free\", \"Free\", \"Free\", \"Free\", \"Free\", \"Free\", \"Free\", \"Free\", \"Free\", \"Free\", \"Free\", \"Free\", \"Free\", \"Free\", \"Free\", \"Free\", \"Free\", \"Free\", \"Free\", \"Free\", \"Free\", \"Free\", \"Free\", \"Free\", \"Free\", \"Free\", \"Free\", \"Free\", \"Free\", \"Free\", \"Free\", \"Free\", \"Free\", \"Free\", \"Free\", \"Free\", \"Free\", \"Free\", \"Free\", \"Free\", \"Free\", \"Free\", \"Free\", \"Free\", \"Free\", \"Free\", \"Free\", \"Free\", \"Free\", \"Free\", \"Free\", \"Free\", \"Free\", \"Free\", \"Free\", \"Free\", \"Free\", \"Free\", \"Free\", \"Free\", \"Free\", \"Free\", \"Free\", \"Free\", \"Free\", \"Free\", \"Free\", \"Free\", \"Free\", \"Free\", \"Free\", \"Free\", \"Free\", \"Free\", \"Free\", \"Free\", \"Free\", \"Free\", \"Free\", \"Free\", \"Free\", \"Free\", \"Free\", \"Free\", \"Free\", \"Free\", \"Free\", \"Free\", \"Free\", \"Free\", \"Free\", \"Free\", \"Free\", \"Free\", \"Free\", \"Free\", \"Free\", \"Free\", \"Free\", \"Free\", \"Free\", \"Free\", \"Free\", \"Free\", \"Free\", \"Free\", \"Free\", \"Free\", \"Free\", \"Free\", \"Free\", \"Free\", \"Free\", \"Free\", \"Free\", \"Free\", \"Free\", \"Free\", \"Free\", \"Free\", \"Free\", \"Free\", \"Free\", \"Free\", \"Free\", \"Free\", \"Free\", \"Free\", \"Free\", \"Free\", \"Free\", \"Free\", \"Free\", \"Free\", \"Free\", \"Free\", \"Free\", \"Free\", \"Free\", \"Free\", \"Free\", \"Free\", \"Free\", \"Free\", \"Free\", \"Free\", \"Free\", \"Free\", \"Free\", \"Free\", \"Free\", \"Free\", \"Free\", \"Free\", \"Free\", \"Free\", \"Free\", \"Free\", \"Free\", \"Free\", \"Free\", \"Free\", \"Free\", \"Free\", \"Free\", \"Free\", \"Free\", \"Free\", \"Free\", \"Free\", \"Free\", \"Free\", \"Free\", \"Free\", \"Free\", \"Free\", \"Free\", \"Free\", \"Free\", \"Free\", \"Free\", \"Free\", \"Free\", \"Free\", \"Free\", \"Free\", \"Free\", \"Free\", \"Free\", \"Free\", \"Free\", \"Free\", \"Free\", \"Free\", \"Free\", \"Free\", \"Free\", \"Free\", \"Free\", \"Free\", \"Free\", \"Free\", \"Free\", \"Free\", \"Free\", \"Free\", \"Free\", \"Free\", \"Free\", \"Free\", \"Free\", \"Free\", \"Free\", \"Free\", \"Free\", \"Free\", \"Free\", \"Free\", \"Free\", \"Free\", \"Free\", \"Free\", \"Free\", \"Free\", \"Free\", \"Free\", \"Free\", \"Free\", \"Free\", \"Free\", \"Free\", \"Free\", \"Free\", \"Free\", \"Free\", \"Free\", \"Free\", \"Free\", \"Free\", \"Free\", \"Free\", \"Free\", \"Free\", \"Free\", \"Free\", \"Free\", \"Free\", \"Free\", \"Free\", \"Free\", \"Free\", \"Free\", \"Free\", \"Free\", \"Free\", \"Free\", \"Free\", \"Free\", \"Free\", \"Free\", \"Free\", \"Free\", \"Free\", \"Free\", \"Free\", \"Free\", \"Free\", \"Free\", \"Free\", \"Free\", \"Free\", \"Free\", \"Free\", \"Free\", \"Free\", \"Free\", \"Free\", \"Free\", \"Free\", \"Free\", \"Free\", \"Free\", \"Free\", \"Free\", \"Free\", \"Free\", \"Free\", \"Free\", \"Free\", \"Free\", \"Free\", \"Free\", \"Free\", \"Free\", \"Free\", \"Free\", \"Free\", \"Free\", \"Free\", \"Free\", \"Free\", \"Free\", \"Free\", \"Free\", \"Free\", \"Free\", \"Free\", \"Free\", \"Free\", \"Free\", \"Free\", \"Free\", \"Free\", \"Free\", \"Free\", \"Free\", \"Free\", \"Free\", \"Free\", \"Free\", \"Free\", \"Free\", \"Free\", \"Free\", \"Free\", \"Free\", \"Free\", \"Free\", \"Free\", \"Free\", \"Free\", \"Free\", \"Free\", \"Free\", \"Free\", \"Free\", \"Free\", \"Free\", \"Free\", \"Free\", \"Free\", \"Free\", \"Free\", \"Free\", \"Free\", \"Free\", \"Free\", \"Free\", \"Free\", \"Free\", \"Free\", \"Free\", \"Free\", \"Free\", \"Free\", \"Free\", \"Free\", \"Free\", \"Free\", \"Free\", \"Free\", \"Free\", \"Free\", \"Free\", \"Free\", \"Free\", \"Free\", \"Free\", \"Free\", \"Free\", \"Free\", \"Free\", \"Free\", \"Free\", \"Free\", \"Free\", \"Free\", \"Free\", \"Free\", \"Free\", \"Free\", \"Free\", \"Free\", \"Free\", \"Free\", \"Free\", \"Free\", \"Free\", \"Free\", \"Free\", \"Free\", \"Free\", \"Free\", \"Free\", \"Free\", \"Free\", \"Free\", \"Free\", \"Free\", \"Free\", \"Free\", \"Free\", \"Free\", \"Free\", \"Free\", \"Free\", \"Free\", \"Free\", \"Free\", \"Free\", \"Free\", \"Free\", \"Free\", \"Free\", \"Free\", \"Free\", \"Free\", \"Free\", \"Free\", \"Free\", \"Free\", \"Free\", \"Free\", \"Free\", \"Free\", \"Free\", \"Free\", \"Free\", \"Free\", \"Free\", \"Free\", \"Free\", \"Free\", \"Free\", \"Free\", \"Free\", \"Free\", \"Free\", \"Free\", \"Free\", \"Free\", \"Free\", \"Free\", \"Free\", \"Free\", \"Free\", \"Free\", \"Free\", \"Free\", \"Free\", \"Free\", \"Free\", \"Free\", \"Free\", \"Free\", \"Free\", \"Free\", \"Free\", \"Free\", \"Free\", \"Free\", \"Free\", \"Free\", \"Free\", \"Free\", \"Free\", \"Free\", \"Free\", \"Free\", \"Free\", \"Free\", \"Free\", \"Free\", \"Free\", \"Free\", \"Free\", \"Free\", \"Free\", \"Free\", \"Free\", \"Free\", \"Free\", \"Free\", \"Free\", \"Free\", \"Free\", \"Free\", \"Free\", \"Free\", \"Free\", \"Free\", \"Free\", \"Free\", \"Free\", \"Free\", \"Free\", \"Free\", \"Free\", \"Free\", \"Free\", \"Free\", \"Free\", \"Free\", \"Free\", \"Free\", \"Free\", \"Free\", \"Free\", \"Free\", \"Free\", \"Free\", \"Free\", \"Free\", \"Free\", \"Free\", \"Free\", \"Free\", \"Free\", \"Free\", \"Free\", \"Free\", \"Free\", \"Free\", \"Free\", \"Free\", \"Free\", \"Free\", \"Free\", \"Free\", \"Free\", \"Free\", \"Free\", \"Free\", \"Free\", \"Free\", \"Free\", \"Free\", \"Free\", \"Free\", \"Free\", \"Free\", \"Free\", \"Free\", \"Free\", \"Free\", \"Free\", \"Free\", \"Free\", \"Free\", \"Free\", \"Free\", \"Free\", \"Free\", \"Free\", \"Free\", \"Free\", \"Free\", \"Free\", \"Free\", \"Free\", \"Free\", \"Free\", \"Free\", \"Free\", \"Free\", \"Free\", \"Free\", \"Free\", \"Free\", \"Free\", \"Free\", \"Free\", \"Free\", \"Free\", \"Free\", \"Free\", \"Free\", \"Free\", \"Free\", \"Free\", \"Free\", \"Free\", \"Free\", \"Free\", \"Free\", \"Free\", \"Free\", \"Free\", \"Free\", \"Free\", \"Free\", \"Free\", \"Free\", \"Free\", \"Free\", \"Free\", \"Free\", \"Free\", \"Free\", \"Free\", \"Free\", \"Free\", \"Free\", \"Free\", \"Free\", \"Free\", \"Free\", \"Free\", \"Free\", \"Free\", \"Free\", \"Free\", \"Free\", \"Free\", \"Free\", \"Free\", \"Free\", \"Free\", \"Free\", \"Free\", \"Free\", \"Free\", \"Free\", \"Free\", \"Free\", \"Free\", \"Free\", \"Free\", \"Free\", \"Free\", \"Free\", \"Free\", \"Free\", \"Free\", \"Free\", \"Free\", \"Free\", \"Free\", \"Free\", \"Free\", \"Free\", \"Free\", \"Free\", \"Free\", \"Free\", \"Free\", \"Free\", \"Free\", \"Free\", \"Free\", \"Free\", \"Free\", \"Free\", \"Free\", \"Free\", \"Free\", \"Free\", \"Free\", \"Free\", \"Free\", \"Free\", \"Free\", \"Free\", \"Free\", \"Free\", \"Free\", \"Free\", \"Free\", \"Free\", \"Free\", \"Free\", \"Free\", \"Free\", \"Free\", \"Free\", \"Free\", \"Free\", \"Free\", \"Free\", \"Free\", \"Free\", \"Free\", \"Free\", \"Free\", \"Free\", \"Free\", \"Free\", \"Free\", \"Free\", \"Free\", \"Free\", \"Free\", \"Free\", \"Free\", \"Free\", \"Free\", \"Free\", \"Free\", \"Free\", \"Free\", \"Free\", \"Free\", \"Free\", \"Free\", \"Free\", \"Free\", \"Free\", \"Free\", \"Free\", \"Free\", \"Free\", \"Free\", \"Free\", \"Free\", \"Free\", \"Free\", \"Free\", \"Free\", \"Free\", \"Free\", \"Free\", \"Free\", \"Free\", \"Free\", \"Free\", \"Free\", \"Free\", \"Free\", \"Free\", \"Free\", \"Free\", \"Free\", \"Free\", \"Free\", \"Free\", \"Free\", \"Free\", \"Free\", \"Free\", \"Free\", \"Free\", \"Free\", \"Free\", \"Free\", \"Free\", \"Free\", \"Free\", \"Free\", \"Free\", \"Free\", \"Free\", \"Free\", \"Free\", \"Free\", \"Free\", \"Free\", \"Free\", \"Free\", \"Free\", \"Free\", \"Free\", \"Free\", \"Free\", \"Free\", \"Free\", \"Free\", \"Free\", \"Free\", \"Free\", \"Free\", \"Free\", \"Free\", \"Free\", \"Free\", \"Free\", \"Free\", \"Free\", \"Free\", \"Free\", \"Free\", \"Free\", \"Free\", \"Free\", \"Free\", \"Free\", \"Free\", \"Free\", \"Free\", \"Free\", \"Free\", \"Free\", \"Free\", \"Free\", \"Free\", \"Free\", \"Free\", \"Free\", \"Free\", \"Free\", \"Free\", \"Free\", \"Free\", \"Free\", \"Free\", \"Free\", \"Free\", \"Free\", \"Free\", \"Free\", \"Free\", \"Free\", \"Free\", \"Free\", \"Free\", \"Free\", \"Free\", \"Free\", \"Free\", \"Free\", \"Free\", \"Free\", \"Free\", \"Free\", \"Free\", \"Free\", \"Free\", \"Free\", \"Free\", \"Free\", \"Free\", \"Free\", \"Free\", \"Free\", \"Free\", \"Free\", \"Free\", \"Free\", \"Free\", \"Free\", \"Free\", \"Free\", \"Free\", \"Free\", \"Free\", \"Free\", \"Free\", \"Free\", \"Free\", \"Free\", \"Free\", \"Free\", \"Free\", \"Free\", \"Free\", \"Free\", \"Free\", \"Free\", \"Free\", \"Free\", \"Free\", \"Free\", \"Free\", \"Free\", \"Free\", \"Free\", \"Free\", \"Free\", \"Free\", \"Free\", \"Free\", \"Free\", \"Free\", \"Free\", \"Free\", \"Free\", \"Free\", \"Free\", \"Free\", \"Free\", \"Free\", \"Free\", \"Free\", \"Free\", \"Free\", \"Free\", \"Free\", \"Free\", \"Free\", \"Free\", \"Free\", \"Free\", \"Free\", \"Free\", \"Free\", \"Free\", \"Free\", \"Free\", \"Free\", \"Free\", \"Free\", \"Free\", \"Free\", \"Free\", \"Free\", \"Free\", \"Free\", \"Free\", \"Free\", \"Free\", \"Free\", \"Free\", \"Free\", \"Free\", \"Free\", \"Free\", \"Free\", \"Free\", \"Free\", \"Free\", \"Free\", \"Free\", \"Free\", \"Free\", \"Free\", \"Free\", \"Free\", \"Free\", \"Free\", \"Free\", \"Free\", \"Free\", \"Free\", \"Free\", \"Free\", \"Free\", \"Free\", \"Free\", \"Free\", \"Free\", \"Free\", \"Free\", \"Free\", \"Free\", \"Free\", \"Free\", \"Free\", \"Free\", \"Free\", \"Free\", \"Free\", \"Free\", \"Free\", \"Free\", \"Free\", \"Free\", \"Free\", \"Free\", \"Free\", \"Free\", \"Free\", \"Free\", \"Free\", \"Free\", \"Free\", \"Free\", \"Free\", \"Free\", \"Free\", \"Free\", \"Free\", \"Free\", \"Free\", \"Free\", \"Free\", \"Free\", \"Free\", \"Free\", \"Free\", \"Free\", \"Free\", \"Free\", \"Free\", \"Free\", \"Free\", \"Free\", \"Free\", \"Free\", \"Free\", \"Free\", \"Free\", \"Free\", \"Free\", \"Free\", \"Free\", \"Free\", \"Free\", \"Free\", \"Free\", \"Free\", \"Free\", \"Free\", \"Free\", \"Free\", \"Free\", \"Free\", \"Free\", \"Free\", \"Free\", \"Free\", \"Free\", \"Free\", \"Free\", \"Free\", \"Free\", \"Free\", \"Free\", \"Free\", \"Free\", \"Free\", \"Free\", \"Free\", \"Free\", \"Free\", \"Free\", \"Free\", \"Free\", \"Free\", \"Free\", \"Free\", \"Free\", \"Free\", \"Free\", \"Free\", \"Free\", \"Free\", \"Free\", \"Free\", \"Free\", \"Free\", \"Free\", \"Free\", \"Free\", \"Free\", \"Free\", \"Free\", \"Free\", \"Free\", \"Free\", \"Free\", \"Free\", \"Free\", \"Free\", \"Free\", \"Free\", \"Free\", \"Free\", \"Free\", \"Free\", \"Free\", \"Free\", \"Free\", \"Free\", \"Free\", \"Free\", \"Free\", \"Free\", \"Free\", \"Free\", \"Free\", \"Free\", \"Free\", \"Free\", \"Free\", \"Free\", \"Free\", \"Free\", \"Free\", \"Free\", \"Free\", \"Free\", \"Free\", \"Free\", \"Free\", \"Free\", \"Free\", \"Free\", \"Free\", \"Free\", \"Free\", \"Free\", \"Free\", \"Free\", \"Free\", \"Free\", \"Free\", \"Free\", \"Free\", \"Free\", \"Free\", \"Free\", \"Free\", \"Free\", \"Free\", \"Free\", \"Free\", \"Free\", \"Free\", \"Free\", \"Free\", \"Free\", \"Free\", \"Free\", \"Free\", \"Free\", \"Free\", \"Free\", \"Free\", \"Free\", \"Free\", \"Free\", \"Free\", \"Free\", \"Free\", \"Free\", \"Free\", \"Free\", \"Free\", \"Free\", \"Free\", \"Free\", \"Free\", \"Free\", \"Free\", \"Free\", \"Free\", \"Free\", \"Free\", \"Free\", \"Free\", \"Free\", \"Free\", \"Free\", \"Free\", \"Free\", \"Free\", \"Free\", \"Free\", \"Free\", \"Free\", \"Free\", \"Free\", \"Free\", \"Free\", \"Free\", \"Free\", \"Free\", \"Free\", \"Free\", \"Free\", \"Free\", \"Free\", \"Free\", \"Free\", \"Free\", \"Free\", \"Free\", \"Free\", \"Free\", \"Free\", \"Free\", \"Free\", \"Free\", \"Free\", \"Free\", \"Free\", \"Free\", \"Free\", \"Free\", \"Free\", \"Free\", \"Free\", \"Free\", \"Free\", \"Free\", \"Free\", \"Free\", \"Free\", \"Free\", \"Free\", \"Free\", \"Free\", \"Free\", \"Free\", \"Free\", \"Free\", \"Free\", \"Free\", \"Free\", \"Free\", \"Free\", \"Free\", \"Free\", \"Free\", \"Free\", \"Free\", \"Free\", \"Free\", \"Free\", \"Free\", \"Free\", \"Free\", \"Free\", \"Free\", \"Free\", \"Free\", \"Free\", \"Free\", \"Free\", \"Free\", \"Free\", \"Free\", \"Free\", \"Free\", \"Free\", \"Free\", \"Free\", \"Free\", \"Free\", \"Free\", \"Free\", \"Free\", \"Free\", \"Free\", \"Free\", \"Free\", \"Free\", \"Free\", \"Free\", \"Free\", \"Free\", \"Free\", \"Free\", \"Free\", \"Free\", \"Free\", \"Free\", \"Free\", \"Free\", \"Free\", \"Free\", \"Free\", \"Free\", \"Free\", \"Free\", \"Free\", \"Free\", \"Free\", \"Free\", \"Free\", \"Free\", \"Free\", \"Free\", \"Free\", \"Free\", \"Free\", \"Free\", \"Free\", \"Free\", \"Free\", \"Free\", \"Free\", \"Free\", \"Free\", \"Free\", \"Free\", \"Free\", \"Free\", \"Free\", \"Free\", \"Free\", \"Free\", \"Free\", \"Free\", \"Free\", \"Free\", \"Free\", \"Free\", \"Free\", \"Free\", \"Free\", \"Free\", \"Free\", \"Free\", \"Free\", \"Free\", \"Free\", \"Free\", \"Free\", \"Free\", \"Free\", \"Free\", \"Free\", \"Free\", \"Free\", \"Free\", \"Free\", \"Free\", \"Free\", \"Free\", \"Free\", \"Free\", \"Free\", \"Free\", \"Free\", \"Free\", \"Free\", \"Free\", \"Free\", \"Free\", \"Free\", \"Free\", \"Free\", \"Free\", \"Free\", \"Free\", \"Free\", \"Free\", \"Free\", \"Free\", \"Free\", \"Free\", \"Free\", \"Free\", \"Free\", \"Free\", \"Free\", \"Free\", \"Free\", \"Free\", \"Free\", \"Free\", \"Free\", \"Free\", \"Free\", \"Free\", \"Free\", \"Free\", \"Free\", \"Free\", \"Free\", \"Free\", \"Free\", \"Free\", \"Free\", \"Free\", \"Free\", \"Free\", \"Free\", \"Free\", \"Free\", \"Free\", \"Free\", \"Free\", \"Free\", \"Free\", \"Free\", \"Free\", \"Free\", \"Free\", \"Free\", \"Free\", \"Free\", \"Free\", \"Free\", \"Free\", \"Free\", \"Free\", \"Free\", \"Free\", \"Free\", \"Free\", \"Free\", \"Free\", \"Free\", \"Free\", \"Free\", \"Free\", \"Free\", \"Free\", \"Free\", \"Free\", \"Free\", \"Free\", \"Free\", \"Free\", \"Free\", \"Free\", \"Free\", \"Free\", \"Free\", \"Free\", \"Free\", \"Free\", \"Free\", \"Free\", \"Free\", \"Free\", \"Free\", \"Free\", \"Free\", \"Free\", \"Free\", \"Free\", \"Free\", \"Free\", \"Free\", \"Free\", \"Free\", \"Free\", \"Free\", \"Free\", \"Free\", \"Free\", \"Free\", \"Free\", \"Free\", \"Free\", \"Free\", \"Free\", \"Free\", \"Free\", \"Free\", \"Free\", \"Free\", \"Free\", \"Free\", \"Free\", \"Free\", \"Free\", \"Free\", \"Free\", \"Free\", \"Free\", \"Free\", \"Free\", \"Free\", \"Free\", \"Free\", \"Free\", \"Free\", \"Free\", \"Free\", \"Free\", \"Free\", \"Free\", \"Free\", \"Free\", \"Free\", \"Free\", \"Free\", \"Free\", \"Free\", \"Free\", \"Free\", \"Free\", \"Free\", \"Free\", \"Free\", \"Free\", \"Free\", \"Free\", \"Free\", \"Free\", \"Free\", \"Free\", \"Free\", \"Free\", \"Free\", \"Free\", \"Free\", \"Free\", \"Free\", \"Free\", \"Free\", \"Free\", \"Free\", \"Free\", \"Free\", \"Free\", \"Free\", \"Free\", \"Free\", \"Free\", \"Free\", \"Free\", \"Free\", \"Free\", \"Free\", \"Free\", \"Free\", \"Free\", \"Free\", \"Free\", \"Free\", \"Free\", \"Free\", \"Free\", \"Free\", \"Free\", \"Free\", \"Free\", \"Free\", \"Free\", \"Free\", \"Free\", \"Free\", \"Free\", \"Free\", \"Free\", \"Free\", \"Free\", \"Free\", \"Free\", \"Free\", \"Free\", \"Free\", \"Free\", \"Free\", \"Free\", \"Free\", \"Free\", \"Free\", \"Free\", \"Free\", \"Free\", \"Free\", \"Free\", \"Free\", \"Free\", \"Free\", \"Free\", \"Free\", \"Free\", \"Free\", \"Free\", \"Free\", \"Free\", \"Free\", \"Free\", \"Free\", \"Free\", \"Free\", \"Free\", \"Free\", \"Free\", \"Free\", \"Free\", \"Free\", \"Free\", \"Free\", \"Free\", \"Free\", \"Free\", \"Free\", \"Free\", \"Free\", \"Free\", \"Free\", \"Free\", \"Free\", \"Free\", \"Free\", \"Free\", \"Free\", \"Free\", \"Free\", \"Free\", \"Free\", \"Free\", \"Free\", \"Free\", \"Free\", \"Free\", \"Free\", \"Free\", \"Free\", \"Free\", \"Free\", \"Free\", \"Free\", \"Free\", \"Free\", \"Free\", \"Free\", \"Free\", \"Free\", \"Free\", \"Free\", \"Free\", \"Free\", \"Free\", \"Free\", \"Free\", \"Free\", \"Free\", \"Free\", \"Free\", \"Free\", \"Free\", \"Free\", \"Free\", \"Free\", \"Free\", \"Free\", \"Free\", \"Free\", \"Free\", \"Free\", \"Free\", \"Free\", \"Free\", \"Free\", \"Free\", \"Free\", \"Free\", \"Free\", \"Free\", \"Free\", \"Free\", \"Free\", \"Free\", \"Free\", \"Free\", \"Free\", \"Free\", \"Free\", \"Free\", \"Free\", \"Free\", \"Free\", \"Free\", \"Free\", \"Free\", \"Free\", \"Free\", \"Free\", \"Free\", \"Free\", \"Free\", \"Free\", \"Free\", \"Free\", \"Free\", \"Free\", \"Free\", \"Free\", \"Free\", \"Free\", \"Free\", \"Free\", \"Free\", \"Free\", \"Free\", \"Free\", \"Free\", \"Free\", \"Free\", \"Free\", \"Free\", \"Free\", \"Free\", \"Free\", \"Free\", \"Free\", \"Free\", \"Free\", \"Free\", \"Free\", \"Free\", \"Free\", \"Free\", \"Free\", \"Free\", \"Free\", \"Free\", \"Free\", \"Free\", \"Free\", \"Free\", \"Free\", \"Free\", \"Free\", \"Free\", \"Free\", \"Free\", \"Free\", \"Free\", \"Free\", \"Free\", \"Free\", \"Free\", \"Free\", \"Free\", \"Free\", \"Free\", \"Free\", \"Free\", \"Free\", \"Free\", \"Free\", \"Free\", \"Free\", \"Free\", \"Free\", \"Free\", \"Free\", \"Free\", \"Free\", \"Free\", \"Free\", \"Free\", \"Free\", \"Free\", \"Free\", \"Free\", \"Free\", \"Free\", \"Free\", \"Free\", \"Free\", \"Free\", \"Free\", \"Free\", \"Free\", \"Free\", \"Free\", \"Free\", \"Free\", \"Free\", \"Free\", \"Free\", \"Free\", \"Free\", \"Free\", \"Free\", \"Free\", \"Free\", \"Free\", \"Free\", \"Free\", \"Free\", \"Free\", \"Free\", \"Free\", \"Free\", \"Free\", \"Free\", \"Free\", \"Free\", \"Free\", \"Free\", \"Free\", \"Free\", \"Free\", \"Free\", \"Free\", \"Free\", \"Free\", \"Free\", \"Free\", \"Free\", \"Free\", \"Free\", \"Free\", \"Free\", \"Free\", \"Free\", \"Free\", \"Free\", \"Free\", \"Free\", \"Free\", \"Free\", \"Free\", \"Free\", \"Free\", \"Free\", \"Free\", \"Free\", \"Free\", \"Free\", \"Free\", \"Free\", \"Free\", \"Free\", \"Free\", \"Free\", \"Free\", \"Free\", \"Free\", \"Free\", \"Free\", \"Free\", \"Free\", \"Free\", \"Free\", \"Free\", \"Free\", \"Free\", \"Free\", \"Free\", \"Free\", \"Free\", \"Free\", \"Free\", \"Free\", \"Free\", \"Free\", \"Free\", \"Free\", \"Free\", \"Free\", \"Free\", \"Free\", \"Free\", \"Free\", \"Free\", \"Free\", \"Free\", \"Free\", \"Free\", \"Free\", \"Free\", \"Free\", \"Free\", \"Free\", \"Free\", \"Free\", \"Free\", \"Free\", \"Free\", \"Free\", \"Free\", \"Free\", \"Free\", \"Free\", \"Free\", \"Free\", \"Free\", \"Free\", \"Free\", \"Free\", \"Free\", \"Free\", \"Free\", \"Free\", \"Free\", \"Free\", \"Free\", \"Free\", \"Free\", \"Free\", \"Free\", \"Free\", \"Free\", \"Free\", \"Free\", \"Free\", \"Free\", \"Free\", \"Free\", \"Free\", \"Free\", \"Free\", \"Free\", \"Free\", \"Free\", \"Free\", \"Free\", \"Free\", \"Free\", \"Free\", \"Free\", \"Free\", \"Free\", \"Free\", \"Free\", \"Free\", \"Free\", \"Free\", \"Free\", \"Free\", \"Free\", \"Free\", \"Free\", \"Free\", \"Free\", \"Free\", \"Free\", \"Free\", \"Free\", \"Free\", \"Free\", \"Free\", \"Free\", \"Free\", \"Free\", \"Free\", \"Free\", \"Free\", \"Free\", \"Free\", \"Free\", \"Free\", \"Free\", \"Free\", \"Free\", \"Free\", \"Free\", \"Free\", \"Free\", \"Free\", \"Free\", \"Free\", \"Free\", \"Free\", \"Free\", \"Free\", \"Free\", \"Free\", \"Free\", \"Free\", \"Free\", \"Free\", \"Free\", \"Free\", \"Free\", \"Free\", \"Free\", \"Free\", \"Free\", \"Free\", \"Free\", \"Free\", \"Free\", \"Free\", \"Free\", \"Free\", \"Free\", \"Free\", \"Free\", \"Free\", \"Free\", \"Free\", \"Free\", \"Free\", \"Free\", \"Free\", \"Free\", \"Free\", \"Free\", \"Free\", \"Free\", \"Free\", \"Free\", \"Free\", \"Free\", \"Free\", \"Free\", \"Free\", \"Free\", \"Free\", \"Free\", \"Free\", \"Free\", \"Free\", \"Free\", \"Free\", \"Free\", \"Free\", \"Free\", \"Free\", \"Free\", \"Free\", \"Free\", \"Free\", \"Free\", \"Free\", \"Free\", \"Free\", \"Free\", \"Free\", \"Free\", \"Free\", \"Free\", \"Free\", \"Free\", \"Free\", \"Free\", \"Free\", \"Free\", \"Free\", \"Free\", \"Free\", \"Free\", \"Free\", \"Free\", \"Free\", \"Free\", \"Free\", \"Free\", \"Free\", \"Free\", \"Free\", \"Free\", \"Free\", \"Free\", \"Free\", \"Free\", \"Free\", \"Free\", \"Free\", \"Free\", \"Free\", \"Free\", \"Free\", \"Free\", \"Free\", \"Free\", \"Free\", \"Free\", \"Free\", \"Free\", \"Free\", \"Free\", \"Free\", \"Free\", \"Free\", \"Free\", \"Free\", \"Free\", \"Free\", \"Free\", \"Free\", \"Free\", \"Free\", \"Free\", \"Free\", \"Free\", \"Free\", \"Free\", \"Free\", \"Free\", \"Free\", \"Free\", \"Free\", \"Free\", \"Free\", \"Free\", \"Free\", \"Free\", \"Free\", \"Free\", \"Free\", \"Free\", \"Free\", \"Free\", \"Free\", \"Free\", \"Free\", \"Free\", \"Free\", \"Free\", \"Free\", \"Free\", \"Free\", \"Free\", \"Free\", \"Free\", \"Free\", \"Free\", \"Free\", \"Free\", \"Free\", \"Free\", \"Free\", \"Free\", \"Free\", \"Free\", \"Free\", \"Free\", \"Free\", \"Free\", \"Free\", \"Free\", \"Free\", \"Free\", \"Free\", \"Free\", \"Free\", \"Free\", \"Free\", \"Free\", \"Free\", \"Free\", \"Free\", \"Free\", \"Free\", \"Free\", \"Free\", \"Free\", \"Free\", \"Free\", \"Free\", \"Free\", \"Free\", \"Free\", \"Free\", \"Free\", \"Free\", \"Free\", \"Free\", \"Free\", \"Free\", \"Free\", \"Free\", \"Free\", \"Free\", \"Free\", \"Free\", \"Free\", \"Free\", \"Free\", \"Free\", \"Free\", \"Free\", \"Free\", \"Free\", \"Free\", \"Free\", \"Free\", \"Free\", \"Free\", \"Free\", \"Free\", \"Free\", \"Free\", \"Free\", \"Free\", \"Free\", \"Free\", \"Free\", \"Free\", \"Free\", \"Free\", \"Free\", \"Free\", \"Free\", \"Free\", \"Free\", \"Free\", \"Free\", \"Free\", \"Free\", \"Free\", \"Free\", \"Free\", \"Free\", \"Free\", \"Free\", \"Free\", \"Free\", \"Free\", \"Free\", \"Free\", \"Free\", \"Free\", \"Free\", \"Free\", \"Free\", \"Free\", \"Free\", \"Free\", \"Free\", \"Free\", \"Free\", \"Free\", \"Free\", \"Free\", \"Free\", \"Free\", \"Free\", \"Free\", \"Free\", \"Free\", \"Free\", \"Free\", \"Free\", \"Free\", \"Free\", \"Free\", \"Free\", \"Free\", \"Free\", \"Free\", \"Free\", \"Free\", \"Free\", \"Free\", \"Free\", \"Free\", \"Free\", \"Free\", \"Free\", \"Free\", \"Free\", \"Free\", \"Free\", \"Free\", \"Free\", \"Free\", \"Free\", \"Free\", \"Free\", \"Free\", \"Free\", \"Free\", \"Free\", \"Free\", \"Free\", \"Free\", \"Free\", \"Free\", \"Free\", \"Free\", \"Free\", \"Free\", \"Free\", \"Free\", \"Free\", \"Free\", \"Free\", \"Free\", \"Free\", \"Free\", \"Free\", \"Free\", \"Free\", \"Free\", \"Free\", \"Free\", \"Free\", \"Free\", \"Free\", \"Free\", \"Free\", \"Free\", \"Free\", \"Free\", \"Free\", \"Free\", \"Free\", \"Free\", \"Free\", \"Free\", \"Free\", \"Free\", \"Free\", \"Free\", \"Free\", \"Free\", \"Free\", \"Free\", \"Free\", \"Free\", \"Free\", \"Free\", \"Free\", \"Free\", \"Free\", \"Free\", \"Free\", \"Free\", \"Free\", \"Free\", \"Free\", \"Free\", \"Free\", \"Free\", \"Free\", \"Free\", \"Free\", \"Free\", \"Free\", \"Free\", \"Free\", \"Free\", \"Free\", \"Free\", \"Free\", \"Free\", \"Free\", \"Free\", \"Free\", \"Free\", \"Free\", \"Free\", \"Free\", \"Free\", \"Free\", \"Free\", \"Free\", \"Free\", \"Free\", \"Free\", \"Free\", \"Free\", \"Free\", \"Free\", \"Free\", \"Free\", \"Free\", \"Free\", \"Free\", \"Free\", \"Free\", \"Free\", \"Free\", \"Free\", \"Free\", \"Free\", \"Free\", \"Free\", \"Free\", \"Free\", \"Free\", \"Free\", \"Free\", \"Free\", \"Free\", \"Free\", \"Free\", \"Free\", \"Free\", \"Free\", \"Free\", \"Free\", \"Free\", \"Free\", \"Free\", \"Free\", \"Free\", \"Free\", \"Free\", \"Free\", \"Free\", \"Free\", \"Free\", \"Free\", \"Free\", \"Free\", \"Free\", \"Free\", \"Free\", \"Free\", \"Free\", \"Free\", \"Free\", \"Free\", \"Free\", \"Free\", \"Free\", \"Free\", \"Free\", \"Free\", \"Free\", \"Free\", \"Free\", \"Free\", \"Free\", \"Free\", \"Free\", \"Free\", \"Free\", \"Free\", \"Free\", \"Free\", \"Free\", \"Free\", \"Free\", \"Free\", \"Free\", \"Free\", \"Free\", \"Free\", \"Free\", \"Free\", \"Free\", \"Free\", \"Free\", \"Free\", \"Free\", \"Free\", \"Free\", \"Free\", \"Free\", \"Free\", \"Free\", \"Free\", \"Free\", \"Free\", \"Free\", \"Free\", \"Free\", \"Free\", \"Free\", \"Free\", \"Free\", \"Free\", \"Free\", \"Free\", \"Free\", \"Free\", \"Free\", \"Free\", \"Free\", \"Free\", \"Free\", \"Free\", \"Free\", \"Free\", \"Free\", \"Free\", \"Free\", \"Free\", \"Free\", \"Free\", \"Free\", \"Free\", \"Free\", \"Free\", \"Free\", \"Free\", \"Free\", \"Free\", \"Free\", \"Free\", \"Free\", \"Free\", \"Free\", \"Free\", \"Free\", \"Free\", \"Free\", \"Free\", \"Free\", \"Free\", \"Free\", \"Free\", \"Free\", \"Free\", \"Free\", \"Free\", \"Free\", \"Free\", \"Free\", \"Free\", \"Free\", \"Free\", \"Free\", \"Free\", \"Free\", \"Free\", \"Free\", \"Free\", \"Free\", \"Free\", \"Free\", \"Free\", \"Free\", \"Free\", \"Free\", \"Free\", \"Free\", \"Free\", \"Free\", \"Free\", \"Free\", \"Free\", \"Free\", \"Free\", \"Free\", \"Free\", \"Free\", \"Free\", \"Free\", \"Free\", \"Free\", \"Free\", \"Free\", \"Free\", \"Free\", \"Free\", \"Free\", \"Free\", \"Free\", \"Free\", \"Free\", \"Free\", \"Free\", \"Free\", \"Free\", \"Free\", \"Free\", \"Free\", \"Free\", \"Free\", \"Free\", \"Free\", \"Free\", \"Free\", \"Free\", \"Free\", \"Free\", \"Free\", \"Free\", \"Free\", \"Free\", \"Free\", \"Free\", \"Free\", \"Free\", \"Free\", \"Free\", \"Free\", \"Free\", \"Free\", \"Free\", \"Free\", \"Free\", \"Free\", \"Free\", \"Free\", \"Free\", \"Free\", \"Free\", \"Free\", \"Free\", \"Free\", \"Free\", \"Free\", \"Free\", \"Free\", \"Free\", \"Free\", \"Free\", \"Free\", \"Free\", \"Free\", \"Free\", \"Free\", \"Free\", \"Free\", \"Free\", \"Free\", \"Free\", \"Free\", \"Free\", \"Free\", \"Free\", \"Free\", \"Free\", \"Free\", \"Free\", \"Free\", \"Free\", \"Free\", \"Free\", \"Free\", \"Free\", \"Free\", \"Free\", \"Free\", \"Free\", \"Free\", \"Free\", \"Free\", \"Free\", \"Free\", \"Free\", \"Free\", \"Free\", \"Free\", \"Free\", \"Free\", \"Free\", \"Free\", \"Free\", \"Free\", \"Free\", \"Free\", \"Free\", \"Free\", \"Free\", \"Free\", \"Free\", \"Free\", \"Free\", \"Free\", \"Free\", \"Free\", \"Free\", \"Free\", \"Free\", \"Free\", \"Free\", \"Free\", \"Free\", \"Free\", \"Free\", \"Free\", \"Free\", \"Free\", \"Free\", \"Free\", \"Free\", \"Free\", \"Free\", \"Free\", \"Free\", \"Free\", \"Free\", \"Free\", \"Free\", \"Free\", \"Free\", \"Free\", \"Free\", \"Free\", \"Free\", \"Free\", \"Free\", \"Free\", \"Free\", \"Free\", \"Free\", \"Free\", \"Free\", \"Free\", \"Free\", \"Free\", \"Free\", \"Free\", \"Free\", \"Free\", \"Free\", \"Free\", \"Free\", \"Free\", \"Free\", \"Free\", \"Free\", \"Free\", \"Free\", \"Free\", \"Free\", \"Free\", \"Free\", \"Free\", \"Free\", \"Free\", \"Free\", \"Free\", \"Free\", \"Free\", \"Free\", \"Free\", \"Free\", \"Free\", \"Free\", \"Free\", \"Free\", \"Free\", \"Free\", \"Free\", \"Free\", \"Free\", \"Free\", \"Free\", \"Free\", \"Free\", \"Free\", \"Free\", \"Free\", \"Free\", \"Free\", \"Free\", \"Free\", \"Free\", \"Free\", \"Free\", \"Free\", \"Free\", \"Free\", \"Free\", \"Free\", \"Free\", \"Free\", \"Free\", \"Free\", \"Free\", \"Free\", \"Free\", \"Free\", \"Free\", \"Free\", \"Free\", \"Free\", \"Free\", \"Free\", \"Free\", \"Free\", \"Free\", \"Free\", \"Free\", \"Free\", \"Free\", \"Free\", \"Free\", \"Free\", \"Free\", \"Free\", \"Free\", \"Free\", \"Free\", \"Free\", \"Free\", \"Free\", \"Free\", \"Free\", \"Free\", \"Free\", \"Free\", \"Free\", \"Free\", \"Free\", \"Free\", \"Free\", \"Free\", \"Free\", \"Free\", \"Free\", \"Free\", \"Free\", \"Free\", \"Free\", \"Free\", \"Free\", \"Free\", \"Free\", \"Free\", \"Free\", \"Free\", \"Free\", \"Free\", \"Free\", \"Free\", \"Free\", \"Free\", \"Free\", \"Free\", \"Free\", \"Free\", \"Free\", \"Free\", \"Free\", \"Free\", \"Free\", \"Free\", \"Free\", \"Free\", \"Free\", \"Free\", \"Free\", \"Free\", \"Free\", \"Free\", \"Free\", \"Free\", \"Free\", \"Free\", \"Free\", \"Free\", \"Free\", \"Free\", \"Free\", \"Free\", \"Free\", \"Free\", \"Free\", \"Free\", \"Free\", \"Free\", \"Free\", \"Free\", \"Free\", \"Free\", \"Free\", \"Free\", \"Free\", \"Free\", \"Free\", \"Free\", \"Free\", \"Free\", \"Free\", \"Free\", \"Free\", \"Free\", \"Free\", \"Free\", \"Free\", \"Free\", \"Free\", \"Free\", \"Free\", \"Free\", \"Free\", \"Free\", \"Free\", \"Free\", \"Free\", \"Free\", \"Free\", \"Free\", \"Free\", \"Free\", \"Free\", \"Free\", \"Free\", \"Free\", \"Free\", \"Free\", \"Free\", \"Free\", \"Free\", \"Free\", \"Free\", \"Free\", \"Free\", \"Free\", \"Free\", \"Free\", \"Free\", \"Free\", \"Free\", \"Free\", \"Free\", \"Free\", \"Free\", \"Free\", \"Free\", \"Free\", \"Free\", \"Free\", \"Free\", \"Free\", \"Free\", \"Free\", \"Free\", \"Free\", \"Free\", \"Free\", \"Free\", \"Free\", \"Free\", \"Free\", \"Free\", \"Free\", \"Free\", \"Free\", \"Free\", \"Free\", \"Free\", \"Free\", \"Free\", \"Free\", \"Free\", \"Free\", \"Free\", \"Free\", \"Free\", \"Free\", \"Free\", \"Free\", \"Free\", \"Free\", \"Free\", \"Free\", \"Free\", \"Free\", \"Free\", \"Free\", \"Free\", \"Free\", \"Free\", \"Free\", \"Free\", \"Free\", \"Free\", \"Free\", \"Free\", \"Free\", \"Free\", \"Free\", \"Free\", \"Free\", \"Free\", \"Free\", \"Free\", \"Free\", \"Free\", \"Free\", \"Free\", \"Free\", \"Free\", \"Free\", \"Free\", \"Free\", \"Free\", \"Free\", \"Free\", \"Free\", \"Free\", \"Free\", \"Free\", \"Free\", \"Free\", \"Free\", \"Free\", \"Free\", \"Free\", \"Free\", \"Free\", \"Free\", \"Free\", \"Free\", \"Free\", \"Free\", \"Free\", \"Free\", \"Free\", \"Free\", \"Free\", \"Free\", \"Free\", \"Free\", \"Free\", \"Free\", \"Free\", \"Free\", \"Free\", \"Free\", \"Free\", \"Free\", \"Free\", \"Free\", \"Free\", \"Free\", \"Free\", \"Free\", \"Free\", \"Free\", \"Free\", \"Free\", \"Free\", \"Free\", \"Free\", \"Free\", \"Free\", \"Free\", \"Free\", \"Free\", \"Free\", \"Free\", \"Free\", \"Free\", \"Free\", \"Free\", \"Free\", \"Free\", \"Free\", \"Free\", \"Free\", \"Free\", \"Free\", \"Free\", \"Free\", \"Free\", \"Free\", \"Free\", \"Free\", \"Free\", \"Free\", \"Free\", \"Free\", \"Free\", \"Free\", \"Free\", \"Free\", \"Free\", \"Free\", \"Free\", \"Free\", \"Free\", \"Free\", \"Free\", \"Free\", \"Free\", \"Free\", \"Free\", \"Free\", \"Free\", \"Free\", \"Free\", \"Free\", \"Free\", \"Free\", \"Free\", \"Free\", \"Free\", \"Free\", \"Free\", \"Free\", \"Free\", \"Free\", \"Free\", \"Free\", \"Free\", \"Free\", \"Free\", \"Free\", \"Free\", \"Free\", \"Free\", \"Free\", \"Free\", \"Free\", \"Free\", \"Free\", \"Free\", \"Free\", \"Free\", \"Free\", \"Free\", \"Free\", \"Free\", \"Free\", \"Free\", \"Free\", \"Free\", \"Free\", \"Free\", \"Free\", \"Free\", \"Free\", \"Free\", \"Free\", \"Free\", \"Free\", \"Free\", \"Free\", \"Free\", \"Free\", \"Free\", \"Free\", \"Free\", \"Free\", \"Free\", \"Free\", \"Free\", \"Free\", \"Free\", \"Free\", \"Free\", \"Free\", \"Free\", \"Free\", \"Free\", \"Free\", \"Free\", \"Free\", \"Free\", \"Free\", \"Free\", \"Free\", \"Free\", \"Free\", \"Free\", \"Free\", \"Free\", \"Free\", \"Free\", \"Free\", \"Free\", \"Free\", \"Free\", \"Free\", \"Free\", \"Free\", \"Free\", \"Free\", \"Free\", \"Free\", \"Free\", \"Free\", \"Free\", \"Free\", \"Free\", \"Free\", \"Free\", \"Free\", \"Free\", \"Free\", \"Free\", \"Free\", \"Free\", \"Free\", \"Free\", \"Free\", \"Free\", \"Free\", \"Free\", \"Free\", \"Free\", \"Free\", \"Free\", \"Free\", \"Free\", \"Free\", \"Free\", \"Free\", \"Free\", \"Free\", \"Free\", \"Free\", \"Free\", \"Free\", \"Free\", \"Free\", \"Free\", \"Free\", \"Free\", \"Free\", \"Free\", \"Free\", \"Free\", \"Free\", \"Free\", \"Free\", \"Free\", \"Free\", \"Free\", \"Free\", \"Free\", \"Free\", \"Free\", \"Free\", \"Free\", \"Free\", \"Free\", \"Free\", \"Free\", \"Free\", \"Free\", \"Free\", \"Free\", \"Free\", \"Free\", \"Free\", \"Free\", \"Free\", \"Free\", \"Free\", \"Free\", \"Free\", \"Free\", \"Free\", \"Free\", \"Free\", \"Free\", \"Free\", \"Free\", \"Free\", \"Free\", \"Free\", \"Free\", \"Free\", \"Free\", \"Free\", \"Free\", \"Free\", \"Free\", \"Free\", \"Free\", \"Free\", \"Free\", \"Free\", \"Free\", \"Free\", \"Free\", \"Free\", \"Free\", \"Free\", \"Free\", \"Free\", \"Free\", \"Free\", \"Free\", \"Free\", \"Free\", \"Free\", \"Free\", \"Free\", \"Free\", \"Free\", \"Free\", \"Free\", \"Free\", \"Free\", \"Free\", \"Free\", \"Free\", \"Free\", \"Free\", \"Free\", \"Free\", \"Free\", \"Free\", \"Free\", \"Free\", \"Free\", \"Free\", \"Free\", \"Free\", \"Free\", \"Free\", \"Free\", \"Free\", \"Free\", \"Free\", \"Free\", \"Free\", \"Free\", \"Free\", \"Free\", \"Free\", \"Free\", \"Free\", \"Free\", \"Free\", \"Free\", \"Free\", \"Free\", \"Free\", \"Free\", \"Free\", \"Free\", \"Free\", \"Free\", \"Free\", \"Free\", \"Free\", \"Free\", \"Free\", \"Free\", \"Free\", \"Free\", \"Free\", \"Free\", \"Free\", \"Free\", \"Free\", \"Free\", \"Free\", \"Free\", \"Free\", \"Free\", \"Free\", \"Free\", \"Free\", \"Free\", \"Free\", \"Free\", \"Free\", \"Free\", \"Free\", \"Free\", \"Free\", \"Free\", \"Free\", \"Free\", \"Free\", \"Free\", \"Free\", \"Free\", \"Free\", \"Free\", \"Free\", \"Free\", \"Free\", \"Free\", \"Free\", \"Free\", \"Free\", \"Free\", \"Free\", \"Free\", \"Free\", \"Free\", \"Free\", \"Free\", \"Free\", \"Free\", \"Free\", \"Free\", \"Free\", \"Free\", \"Free\", \"Free\", \"Free\", \"Free\", \"Free\", \"Free\", \"Free\", \"Free\", \"Free\", \"Free\", \"Free\", \"Free\", \"Free\", \"Free\", \"Free\", \"Free\", \"Free\", \"Free\", \"Free\", \"Free\", \"Free\", \"Free\", \"Free\", \"Free\", \"Free\", \"Free\", \"Free\", \"Free\", \"Free\", \"Free\", \"Free\", \"Free\", \"Free\", \"Free\", \"Free\", \"Free\", \"Free\", \"Free\", \"Free\", \"Free\", \"Free\", \"Free\", \"Free\", \"Free\", \"Free\", \"Free\", \"Free\", \"Free\", \"Free\", \"Free\", \"Free\", \"Free\", \"Free\", \"Free\", \"Free\", \"Free\", \"Free\", \"Free\", \"Free\", \"Free\", \"Free\", \"Free\", \"Free\", \"Free\", \"Free\", \"Free\", \"Free\", \"Free\", \"Free\", \"Free\", \"Free\", \"Free\", \"Free\", \"Free\", \"Free\", \"Free\", \"Free\", \"Free\", \"Free\", \"Free\", \"Free\", \"Free\", \"Free\", \"Free\", \"Free\", \"Free\", \"Free\", \"Free\", \"Free\", \"Free\", \"Free\", \"Free\", \"Free\", \"Free\", \"Free\", \"Free\", \"Free\", \"Free\", \"Free\", \"Free\", \"Free\", \"Free\", \"Free\", \"Free\", \"Free\", \"Free\", \"Free\", \"Free\", \"Free\", \"Free\", \"Free\", \"Free\", \"Free\", \"Free\", \"Free\", \"Free\", \"Free\", \"Free\", \"Free\", \"Free\", \"Free\", \"Free\", \"Free\", \"Free\", \"Free\", \"Free\", \"Free\", \"Free\", \"Free\", \"Free\", \"Free\", \"Free\", \"Free\", \"Free\", \"Free\", \"Free\", \"Free\", \"Free\", \"Free\", \"Free\", \"Free\", \"Free\", \"Free\", \"Free\", \"Free\", \"Free\", \"Free\", \"Free\", \"Free\", \"Free\", \"Free\", \"Free\", \"Free\", \"Free\", \"Free\", \"Free\", \"Free\", \"Free\", \"Free\", \"Free\", \"Free\", \"Free\", \"Free\", \"Free\", \"Free\", \"Free\", \"Free\", \"Free\", \"Free\", \"Free\", \"Free\", \"Free\", \"Free\", \"Free\", \"Free\", \"Free\", \"Free\", \"Free\", \"Free\", \"Free\", \"Free\", \"Free\", \"Free\", \"Free\", \"Free\", \"Free\", \"Free\", \"Free\", \"Free\", \"Free\", \"Free\", \"Free\", \"Free\", \"Free\", \"Free\", \"Free\", \"Free\", \"Free\", \"Free\", \"Free\", \"Free\", \"Free\", \"Free\", \"Free\", \"Free\", \"Free\", \"Free\", \"Free\", \"Free\", \"Free\", \"Free\", \"Free\", \"Free\", \"Free\", \"Free\", \"Free\", \"Free\", \"Free\", \"Free\", \"Free\", \"Free\", \"Free\", \"Free\", \"Free\", \"Free\", \"Free\", \"Free\", \"Free\", \"Free\", \"Free\", \"Free\", \"Free\", \"Free\", \"Free\", \"Free\", \"Free\", \"Free\", \"Free\", \"Free\", \"Free\", \"Free\", \"Free\", \"Free\", \"Free\", \"Free\", \"Free\", \"Free\", \"Free\", \"Free\", \"Free\", \"Free\", \"Free\", \"Free\", \"Free\", \"Free\", \"Free\", \"Free\", \"Free\", \"Free\", \"Free\", \"Free\", \"Free\", \"Free\", \"Free\", \"Free\", \"Free\", \"Free\", \"Free\", \"Free\", \"Free\", \"Free\", \"Free\", \"Free\", \"Free\", \"Free\", \"Free\", \"Free\", \"Free\", \"Free\", \"Free\", \"Free\", \"Free\", \"Free\", \"Free\", \"Free\", \"Free\", \"Free\", \"Free\", \"Free\", \"Free\", \"Free\", \"Free\", \"Free\", \"Free\", \"Free\", \"Free\", \"Free\", \"Free\", \"Free\", \"Free\", \"Free\", \"Free\", \"Free\", \"Free\", \"Free\", \"Free\", \"Free\", \"Free\", \"Free\", \"Free\", \"Free\", \"Free\", \"Free\", \"Free\", \"Free\", \"Free\", \"Free\", \"Free\", \"Free\", \"Free\", \"Free\", \"Free\", \"Free\", \"Free\", \"Free\", \"Free\", \"Free\", \"Free\", \"Free\", \"Free\", \"Free\", \"Free\", \"Free\", \"Free\", \"Free\", \"Free\", \"Free\", \"Free\", \"Free\", \"Free\", \"Free\", \"Free\", \"Free\", \"Free\", \"Free\", \"Free\", \"Free\", \"Free\", \"Free\", \"Free\", \"Free\", \"Free\", \"Free\", \"Free\", \"Free\", \"Free\", \"Free\", \"Free\", \"Free\", \"Free\", \"Free\", \"Free\", \"Free\", \"Free\", \"Free\", \"Free\", \"Free\", \"Free\", \"Free\", \"Free\", \"Free\", \"Free\", \"Free\", \"Free\", \"Free\", \"Free\", \"Free\", \"Free\", \"Free\", \"Free\", \"Free\", \"Free\", \"Free\", \"Free\", \"Free\", \"Free\", \"Free\", \"Free\", \"Free\", \"Free\", \"Free\", \"Free\", \"Free\", \"Free\", \"Free\", \"Free\", \"Free\", \"Free\", \"Free\", \"Free\", \"Free\", \"Free\", \"Free\", \"Free\", \"Free\", \"Free\", \"Free\", \"Free\", \"Free\", \"Free\", \"Free\", \"Free\", \"Free\", \"Free\", \"Free\", \"Free\", \"Free\", \"Free\", \"Free\", \"Free\", \"Free\", \"Free\", \"Free\", \"Free\", \"Free\", \"Free\", \"Free\", \"Free\", \"Free\", \"Free\", \"Free\", \"Free\", \"Free\", \"Free\", \"Free\", \"Free\", \"Free\", \"Free\", \"Free\", \"Free\", \"Free\", \"Free\", \"Free\", \"Free\", \"Free\", \"Free\", \"Free\", \"Free\", \"Free\", \"Free\", \"Free\", \"Free\", \"Free\", \"Free\", \"Free\", \"Free\", \"Free\", \"Free\", \"Free\", \"Free\", \"Free\", \"Free\", \"Free\", \"Free\", \"Free\", \"Free\", \"Free\", \"Free\", \"Free\", \"Free\", \"Free\", \"Free\", \"Free\", \"Free\", \"Free\", \"Free\", \"Free\", \"Free\", \"Free\", \"Free\", \"Free\", \"Free\", \"Free\", \"Free\", \"Free\", \"Free\", \"Free\", \"Free\", \"Free\", \"Free\", \"Free\", \"Free\", \"Free\", \"Free\", \"Free\", \"Free\", \"Free\", \"Free\", \"Free\", \"Free\", \"Free\", \"Free\", \"Free\", \"Free\", \"Free\", \"Free\", \"Free\", \"Free\", \"Free\", \"Free\", \"Free\", \"Free\", \"Free\", \"Free\", \"Free\", \"Free\", \"Free\", \"Free\", \"Free\", \"Free\", \"Free\"], \"x0\": \" \", \"xaxis\": \"x\", \"y\": [1, 5, 5, 5, 5, 5, 5, 5, 5, 5, 10, 10, 10, 10, 10, 10, 10, 10, 10, 10, 10, 10, 10, 10, 10, 10, 10, 10, 10, 10, 10, 10, 10, 10, 10, 10, 10, 10, 10, 10, 10, 10, 10, 10, 10, 10, 10, 10, 10, 10, 10, 10, 10, 10, 10, 10, 10, 10, 10, 10, 10, 50, 50, 50, 50, 50, 50, 50, 50, 50, 50, 50, 50, 50, 50, 50, 50, 50, 50, 50, 50, 50, 50, 50, 50, 50, 50, 50, 50, 50, 50, 50, 50, 50, 50, 50, 50, 50, 50, 50, 50, 50, 50, 100, 100, 100, 100, 100, 100, 100, 100, 100, 100, 100, 100, 100, 100, 100, 100, 100, 100, 100, 100, 100, 100, 100, 100, 100, 100, 100, 100, 100, 100, 100, 100, 100, 100, 100, 100, 100, 100, 100, 100, 100, 100, 100, 100, 100, 100, 100, 100, 100, 100, 100, 100, 100, 100, 100, 100, 100, 100, 100, 100, 100, 100, 100, 100, 100, 100, 100, 100, 100, 100, 100, 100, 100, 100, 100, 100, 100, 100, 100, 100, 100, 100, 100, 100, 100, 100, 100, 100, 100, 100, 100, 100, 100, 100, 100, 100, 100, 100, 100, 100, 100, 100, 100, 100, 100, 100, 100, 100, 100, 100, 100, 100, 100, 100, 100, 100, 100, 100, 100, 100, 100, 100, 100, 100, 100, 100, 100, 100, 100, 100, 100, 100, 100, 100, 100, 100, 100, 100, 100, 100, 100, 100, 100, 100, 100, 100, 100, 100, 100, 100, 100, 100, 100, 100, 100, 100, 100, 100, 100, 100, 100, 100, 100, 100, 100, 100, 100, 100, 100, 100, 100, 100, 100, 100, 100, 100, 100, 100, 100, 100, 100, 100, 100, 100, 100, 100, 100, 100, 100, 100, 100, 100, 100, 100, 100, 100, 100, 100, 100, 100, 100, 100, 100, 100, 100, 100, 100, 100, 100, 100, 100, 100, 100, 100, 100, 100, 100, 100, 100, 100, 100, 100, 100, 100, 100, 100, 100, 100, 100, 100, 100, 100, 100, 100, 100, 100, 100, 500, 500, 500, 500, 500, 500, 500, 500, 500, 500, 500, 500, 500, 500, 500, 500, 500, 500, 500, 500, 500, 500, 500, 500, 500, 500, 500, 500, 500, 500, 500, 500, 500, 500, 500, 500, 500, 500, 500, 500, 500, 500, 500, 500, 500, 500, 500, 500, 500, 500, 500, 500, 500, 500, 500, 500, 500, 500, 500, 500, 500, 500, 500, 500, 500, 500, 500, 500, 500, 500, 500, 500, 500, 500, 500, 500, 500, 500, 500, 500, 500, 500, 500, 500, 500, 500, 500, 500, 500, 500, 500, 500, 500, 500, 500, 500, 500, 500, 500, 500, 500, 500, 500, 500, 500, 500, 500, 500, 500, 500, 500, 500, 500, 500, 500, 500, 500, 500, 500, 500, 500, 500, 500, 500, 500, 500, 500, 500, 500, 500, 500, 500, 500, 500, 500, 500, 500, 500, 500, 500, 500, 500, 500, 500, 500, 500, 500, 500, 500, 500, 500, 500, 500, 500, 500, 500, 500, 500, 500, 500, 500, 500, 500, 1000, 1000, 1000, 1000, 1000, 1000, 1000, 1000, 1000, 1000, 1000, 1000, 1000, 1000, 1000, 1000, 1000, 1000, 1000, 1000, 1000, 1000, 1000, 1000, 1000, 1000, 1000, 1000, 1000, 1000, 1000, 1000, 1000, 1000, 1000, 1000, 1000, 1000, 1000, 1000, 1000, 1000, 1000, 1000, 1000, 1000, 1000, 1000, 1000, 1000, 1000, 1000, 1000, 1000, 1000, 1000, 1000, 1000, 1000, 1000, 1000, 1000, 1000, 1000, 1000, 1000, 1000, 1000, 1000, 1000, 1000, 1000, 1000, 1000, 1000, 1000, 1000, 1000, 1000, 1000, 1000, 1000, 1000, 1000, 1000, 1000, 1000, 1000, 1000, 1000, 1000, 1000, 1000, 1000, 1000, 1000, 1000, 1000, 1000, 1000, 1000, 1000, 1000, 1000, 1000, 1000, 1000, 1000, 1000, 1000, 1000, 1000, 1000, 1000, 1000, 1000, 1000, 1000, 1000, 1000, 1000, 1000, 1000, 1000, 1000, 1000, 1000, 1000, 1000, 1000, 1000, 1000, 1000, 1000, 1000, 1000, 1000, 1000, 1000, 1000, 1000, 1000, 1000, 1000, 1000, 1000, 1000, 1000, 1000, 1000, 1000, 1000, 1000, 1000, 1000, 1000, 1000, 1000, 1000, 1000, 1000, 1000, 1000, 1000, 1000, 1000, 1000, 1000, 1000, 1000, 1000, 1000, 1000, 1000, 1000, 1000, 1000, 1000, 1000, 1000, 1000, 1000, 1000, 1000, 1000, 1000, 1000, 1000, 1000, 1000, 1000, 1000, 1000, 1000, 1000, 1000, 1000, 1000, 1000, 1000, 1000, 1000, 1000, 1000, 1000, 1000, 1000, 1000, 1000, 1000, 1000, 1000, 1000, 1000, 1000, 1000, 1000, 1000, 1000, 1000, 1000, 1000, 1000, 1000, 1000, 1000, 1000, 1000, 1000, 1000, 1000, 1000, 1000, 1000, 1000, 1000, 1000, 1000, 1000, 1000, 1000, 1000, 1000, 1000, 1000, 1000, 1000, 1000, 1000, 1000, 1000, 1000, 1000, 1000, 1000, 1000, 1000, 1000, 1000, 1000, 1000, 1000, 1000, 1000, 1000, 1000, 1000, 1000, 1000, 1000, 1000, 1000, 1000, 1000, 1000, 1000, 1000, 1000, 1000, 1000, 1000, 1000, 1000, 1000, 1000, 1000, 1000, 1000, 1000, 1000, 1000, 1000, 1000, 1000, 1000, 1000, 1000, 1000, 1000, 1000, 1000, 1000, 1000, 1000, 1000, 1000, 1000, 1000, 1000, 1000, 1000, 1000, 1000, 1000, 1000, 1000, 1000, 1000, 1000, 1000, 1000, 1000, 1000, 1000, 1000, 1000, 1000, 1000, 1000, 1000, 1000, 1000, 1000, 1000, 1000, 1000, 1000, 1000, 1000, 1000, 1000, 1000, 1000, 1000, 1000, 1000, 1000, 1000, 1000, 1000, 1000, 1000, 1000, 1000, 1000, 1000, 1000, 1000, 1000, 1000, 1000, 1000, 1000, 1000, 1000, 1000, 1000, 1000, 1000, 1000, 1000, 1000, 1000, 1000, 1000, 1000, 1000, 1000, 1000, 1000, 1000, 1000, 1000, 1000, 1000, 1000, 1000, 1000, 1000, 1000, 1000, 1000, 1000, 1000, 1000, 1000, 1000, 1000, 1000, 1000, 1000, 1000, 1000, 1000, 1000, 1000, 1000, 1000, 1000, 1000, 1000, 1000, 1000, 1000, 1000, 1000, 1000, 1000, 1000, 1000, 1000, 1000, 1000, 1000, 1000, 1000, 1000, 1000, 1000, 1000, 1000, 1000, 1000, 1000, 1000, 1000, 1000, 1000, 1000, 1000, 1000, 1000, 1000, 1000, 1000, 1000, 1000, 1000, 1000, 1000, 1000, 1000, 1000, 1000, 1000, 1000, 1000, 1000, 1000, 1000, 1000, 1000, 1000, 1000, 1000, 1000, 1000, 1000, 1000, 1000, 1000, 1000, 1000, 1000, 1000, 1000, 1000, 1000, 1000, 1000, 1000, 1000, 1000, 1000, 1000, 1000, 1000, 1000, 1000, 1000, 1000, 1000, 1000, 1000, 1000, 1000, 1000, 1000, 1000, 1000, 1000, 1000, 1000, 1000, 1000, 1000, 1000, 1000, 1000, 1000, 1000, 1000, 1000, 1000, 1000, 1000, 1000, 1000, 1000, 1000, 1000, 1000, 1000, 1000, 1000, 1000, 1000, 1000, 1000, 1000, 1000, 1000, 1000, 1000, 1000, 1000, 1000, 1000, 1000, 1000, 1000, 1000, 1000, 1000, 1000, 1000, 1000, 1000, 1000, 1000, 1000, 1000, 1000, 1000, 1000, 1000, 1000, 1000, 1000, 1000, 1000, 1000, 1000, 1000, 1000, 1000, 1000, 5000, 5000, 5000, 5000, 5000, 5000, 5000, 5000, 5000, 5000, 5000, 5000, 5000, 5000, 5000, 5000, 5000, 5000, 5000, 5000, 5000, 5000, 5000, 5000, 5000, 5000, 5000, 5000, 5000, 5000, 5000, 5000, 5000, 5000, 5000, 5000, 5000, 5000, 5000, 5000, 5000, 5000, 5000, 5000, 5000, 5000, 5000, 5000, 5000, 5000, 5000, 5000, 5000, 5000, 5000, 5000, 5000, 5000, 5000, 5000, 5000, 5000, 5000, 5000, 5000, 5000, 5000, 5000, 5000, 5000, 5000, 5000, 5000, 5000, 5000, 5000, 5000, 5000, 5000, 5000, 5000, 5000, 5000, 5000, 5000, 5000, 5000, 5000, 5000, 5000, 5000, 5000, 5000, 5000, 5000, 5000, 5000, 5000, 5000, 5000, 5000, 5000, 5000, 5000, 5000, 5000, 5000, 5000, 5000, 5000, 5000, 5000, 5000, 5000, 5000, 5000, 5000, 5000, 5000, 5000, 5000, 5000, 5000, 5000, 5000, 5000, 5000, 5000, 5000, 5000, 5000, 5000, 5000, 5000, 5000, 5000, 5000, 5000, 5000, 5000, 5000, 5000, 5000, 5000, 5000, 5000, 5000, 5000, 5000, 5000, 5000, 5000, 5000, 5000, 5000, 5000, 5000, 5000, 5000, 5000, 5000, 5000, 5000, 5000, 5000, 5000, 5000, 5000, 5000, 5000, 5000, 5000, 5000, 5000, 5000, 5000, 5000, 5000, 5000, 5000, 5000, 5000, 5000, 5000, 5000, 5000, 5000, 5000, 5000, 5000, 5000, 5000, 5000, 5000, 5000, 5000, 5000, 5000, 5000, 5000, 5000, 5000, 5000, 5000, 5000, 5000, 5000, 5000, 5000, 5000, 5000, 5000, 5000, 5000, 5000, 5000, 5000, 5000, 5000, 5000, 5000, 5000, 5000, 5000, 5000, 5000, 5000, 5000, 5000, 5000, 5000, 5000, 5000, 5000, 5000, 5000, 5000, 5000, 5000, 5000, 5000, 5000, 5000, 5000, 5000, 5000, 5000, 5000, 5000, 5000, 5000, 5000, 5000, 5000, 5000, 5000, 5000, 5000, 5000, 5000, 5000, 5000, 5000, 5000, 5000, 5000, 5000, 5000, 5000, 5000, 5000, 5000, 5000, 5000, 5000, 5000, 5000, 5000, 5000, 5000, 5000, 5000, 5000, 5000, 5000, 5000, 5000, 5000, 5000, 5000, 5000, 5000, 5000, 5000, 5000, 5000, 5000, 5000, 5000, 5000, 5000, 5000, 5000, 5000, 5000, 5000, 5000, 5000, 5000, 5000, 5000, 5000, 5000, 5000, 5000, 5000, 5000, 5000, 5000, 5000, 5000, 5000, 5000, 5000, 5000, 5000, 5000, 5000, 5000, 5000, 5000, 5000, 5000, 5000, 5000, 5000, 5000, 5000, 5000, 5000, 5000, 5000, 5000, 5000, 5000, 5000, 5000, 5000, 5000, 5000, 5000, 5000, 5000, 5000, 5000, 5000, 5000, 5000, 5000, 5000, 10000, 10000, 10000, 10000, 10000, 10000, 10000, 10000, 10000, 10000, 10000, 10000, 10000, 10000, 10000, 10000, 10000, 10000, 10000, 10000, 10000, 10000, 10000, 10000, 10000, 10000, 10000, 10000, 10000, 10000, 10000, 10000, 10000, 10000, 10000, 10000, 10000, 10000, 10000, 10000, 10000, 10000, 10000, 10000, 10000, 10000, 10000, 10000, 10000, 10000, 10000, 10000, 10000, 10000, 10000, 10000, 10000, 10000, 10000, 10000, 10000, 10000, 10000, 10000, 10000, 10000, 10000, 10000, 10000, 10000, 10000, 10000, 10000, 10000, 10000, 10000, 10000, 10000, 10000, 10000, 10000, 10000, 10000, 10000, 10000, 10000, 10000, 10000, 10000, 10000, 10000, 10000, 10000, 10000, 10000, 10000, 10000, 10000, 10000, 10000, 10000, 10000, 10000, 10000, 10000, 10000, 10000, 10000, 10000, 10000, 10000, 10000, 10000, 10000, 10000, 10000, 10000, 10000, 10000, 10000, 10000, 10000, 10000, 10000, 10000, 10000, 10000, 10000, 10000, 10000, 10000, 10000, 10000, 10000, 10000, 10000, 10000, 10000, 10000, 10000, 10000, 10000, 10000, 10000, 10000, 10000, 10000, 10000, 10000, 10000, 10000, 10000, 10000, 10000, 10000, 10000, 10000, 10000, 10000, 10000, 10000, 10000, 10000, 10000, 10000, 10000, 10000, 10000, 10000, 10000, 10000, 10000, 10000, 10000, 10000, 10000, 10000, 10000, 10000, 10000, 10000, 10000, 10000, 10000, 10000, 10000, 10000, 10000, 10000, 10000, 10000, 10000, 10000, 10000, 10000, 10000, 10000, 10000, 10000, 10000, 10000, 10000, 10000, 10000, 10000, 10000, 10000, 10000, 10000, 10000, 10000, 10000, 10000, 10000, 10000, 10000, 10000, 10000, 10000, 10000, 10000, 10000, 10000, 10000, 10000, 10000, 10000, 10000, 10000, 10000, 10000, 10000, 10000, 10000, 10000, 10000, 10000, 10000, 10000, 10000, 10000, 10000, 10000, 10000, 10000, 10000, 10000, 10000, 10000, 10000, 10000, 10000, 10000, 10000, 10000, 10000, 10000, 10000, 10000, 10000, 10000, 10000, 10000, 10000, 10000, 10000, 10000, 10000, 10000, 10000, 10000, 10000, 10000, 10000, 10000, 10000, 10000, 10000, 10000, 10000, 10000, 10000, 10000, 10000, 10000, 10000, 10000, 10000, 10000, 10000, 10000, 10000, 10000, 10000, 10000, 10000, 10000, 10000, 10000, 10000, 10000, 10000, 10000, 10000, 10000, 10000, 10000, 10000, 10000, 10000, 10000, 10000, 10000, 10000, 10000, 10000, 10000, 10000, 10000, 10000, 10000, 10000, 10000, 10000, 10000, 10000, 10000, 10000, 10000, 10000, 10000, 10000, 10000, 10000, 10000, 10000, 10000, 10000, 10000, 10000, 10000, 10000, 10000, 10000, 10000, 10000, 10000, 10000, 10000, 10000, 10000, 10000, 10000, 10000, 10000, 10000, 10000, 10000, 10000, 10000, 10000, 10000, 10000, 10000, 10000, 10000, 10000, 10000, 10000, 10000, 10000, 10000, 10000, 10000, 10000, 10000, 10000, 10000, 10000, 10000, 10000, 10000, 10000, 10000, 10000, 10000, 10000, 10000, 10000, 10000, 10000, 10000, 10000, 10000, 10000, 10000, 10000, 10000, 10000, 10000, 10000, 10000, 10000, 10000, 10000, 10000, 10000, 10000, 10000, 10000, 10000, 10000, 10000, 10000, 10000, 10000, 10000, 10000, 10000, 10000, 10000, 10000, 10000, 10000, 10000, 10000, 10000, 10000, 10000, 10000, 10000, 10000, 10000, 10000, 10000, 10000, 10000, 10000, 10000, 10000, 10000, 10000, 10000, 10000, 10000, 10000, 10000, 10000, 10000, 10000, 10000, 10000, 10000, 10000, 10000, 10000, 10000, 10000, 10000, 10000, 10000, 10000, 10000, 10000, 10000, 10000, 10000, 10000, 10000, 10000, 10000, 10000, 10000, 10000, 10000, 10000, 10000, 10000, 10000, 10000, 10000, 10000, 10000, 10000, 10000, 10000, 10000, 10000, 10000, 10000, 10000, 10000, 10000, 10000, 10000, 10000, 10000, 10000, 10000, 10000, 10000, 10000, 10000, 10000, 10000, 10000, 10000, 10000, 10000, 10000, 10000, 10000, 10000, 10000, 10000, 10000, 10000, 10000, 10000, 10000, 10000, 10000, 10000, 10000, 10000, 10000, 10000, 10000, 10000, 10000, 10000, 10000, 10000, 10000, 10000, 10000, 10000, 10000, 10000, 10000, 10000, 10000, 10000, 10000, 10000, 10000, 10000, 10000, 10000, 10000, 10000, 10000, 10000, 10000, 10000, 10000, 10000, 10000, 10000, 10000, 10000, 10000, 10000, 10000, 10000, 10000, 10000, 10000, 10000, 10000, 10000, 10000, 10000, 10000, 10000, 10000, 10000, 10000, 10000, 10000, 10000, 10000, 10000, 10000, 10000, 10000, 10000, 10000, 10000, 10000, 10000, 10000, 10000, 10000, 10000, 10000, 10000, 10000, 10000, 10000, 10000, 10000, 10000, 10000, 10000, 10000, 10000, 10000, 10000, 10000, 10000, 10000, 10000, 10000, 10000, 10000, 10000, 10000, 10000, 10000, 10000, 10000, 10000, 10000, 10000, 10000, 10000, 10000, 10000, 10000, 10000, 10000, 10000, 10000, 10000, 10000, 10000, 10000, 10000, 10000, 10000, 10000, 10000, 10000, 10000, 10000, 10000, 10000, 10000, 10000, 10000, 10000, 10000, 10000, 10000, 10000, 10000, 10000, 10000, 10000, 10000, 10000, 10000, 10000, 10000, 10000, 10000, 10000, 10000, 10000, 10000, 10000, 10000, 10000, 10000, 10000, 10000, 10000, 10000, 10000, 10000, 10000, 10000, 10000, 10000, 10000, 10000, 10000, 10000, 10000, 10000, 10000, 10000, 10000, 10000, 10000, 10000, 10000, 10000, 10000, 10000, 10000, 10000, 10000, 10000, 10000, 10000, 10000, 10000, 10000, 10000, 10000, 10000, 10000, 10000, 10000, 10000, 10000, 10000, 10000, 10000, 10000, 10000, 10000, 10000, 10000, 10000, 10000, 10000, 10000, 10000, 10000, 10000, 10000, 10000, 10000, 10000, 10000, 10000, 10000, 10000, 10000, 10000, 10000, 10000, 10000, 10000, 10000, 10000, 10000, 10000, 10000, 10000, 10000, 10000, 10000, 10000, 10000, 10000, 10000, 10000, 10000, 10000, 10000, 10000, 10000, 10000, 10000, 10000, 10000, 10000, 10000, 10000, 10000, 10000, 10000, 10000, 10000, 10000, 10000, 10000, 10000, 10000, 10000, 10000, 10000, 10000, 10000, 10000, 10000, 10000, 10000, 10000, 10000, 10000, 10000, 10000, 10000, 10000, 10000, 10000, 10000, 10000, 10000, 10000, 10000, 10000, 10000, 10000, 10000, 10000, 10000, 10000, 10000, 10000, 10000, 10000, 10000, 10000, 10000, 10000, 10000, 10000, 10000, 10000, 10000, 10000, 10000, 10000, 10000, 10000, 10000, 10000, 10000, 10000, 10000, 10000, 10000, 10000, 10000, 10000, 10000, 10000, 10000, 10000, 10000, 10000, 10000, 10000, 10000, 10000, 10000, 10000, 10000, 10000, 10000, 10000, 10000, 10000, 10000, 10000, 10000, 10000, 10000, 10000, 10000, 10000, 10000, 10000, 10000, 10000, 50000, 50000, 50000, 50000, 50000, 50000, 50000, 50000, 50000, 50000, 50000, 50000, 50000, 50000, 50000, 50000, 50000, 50000, 50000, 50000, 50000, 50000, 50000, 50000, 50000, 50000, 50000, 50000, 50000, 50000, 50000, 50000, 50000, 50000, 50000, 50000, 50000, 50000, 50000, 50000, 50000, 50000, 50000, 50000, 50000, 50000, 50000, 50000, 50000, 50000, 50000, 50000, 50000, 50000, 50000, 50000, 50000, 50000, 50000, 50000, 50000, 50000, 50000, 50000, 50000, 50000, 50000, 50000, 50000, 50000, 50000, 50000, 50000, 50000, 50000, 50000, 50000, 50000, 50000, 50000, 50000, 50000, 50000, 50000, 50000, 50000, 50000, 50000, 50000, 50000, 50000, 50000, 50000, 50000, 50000, 50000, 50000, 50000, 50000, 50000, 50000, 50000, 50000, 50000, 50000, 50000, 50000, 50000, 50000, 50000, 50000, 50000, 50000, 50000, 50000, 50000, 50000, 50000, 50000, 50000, 50000, 50000, 50000, 50000, 50000, 50000, 50000, 50000, 50000, 50000, 50000, 50000, 50000, 50000, 50000, 50000, 50000, 50000, 50000, 50000, 50000, 50000, 50000, 50000, 50000, 50000, 50000, 50000, 50000, 50000, 50000, 50000, 50000, 50000, 50000, 50000, 50000, 50000, 50000, 50000, 50000, 50000, 50000, 50000, 50000, 50000, 50000, 50000, 50000, 50000, 50000, 50000, 50000, 50000, 50000, 50000, 50000, 50000, 50000, 50000, 50000, 50000, 50000, 50000, 50000, 50000, 50000, 50000, 50000, 50000, 50000, 50000, 50000, 50000, 50000, 50000, 50000, 50000, 50000, 50000, 50000, 50000, 50000, 50000, 50000, 50000, 50000, 50000, 50000, 50000, 50000, 50000, 50000, 50000, 50000, 50000, 50000, 50000, 50000, 50000, 50000, 50000, 50000, 50000, 50000, 50000, 50000, 50000, 50000, 50000, 50000, 50000, 50000, 50000, 50000, 50000, 50000, 50000, 50000, 50000, 50000, 50000, 50000, 50000, 50000, 50000, 50000, 50000, 50000, 50000, 50000, 50000, 50000, 50000, 50000, 50000, 50000, 50000, 50000, 50000, 50000, 50000, 50000, 50000, 50000, 50000, 50000, 50000, 50000, 50000, 50000, 50000, 50000, 50000, 50000, 50000, 50000, 50000, 50000, 50000, 50000, 50000, 50000, 50000, 50000, 50000, 50000, 50000, 50000, 50000, 50000, 50000, 50000, 50000, 50000, 50000, 50000, 50000, 50000, 50000, 50000, 50000, 50000, 50000, 50000, 50000, 50000, 50000, 50000, 50000, 50000, 50000, 50000, 50000, 50000, 50000, 50000, 50000, 50000, 50000, 50000, 50000, 50000, 50000, 50000, 50000, 50000, 50000, 50000, 50000, 50000, 50000, 50000, 50000, 50000, 50000, 50000, 50000, 50000, 50000, 50000, 50000, 50000, 50000, 50000, 50000, 50000, 50000, 50000, 50000, 50000, 50000, 50000, 50000, 50000, 50000, 50000, 50000, 50000, 50000, 50000, 50000, 50000, 50000, 50000, 50000, 50000, 50000, 50000, 50000, 50000, 50000, 50000, 50000, 50000, 50000, 50000, 50000, 50000, 50000, 50000, 50000, 50000, 50000, 50000, 50000, 50000, 50000, 50000, 50000, 50000, 50000, 50000, 50000, 50000, 50000, 50000, 50000, 50000, 50000, 50000, 50000, 50000, 50000, 50000, 50000, 50000, 50000, 50000, 50000, 50000, 50000, 50000, 50000, 50000, 50000, 50000, 100000, 100000, 100000, 100000, 100000, 100000, 100000, 100000, 100000, 100000, 100000, 100000, 100000, 100000, 100000, 100000, 100000, 100000, 100000, 100000, 100000, 100000, 100000, 100000, 100000, 100000, 100000, 100000, 100000, 100000, 100000, 100000, 100000, 100000, 100000, 100000, 100000, 100000, 100000, 100000, 100000, 100000, 100000, 100000, 100000, 100000, 100000, 100000, 100000, 100000, 100000, 100000, 100000, 100000, 100000, 100000, 100000, 100000, 100000, 100000, 100000, 100000, 100000, 100000, 100000, 100000, 100000, 100000, 100000, 100000, 100000, 100000, 100000, 100000, 100000, 100000, 100000, 100000, 100000, 100000, 100000, 100000, 100000, 100000, 100000, 100000, 100000, 100000, 100000, 100000, 100000, 100000, 100000, 100000, 100000, 100000, 100000, 100000, 100000, 100000, 100000, 100000, 100000, 100000, 100000, 100000, 100000, 100000, 100000, 100000, 100000, 100000, 100000, 100000, 100000, 100000, 100000, 100000, 100000, 100000, 100000, 100000, 100000, 100000, 100000, 100000, 100000, 100000, 100000, 100000, 100000, 100000, 100000, 100000, 100000, 100000, 100000, 100000, 100000, 100000, 100000, 100000, 100000, 100000, 100000, 100000, 100000, 100000, 100000, 100000, 100000, 100000, 100000, 100000, 100000, 100000, 100000, 100000, 100000, 100000, 100000, 100000, 100000, 100000, 100000, 100000, 100000, 100000, 100000, 100000, 100000, 100000, 100000, 100000, 100000, 100000, 100000, 100000, 100000, 100000, 100000, 100000, 100000, 100000, 100000, 100000, 100000, 100000, 100000, 100000, 100000, 100000, 100000, 100000, 100000, 100000, 100000, 100000, 100000, 100000, 100000, 100000, 100000, 100000, 100000, 100000, 100000, 100000, 100000, 100000, 100000, 100000, 100000, 100000, 100000, 100000, 100000, 100000, 100000, 100000, 100000, 100000, 100000, 100000, 100000, 100000, 100000, 100000, 100000, 100000, 100000, 100000, 100000, 100000, 100000, 100000, 100000, 100000, 100000, 100000, 100000, 100000, 100000, 100000, 100000, 100000, 100000, 100000, 100000, 100000, 100000, 100000, 100000, 100000, 100000, 100000, 100000, 100000, 100000, 100000, 100000, 100000, 100000, 100000, 100000, 100000, 100000, 100000, 100000, 100000, 100000, 100000, 100000, 100000, 100000, 100000, 100000, 100000, 100000, 100000, 100000, 100000, 100000, 100000, 100000, 100000, 100000, 100000, 100000, 100000, 100000, 100000, 100000, 100000, 100000, 100000, 100000, 100000, 100000, 100000, 100000, 100000, 100000, 100000, 100000, 100000, 100000, 100000, 100000, 100000, 100000, 100000, 100000, 100000, 100000, 100000, 100000, 100000, 100000, 100000, 100000, 100000, 100000, 100000, 100000, 100000, 100000, 100000, 100000, 100000, 100000, 100000, 100000, 100000, 100000, 100000, 100000, 100000, 100000, 100000, 100000, 100000, 100000, 100000, 100000, 100000, 100000, 100000, 100000, 100000, 100000, 100000, 100000, 100000, 100000, 100000, 100000, 100000, 100000, 100000, 100000, 100000, 100000, 100000, 100000, 100000, 100000, 100000, 100000, 100000, 100000, 100000, 100000, 100000, 100000, 100000, 100000, 100000, 100000, 100000, 100000, 100000, 100000, 100000, 100000, 100000, 100000, 100000, 100000, 100000, 100000, 100000, 100000, 100000, 100000, 100000, 100000, 100000, 100000, 100000, 100000, 100000, 100000, 100000, 100000, 100000, 100000, 100000, 100000, 100000, 100000, 100000, 100000, 100000, 100000, 100000, 100000, 100000, 100000, 100000, 100000, 100000, 100000, 100000, 100000, 100000, 100000, 100000, 100000, 100000, 100000, 100000, 100000, 100000, 100000, 100000, 100000, 100000, 100000, 100000, 100000, 100000, 100000, 100000, 100000, 100000, 100000, 100000, 100000, 100000, 100000, 100000, 100000, 100000, 100000, 100000, 100000, 100000, 100000, 100000, 100000, 100000, 100000, 100000, 100000, 100000, 100000, 100000, 100000, 100000, 100000, 100000, 100000, 100000, 100000, 100000, 100000, 100000, 100000, 100000, 100000, 100000, 100000, 100000, 100000, 100000, 100000, 100000, 100000, 100000, 100000, 100000, 100000, 100000, 100000, 100000, 100000, 100000, 100000, 100000, 100000, 100000, 100000, 100000, 100000, 100000, 100000, 100000, 100000, 100000, 100000, 100000, 100000, 100000, 100000, 100000, 100000, 100000, 100000, 100000, 100000, 100000, 100000, 100000, 100000, 100000, 100000, 100000, 100000, 100000, 100000, 100000, 100000, 100000, 100000, 100000, 100000, 100000, 100000, 100000, 100000, 100000, 100000, 100000, 100000, 100000, 100000, 100000, 100000, 100000, 100000, 100000, 100000, 100000, 100000, 100000, 100000, 100000, 100000, 100000, 100000, 100000, 100000, 100000, 100000, 100000, 100000, 100000, 100000, 100000, 100000, 100000, 100000, 100000, 100000, 100000, 100000, 100000, 100000, 100000, 100000, 100000, 100000, 100000, 100000, 100000, 100000, 100000, 100000, 100000, 100000, 100000, 100000, 100000, 100000, 100000, 100000, 100000, 100000, 100000, 100000, 100000, 100000, 100000, 100000, 100000, 100000, 100000, 100000, 100000, 100000, 100000, 100000, 100000, 100000, 100000, 100000, 100000, 100000, 100000, 100000, 100000, 100000, 100000, 100000, 100000, 100000, 100000, 100000, 100000, 100000, 100000, 100000, 100000, 100000, 100000, 100000, 100000, 100000, 100000, 100000, 100000, 100000, 100000, 100000, 100000, 100000, 100000, 100000, 100000, 100000, 100000, 100000, 100000, 100000, 100000, 100000, 100000, 100000, 100000, 100000, 100000, 100000, 100000, 100000, 100000, 100000, 100000, 100000, 100000, 100000, 100000, 100000, 100000, 100000, 100000, 100000, 100000, 100000, 100000, 100000, 100000, 100000, 100000, 100000, 100000, 100000, 100000, 100000, 100000, 100000, 100000, 100000, 100000, 100000, 100000, 100000, 100000, 100000, 100000, 100000, 100000, 100000, 100000, 100000, 100000, 100000, 100000, 100000, 100000, 100000, 100000, 100000, 100000, 100000, 100000, 100000, 100000, 100000, 100000, 100000, 100000, 100000, 100000, 100000, 100000, 100000, 100000, 100000, 100000, 100000, 100000, 100000, 100000, 100000, 100000, 100000, 100000, 100000, 100000, 100000, 100000, 100000, 100000, 100000, 100000, 100000, 100000, 100000, 100000, 100000, 100000, 100000, 100000, 100000, 100000, 100000, 100000, 100000, 100000, 100000, 100000, 100000, 100000, 100000, 100000, 100000, 100000, 100000, 100000, 100000, 100000, 100000, 100000, 100000, 100000, 100000, 100000, 100000, 100000, 100000, 100000, 100000, 100000, 100000, 100000, 100000, 100000, 100000, 100000, 100000, 100000, 100000, 100000, 100000, 100000, 100000, 100000, 100000, 100000, 100000, 100000, 100000, 100000, 100000, 100000, 100000, 100000, 100000, 100000, 100000, 100000, 100000, 100000, 100000, 100000, 100000, 100000, 100000, 100000, 100000, 100000, 100000, 100000, 100000, 100000, 100000, 100000, 100000, 100000, 100000, 100000, 100000, 100000, 100000, 100000, 100000, 100000, 100000, 100000, 100000, 100000, 100000, 100000, 100000, 100000, 100000, 100000, 100000, 100000, 100000, 100000, 100000, 100000, 100000, 100000, 100000, 100000, 100000, 100000, 100000, 100000, 100000, 100000, 100000, 100000, 100000, 100000, 100000, 100000, 100000, 100000, 100000, 100000, 100000, 100000, 100000, 100000, 100000, 100000, 100000, 100000, 100000, 100000, 100000, 100000, 100000, 100000, 100000, 100000, 100000, 100000, 100000, 100000, 100000, 100000, 100000, 100000, 100000, 100000, 100000, 100000, 100000, 100000, 100000, 100000, 100000, 100000, 100000, 100000, 100000, 100000, 100000, 100000, 100000, 100000, 100000, 100000, 100000, 100000, 100000, 100000, 100000, 100000, 100000, 100000, 100000, 100000, 100000, 100000, 100000, 100000, 100000, 100000, 100000, 100000, 100000, 100000, 100000, 100000, 100000, 100000, 100000, 100000, 100000, 100000, 100000, 100000, 100000, 100000, 100000, 100000, 100000, 100000, 100000, 100000, 100000, 100000, 100000, 100000, 100000, 100000, 100000, 100000, 100000, 100000, 100000, 100000, 100000, 100000, 100000, 100000, 100000, 100000, 100000, 100000, 100000, 100000, 100000, 100000, 100000, 100000, 100000, 100000, 100000, 100000, 100000, 100000, 100000, 100000, 100000, 100000, 100000, 100000, 100000, 100000, 100000, 100000, 100000, 100000, 100000, 100000, 100000, 100000, 100000, 100000, 100000, 100000, 100000, 100000, 100000, 100000, 100000, 100000, 500000, 500000, 500000, 500000, 500000, 500000, 500000, 500000, 500000, 500000, 500000, 500000, 500000, 500000, 500000, 500000, 500000, 500000, 500000, 500000, 500000, 500000, 500000, 500000, 500000, 500000, 500000, 500000, 500000, 500000, 500000, 500000, 500000, 500000, 500000, 500000, 500000, 500000, 500000, 500000, 500000, 500000, 500000, 500000, 500000, 500000, 500000, 500000, 500000, 500000, 500000, 500000, 500000, 500000, 500000, 500000, 500000, 500000, 500000, 500000, 500000, 500000, 500000, 500000, 500000, 500000, 500000, 500000, 500000, 500000, 500000, 500000, 500000, 500000, 500000, 500000, 500000, 500000, 500000, 500000, 500000, 500000, 500000, 500000, 500000, 500000, 500000, 500000, 500000, 500000, 500000, 500000, 500000, 500000, 500000, 500000, 500000, 500000, 500000, 500000, 500000, 500000, 500000, 500000, 500000, 500000, 500000, 500000, 500000, 500000, 500000, 500000, 500000, 500000, 500000, 500000, 500000, 500000, 500000, 500000, 500000, 500000, 500000, 500000, 500000, 500000, 500000, 500000, 500000, 500000, 500000, 500000, 500000, 500000, 500000, 500000, 500000, 500000, 500000, 500000, 500000, 500000, 500000, 500000, 500000, 500000, 500000, 500000, 500000, 500000, 500000, 500000, 500000, 500000, 500000, 500000, 500000, 500000, 500000, 500000, 500000, 500000, 500000, 500000, 500000, 500000, 500000, 500000, 500000, 500000, 500000, 500000, 500000, 500000, 500000, 500000, 500000, 500000, 500000, 500000, 500000, 500000, 500000, 500000, 500000, 500000, 500000, 500000, 500000, 500000, 500000, 500000, 500000, 500000, 500000, 500000, 500000, 500000, 500000, 500000, 500000, 500000, 500000, 500000, 500000, 500000, 500000, 500000, 500000, 500000, 500000, 500000, 500000, 500000, 500000, 500000, 500000, 500000, 500000, 500000, 500000, 500000, 500000, 500000, 500000, 500000, 500000, 500000, 500000, 500000, 500000, 500000, 500000, 500000, 500000, 500000, 500000, 500000, 500000, 500000, 500000, 500000, 500000, 500000, 500000, 500000, 500000, 500000, 500000, 500000, 500000, 500000, 500000, 500000, 500000, 500000, 500000, 500000, 500000, 500000, 500000, 500000, 500000, 500000, 500000, 500000, 500000, 500000, 500000, 500000, 500000, 500000, 500000, 500000, 500000, 500000, 500000, 500000, 500000, 500000, 500000, 500000, 500000, 500000, 500000, 500000, 500000, 500000, 500000, 500000, 500000, 500000, 500000, 500000, 500000, 500000, 500000, 500000, 500000, 500000, 500000, 500000, 500000, 500000, 500000, 500000, 500000, 500000, 500000, 500000, 500000, 500000, 500000, 500000, 500000, 500000, 500000, 500000, 500000, 500000, 500000, 500000, 500000, 500000, 500000, 500000, 500000, 500000, 500000, 500000, 500000, 500000, 500000, 500000, 500000, 500000, 500000, 500000, 500000, 500000, 500000, 500000, 500000, 500000, 500000, 500000, 500000, 500000, 500000, 500000, 500000, 500000, 500000, 500000, 500000, 500000, 500000, 500000, 500000, 500000, 500000, 500000, 500000, 500000, 500000, 500000, 500000, 500000, 500000, 500000, 500000, 500000, 500000, 500000, 500000, 500000, 500000, 500000, 500000, 500000, 500000, 500000, 500000, 500000, 500000, 500000, 500000, 500000, 500000, 500000, 500000, 500000, 500000, 500000, 500000, 500000, 500000, 500000, 500000, 500000, 500000, 500000, 500000, 500000, 500000, 500000, 500000, 500000, 500000, 500000, 500000, 500000, 500000, 500000, 500000, 500000, 500000, 500000, 500000, 500000, 500000, 500000, 500000, 500000, 500000, 500000, 500000, 500000, 500000, 500000, 500000, 500000, 500000, 500000, 500000, 500000, 500000, 500000, 500000, 500000, 500000, 500000, 500000, 500000, 500000, 500000, 500000, 500000, 500000, 500000, 500000, 500000, 500000, 500000, 500000, 500000, 500000, 500000, 500000, 500000, 500000, 500000, 500000, 500000, 500000, 500000, 500000, 500000, 500000, 500000, 500000, 500000, 500000, 500000, 500000, 500000, 500000, 500000, 500000, 500000, 500000, 500000, 500000, 500000, 500000, 500000, 500000, 500000, 500000, 500000, 500000, 500000, 500000, 1000000, 1000000, 1000000, 1000000, 1000000, 1000000, 1000000, 1000000, 1000000, 1000000, 1000000, 1000000, 1000000, 1000000, 1000000, 1000000, 1000000, 1000000, 1000000, 1000000, 1000000, 1000000, 1000000, 1000000, 1000000, 1000000, 1000000, 1000000, 1000000, 1000000, 1000000, 1000000, 1000000, 1000000, 1000000, 1000000, 1000000, 1000000, 1000000, 1000000, 1000000, 1000000, 1000000, 1000000, 1000000, 1000000, 1000000, 1000000, 1000000, 1000000, 1000000, 1000000, 1000000, 1000000, 1000000, 1000000, 1000000, 1000000, 1000000, 1000000, 1000000, 1000000, 1000000, 1000000, 1000000, 1000000, 1000000, 1000000, 1000000, 1000000, 1000000, 1000000, 1000000, 1000000, 1000000, 1000000, 1000000, 1000000, 1000000, 1000000, 1000000, 1000000, 1000000, 1000000, 1000000, 1000000, 1000000, 1000000, 1000000, 1000000, 1000000, 1000000, 1000000, 1000000, 1000000, 1000000, 1000000, 1000000, 1000000, 1000000, 1000000, 1000000, 1000000, 1000000, 1000000, 1000000, 1000000, 1000000, 1000000, 1000000, 1000000, 1000000, 1000000, 1000000, 1000000, 1000000, 1000000, 1000000, 1000000, 1000000, 1000000, 1000000, 1000000, 1000000, 1000000, 1000000, 1000000, 1000000, 1000000, 1000000, 1000000, 1000000, 1000000, 1000000, 1000000, 1000000, 1000000, 1000000, 1000000, 1000000, 1000000, 1000000, 1000000, 1000000, 1000000, 1000000, 1000000, 1000000, 1000000, 1000000, 1000000, 1000000, 1000000, 1000000, 1000000, 1000000, 1000000, 1000000, 1000000, 1000000, 1000000, 1000000, 1000000, 1000000, 1000000, 1000000, 1000000, 1000000, 1000000, 1000000, 1000000, 1000000, 1000000, 1000000, 1000000, 1000000, 1000000, 1000000, 1000000, 1000000, 1000000, 1000000, 1000000, 1000000, 1000000, 1000000, 1000000, 1000000, 1000000, 1000000, 1000000, 1000000, 1000000, 1000000, 1000000, 1000000, 1000000, 1000000, 1000000, 1000000, 1000000, 1000000, 1000000, 1000000, 1000000, 1000000, 1000000, 1000000, 1000000, 1000000, 1000000, 1000000, 1000000, 1000000, 1000000, 1000000, 1000000, 1000000, 1000000, 1000000, 1000000, 1000000, 1000000, 1000000, 1000000, 1000000, 1000000, 1000000, 1000000, 1000000, 1000000, 1000000, 1000000, 1000000, 1000000, 1000000, 1000000, 1000000, 1000000, 1000000, 1000000, 1000000, 1000000, 1000000, 1000000, 1000000, 1000000, 1000000, 1000000, 1000000, 1000000, 1000000, 1000000, 1000000, 1000000, 1000000, 1000000, 1000000, 1000000, 1000000, 1000000, 1000000, 1000000, 1000000, 1000000, 1000000, 1000000, 1000000, 1000000, 1000000, 1000000, 1000000, 1000000, 1000000, 1000000, 1000000, 1000000, 1000000, 1000000, 1000000, 1000000, 1000000, 1000000, 1000000, 1000000, 1000000, 1000000, 1000000, 1000000, 1000000, 1000000, 1000000, 1000000, 1000000, 1000000, 1000000, 1000000, 1000000, 1000000, 1000000, 1000000, 1000000, 1000000, 1000000, 1000000, 1000000, 1000000, 1000000, 1000000, 1000000, 1000000, 1000000, 1000000, 1000000, 1000000, 1000000, 1000000, 1000000, 1000000, 1000000, 1000000, 1000000, 1000000, 1000000, 1000000, 1000000, 1000000, 1000000, 1000000, 1000000, 1000000, 1000000, 1000000, 1000000, 1000000, 1000000, 1000000, 1000000, 1000000, 1000000, 1000000, 1000000, 1000000, 1000000, 1000000, 1000000, 1000000, 1000000, 1000000, 1000000, 1000000, 1000000, 1000000, 1000000, 1000000, 1000000, 1000000, 1000000, 1000000, 1000000, 1000000, 1000000, 1000000, 1000000, 1000000, 1000000, 1000000, 1000000, 1000000, 1000000, 1000000, 1000000, 1000000, 1000000, 1000000, 1000000, 1000000, 1000000, 1000000, 1000000, 1000000, 1000000, 1000000, 1000000, 1000000, 1000000, 1000000, 1000000, 1000000, 1000000, 1000000, 1000000, 1000000, 1000000, 1000000, 1000000, 1000000, 1000000, 1000000, 1000000, 1000000, 1000000, 1000000, 1000000, 1000000, 1000000, 1000000, 1000000, 1000000, 1000000, 1000000, 1000000, 1000000, 1000000, 1000000, 1000000, 1000000, 1000000, 1000000, 1000000, 1000000, 1000000, 1000000, 1000000, 1000000, 1000000, 1000000, 1000000, 1000000, 1000000, 1000000, 1000000, 1000000, 1000000, 1000000, 1000000, 1000000, 1000000, 1000000, 1000000, 1000000, 1000000, 1000000, 1000000, 1000000, 1000000, 1000000, 1000000, 1000000, 1000000, 1000000, 1000000, 1000000, 1000000, 1000000, 1000000, 1000000, 1000000, 1000000, 1000000, 1000000, 1000000, 1000000, 1000000, 1000000, 1000000, 1000000, 1000000, 1000000, 1000000, 1000000, 1000000, 1000000, 1000000, 1000000, 1000000, 1000000, 1000000, 1000000, 1000000, 1000000, 1000000, 1000000, 1000000, 1000000, 1000000, 1000000, 1000000, 1000000, 1000000, 1000000, 1000000, 1000000, 1000000, 1000000, 1000000, 1000000, 1000000, 1000000, 1000000, 1000000, 1000000, 1000000, 1000000, 1000000, 1000000, 1000000, 1000000, 1000000, 1000000, 1000000, 1000000, 1000000, 1000000, 1000000, 1000000, 1000000, 1000000, 1000000, 1000000, 1000000, 1000000, 1000000, 1000000, 1000000, 1000000, 1000000, 1000000, 1000000, 1000000, 1000000, 1000000, 1000000, 1000000, 1000000, 1000000, 1000000, 1000000, 1000000, 1000000, 1000000, 1000000, 1000000, 1000000, 1000000, 1000000, 1000000, 1000000, 1000000, 1000000, 1000000, 1000000, 1000000, 1000000, 1000000, 1000000, 1000000, 1000000, 1000000, 1000000, 1000000, 1000000, 1000000, 1000000, 1000000, 1000000, 1000000, 1000000, 1000000, 1000000, 1000000, 1000000, 1000000, 1000000, 1000000, 1000000, 1000000, 1000000, 1000000, 1000000, 1000000, 1000000, 1000000, 1000000, 1000000, 1000000, 1000000, 1000000, 1000000, 1000000, 1000000, 1000000, 1000000, 1000000, 1000000, 1000000, 1000000, 1000000, 1000000, 1000000, 1000000, 1000000, 1000000, 1000000, 1000000, 1000000, 1000000, 1000000, 1000000, 1000000, 1000000, 1000000, 1000000, 1000000, 1000000, 1000000, 1000000, 1000000, 1000000, 1000000, 1000000, 1000000, 1000000, 1000000, 1000000, 1000000, 1000000, 1000000, 1000000, 1000000, 1000000, 1000000, 1000000, 1000000, 1000000, 1000000, 1000000, 1000000, 1000000, 1000000, 1000000, 1000000, 1000000, 1000000, 1000000, 1000000, 1000000, 1000000, 1000000, 1000000, 1000000, 1000000, 1000000, 1000000, 1000000, 1000000, 1000000, 1000000, 1000000, 1000000, 1000000, 1000000, 1000000, 1000000, 1000000, 1000000, 1000000, 1000000, 1000000, 1000000, 1000000, 1000000, 1000000, 1000000, 1000000, 1000000, 1000000, 1000000, 1000000, 1000000, 1000000, 1000000, 1000000, 1000000, 1000000, 1000000, 1000000, 1000000, 1000000, 1000000, 1000000, 1000000, 1000000, 1000000, 1000000, 1000000, 1000000, 1000000, 1000000, 1000000, 1000000, 1000000, 1000000, 1000000, 1000000, 1000000, 1000000, 1000000, 1000000, 1000000, 1000000, 1000000, 1000000, 1000000, 1000000, 1000000, 1000000, 1000000, 1000000, 1000000, 1000000, 1000000, 1000000, 1000000, 1000000, 1000000, 1000000, 1000000, 1000000, 1000000, 1000000, 1000000, 1000000, 1000000, 1000000, 1000000, 1000000, 1000000, 1000000, 1000000, 1000000, 1000000, 1000000, 1000000, 1000000, 1000000, 1000000, 1000000, 1000000, 1000000, 1000000, 1000000, 1000000, 1000000, 1000000, 1000000, 1000000, 1000000, 1000000, 1000000, 1000000, 1000000, 1000000, 1000000, 1000000, 1000000, 1000000, 1000000, 1000000, 1000000, 1000000, 1000000, 1000000, 1000000, 1000000, 1000000, 1000000, 1000000, 1000000, 1000000, 1000000, 1000000, 1000000, 1000000, 1000000, 1000000, 1000000, 1000000, 1000000, 1000000, 1000000, 1000000, 1000000, 1000000, 1000000, 1000000, 1000000, 1000000, 1000000, 1000000, 1000000, 1000000, 1000000, 1000000, 1000000, 1000000, 1000000, 1000000, 1000000, 1000000, 1000000, 1000000, 1000000, 1000000, 1000000, 1000000, 1000000, 1000000, 1000000, 1000000, 1000000, 1000000, 1000000, 1000000, 1000000, 1000000, 1000000, 1000000, 1000000, 1000000, 1000000, 1000000, 1000000, 1000000, 1000000, 1000000, 1000000, 1000000, 1000000, 1000000, 1000000, 1000000, 1000000, 1000000, 1000000, 1000000, 1000000, 1000000, 1000000, 1000000, 1000000, 1000000, 1000000, 1000000, 1000000, 1000000, 1000000, 1000000, 1000000, 1000000, 1000000, 1000000, 1000000, 1000000, 1000000, 1000000, 1000000, 1000000, 1000000, 1000000, 1000000, 1000000, 1000000, 1000000, 1000000, 1000000, 1000000, 1000000, 1000000, 1000000, 1000000, 1000000, 1000000, 1000000, 1000000, 1000000, 1000000, 1000000, 1000000, 1000000, 1000000, 1000000, 1000000, 1000000, 1000000, 1000000, 1000000, 1000000, 1000000, 1000000, 1000000, 1000000, 1000000, 1000000, 1000000, 1000000, 1000000, 1000000, 1000000, 1000000, 1000000, 1000000, 1000000, 1000000, 1000000, 1000000, 1000000, 1000000, 1000000, 1000000, 1000000, 1000000, 1000000, 1000000, 1000000, 1000000, 1000000, 1000000, 1000000, 1000000, 1000000, 1000000, 1000000, 1000000, 1000000, 1000000, 1000000, 1000000, 1000000, 1000000, 1000000, 1000000, 1000000, 1000000, 1000000, 1000000, 1000000, 1000000, 1000000, 1000000, 1000000, 1000000, 1000000, 1000000, 1000000, 1000000, 1000000, 1000000, 1000000, 1000000, 1000000, 1000000, 1000000, 1000000, 1000000, 1000000, 1000000, 1000000, 1000000, 1000000, 1000000, 1000000, 1000000, 1000000, 1000000, 1000000, 1000000, 1000000, 1000000, 1000000, 1000000, 1000000, 1000000, 1000000, 1000000, 1000000, 1000000, 1000000, 1000000, 1000000, 1000000, 1000000, 1000000, 1000000, 1000000, 1000000, 1000000, 1000000, 1000000, 1000000, 1000000, 1000000, 1000000, 1000000, 1000000, 1000000, 1000000, 1000000, 1000000, 1000000, 1000000, 1000000, 1000000, 1000000, 1000000, 1000000, 1000000, 1000000, 1000000, 1000000, 1000000, 1000000, 1000000, 1000000, 1000000, 1000000, 1000000, 1000000, 1000000, 1000000, 1000000, 1000000, 1000000, 1000000, 1000000, 1000000, 1000000, 1000000, 1000000, 1000000, 1000000, 1000000, 1000000, 1000000, 1000000, 1000000, 1000000, 1000000, 1000000, 1000000, 1000000, 1000000, 1000000, 1000000, 1000000, 1000000, 1000000, 1000000, 1000000, 1000000, 1000000, 1000000, 1000000, 1000000, 1000000, 1000000, 1000000, 1000000, 1000000, 1000000, 1000000, 1000000, 1000000, 1000000, 1000000, 1000000, 1000000, 1000000, 1000000, 1000000, 1000000, 1000000, 1000000, 1000000, 1000000, 1000000, 1000000, 1000000, 1000000, 1000000, 1000000, 1000000, 1000000, 1000000, 1000000, 1000000, 1000000, 1000000, 1000000, 1000000, 1000000, 1000000, 1000000, 1000000, 1000000, 1000000, 1000000, 1000000, 1000000, 1000000, 1000000, 1000000, 1000000, 1000000, 1000000, 1000000, 1000000, 1000000, 1000000, 1000000, 1000000, 1000000, 1000000, 1000000, 1000000, 1000000, 1000000, 1000000, 1000000, 1000000, 1000000, 1000000, 1000000, 1000000, 1000000, 1000000, 1000000, 1000000, 1000000, 1000000, 1000000, 1000000, 1000000, 1000000, 1000000, 1000000, 1000000, 1000000, 1000000, 1000000, 1000000, 1000000, 1000000, 1000000, 1000000, 1000000, 1000000, 1000000, 1000000, 1000000, 1000000, 1000000, 1000000, 1000000, 1000000, 1000000, 1000000, 1000000, 1000000, 1000000, 1000000, 1000000, 1000000, 1000000, 1000000, 1000000, 1000000, 1000000, 1000000, 1000000, 1000000, 1000000, 1000000, 1000000, 1000000, 1000000, 1000000, 1000000, 1000000, 1000000, 1000000, 1000000, 1000000, 1000000, 1000000, 1000000, 1000000, 1000000, 1000000, 1000000, 1000000, 1000000, 1000000, 1000000, 1000000, 1000000, 1000000, 1000000, 1000000, 1000000, 1000000, 1000000, 1000000, 1000000, 1000000, 1000000, 1000000, 1000000, 1000000, 1000000, 1000000, 1000000, 1000000, 1000000, 1000000, 1000000, 1000000, 1000000, 1000000, 1000000, 1000000, 1000000, 1000000, 1000000, 1000000, 1000000, 1000000, 1000000, 1000000, 1000000, 1000000, 1000000, 1000000, 1000000, 1000000, 1000000, 1000000, 1000000, 1000000, 1000000, 1000000, 1000000, 1000000, 1000000, 1000000, 1000000, 1000000, 1000000, 1000000, 1000000, 1000000, 1000000, 1000000, 1000000, 1000000, 1000000, 1000000, 1000000, 1000000, 1000000, 1000000, 1000000, 1000000, 1000000, 1000000, 1000000, 1000000, 1000000, 1000000, 1000000, 1000000, 1000000, 1000000, 1000000, 1000000, 1000000, 1000000, 1000000, 1000000, 1000000, 1000000, 1000000, 1000000, 1000000, 1000000, 1000000, 1000000, 1000000, 1000000, 1000000, 1000000, 1000000, 1000000, 1000000, 1000000, 1000000, 1000000, 1000000, 1000000, 1000000, 1000000, 1000000, 1000000, 1000000, 1000000, 1000000, 1000000, 1000000, 1000000, 1000000, 1000000, 1000000, 1000000, 1000000, 1000000, 1000000, 1000000, 1000000, 1000000, 1000000, 1000000, 1000000, 1000000, 1000000, 1000000, 1000000, 1000000, 1000000, 1000000, 1000000, 1000000, 1000000, 1000000, 1000000, 1000000, 1000000, 1000000, 1000000, 1000000, 1000000, 1000000, 1000000, 1000000, 1000000, 1000000, 1000000, 1000000, 1000000, 1000000, 1000000, 1000000, 1000000, 1000000, 1000000, 1000000, 1000000, 1000000, 1000000, 1000000, 1000000, 1000000, 1000000, 1000000, 1000000, 1000000, 1000000, 1000000, 1000000, 1000000, 1000000, 1000000, 1000000, 1000000, 1000000, 1000000, 1000000, 1000000, 1000000, 1000000, 1000000, 1000000, 1000000, 1000000, 1000000, 1000000, 1000000, 1000000, 5000000, 5000000, 5000000, 5000000, 5000000, 5000000, 5000000, 5000000, 5000000, 5000000, 5000000, 5000000, 5000000, 5000000, 5000000, 5000000, 5000000, 5000000, 5000000, 5000000, 5000000, 5000000, 5000000, 5000000, 5000000, 5000000, 5000000, 5000000, 5000000, 5000000, 5000000, 5000000, 5000000, 5000000, 5000000, 5000000, 5000000, 5000000, 5000000, 5000000, 5000000, 5000000, 5000000, 5000000, 5000000, 5000000, 5000000, 5000000, 5000000, 5000000, 5000000, 5000000, 5000000, 5000000, 5000000, 5000000, 5000000, 5000000, 5000000, 5000000, 5000000, 5000000, 5000000, 5000000, 5000000, 5000000, 5000000, 5000000, 5000000, 5000000, 5000000, 5000000, 5000000, 5000000, 5000000, 5000000, 5000000, 5000000, 5000000, 5000000, 5000000, 5000000, 5000000, 5000000, 5000000, 5000000, 5000000, 5000000, 5000000, 5000000, 5000000, 5000000, 5000000, 5000000, 5000000, 5000000, 5000000, 5000000, 5000000, 5000000, 5000000, 5000000, 5000000, 5000000, 5000000, 5000000, 5000000, 5000000, 5000000, 5000000, 5000000, 5000000, 5000000, 5000000, 5000000, 5000000, 5000000, 5000000, 5000000, 5000000, 5000000, 5000000, 5000000, 5000000, 5000000, 5000000, 5000000, 5000000, 5000000, 5000000, 5000000, 5000000, 5000000, 5000000, 5000000, 5000000, 5000000, 5000000, 5000000, 5000000, 5000000, 5000000, 5000000, 5000000, 5000000, 5000000, 5000000, 5000000, 5000000, 5000000, 5000000, 5000000, 5000000, 5000000, 5000000, 5000000, 5000000, 5000000, 5000000, 5000000, 5000000, 5000000, 5000000, 5000000, 5000000, 5000000, 5000000, 5000000, 5000000, 5000000, 5000000, 5000000, 5000000, 5000000, 5000000, 5000000, 5000000, 5000000, 5000000, 5000000, 5000000, 5000000, 5000000, 5000000, 5000000, 5000000, 5000000, 5000000, 5000000, 5000000, 5000000, 5000000, 5000000, 5000000, 5000000, 5000000, 5000000, 5000000, 5000000, 5000000, 5000000, 5000000, 5000000, 5000000, 5000000, 5000000, 5000000, 5000000, 5000000, 5000000, 5000000, 5000000, 5000000, 5000000, 5000000, 5000000, 5000000, 5000000, 5000000, 5000000, 5000000, 5000000, 5000000, 5000000, 5000000, 5000000, 5000000, 5000000, 5000000, 5000000, 5000000, 5000000, 5000000, 5000000, 5000000, 5000000, 5000000, 5000000, 5000000, 5000000, 5000000, 5000000, 5000000, 5000000, 5000000, 5000000, 5000000, 5000000, 5000000, 5000000, 5000000, 5000000, 5000000, 5000000, 5000000, 5000000, 5000000, 5000000, 5000000, 5000000, 5000000, 5000000, 5000000, 5000000, 5000000, 5000000, 5000000, 5000000, 5000000, 5000000, 5000000, 5000000, 5000000, 5000000, 5000000, 5000000, 5000000, 5000000, 5000000, 5000000, 5000000, 5000000, 5000000, 5000000, 5000000, 5000000, 5000000, 5000000, 5000000, 5000000, 5000000, 5000000, 5000000, 5000000, 5000000, 5000000, 5000000, 5000000, 5000000, 5000000, 5000000, 5000000, 5000000, 5000000, 5000000, 5000000, 5000000, 5000000, 5000000, 5000000, 5000000, 5000000, 5000000, 5000000, 5000000, 5000000, 5000000, 5000000, 5000000, 5000000, 5000000, 5000000, 5000000, 5000000, 5000000, 5000000, 5000000, 5000000, 5000000, 5000000, 5000000, 5000000, 5000000, 5000000, 5000000, 5000000, 5000000, 5000000, 5000000, 5000000, 5000000, 5000000, 5000000, 5000000, 5000000, 5000000, 5000000, 5000000, 5000000, 5000000, 5000000, 5000000, 5000000, 5000000, 5000000, 5000000, 5000000, 5000000, 5000000, 5000000, 5000000, 5000000, 5000000, 5000000, 5000000, 5000000, 5000000, 5000000, 5000000, 5000000, 5000000, 5000000, 5000000, 5000000, 5000000, 5000000, 5000000, 5000000, 5000000, 5000000, 5000000, 5000000, 5000000, 5000000, 5000000, 5000000, 5000000, 5000000, 5000000, 5000000, 5000000, 5000000, 5000000, 5000000, 5000000, 5000000, 5000000, 5000000, 5000000, 5000000, 5000000, 5000000, 5000000, 5000000, 5000000, 5000000, 5000000, 5000000, 5000000, 5000000, 5000000, 5000000, 5000000, 5000000, 5000000, 5000000, 5000000, 5000000, 5000000, 5000000, 5000000, 5000000, 5000000, 5000000, 5000000, 5000000, 5000000, 5000000, 5000000, 5000000, 5000000, 5000000, 5000000, 5000000, 5000000, 5000000, 5000000, 5000000, 5000000, 5000000, 5000000, 5000000, 5000000, 5000000, 5000000, 5000000, 5000000, 5000000, 5000000, 5000000, 5000000, 5000000, 5000000, 5000000, 5000000, 5000000, 5000000, 5000000, 5000000, 5000000, 5000000, 5000000, 5000000, 5000000, 5000000, 5000000, 5000000, 5000000, 5000000, 5000000, 5000000, 5000000, 5000000, 5000000, 5000000, 5000000, 5000000, 5000000, 5000000, 5000000, 5000000, 5000000, 5000000, 5000000, 5000000, 5000000, 5000000, 5000000, 5000000, 5000000, 5000000, 5000000, 5000000, 5000000, 5000000, 5000000, 5000000, 5000000, 5000000, 5000000, 5000000, 5000000, 5000000, 5000000, 5000000, 5000000, 5000000, 5000000, 5000000, 5000000, 5000000, 5000000, 5000000, 5000000, 5000000, 5000000, 5000000, 5000000, 5000000, 5000000, 5000000, 5000000, 5000000, 5000000, 5000000, 5000000, 5000000, 5000000, 5000000, 5000000, 5000000, 5000000, 5000000, 5000000, 5000000, 5000000, 5000000, 5000000, 5000000, 5000000, 5000000, 5000000, 5000000, 5000000, 5000000, 5000000, 5000000, 5000000, 5000000, 5000000, 5000000, 5000000, 5000000, 5000000, 5000000, 5000000, 5000000, 5000000, 5000000, 5000000, 5000000, 5000000, 5000000, 5000000, 5000000, 5000000, 5000000, 5000000, 5000000, 5000000, 5000000, 5000000, 5000000, 5000000, 5000000, 5000000, 5000000, 5000000, 5000000, 5000000, 5000000, 5000000, 5000000, 5000000, 5000000, 5000000, 5000000, 5000000, 5000000, 5000000, 5000000, 5000000, 5000000, 5000000, 5000000, 5000000, 5000000, 5000000, 5000000, 5000000, 5000000, 5000000, 5000000, 5000000, 5000000, 5000000, 5000000, 10000000, 10000000, 10000000, 10000000, 10000000, 10000000, 10000000, 10000000, 10000000, 10000000, 10000000, 10000000, 10000000, 10000000, 10000000, 10000000, 10000000, 10000000, 10000000, 10000000, 10000000, 10000000, 10000000, 10000000, 10000000, 10000000, 10000000, 10000000, 10000000, 10000000, 10000000, 10000000, 10000000, 10000000, 10000000, 10000000, 10000000, 10000000, 10000000, 10000000, 10000000, 10000000, 10000000, 10000000, 10000000, 10000000, 10000000, 10000000, 10000000, 10000000, 10000000, 10000000, 10000000, 10000000, 10000000, 10000000, 10000000, 10000000, 10000000, 10000000, 10000000, 10000000, 10000000, 10000000, 10000000, 10000000, 10000000, 10000000, 10000000, 10000000, 10000000, 10000000, 10000000, 10000000, 10000000, 10000000, 10000000, 10000000, 10000000, 10000000, 10000000, 10000000, 10000000, 10000000, 10000000, 10000000, 10000000, 10000000, 10000000, 10000000, 10000000, 10000000, 10000000, 10000000, 10000000, 10000000, 10000000, 10000000, 10000000, 10000000, 10000000, 10000000, 10000000, 10000000, 10000000, 10000000, 10000000, 10000000, 10000000, 10000000, 10000000, 10000000, 10000000, 10000000, 10000000, 10000000, 10000000, 10000000, 10000000, 10000000, 10000000, 10000000, 10000000, 10000000, 10000000, 10000000, 10000000, 10000000, 10000000, 10000000, 10000000, 10000000, 10000000, 10000000, 10000000, 10000000, 10000000, 10000000, 10000000, 10000000, 10000000, 10000000, 10000000, 10000000, 10000000, 10000000, 10000000, 10000000, 10000000, 10000000, 10000000, 10000000, 10000000, 10000000, 10000000, 10000000, 10000000, 10000000, 10000000, 10000000, 10000000, 10000000, 10000000, 10000000, 10000000, 10000000, 10000000, 10000000, 10000000, 10000000, 10000000, 10000000, 10000000, 10000000, 10000000, 10000000, 10000000, 10000000, 10000000, 10000000, 10000000, 10000000, 10000000, 10000000, 10000000, 10000000, 10000000, 10000000, 10000000, 10000000, 10000000, 10000000, 10000000, 10000000, 10000000, 10000000, 10000000, 10000000, 10000000, 10000000, 10000000, 10000000, 10000000, 10000000, 10000000, 10000000, 10000000, 10000000, 10000000, 10000000, 10000000, 10000000, 10000000, 10000000, 10000000, 10000000, 10000000, 10000000, 10000000, 10000000, 10000000, 10000000, 10000000, 10000000, 10000000, 10000000, 10000000, 10000000, 10000000, 10000000, 10000000, 10000000, 10000000, 10000000, 10000000, 10000000, 10000000, 10000000, 10000000, 10000000, 10000000, 10000000, 10000000, 10000000, 10000000, 10000000, 10000000, 10000000, 10000000, 10000000, 10000000, 10000000, 10000000, 10000000, 10000000, 10000000, 10000000, 10000000, 10000000, 10000000, 10000000, 10000000, 10000000, 10000000, 10000000, 10000000, 10000000, 10000000, 10000000, 10000000, 10000000, 10000000, 10000000, 10000000, 10000000, 10000000, 10000000, 10000000, 10000000, 10000000, 10000000, 10000000, 10000000, 10000000, 10000000, 10000000, 10000000, 10000000, 10000000, 10000000, 10000000, 10000000, 10000000, 10000000, 10000000, 10000000, 10000000, 10000000, 10000000, 10000000, 10000000, 10000000, 10000000, 10000000, 10000000, 10000000, 10000000, 10000000, 10000000, 10000000, 10000000, 10000000, 10000000, 10000000, 10000000, 10000000, 10000000, 10000000, 10000000, 10000000, 10000000, 10000000, 10000000, 10000000, 10000000, 10000000, 10000000, 10000000, 10000000, 10000000, 10000000, 10000000, 10000000, 10000000, 10000000, 10000000, 10000000, 10000000, 10000000, 10000000, 10000000, 10000000, 10000000, 10000000, 10000000, 10000000, 10000000, 10000000, 10000000, 10000000, 10000000, 10000000, 10000000, 10000000, 10000000, 10000000, 10000000, 10000000, 10000000, 10000000, 10000000, 10000000, 10000000, 10000000, 10000000, 10000000, 10000000, 10000000, 10000000, 10000000, 10000000, 10000000, 10000000, 10000000, 10000000, 10000000, 10000000, 10000000, 10000000, 10000000, 10000000, 10000000, 10000000, 10000000, 10000000, 10000000, 10000000, 10000000, 10000000, 10000000, 10000000, 10000000, 10000000, 10000000, 10000000, 10000000, 10000000, 10000000, 10000000, 10000000, 10000000, 10000000, 10000000, 10000000, 10000000, 10000000, 10000000, 10000000, 10000000, 10000000, 10000000, 10000000, 10000000, 10000000, 10000000, 10000000, 10000000, 10000000, 10000000, 10000000, 10000000, 10000000, 10000000, 10000000, 10000000, 10000000, 10000000, 10000000, 10000000, 10000000, 10000000, 10000000, 10000000, 10000000, 10000000, 10000000, 10000000, 10000000, 10000000, 10000000, 10000000, 10000000, 10000000, 10000000, 10000000, 10000000, 10000000, 10000000, 10000000, 10000000, 10000000, 10000000, 10000000, 10000000, 10000000, 10000000, 10000000, 10000000, 10000000, 10000000, 10000000, 10000000, 10000000, 10000000, 10000000, 10000000, 10000000, 10000000, 10000000, 10000000, 10000000, 10000000, 10000000, 10000000, 10000000, 10000000, 10000000, 10000000, 10000000, 10000000, 10000000, 10000000, 10000000, 10000000, 10000000, 10000000, 10000000, 10000000, 10000000, 10000000, 10000000, 10000000, 10000000, 10000000, 10000000, 10000000, 10000000, 10000000, 10000000, 10000000, 10000000, 10000000, 10000000, 10000000, 10000000, 10000000, 10000000, 10000000, 10000000, 10000000, 10000000, 10000000, 10000000, 10000000, 10000000, 10000000, 10000000, 10000000, 10000000, 10000000, 10000000, 10000000, 10000000, 10000000, 10000000, 10000000, 10000000, 10000000, 10000000, 10000000, 10000000, 10000000, 10000000, 10000000, 10000000, 10000000, 10000000, 10000000, 10000000, 10000000, 10000000, 10000000, 10000000, 10000000, 10000000, 10000000, 10000000, 10000000, 10000000, 10000000, 10000000, 10000000, 10000000, 10000000, 10000000, 10000000, 10000000, 10000000, 10000000, 10000000, 10000000, 10000000, 10000000, 10000000, 10000000, 10000000, 10000000, 10000000, 10000000, 10000000, 10000000, 10000000, 10000000, 10000000, 10000000, 10000000, 10000000, 10000000, 10000000, 10000000, 10000000, 10000000, 10000000, 10000000, 10000000, 10000000, 10000000, 10000000, 10000000, 10000000, 10000000, 10000000, 10000000, 10000000, 10000000, 10000000, 10000000, 10000000, 10000000, 10000000, 10000000, 10000000, 10000000, 10000000, 10000000, 10000000, 10000000, 10000000, 10000000, 10000000, 10000000, 10000000, 10000000, 10000000, 10000000, 10000000, 10000000, 10000000, 10000000, 10000000, 10000000, 10000000, 10000000, 10000000, 10000000, 10000000, 10000000, 10000000, 10000000, 10000000, 10000000, 10000000, 10000000, 10000000, 10000000, 10000000, 10000000, 10000000, 10000000, 10000000, 10000000, 10000000, 10000000, 10000000, 10000000, 10000000, 10000000, 10000000, 10000000, 10000000, 10000000, 10000000, 10000000, 10000000, 10000000, 10000000, 10000000, 10000000, 10000000, 10000000, 10000000, 10000000, 10000000, 10000000, 10000000, 10000000, 10000000, 10000000, 10000000, 10000000, 10000000, 10000000, 10000000, 10000000, 10000000, 10000000, 10000000, 10000000, 10000000, 10000000, 10000000, 10000000, 10000000, 10000000, 10000000, 10000000, 10000000, 10000000, 10000000, 10000000, 10000000, 10000000, 10000000, 10000000, 10000000, 10000000, 10000000, 10000000, 10000000, 10000000, 10000000, 10000000, 10000000, 10000000, 10000000, 10000000, 10000000, 10000000, 10000000, 10000000, 10000000, 10000000, 10000000, 10000000, 10000000, 10000000, 10000000, 10000000, 10000000, 10000000, 10000000, 10000000, 10000000, 10000000, 10000000, 10000000, 10000000, 10000000, 10000000, 10000000, 10000000, 10000000, 10000000, 10000000, 10000000, 10000000, 10000000, 10000000, 10000000, 10000000, 10000000, 10000000, 10000000, 10000000, 10000000, 10000000, 10000000, 10000000, 10000000, 10000000, 10000000, 10000000, 10000000, 10000000, 10000000, 10000000, 10000000, 10000000, 10000000, 10000000, 10000000, 10000000, 10000000, 10000000, 10000000, 10000000, 10000000, 10000000, 10000000, 10000000, 10000000, 10000000, 10000000, 10000000, 10000000, 10000000, 10000000, 10000000, 10000000, 10000000, 10000000, 10000000, 10000000, 10000000, 10000000, 10000000, 10000000, 10000000, 10000000, 10000000, 10000000, 10000000, 10000000, 10000000, 10000000, 10000000, 10000000, 10000000, 10000000, 10000000, 10000000, 10000000, 10000000, 10000000, 10000000, 10000000, 10000000, 10000000, 10000000, 10000000, 10000000, 10000000, 10000000, 10000000, 10000000, 10000000, 10000000, 10000000, 10000000, 10000000, 10000000, 10000000, 10000000, 10000000, 10000000, 10000000, 10000000, 10000000, 10000000, 10000000, 10000000, 10000000, 10000000, 10000000, 10000000, 10000000, 10000000, 10000000, 10000000, 10000000, 10000000, 10000000, 10000000, 10000000, 10000000, 10000000, 10000000, 10000000, 10000000, 10000000, 10000000, 10000000, 10000000, 10000000, 10000000, 10000000, 10000000, 10000000, 10000000, 10000000, 10000000, 10000000, 10000000, 10000000, 10000000, 10000000, 10000000, 10000000, 10000000, 10000000, 10000000, 10000000, 10000000, 10000000, 10000000, 10000000, 10000000, 10000000, 10000000, 10000000, 10000000, 10000000, 10000000, 10000000, 10000000, 10000000, 10000000, 10000000, 10000000, 10000000, 10000000, 10000000, 10000000, 10000000, 10000000, 10000000, 10000000, 10000000, 10000000, 10000000, 10000000, 10000000, 10000000, 10000000, 10000000, 10000000, 10000000, 10000000, 10000000, 10000000, 10000000, 10000000, 10000000, 10000000, 10000000, 10000000, 10000000, 10000000, 10000000, 10000000, 10000000, 10000000, 10000000, 10000000, 10000000, 10000000, 10000000, 10000000, 10000000, 10000000, 10000000, 50000000, 50000000, 50000000, 50000000, 50000000, 50000000, 50000000, 50000000, 50000000, 50000000, 50000000, 50000000, 50000000, 50000000, 50000000, 50000000, 50000000, 50000000, 50000000, 50000000, 50000000, 50000000, 50000000, 50000000, 50000000, 50000000, 50000000, 50000000, 50000000, 50000000, 50000000, 50000000, 50000000, 50000000, 50000000, 50000000, 50000000, 50000000, 50000000, 50000000, 50000000, 50000000, 50000000, 50000000, 50000000, 50000000, 50000000, 50000000, 50000000, 50000000, 50000000, 50000000, 50000000, 50000000, 50000000, 50000000, 50000000, 50000000, 50000000, 50000000, 50000000, 50000000, 50000000, 50000000, 50000000, 50000000, 50000000, 50000000, 50000000, 50000000, 50000000, 50000000, 50000000, 50000000, 50000000, 50000000, 50000000, 50000000, 50000000, 50000000, 50000000, 50000000, 50000000, 50000000, 50000000, 50000000, 50000000, 50000000, 50000000, 50000000, 50000000, 50000000, 50000000, 50000000, 50000000, 50000000, 50000000, 50000000, 50000000, 50000000, 50000000, 50000000, 50000000, 50000000, 50000000, 50000000, 50000000, 50000000, 50000000, 50000000, 50000000, 50000000, 50000000, 50000000, 50000000, 50000000, 50000000, 50000000, 50000000, 50000000, 50000000, 50000000, 50000000, 50000000, 50000000, 50000000, 50000000, 50000000, 50000000, 50000000, 50000000, 50000000, 50000000, 50000000, 50000000, 50000000, 50000000, 50000000, 50000000, 50000000, 50000000, 50000000, 50000000, 50000000, 50000000, 50000000, 50000000, 50000000, 50000000, 50000000, 50000000, 50000000, 50000000, 50000000, 50000000, 50000000, 50000000, 50000000, 50000000, 50000000, 50000000, 50000000, 50000000, 50000000, 50000000, 50000000, 50000000, 50000000, 50000000, 50000000, 50000000, 50000000, 50000000, 50000000, 50000000, 50000000, 50000000, 50000000, 50000000, 50000000, 50000000, 50000000, 50000000, 50000000, 50000000, 50000000, 50000000, 50000000, 50000000, 50000000, 50000000, 50000000, 50000000, 50000000, 50000000, 50000000, 50000000, 50000000, 50000000, 50000000, 50000000, 50000000, 100000000, 100000000, 100000000, 100000000, 100000000, 100000000, 100000000, 100000000, 100000000, 100000000, 100000000, 100000000, 100000000, 100000000, 100000000, 100000000, 100000000, 100000000, 100000000, 100000000, 100000000, 100000000, 100000000, 100000000, 100000000, 100000000, 100000000, 100000000, 100000000, 100000000, 100000000, 100000000, 100000000, 100000000, 100000000, 100000000, 100000000, 100000000, 100000000, 100000000, 100000000, 100000000, 100000000, 100000000, 100000000, 100000000, 100000000, 100000000, 100000000, 100000000, 100000000, 100000000, 100000000, 100000000, 100000000, 100000000, 100000000, 100000000, 100000000, 100000000, 100000000, 100000000, 100000000, 100000000, 100000000, 100000000, 100000000, 100000000, 100000000, 100000000, 100000000, 100000000, 100000000, 100000000, 100000000, 100000000, 100000000, 100000000, 100000000, 100000000, 100000000, 100000000, 100000000, 100000000, 100000000, 100000000, 100000000, 100000000, 100000000, 100000000, 100000000, 100000000, 100000000, 100000000, 100000000, 100000000, 100000000, 100000000, 100000000, 100000000, 100000000, 100000000, 100000000, 100000000, 100000000, 100000000, 100000000, 100000000, 100000000, 100000000, 100000000, 100000000, 100000000, 100000000, 100000000, 100000000, 100000000, 100000000, 100000000, 100000000, 100000000, 100000000, 100000000, 100000000, 100000000, 100000000, 100000000, 100000000, 100000000, 100000000, 100000000, 100000000, 100000000, 100000000, 100000000, 100000000, 100000000, 100000000, 100000000, 100000000, 100000000, 100000000, 100000000, 100000000, 100000000, 100000000, 100000000, 100000000, 100000000, 100000000, 100000000, 100000000, 100000000, 100000000, 100000000, 100000000, 100000000, 100000000, 100000000, 100000000, 100000000, 100000000, 100000000, 100000000, 100000000, 100000000, 100000000, 100000000, 100000000, 100000000, 100000000, 100000000, 100000000, 100000000, 100000000, 100000000, 100000000, 100000000, 100000000, 100000000, 100000000, 100000000, 100000000, 100000000, 100000000, 100000000, 100000000, 100000000, 100000000, 500000000, 500000000, 500000000, 500000000, 500000000, 500000000, 500000000, 500000000, 500000000, 500000000, 500000000, 500000000, 500000000, 500000000, 500000000, 500000000, 500000000, 500000000, 500000000, 500000000, 500000000, 500000000, 500000000, 500000000, 1000000000, 1000000000, 1000000000, 1000000000, 1000000000, 1000000000, 1000000000, 1000000000, 1000000000, 1000000000, 1000000000, 1000000000, 1000000000, 1000000000, 1000000000, 1000000000, 1000000000, 1000000000, 1000000000, 1000000000], \"y0\": \" \", \"yaxis\": \"y\"}, {\"alignmentgroup\": \"True\", \"boxpoints\": \"all\", \"hoverlabel\": {\"namelength\": 0}, \"hovertemplate\": \"Type=%{x}<br>Installs=%{y}\", \"legendgroup\": \"Type=Paid\", \"marker\": {\"color\": \"#EF553B\"}, \"name\": \"Type=Paid\", \"notched\": true, \"offsetgroup\": \"Type=Paid\", \"orientation\": \"v\", \"showlegend\": true, \"type\": \"box\", \"x\": [\"Paid\", \"Paid\", \"Paid\", \"Paid\", \"Paid\", \"Paid\", \"Paid\", \"Paid\", \"Paid\", \"Paid\", \"Paid\", \"Paid\", \"Paid\", \"Paid\", \"Paid\", \"Paid\", \"Paid\", \"Paid\", \"Paid\", \"Paid\", \"Paid\", \"Paid\", \"Paid\", \"Paid\", \"Paid\", \"Paid\", \"Paid\", \"Paid\", \"Paid\", \"Paid\", \"Paid\", \"Paid\", \"Paid\", \"Paid\", \"Paid\", \"Paid\", \"Paid\", \"Paid\", \"Paid\", \"Paid\", \"Paid\", \"Paid\", \"Paid\", \"Paid\", \"Paid\", \"Paid\", \"Paid\", \"Paid\", \"Paid\", \"Paid\", \"Paid\", \"Paid\", \"Paid\", \"Paid\", \"Paid\", \"Paid\", \"Paid\", \"Paid\", \"Paid\", \"Paid\", \"Paid\", \"Paid\", \"Paid\", \"Paid\", \"Paid\", \"Paid\", \"Paid\", \"Paid\", \"Paid\", \"Paid\", \"Paid\", \"Paid\", \"Paid\", \"Paid\", \"Paid\", \"Paid\", \"Paid\", \"Paid\", \"Paid\", \"Paid\", \"Paid\", \"Paid\", \"Paid\", \"Paid\", \"Paid\", \"Paid\", \"Paid\", \"Paid\", \"Paid\", \"Paid\", \"Paid\", \"Paid\", \"Paid\", \"Paid\", \"Paid\", \"Paid\", \"Paid\", \"Paid\", \"Paid\", \"Paid\", \"Paid\", \"Paid\", \"Paid\", \"Paid\", \"Paid\", \"Paid\", \"Paid\", \"Paid\", \"Paid\", \"Paid\", \"Paid\", \"Paid\", \"Paid\", \"Paid\", \"Paid\", \"Paid\", \"Paid\", \"Paid\", \"Paid\", \"Paid\", \"Paid\", \"Paid\", \"Paid\", \"Paid\", \"Paid\", \"Paid\", \"Paid\", \"Paid\", \"Paid\", \"Paid\", \"Paid\", \"Paid\", \"Paid\", \"Paid\", \"Paid\", \"Paid\", \"Paid\", \"Paid\", \"Paid\", \"Paid\", \"Paid\", \"Paid\", \"Paid\", \"Paid\", \"Paid\", \"Paid\", \"Paid\", \"Paid\", \"Paid\", \"Paid\", \"Paid\", \"Paid\", \"Paid\", \"Paid\", \"Paid\", \"Paid\", \"Paid\", \"Paid\", \"Paid\", \"Paid\", \"Paid\", \"Paid\", \"Paid\", \"Paid\", \"Paid\", \"Paid\", \"Paid\", \"Paid\", \"Paid\", \"Paid\", \"Paid\", \"Paid\", \"Paid\", \"Paid\", \"Paid\", \"Paid\", \"Paid\", \"Paid\", \"Paid\", \"Paid\", \"Paid\", \"Paid\", \"Paid\", \"Paid\", \"Paid\", \"Paid\", \"Paid\", \"Paid\", \"Paid\", \"Paid\", \"Paid\", \"Paid\", \"Paid\", \"Paid\", \"Paid\", \"Paid\", \"Paid\", \"Paid\", \"Paid\", \"Paid\", \"Paid\", \"Paid\", \"Paid\", \"Paid\", \"Paid\", \"Paid\", \"Paid\", \"Paid\", \"Paid\", \"Paid\", \"Paid\", \"Paid\", \"Paid\", \"Paid\", \"Paid\", \"Paid\", \"Paid\", \"Paid\", \"Paid\", \"Paid\", \"Paid\", \"Paid\", \"Paid\", \"Paid\", \"Paid\", \"Paid\", \"Paid\", \"Paid\", \"Paid\", \"Paid\", \"Paid\", \"Paid\", \"Paid\", \"Paid\", \"Paid\", \"Paid\", \"Paid\", \"Paid\", \"Paid\", \"Paid\", \"Paid\", \"Paid\", \"Paid\", \"Paid\", \"Paid\", \"Paid\", \"Paid\", \"Paid\", \"Paid\", \"Paid\", \"Paid\", \"Paid\", \"Paid\", \"Paid\", \"Paid\", \"Paid\", \"Paid\", \"Paid\", \"Paid\", \"Paid\", \"Paid\", \"Paid\", \"Paid\", \"Paid\", \"Paid\", \"Paid\", \"Paid\", \"Paid\", \"Paid\", \"Paid\", \"Paid\", \"Paid\", \"Paid\", \"Paid\", \"Paid\", \"Paid\", \"Paid\", \"Paid\", \"Paid\", \"Paid\", \"Paid\", \"Paid\", \"Paid\", \"Paid\", \"Paid\", \"Paid\", \"Paid\", \"Paid\", \"Paid\", \"Paid\", \"Paid\", \"Paid\", \"Paid\", \"Paid\", \"Paid\", \"Paid\", \"Paid\", \"Paid\", \"Paid\", \"Paid\", \"Paid\", \"Paid\", \"Paid\", \"Paid\", \"Paid\", \"Paid\", \"Paid\", \"Paid\", \"Paid\", \"Paid\", \"Paid\", \"Paid\", \"Paid\", \"Paid\", \"Paid\", \"Paid\", \"Paid\", \"Paid\", \"Paid\", \"Paid\", \"Paid\", \"Paid\", \"Paid\", \"Paid\", \"Paid\", \"Paid\", \"Paid\", \"Paid\", \"Paid\", \"Paid\", \"Paid\", \"Paid\", \"Paid\", \"Paid\", \"Paid\", \"Paid\", \"Paid\", \"Paid\", \"Paid\", \"Paid\", \"Paid\", \"Paid\", \"Paid\", \"Paid\", \"Paid\", \"Paid\", \"Paid\", \"Paid\", \"Paid\", \"Paid\", \"Paid\", \"Paid\", \"Paid\", \"Paid\", \"Paid\", \"Paid\", \"Paid\", \"Paid\", \"Paid\", \"Paid\", \"Paid\", \"Paid\", \"Paid\", \"Paid\", \"Paid\", \"Paid\", \"Paid\", \"Paid\", \"Paid\", \"Paid\", \"Paid\", \"Paid\", \"Paid\", \"Paid\", \"Paid\", \"Paid\", \"Paid\", \"Paid\", \"Paid\", \"Paid\", \"Paid\", \"Paid\", \"Paid\", \"Paid\", \"Paid\", \"Paid\", \"Paid\", \"Paid\", \"Paid\", \"Paid\", \"Paid\", \"Paid\", \"Paid\", \"Paid\", \"Paid\", \"Paid\", \"Paid\", \"Paid\", \"Paid\", \"Paid\", \"Paid\", \"Paid\", \"Paid\", \"Paid\", \"Paid\", \"Paid\", \"Paid\", \"Paid\", \"Paid\", \"Paid\", \"Paid\", \"Paid\", \"Paid\", \"Paid\", \"Paid\", \"Paid\", \"Paid\", \"Paid\", \"Paid\", \"Paid\", \"Paid\", \"Paid\", \"Paid\", \"Paid\", \"Paid\", \"Paid\", \"Paid\", \"Paid\", \"Paid\", \"Paid\", \"Paid\", \"Paid\", \"Paid\", \"Paid\", \"Paid\", \"Paid\", \"Paid\", \"Paid\", \"Paid\", \"Paid\", \"Paid\", \"Paid\", \"Paid\", \"Paid\", \"Paid\", \"Paid\", \"Paid\", \"Paid\", \"Paid\", \"Paid\", \"Paid\", \"Paid\", \"Paid\", \"Paid\", \"Paid\", \"Paid\", \"Paid\", \"Paid\", \"Paid\", \"Paid\", \"Paid\", \"Paid\", \"Paid\", \"Paid\", \"Paid\", \"Paid\", \"Paid\", \"Paid\", \"Paid\", \"Paid\", \"Paid\", \"Paid\", \"Paid\", \"Paid\", \"Paid\", \"Paid\", \"Paid\", \"Paid\", \"Paid\", \"Paid\", \"Paid\", \"Paid\", \"Paid\", \"Paid\", \"Paid\", \"Paid\", \"Paid\", \"Paid\", \"Paid\", \"Paid\", \"Paid\", \"Paid\", \"Paid\", \"Paid\", \"Paid\", \"Paid\", \"Paid\", \"Paid\", \"Paid\", \"Paid\", \"Paid\", \"Paid\", \"Paid\", \"Paid\", \"Paid\", \"Paid\", \"Paid\", \"Paid\", \"Paid\", \"Paid\", \"Paid\", \"Paid\", \"Paid\", \"Paid\", \"Paid\", \"Paid\", \"Paid\", \"Paid\", \"Paid\", \"Paid\", \"Paid\", \"Paid\", \"Paid\", \"Paid\", \"Paid\", \"Paid\", \"Paid\", \"Paid\", \"Paid\", \"Paid\", \"Paid\", \"Paid\", \"Paid\", \"Paid\", \"Paid\", \"Paid\", \"Paid\", \"Paid\", \"Paid\", \"Paid\", \"Paid\", \"Paid\", \"Paid\", \"Paid\", \"Paid\", \"Paid\", \"Paid\", \"Paid\", \"Paid\", \"Paid\", \"Paid\", \"Paid\", \"Paid\", \"Paid\", \"Paid\", \"Paid\", \"Paid\", \"Paid\", \"Paid\", \"Paid\", \"Paid\", \"Paid\", \"Paid\", \"Paid\", \"Paid\", \"Paid\", \"Paid\", \"Paid\", \"Paid\", \"Paid\", \"Paid\", \"Paid\", \"Paid\", \"Paid\", \"Paid\", \"Paid\", \"Paid\", \"Paid\", \"Paid\", \"Paid\", \"Paid\", \"Paid\", \"Paid\", \"Paid\", \"Paid\", \"Paid\", \"Paid\", \"Paid\", \"Paid\"], \"x0\": \" \", \"xaxis\": \"x\", \"y\": [1, 1, 10, 10, 10, 10, 10, 10, 10, 10, 10, 10, 10, 10, 10, 10, 10, 10, 10, 10, 50, 50, 50, 50, 50, 50, 50, 50, 50, 50, 50, 50, 50, 50, 100, 100, 100, 100, 100, 100, 100, 100, 100, 100, 100, 100, 100, 100, 100, 100, 100, 100, 100, 100, 100, 100, 100, 100, 100, 100, 100, 100, 100, 100, 100, 100, 100, 100, 100, 100, 100, 100, 100, 100, 100, 100, 100, 100, 100, 100, 100, 100, 100, 100, 100, 100, 100, 100, 100, 100, 100, 100, 100, 100, 100, 100, 100, 100, 100, 500, 500, 500, 500, 500, 500, 500, 500, 500, 500, 500, 500, 500, 500, 500, 500, 500, 500, 500, 500, 500, 500, 500, 500, 500, 500, 500, 500, 500, 500, 500, 500, 500, 500, 500, 500, 1000, 1000, 1000, 1000, 1000, 1000, 1000, 1000, 1000, 1000, 1000, 1000, 1000, 1000, 1000, 1000, 1000, 1000, 1000, 1000, 1000, 1000, 1000, 1000, 1000, 1000, 1000, 1000, 1000, 1000, 1000, 1000, 1000, 1000, 1000, 1000, 1000, 1000, 1000, 1000, 1000, 1000, 1000, 1000, 1000, 1000, 1000, 1000, 1000, 1000, 1000, 1000, 1000, 1000, 1000, 1000, 1000, 1000, 1000, 1000, 1000, 1000, 1000, 1000, 1000, 1000, 1000, 1000, 1000, 1000, 1000, 1000, 1000, 1000, 1000, 1000, 1000, 1000, 1000, 1000, 1000, 1000, 1000, 1000, 1000, 1000, 1000, 1000, 1000, 1000, 1000, 1000, 1000, 1000, 1000, 1000, 1000, 1000, 1000, 1000, 1000, 1000, 1000, 1000, 1000, 1000, 1000, 1000, 1000, 1000, 1000, 1000, 1000, 1000, 1000, 1000, 1000, 1000, 1000, 1000, 1000, 1000, 1000, 1000, 1000, 1000, 1000, 5000, 5000, 5000, 5000, 5000, 5000, 5000, 5000, 5000, 5000, 5000, 5000, 5000, 5000, 5000, 5000, 5000, 5000, 5000, 5000, 5000, 5000, 5000, 5000, 5000, 5000, 5000, 5000, 5000, 5000, 5000, 5000, 5000, 5000, 5000, 5000, 5000, 5000, 5000, 5000, 5000, 5000, 5000, 5000, 5000, 5000, 5000, 5000, 5000, 5000, 5000, 5000, 5000, 5000, 5000, 5000, 5000, 5000, 5000, 5000, 5000, 5000, 10000, 10000, 10000, 10000, 10000, 10000, 10000, 10000, 10000, 10000, 10000, 10000, 10000, 10000, 10000, 10000, 10000, 10000, 10000, 10000, 10000, 10000, 10000, 10000, 10000, 10000, 10000, 10000, 10000, 10000, 10000, 10000, 10000, 10000, 10000, 10000, 10000, 10000, 10000, 10000, 10000, 10000, 10000, 10000, 10000, 10000, 10000, 10000, 10000, 10000, 10000, 10000, 10000, 10000, 10000, 10000, 10000, 10000, 10000, 10000, 10000, 10000, 10000, 10000, 10000, 10000, 10000, 10000, 10000, 10000, 10000, 10000, 10000, 10000, 10000, 10000, 10000, 10000, 10000, 10000, 10000, 10000, 10000, 10000, 10000, 10000, 10000, 10000, 10000, 10000, 10000, 10000, 10000, 10000, 10000, 10000, 10000, 10000, 10000, 10000, 10000, 10000, 10000, 10000, 10000, 10000, 10000, 10000, 10000, 10000, 10000, 10000, 50000, 50000, 50000, 50000, 50000, 50000, 50000, 50000, 50000, 50000, 50000, 50000, 50000, 50000, 50000, 50000, 50000, 50000, 50000, 50000, 50000, 50000, 50000, 50000, 50000, 50000, 50000, 50000, 50000, 50000, 50000, 50000, 50000, 50000, 50000, 50000, 50000, 50000, 50000, 100000, 100000, 100000, 100000, 100000, 100000, 100000, 100000, 100000, 100000, 100000, 100000, 100000, 100000, 100000, 100000, 100000, 100000, 100000, 100000, 100000, 100000, 100000, 100000, 100000, 100000, 100000, 100000, 100000, 100000, 100000, 100000, 100000, 100000, 100000, 100000, 100000, 100000, 100000, 100000, 100000, 100000, 100000, 100000, 100000, 100000, 100000, 100000, 100000, 100000, 100000, 100000, 100000, 100000, 100000, 100000, 100000, 100000, 100000, 100000, 100000, 100000, 100000, 100000, 100000, 100000, 100000, 100000, 100000, 100000, 100000, 100000, 100000, 100000, 100000, 100000, 100000, 100000, 100000, 100000, 100000, 500000, 500000, 500000, 500000, 500000, 500000, 500000, 500000, 500000, 500000, 500000, 1000000, 1000000, 1000000, 1000000, 1000000, 1000000, 1000000, 1000000, 1000000, 1000000, 1000000, 1000000, 1000000, 1000000, 1000000, 1000000, 1000000, 1000000, 1000000, 1000000, 10000000, 10000000], \"y0\": \" \", \"yaxis\": \"y\"}],\n",
              "                        {\"boxmode\": \"group\", \"legend\": {\"tracegroupgap\": 0}, \"template\": {\"data\": {\"bar\": [{\"error_x\": {\"color\": \"#2a3f5f\"}, \"error_y\": {\"color\": \"#2a3f5f\"}, \"marker\": {\"line\": {\"color\": \"#E5ECF6\", \"width\": 0.5}}, \"type\": \"bar\"}], \"barpolar\": [{\"marker\": {\"line\": {\"color\": \"#E5ECF6\", \"width\": 0.5}}, \"type\": \"barpolar\"}], \"carpet\": [{\"aaxis\": {\"endlinecolor\": \"#2a3f5f\", \"gridcolor\": \"white\", \"linecolor\": \"white\", \"minorgridcolor\": \"white\", \"startlinecolor\": \"#2a3f5f\"}, \"baxis\": {\"endlinecolor\": \"#2a3f5f\", \"gridcolor\": \"white\", \"linecolor\": \"white\", \"minorgridcolor\": \"white\", \"startlinecolor\": \"#2a3f5f\"}, \"type\": \"carpet\"}], \"choropleth\": [{\"colorbar\": {\"outlinewidth\": 0, \"ticks\": \"\"}, \"type\": \"choropleth\"}], \"contour\": [{\"colorbar\": {\"outlinewidth\": 0, \"ticks\": \"\"}, \"colorscale\": [[0.0, \"#0d0887\"], [0.1111111111111111, \"#46039f\"], [0.2222222222222222, \"#7201a8\"], [0.3333333333333333, \"#9c179e\"], [0.4444444444444444, \"#bd3786\"], [0.5555555555555556, \"#d8576b\"], [0.6666666666666666, \"#ed7953\"], [0.7777777777777778, \"#fb9f3a\"], [0.8888888888888888, \"#fdca26\"], [1.0, \"#f0f921\"]], \"type\": \"contour\"}], \"contourcarpet\": [{\"colorbar\": {\"outlinewidth\": 0, \"ticks\": \"\"}, \"type\": \"contourcarpet\"}], \"heatmap\": [{\"colorbar\": {\"outlinewidth\": 0, \"ticks\": \"\"}, \"colorscale\": [[0.0, \"#0d0887\"], [0.1111111111111111, \"#46039f\"], [0.2222222222222222, \"#7201a8\"], [0.3333333333333333, \"#9c179e\"], [0.4444444444444444, \"#bd3786\"], [0.5555555555555556, \"#d8576b\"], [0.6666666666666666, \"#ed7953\"], [0.7777777777777778, \"#fb9f3a\"], [0.8888888888888888, \"#fdca26\"], [1.0, \"#f0f921\"]], \"type\": \"heatmap\"}], \"heatmapgl\": [{\"colorbar\": {\"outlinewidth\": 0, \"ticks\": \"\"}, \"colorscale\": [[0.0, \"#0d0887\"], [0.1111111111111111, \"#46039f\"], [0.2222222222222222, \"#7201a8\"], [0.3333333333333333, \"#9c179e\"], [0.4444444444444444, \"#bd3786\"], [0.5555555555555556, \"#d8576b\"], [0.6666666666666666, \"#ed7953\"], [0.7777777777777778, \"#fb9f3a\"], [0.8888888888888888, \"#fdca26\"], [1.0, \"#f0f921\"]], \"type\": \"heatmapgl\"}], \"histogram\": [{\"marker\": {\"colorbar\": {\"outlinewidth\": 0, \"ticks\": \"\"}}, \"type\": \"histogram\"}], \"histogram2d\": [{\"colorbar\": {\"outlinewidth\": 0, \"ticks\": \"\"}, \"colorscale\": [[0.0, \"#0d0887\"], [0.1111111111111111, \"#46039f\"], [0.2222222222222222, \"#7201a8\"], [0.3333333333333333, \"#9c179e\"], [0.4444444444444444, \"#bd3786\"], [0.5555555555555556, \"#d8576b\"], [0.6666666666666666, \"#ed7953\"], [0.7777777777777778, \"#fb9f3a\"], [0.8888888888888888, \"#fdca26\"], [1.0, \"#f0f921\"]], \"type\": \"histogram2d\"}], \"histogram2dcontour\": [{\"colorbar\": {\"outlinewidth\": 0, \"ticks\": \"\"}, \"colorscale\": [[0.0, \"#0d0887\"], [0.1111111111111111, \"#46039f\"], [0.2222222222222222, \"#7201a8\"], [0.3333333333333333, \"#9c179e\"], [0.4444444444444444, \"#bd3786\"], [0.5555555555555556, \"#d8576b\"], [0.6666666666666666, \"#ed7953\"], [0.7777777777777778, \"#fb9f3a\"], [0.8888888888888888, \"#fdca26\"], [1.0, \"#f0f921\"]], \"type\": \"histogram2dcontour\"}], \"mesh3d\": [{\"colorbar\": {\"outlinewidth\": 0, \"ticks\": \"\"}, \"type\": \"mesh3d\"}], \"parcoords\": [{\"line\": {\"colorbar\": {\"outlinewidth\": 0, \"ticks\": \"\"}}, \"type\": \"parcoords\"}], \"pie\": [{\"automargin\": true, \"type\": \"pie\"}], \"scatter\": [{\"marker\": {\"colorbar\": {\"outlinewidth\": 0, \"ticks\": \"\"}}, \"type\": \"scatter\"}], \"scatter3d\": [{\"line\": {\"colorbar\": {\"outlinewidth\": 0, \"ticks\": \"\"}}, \"marker\": {\"colorbar\": {\"outlinewidth\": 0, \"ticks\": \"\"}}, \"type\": \"scatter3d\"}], \"scattercarpet\": [{\"marker\": {\"colorbar\": {\"outlinewidth\": 0, \"ticks\": \"\"}}, \"type\": \"scattercarpet\"}], \"scattergeo\": [{\"marker\": {\"colorbar\": {\"outlinewidth\": 0, \"ticks\": \"\"}}, \"type\": \"scattergeo\"}], \"scattergl\": [{\"marker\": {\"colorbar\": {\"outlinewidth\": 0, \"ticks\": \"\"}}, \"type\": \"scattergl\"}], \"scattermapbox\": [{\"marker\": {\"colorbar\": {\"outlinewidth\": 0, \"ticks\": \"\"}}, \"type\": \"scattermapbox\"}], \"scatterpolar\": [{\"marker\": {\"colorbar\": {\"outlinewidth\": 0, \"ticks\": \"\"}}, \"type\": \"scatterpolar\"}], \"scatterpolargl\": [{\"marker\": {\"colorbar\": {\"outlinewidth\": 0, \"ticks\": \"\"}}, \"type\": \"scatterpolargl\"}], \"scatterternary\": [{\"marker\": {\"colorbar\": {\"outlinewidth\": 0, \"ticks\": \"\"}}, \"type\": \"scatterternary\"}], \"surface\": [{\"colorbar\": {\"outlinewidth\": 0, \"ticks\": \"\"}, \"colorscale\": [[0.0, \"#0d0887\"], [0.1111111111111111, \"#46039f\"], [0.2222222222222222, \"#7201a8\"], [0.3333333333333333, \"#9c179e\"], [0.4444444444444444, \"#bd3786\"], [0.5555555555555556, \"#d8576b\"], [0.6666666666666666, \"#ed7953\"], [0.7777777777777778, \"#fb9f3a\"], [0.8888888888888888, \"#fdca26\"], [1.0, \"#f0f921\"]], \"type\": \"surface\"}], \"table\": [{\"cells\": {\"fill\": {\"color\": \"#EBF0F8\"}, \"line\": {\"color\": \"white\"}}, \"header\": {\"fill\": {\"color\": \"#C8D4E3\"}, \"line\": {\"color\": \"white\"}}, \"type\": \"table\"}]}, \"layout\": {\"annotationdefaults\": {\"arrowcolor\": \"#2a3f5f\", \"arrowhead\": 0, \"arrowwidth\": 1}, \"coloraxis\": {\"colorbar\": {\"outlinewidth\": 0, \"ticks\": \"\"}}, \"colorscale\": {\"diverging\": [[0, \"#8e0152\"], [0.1, \"#c51b7d\"], [0.2, \"#de77ae\"], [0.3, \"#f1b6da\"], [0.4, \"#fde0ef\"], [0.5, \"#f7f7f7\"], [0.6, \"#e6f5d0\"], [0.7, \"#b8e186\"], [0.8, \"#7fbc41\"], [0.9, \"#4d9221\"], [1, \"#276419\"]], \"sequential\": [[0.0, \"#0d0887\"], [0.1111111111111111, \"#46039f\"], [0.2222222222222222, \"#7201a8\"], [0.3333333333333333, \"#9c179e\"], [0.4444444444444444, \"#bd3786\"], [0.5555555555555556, \"#d8576b\"], [0.6666666666666666, \"#ed7953\"], [0.7777777777777778, \"#fb9f3a\"], [0.8888888888888888, \"#fdca26\"], [1.0, \"#f0f921\"]], \"sequentialminus\": [[0.0, \"#0d0887\"], [0.1111111111111111, \"#46039f\"], [0.2222222222222222, \"#7201a8\"], [0.3333333333333333, \"#9c179e\"], [0.4444444444444444, \"#bd3786\"], [0.5555555555555556, \"#d8576b\"], [0.6666666666666666, \"#ed7953\"], [0.7777777777777778, \"#fb9f3a\"], [0.8888888888888888, \"#fdca26\"], [1.0, \"#f0f921\"]]}, \"colorway\": [\"#636efa\", \"#EF553B\", \"#00cc96\", \"#ab63fa\", \"#FFA15A\", \"#19d3f3\", \"#FF6692\", \"#B6E880\", \"#FF97FF\", \"#FECB52\"], \"font\": {\"color\": \"#2a3f5f\"}, \"geo\": {\"bgcolor\": \"white\", \"lakecolor\": \"white\", \"landcolor\": \"#E5ECF6\", \"showlakes\": true, \"showland\": true, \"subunitcolor\": \"white\"}, \"hoverlabel\": {\"align\": \"left\"}, \"hovermode\": \"closest\", \"mapbox\": {\"style\": \"light\"}, \"paper_bgcolor\": \"white\", \"plot_bgcolor\": \"#E5ECF6\", \"polar\": {\"angularaxis\": {\"gridcolor\": \"white\", \"linecolor\": \"white\", \"ticks\": \"\"}, \"bgcolor\": \"#E5ECF6\", \"radialaxis\": {\"gridcolor\": \"white\", \"linecolor\": \"white\", \"ticks\": \"\"}}, \"scene\": {\"xaxis\": {\"backgroundcolor\": \"#E5ECF6\", \"gridcolor\": \"white\", \"gridwidth\": 2, \"linecolor\": \"white\", \"showbackground\": true, \"ticks\": \"\", \"zerolinecolor\": \"white\"}, \"yaxis\": {\"backgroundcolor\": \"#E5ECF6\", \"gridcolor\": \"white\", \"gridwidth\": 2, \"linecolor\": \"white\", \"showbackground\": true, \"ticks\": \"\", \"zerolinecolor\": \"white\"}, \"zaxis\": {\"backgroundcolor\": \"#E5ECF6\", \"gridcolor\": \"white\", \"gridwidth\": 2, \"linecolor\": \"white\", \"showbackground\": true, \"ticks\": \"\", \"zerolinecolor\": \"white\"}}, \"shapedefaults\": {\"line\": {\"color\": \"#2a3f5f\"}}, \"ternary\": {\"aaxis\": {\"gridcolor\": \"white\", \"linecolor\": \"white\", \"ticks\": \"\"}, \"baxis\": {\"gridcolor\": \"white\", \"linecolor\": \"white\", \"ticks\": \"\"}, \"bgcolor\": \"#E5ECF6\", \"caxis\": {\"gridcolor\": \"white\", \"linecolor\": \"white\", \"ticks\": \"\"}}, \"title\": {\"x\": 0.05}, \"xaxis\": {\"automargin\": true, \"gridcolor\": \"white\", \"linecolor\": \"white\", \"ticks\": \"\", \"title\": {\"standoff\": 15}, \"zerolinecolor\": \"white\", \"zerolinewidth\": 2}, \"yaxis\": {\"automargin\": true, \"gridcolor\": \"white\", \"linecolor\": \"white\", \"ticks\": \"\", \"title\": {\"standoff\": 15}, \"zerolinecolor\": \"white\", \"zerolinewidth\": 2}}}, \"title\": {\"text\": \"How Many Downloads are Paid Apps Giving Up?\"}, \"xaxis\": {\"anchor\": \"y\", \"categoryarray\": [\"Free\", \"Paid\"], \"categoryorder\": \"array\", \"domain\": [0.0, 1.0], \"title\": {\"text\": \"Type\"}}, \"yaxis\": {\"anchor\": \"x\", \"domain\": [0.0, 1.0], \"title\": {\"text\": \"Installs\"}, \"type\": \"log\"}},\n",
              "                        {\"responsive\": true}\n",
              "                    ).then(function(){\n",
              "                            \n",
              "var gd = document.getElementById('d71a7caf-efa2-4fa8-8208-7310e54e3019');\n",
              "var x = new MutationObserver(function (mutations, observer) {{\n",
              "        var display = window.getComputedStyle(gd).display;\n",
              "        if (!display || display === 'none') {{\n",
              "            console.log([gd, 'removed!']);\n",
              "            Plotly.purge(gd);\n",
              "            observer.disconnect();\n",
              "        }}\n",
              "}});\n",
              "\n",
              "// Listen for the removal of the full notebook cells\n",
              "var notebookContainer = gd.closest('#notebook-container');\n",
              "if (notebookContainer) {{\n",
              "    x.observe(notebookContainer, {childList: true});\n",
              "}}\n",
              "\n",
              "// Listen for the clearing of the current output cell\n",
              "var outputEl = gd.closest('.output');\n",
              "if (outputEl) {{\n",
              "    x.observe(outputEl, {childList: true});\n",
              "}}\n",
              "\n",
              "                        })\n",
              "                };\n",
              "                \n",
              "            </script>\n",
              "        </div>\n",
              "</body>\n",
              "</html>"
            ]
          },
          "metadata": {}
        }
      ]
    },
    {
      "cell_type": "markdown",
      "metadata": {
        "id": "Xi2NaEBPVNrP"
      },
      "source": [
        "# Plotly Box Plots: Revenue by App Category\n",
        "\n",
        "**Challenge**: See if you can generate the chart below: \n",
        "\n",
        "<img src=https://imgur.com/v4CiNqX.png>\n",
        "\n",
        "Looking at the hover text, how much does the median app earn in the Tools category? If developing an Android app costs $30,000 or thereabouts, does the average photography app recoup its development costs?\n",
        "\n",
        "Hint: I've used 'min ascending' to sort the categories. "
      ]
    },
    {
      "cell_type": "code",
      "metadata": {
        "id": "W1iVoT8Dos7x",
        "colab": {
          "base_uri": "https://localhost:8080/",
          "height": 542
        },
        "outputId": "85eee60e-72e5-4d13-ea39-0f1442224bdd"
      },
      "source": [
        "df_paid_apps = df_apps_clean[df_apps_clean['Type'] == 'Paid']\n",
        "\n",
        "box = px.box(df_paid_apps, \n",
        "            x='Category', \n",
        "            y='Revenue_Estimate',\n",
        "            title='How Much Can Paid Apps Earn?')\n",
        "\n",
        "box.update_layout(xaxis_title='Category',\n",
        "                yaxis_title='Paid App Ballpark Revenue',\n",
        "                xaxis={'categoryorder':'min ascending'},\n",
        "                yaxis=dict(type='log'))\n",
        "\n",
        "\n",
        "box.show()"
      ],
      "execution_count": 63,
      "outputs": [
        {
          "output_type": "display_data",
          "data": {
            "text/html": [
              "<html>\n",
              "<head><meta charset=\"utf-8\" /></head>\n",
              "<body>\n",
              "    <div>\n",
              "            <script src=\"https://cdnjs.cloudflare.com/ajax/libs/mathjax/2.7.5/MathJax.js?config=TeX-AMS-MML_SVG\"></script><script type=\"text/javascript\">if (window.MathJax) {MathJax.Hub.Config({SVG: {font: \"STIX-Web\"}});}</script>\n",
              "                <script type=\"text/javascript\">window.PlotlyConfig = {MathJaxConfig: 'local'};</script>\n",
              "        <script src=\"https://cdn.plot.ly/plotly-latest.min.js\"></script>    \n",
              "            <div id=\"30bdc694-0074-4461-a798-22d836d09a9c\" class=\"plotly-graph-div\" style=\"height:525px; width:100%;\"></div>\n",
              "            <script type=\"text/javascript\">\n",
              "                \n",
              "                    window.PLOTLYENV=window.PLOTLYENV || {};\n",
              "                    \n",
              "                if (document.getElementById(\"30bdc694-0074-4461-a798-22d836d09a9c\")) {\n",
              "                    Plotly.newPlot(\n",
              "                        '30bdc694-0074-4461-a798-22d836d09a9c',\n",
              "                        [{\"alignmentgroup\": \"True\", \"hoverlabel\": {\"namelength\": 0}, \"hovertemplate\": \"Category=%{x}<br>Revenue_Estimate=%{y}\", \"legendgroup\": \"\", \"marker\": {\"color\": \"#636efa\"}, \"name\": \"\", \"notched\": false, \"offsetgroup\": \"\", \"orientation\": \"v\", \"showlegend\": false, \"type\": \"box\", \"x\": [\"GAME\", \"GAME\", \"FAMILY\", \"BUSINESS\", \"LIFESTYLE\", \"FAMILY\", \"PERSONALIZATION\", \"PHOTOGRAPHY\", \"FAMILY\", \"GAME\", \"PRODUCTIVITY\", \"PHOTOGRAPHY\", \"FAMILY\", \"TOOLS\", \"TOOLS\", \"PERSONALIZATION\", \"FAMILY\", \"FAMILY\", \"FAMILY\", \"FAMILY\", \"GAME\", \"TOOLS\", \"PERSONALIZATION\", \"PERSONALIZATION\", \"PERSONALIZATION\", \"TOOLS\", \"FAMILY\", \"FAMILY\", \"BUSINESS\", \"BOOKS_AND_REFERENCE\", \"FAMILY\", \"FAMILY\", \"FAMILY\", \"PERSONALIZATION\", \"PERSONALIZATION\", \"PERSONALIZATION\", \"GAME\", \"PERSONALIZATION\", \"FAMILY\", \"FINANCE\", \"SHOPPING\", \"DATING\", \"PERSONALIZATION\", \"GAME\", \"FAMILY\", \"PRODUCTIVITY\", \"FAMILY\", \"MEDICAL\", \"SPORTS\", \"MEDICAL\", \"PRODUCTIVITY\", \"BUSINESS\", \"PARENTING\", \"LIFESTYLE\", \"FAMILY\", \"TOOLS\", \"MAPS_AND_NAVIGATION\", \"COMMUNICATION\", \"PERSONALIZATION\", \"COMMUNICATION\", \"FAMILY\", \"PERSONALIZATION\", \"FAMILY\", \"FAMILY\", \"FAMILY\", \"TOOLS\", \"FAMILY\", \"SPORTS\", \"FAMILY\", \"MEDICAL\", \"FAMILY\", \"FAMILY\", \"GAME\", \"TOOLS\", \"FAMILY\", \"FAMILY\", \"PERSONALIZATION\", \"BOOKS_AND_REFERENCE\", \"GAME\", \"PERSONALIZATION\", \"GAME\", \"GAME\", \"TOOLS\", \"MEDICAL\", \"TOOLS\", \"TOOLS\", \"PERSONALIZATION\", \"GAME\", \"COMMUNICATION\", \"MEDICAL\", \"SPORTS\", \"PERSONALIZATION\", \"COMMUNICATION\", \"COMMUNICATION\", \"PERSONALIZATION\", \"TOOLS\", \"PERSONALIZATION\", \"PERSONALIZATION\", \"PRODUCTIVITY\", \"MEDICAL\", \"FAMILY\", \"TOOLS\", \"TOOLS\", \"BUSINESS\", \"COMMUNICATION\", \"FAMILY\", \"PERSONALIZATION\", \"PHOTOGRAPHY\", \"MEDICAL\", \"PERSONALIZATION\", \"MEDICAL\", \"COMMUNICATION\", \"PRODUCTIVITY\", \"BOOKS_AND_REFERENCE\", \"TOOLS\", \"WEATHER\", \"FAMILY\", \"FAMILY\", \"MEDICAL\", \"FAMILY\", \"TOOLS\", \"TOOLS\", \"SPORTS\", \"GAME\", \"MEDICAL\", \"PERSONALIZATION\", \"PERSONALIZATION\", \"NEWS_AND_MAGAZINES\", \"COMMUNICATION\", \"TOOLS\", \"MEDICAL\", \"FINANCE\", \"FAMILY\", \"PERSONALIZATION\", \"PERSONALIZATION\", \"MEDICAL\", \"FAMILY\", \"MEDICAL\", \"MEDICAL\", \"FAMILY\", \"FAMILY\", \"FAMILY\", \"GAME\", \"PERSONALIZATION\", \"TOOLS\", \"PERSONALIZATION\", \"GAME\", \"GAME\", \"GAME\", \"FAMILY\", \"FAMILY\", \"PRODUCTIVITY\", \"COMMUNICATION\", \"SPORTS\", \"SPORTS\", \"FAMILY\", \"PERSONALIZATION\", \"MEDICAL\", \"SPORTS\", \"COMMUNICATION\", \"LIFESTYLE\", \"FAMILY\", \"MEDICAL\", \"MEDICAL\", \"TOOLS\", \"PRODUCTIVITY\", \"FINANCE\", \"HEALTH_AND_FITNESS\", \"MEDICAL\", \"PHOTOGRAPHY\", \"FAMILY\", \"FAMILY\", \"PHOTOGRAPHY\", \"SPORTS\", \"ART_AND_DESIGN\", \"FAMILY\", \"PERSONALIZATION\", \"PRODUCTIVITY\", \"HEALTH_AND_FITNESS\", \"MEDICAL\", \"TOOLS\", \"PRODUCTIVITY\", \"GAME\", \"TOOLS\", \"MEDICAL\", \"LIFESTYLE\", \"GAME\", \"MEDICAL\", \"TRAVEL_AND_LOCAL\", \"BUSINESS\", \"MEDICAL\", \"COMMUNICATION\", \"PERSONALIZATION\", \"GAME\", \"TRAVEL_AND_LOCAL\", \"GAME\", \"SPORTS\", \"MEDICAL\", \"FAMILY\", \"MEDICAL\", \"TOOLS\", \"BOOKS_AND_REFERENCE\", \"FAMILY\", \"MEDICAL\", \"MEDICAL\", \"GAME\", \"BUSINESS\", \"TOOLS\", \"FAMILY\", \"MEDICAL\", \"PERSONALIZATION\", \"PHOTOGRAPHY\", \"SPORTS\", \"MAPS_AND_NAVIGATION\", \"PERSONALIZATION\", \"GAME\", \"BOOKS_AND_REFERENCE\", \"EDUCATION\", \"FAMILY\", \"FAMILY\", \"SOCIAL\", \"MEDICAL\", \"TOOLS\", \"SPORTS\", \"FAMILY\", \"FAMILY\", \"TOOLS\", \"WEATHER\", \"VIDEO_PLAYERS\", \"MEDICAL\", \"TOOLS\", \"GAME\", \"PERSONALIZATION\", \"MEDICAL\", \"LIFESTYLE\", \"MEDICAL\", \"DATING\", \"HEALTH_AND_FITNESS\", \"MEDICAL\", \"FAMILY\", \"PRODUCTIVITY\", \"EDUCATION\", \"SPORTS\", \"FAMILY\", \"PERSONALIZATION\", \"PERSONALIZATION\", \"FAMILY\", \"GAME\", \"FINANCE\", \"GAME\", \"MEDICAL\", \"FAMILY\", \"MEDICAL\", \"MEDICAL\", \"TOOLS\", \"TOOLS\", \"TOOLS\", \"TOOLS\", \"PERSONALIZATION\", \"PERSONALIZATION\", \"PERSONALIZATION\", \"PERSONALIZATION\", \"FAMILY\", \"GAME\", \"FAMILY\", \"FAMILY\", \"MEDICAL\", \"SPORTS\", \"LIFESTYLE\", \"FAMILY\", \"FAMILY\", \"TRAVEL_AND_LOCAL\", \"PERSONALIZATION\", \"BOOKS_AND_REFERENCE\", \"FAMILY\", \"MEDICAL\", \"MEDICAL\", \"MEDICAL\", \"MEDICAL\", \"PRODUCTIVITY\", \"SOCIAL\", \"SPORTS\", \"TRAVEL_AND_LOCAL\", \"TOOLS\", \"FAMILY\", \"NEWS_AND_MAGAZINES\", \"ART_AND_DESIGN\", \"GAME\", \"PERSONALIZATION\", \"LIFESTYLE\", \"PERSONALIZATION\", \"LIFESTYLE\", \"MEDICAL\", \"FAMILY\", \"FAMILY\", \"BOOKS_AND_REFERENCE\", \"LIFESTYLE\", \"MEDICAL\", \"MEDICAL\", \"TOOLS\", \"SPORTS\", \"MEDICAL\", \"PHOTOGRAPHY\", \"GAME\", \"SPORTS\", \"FAMILY\", \"SPORTS\", \"TOOLS\", \"LIFESTYLE\", \"FAMILY\", \"COMMUNICATION\", \"COMMUNICATION\", \"COMMUNICATION\", \"FAMILY\", \"FAMILY\", \"TOOLS\", \"MEDICAL\", \"TOOLS\", \"TOOLS\", \"TOOLS\", \"TOOLS\", \"TOOLS\", \"TOOLS\", \"PERSONALIZATION\", \"FAMILY\", \"MEDICAL\", \"MEDICAL\", \"MEDICAL\", \"HEALTH_AND_FITNESS\", \"GAME\", \"FAMILY\", \"FAMILY\", \"PHOTOGRAPHY\", \"PERSONALIZATION\", \"LIFESTYLE\", \"GAME\", \"FAMILY\", \"MEDICAL\", \"FAMILY\", \"BUSINESS\", \"GAME\", \"FAMILY\", \"MEDICAL\", \"FAMILY\", \"MAPS_AND_NAVIGATION\", \"BOOKS_AND_REFERENCE\", \"GAME\", \"PERSONALIZATION\", \"PERSONALIZATION\", \"COMMUNICATION\", \"DATING\", \"FOOD_AND_DRINK\", \"LIFESTYLE\", \"FAMILY\", \"FAMILY\", \"MEDICAL\", \"TRAVEL_AND_LOCAL\", \"TOOLS\", \"TOOLS\", \"TOOLS\", \"PERSONALIZATION\", \"VIDEO_PLAYERS\", \"VIDEO_PLAYERS\", \"GAME\", \"FAMILY\", \"FAMILY\", \"FAMILY\", \"FAMILY\", \"PERSONALIZATION\", \"WEATHER\", \"TOOLS\", \"PERSONALIZATION\", \"TOOLS\", \"ART_AND_DESIGN\", \"PERSONALIZATION\", \"PERSONALIZATION\", \"MEDICAL\", \"TOOLS\", \"FAMILY\", \"FINANCE\", \"TOOLS\", \"GAME\", \"FAMILY\", \"FAMILY\", \"TOOLS\", \"TOOLS\", \"GAME\", \"TOOLS\", \"HEALTH_AND_FITNESS\", \"GAME\", \"MEDICAL\", \"COMMUNICATION\", \"FAMILY\", \"GAME\", \"FAMILY\", \"MEDICAL\", \"PERSONALIZATION\", \"FAMILY\", \"SPORTS\", \"FAMILY\", \"TRAVEL_AND_LOCAL\", \"TOOLS\", \"SHOPPING\", \"TOOLS\", \"FAMILY\", \"FAMILY\", \"FAMILY\", \"FAMILY\", \"FAMILY\", \"FAMILY\", \"GAME\", \"MAPS_AND_NAVIGATION\", \"PERSONALIZATION\", \"GAME\", \"FAMILY\", \"FAMILY\", \"FINANCE\", \"TOOLS\", \"TOOLS\", \"FAMILY\", \"FAMILY\", \"MEDICAL\", \"GAME\", \"FAMILY\", \"COMMUNICATION\", \"COMMUNICATION\", \"FAMILY\", \"FAMILY\", \"MEDICAL\", \"MEDICAL\", \"MEDICAL\", \"PHOTOGRAPHY\", \"TOOLS\", \"TOOLS\", \"PERSONALIZATION\", \"PERSONALIZATION\", \"FAMILY\", \"GAME\", \"SPORTS\", \"MEDICAL\", \"GAME\", \"FAMILY\", \"AUTO_AND_VEHICLES\", \"HEALTH_AND_FITNESS\", \"FAMILY\", \"FAMILY\", \"MEDICAL\", \"PHOTOGRAPHY\", \"SPORTS\", \"TOOLS\", \"VIDEO_PLAYERS\", \"FAMILY\", \"FAMILY\", \"PRODUCTIVITY\", \"PERSONALIZATION\", \"PRODUCTIVITY\", \"PERSONALIZATION\", \"FAMILY\", \"FAMILY\", \"GAME\", \"MEDICAL\", \"FAMILY\", \"FAMILY\", \"FOOD_AND_DRINK\", \"FAMILY\", \"FAMILY\", \"FAMILY\", \"TOOLS\", \"HEALTH_AND_FITNESS\", \"PARENTING\", \"FAMILY\", \"GAME\", \"HEALTH_AND_FITNESS\", \"TRAVEL_AND_LOCAL\", \"GAME\", \"WEATHER\", \"FAMILY\", \"MEDICAL\", \"GAME\", \"GAME\", \"MEDICAL\", \"PERSONALIZATION\", \"FAMILY\", \"FAMILY\", \"FAMILY\", \"FAMILY\", \"GAME\", \"PHOTOGRAPHY\", \"FAMILY\", \"BUSINESS\", \"FAMILY\", \"GAME\", \"FAMILY\", \"FAMILY\", \"WEATHER\", \"EDUCATION\", \"COMMUNICATION\", \"ENTERTAINMENT\", \"HEALTH_AND_FITNESS\", \"HEALTH_AND_FITNESS\", \"GAME\", \"GAME\", \"FAMILY\", \"FAMILY\", \"FAMILY\", \"PHOTOGRAPHY\", \"SPORTS\", \"TRAVEL_AND_LOCAL\", \"TOOLS\", \"TOOLS\", \"PERSONALIZATION\", \"PERSONALIZATION\", \"PRODUCTIVITY\", \"PRODUCTIVITY\", \"MAPS_AND_NAVIGATION\", \"GAME\", \"GAME\", \"PRODUCTIVITY\", \"TOOLS\", \"WEATHER\", \"FAMILY\", \"GAME\", \"FAMILY\", \"GAME\", \"TOOLS\", \"GAME\", \"FAMILY\", \"FAMILY\", \"HEALTH_AND_FITNESS\", \"FAMILY\", \"GAME\", \"FAMILY\", \"PERSONALIZATION\", \"BUSINESS\", \"FINANCE\", \"FAMILY\", \"PHOTOGRAPHY\", \"GAME\", \"FAMILY\", \"FAMILY\", \"FAMILY\", \"FAMILY\", \"GAME\", \"FAMILY\", \"GAME\", \"COMMUNICATION\", \"FAMILY\", \"ENTERTAINMENT\", \"COMMUNICATION\", \"GAME\", \"GAME\", \"GAME\", \"GAME\", \"GAME\", \"GAME\", \"PERSONALIZATION\", \"FAMILY\", \"PERSONALIZATION\", \"FAMILY\", \"EDUCATION\", \"WEATHER\", \"PHOTOGRAPHY\", \"PRODUCTIVITY\", \"GAME\", \"FAMILY\", \"FAMILY\", \"PRODUCTIVITY\", \"PERSONALIZATION\", \"GAME\", \"GAME\", \"FAMILY\", \"COMMUNICATION\", \"TOOLS\", \"GAME\", \"PERSONALIZATION\", \"PHOTOGRAPHY\", \"SPORTS\", \"GAME\", \"FAMILY\", \"GAME\", \"GAME\", \"FAMILY\", \"GAME\", \"FAMILY\", \"GAME\", \"LIFESTYLE\", \"FAMILY\", \"GAME\", \"FAMILY\"], \"x0\": \" \", \"xaxis\": \"x\", \"y\": [1.49, 0.99, 149.9, 24.900000000000002, 30.4, 14.9, 9.9, 34.900000000000006, 29.900000000000002, 9.9, 9.9, 49.900000000000006, 9.9, 29.900000000000002, 9.9, 9.9, 299.9, 199.89999999999998, 49.900000000000006, 49.900000000000006, 99.5, 149.5, 49.5, 49.5, 49.5, 88.0, 149.5, 149.5, 449.5, 87.5, 74.5, 74.5, 49.5, 49.5, 99.0, 99.0, 99.0, 99.0, 1299.0, 499.0, 249.00000000000003, 799.0, 199.0, 499.0, 99.0, 499.0, 399.0, 299.0, 388.0, 299.0, 299.0, 1299.0, 459.0, 99.0, 999.0, 399.0, 999.0, 149.0, 149.0, 149.0, 149.0, 99.0, 299.0, 199.0, 499.0, 149.0, 99.0, 349.0, 199.0, 1299.0, 99.0, 99.0, 99.0, 199.0, 499.0, 399.0, 99.0, 399.0, 1400.0, 149.0, 449.0, 199.0, 99.0, 699.0, 599.0, 399.0, 249.00000000000003, 99.0, 149.0, 3999.0, 302.0, 149.0, 149.0, 99.0, 99.0, 499.0, 149.0, 99.0, 649.0, 2995.0, 1495.0, 1995.0, 495.0, 8995.0, 495.0, 995.0, 745.0, 745.0, 1995.0, 745.0, 1495.0, 2495.0, 4495.0, 495.0, 495.0, 995.0, 1245.0, 2495.0, 495.0, 995.0, 995.0, 495.0, 1495.0, 2245.0, 1745.0, 1000.0, 745.0, 1495.0, 1995.0, 1995.0, 7995.0, 1995.0, 1495.0, 745.0, 495.0, 9990.0, 2990.0, 4990.0, 9990.0, 2490.0, 10990.0, 2990.0, 990.0, 1990.0, 1990.0, 990.0, 3990.0, 1610.0, 990.0, 1990.0, 2490.0, 4290.0, 990.0, 3990.0, 990.0, 2990.0, 1490.0, 15460.0, 1990.0, 2990.0, 4990.0, 7490.0, 3990.0, 5490.0, 2490.0, 2990.0, 1990.0, 4990.0, 4990.0, 19990.0, 2990.0, 1990.0, 9990.0, 990.0, 1990.0, 2990.0, 1700.0, 990.0, 7990.0, 29990.0, 2990.0, 7990.0, 990.0, 1490.0, 2990.0, 4990.0, 2490.0, 79990.0, 2560.0, 3990.0, 19990.0, 2490.0, 990.0, 990.0, 8490.0, 6990.0, 2990.0, 990.0, 2990.0, 1500.0, 4990.0, 1990.0, 4840.0, 14990.0, 29990.0, 4990.0, 4990.0, 3990.0, 19400.0, 33990.0, 1490.0, 2990.0, 2990.0, 990.0, 990.0, 1990.0, 3080.0, 5990.0, 3990.0, 2990.0, 990.0, 1990.0, 5990.0, 2490.0, 990.0, 990.0, 990.0, 6990.0, 990.0, 16990.0, 990.0, 3490.0, 1700.0, 3990.0, 37990.0, 9990.0, 6990.0, 1990.0, 3990.0, 10000.0, 1290.0, 3990.0, 4490.0, 2990.0, 2490.0, 990.0, 4990.0, 990.0, 3990.0, 1990.0, 7490.0, 990.0, 10990.0, 5990.0, 990.0, 1490.0, 14990.0, 4990.0, 4990.0, 990.0, 4990.0, 3990.0, 24950.0, 4950.0, 22450.0, 29950.0, 19950.0, 9950.0, 19950.0, 24950.0, 9950.0, 19950.0, 4950.0, 14950.000000000002, 7450.0, 12450.000000000002, 19950.0, 19950.0, 19950.0, 19950.0, 4950.0, 9950.0, 14950.000000000002, 4950.0, 14950.000000000002, 4950.0, 9950.0, 34950.0, 9950.0, 4950.0, 7450.0, 14950.000000000002, 29950.0, 14950.000000000002, 14950.000000000002, 23000.0, 9950.0, 74950.0, 4950.0, 4950.0, 4950.0, 14950.000000000002, 14950.000000000002, 9950.0, 14950.000000000002, 24950.0, 5000.0, 74950.0, 12450.000000000002, 4950.0, 24950.0, 4950.0, 7450.0, 19950.0, 14950.000000000002, 24950.0, 19950.0, 24950.0, 24950.0, 24950.0, 24950.0, 24950.0, 5000.0, 34950.0, 29900.000000000004, 99900.0, 249899.99999999997, 29900.000000000004, 39900.0, 9900.0, 39900.0, 39900.0, 19900.0, 9900.0, 79900.0, 49900.0, 29900.000000000004, 100000.0, 29900.000000000004, 29900.000000000004, 29900.000000000004, 149900.0, 79900.0, 129900.0, 9900.0, 44900.0, 169899.99999999997, 9900.0, 9900.0, 49900.0, 39900.0, 34900.0, 24900.000000000004, 29900.000000000004, 14900.0, 69900.0, 19900.0, 25000.0, 39000.0, 29500.0, 9900.0, 14900.0, 19900.0, 79900.0, 29900.000000000004, 29900.000000000004, 49900.0, 19900.0, 9900.0, 29900.000000000004, 29900.000000000004, 19900.0, 19700.0, 19900.0, 99900.0, 29900.000000000004, 54900.0, 32800.0, 9900.0, 29900.000000000004, 49900.0, 29900.000000000004, 149900.0, 29900.000000000004, 29900.000000000004, 29900.000000000004, 179899.99999999997, 9900.0, 69900.0, 49900.0, 39900.0, 29900.000000000004, 29900.000000000004, 49900.0, 12000.0, 29900.000000000004, 19900.0, 49900.0, 49900.0, 9900.0, 59900.0, 25900.0, 29900.000000000004, 19900.0, 39900.0, 49900.0, 39900.0, 29900.000000000004, 49900.0, 29900.000000000004, 49900.0, 29900.000000000004, 9900.0, 39900.0, 24900.000000000004, 9900.0, 189899.99999999997, 19900.0, 19900.0, 15900.0, 39900.0, 119900.0, 19900.0, 19900.0, 29900.000000000004, 9900.0, 99900.0, 39900.0, 9900.0, 29900.000000000004, 19900.0, 49900.0, 19900.0, 29900.000000000004, 9900.0, 19900.0, 49500.0, 49500.0, 1499500.0, 149500.0, 99500.0, 149500.0, 99500.0, 99500.0, 149500.0, 249500.0, 199500.0, 99500.0, 199500.0, 149500.0, 299500.0, 999499.9999999999, 499500.0, 149500.0, 124500.00000000001, 74500.0, 49500.0, 149500.0, 149500.0, 99500.0, 599500.0, 249500.0, 199500.0, 249500.0, 149500.0, 149500.0, 238499.99999999997, 149500.0, 149500.0, 249500.0, 249500.0, 249500.0, 99500.0, 124500.00000000001, 249500.0, 399000.0, 399000.0, 2499000.0, 499000.0, 99000.0, 900000.0, 99000.0, 299000.0, 299000.0, 299000.0, 999000.0, 299000.0, 149000.0, 1499000.0, 499000.0, 799000.0, 199000.0, 99000.0, 99000.0, 449000.0, 399000.0, 399000.0, 499000.0, 299000.0, 299000.0, 299000.0, 299000.0, 399000.0, 499000.0, 499000.0, 395000.0, 899000.0, 899000.0, 249000.00000000003, 399000.0, 449000.0, 199000.0, 599000.0, 499000.0, 1199000.0, 499000.0, 999000.0, 449000.0, 349000.0, 299000.0, 499000.0, 499000.0, 499000.0, 199000.0, 449000.0, 399000.0, 299000.0, 1399000.0, 349000.0, 999000.0, 499000.0, 299000.0, 299000.0, 499000.0, 299000.0, 299000.0, 299000.0, 299000.0, 299000.0, 999000.0, 99000.0, 199000.0, 299000.0, 149000.0, 699000.0, 290000.0, 299000.0, 299000.0, 399000.0, 299000.0, 499000.0, 299000.0, 299000.0, 199000.0, 599000.0, 499000.0, 1495000.0, 1245000.0, 495000.0, 1995000.0, 2995000.0, 1495000.0, 1495000.0, 995000.0, 1495000.0, 2495000.0, 995000.0, 2490000.0, 990000.0, 4990000.0, 2990000.0, 2990000.0, 2990000.0, 6990000.0, 990000.0, 5990000.0, 1990000.0, 2990000.0, 990000.0, 990000.0, 990000.0, 990000.0, 990000.0, 2990000.0, 990000.0, 5990000.0, 1990000.0, 9900000.0, 69900000.0], \"y0\": \" \", \"yaxis\": \"y\"}],\n",
              "                        {\"boxmode\": \"group\", \"legend\": {\"tracegroupgap\": 0}, \"template\": {\"data\": {\"bar\": [{\"error_x\": {\"color\": \"#2a3f5f\"}, \"error_y\": {\"color\": \"#2a3f5f\"}, \"marker\": {\"line\": {\"color\": \"#E5ECF6\", \"width\": 0.5}}, \"type\": \"bar\"}], \"barpolar\": [{\"marker\": {\"line\": {\"color\": \"#E5ECF6\", \"width\": 0.5}}, \"type\": \"barpolar\"}], \"carpet\": [{\"aaxis\": {\"endlinecolor\": \"#2a3f5f\", \"gridcolor\": \"white\", \"linecolor\": \"white\", \"minorgridcolor\": \"white\", \"startlinecolor\": \"#2a3f5f\"}, \"baxis\": {\"endlinecolor\": \"#2a3f5f\", \"gridcolor\": \"white\", \"linecolor\": \"white\", \"minorgridcolor\": \"white\", \"startlinecolor\": \"#2a3f5f\"}, \"type\": \"carpet\"}], \"choropleth\": [{\"colorbar\": {\"outlinewidth\": 0, \"ticks\": \"\"}, \"type\": \"choropleth\"}], \"contour\": [{\"colorbar\": {\"outlinewidth\": 0, \"ticks\": \"\"}, \"colorscale\": [[0.0, \"#0d0887\"], [0.1111111111111111, \"#46039f\"], [0.2222222222222222, \"#7201a8\"], [0.3333333333333333, \"#9c179e\"], [0.4444444444444444, \"#bd3786\"], [0.5555555555555556, \"#d8576b\"], [0.6666666666666666, \"#ed7953\"], [0.7777777777777778, \"#fb9f3a\"], [0.8888888888888888, \"#fdca26\"], [1.0, \"#f0f921\"]], \"type\": \"contour\"}], \"contourcarpet\": [{\"colorbar\": {\"outlinewidth\": 0, \"ticks\": \"\"}, \"type\": \"contourcarpet\"}], \"heatmap\": [{\"colorbar\": {\"outlinewidth\": 0, \"ticks\": \"\"}, \"colorscale\": [[0.0, \"#0d0887\"], [0.1111111111111111, \"#46039f\"], [0.2222222222222222, \"#7201a8\"], [0.3333333333333333, \"#9c179e\"], [0.4444444444444444, \"#bd3786\"], [0.5555555555555556, \"#d8576b\"], [0.6666666666666666, \"#ed7953\"], [0.7777777777777778, \"#fb9f3a\"], [0.8888888888888888, \"#fdca26\"], [1.0, \"#f0f921\"]], \"type\": \"heatmap\"}], \"heatmapgl\": [{\"colorbar\": {\"outlinewidth\": 0, \"ticks\": \"\"}, \"colorscale\": [[0.0, \"#0d0887\"], [0.1111111111111111, \"#46039f\"], [0.2222222222222222, \"#7201a8\"], [0.3333333333333333, \"#9c179e\"], [0.4444444444444444, \"#bd3786\"], [0.5555555555555556, \"#d8576b\"], [0.6666666666666666, \"#ed7953\"], [0.7777777777777778, \"#fb9f3a\"], [0.8888888888888888, \"#fdca26\"], [1.0, \"#f0f921\"]], \"type\": \"heatmapgl\"}], \"histogram\": [{\"marker\": {\"colorbar\": {\"outlinewidth\": 0, \"ticks\": \"\"}}, \"type\": \"histogram\"}], \"histogram2d\": [{\"colorbar\": {\"outlinewidth\": 0, \"ticks\": \"\"}, \"colorscale\": [[0.0, \"#0d0887\"], [0.1111111111111111, \"#46039f\"], [0.2222222222222222, \"#7201a8\"], [0.3333333333333333, \"#9c179e\"], [0.4444444444444444, \"#bd3786\"], [0.5555555555555556, \"#d8576b\"], [0.6666666666666666, \"#ed7953\"], [0.7777777777777778, \"#fb9f3a\"], [0.8888888888888888, \"#fdca26\"], [1.0, \"#f0f921\"]], \"type\": \"histogram2d\"}], \"histogram2dcontour\": [{\"colorbar\": {\"outlinewidth\": 0, \"ticks\": \"\"}, \"colorscale\": [[0.0, \"#0d0887\"], [0.1111111111111111, \"#46039f\"], [0.2222222222222222, \"#7201a8\"], [0.3333333333333333, \"#9c179e\"], [0.4444444444444444, \"#bd3786\"], [0.5555555555555556, \"#d8576b\"], [0.6666666666666666, \"#ed7953\"], [0.7777777777777778, \"#fb9f3a\"], [0.8888888888888888, \"#fdca26\"], [1.0, \"#f0f921\"]], \"type\": \"histogram2dcontour\"}], \"mesh3d\": [{\"colorbar\": {\"outlinewidth\": 0, \"ticks\": \"\"}, \"type\": \"mesh3d\"}], \"parcoords\": [{\"line\": {\"colorbar\": {\"outlinewidth\": 0, \"ticks\": \"\"}}, \"type\": \"parcoords\"}], \"pie\": [{\"automargin\": true, \"type\": \"pie\"}], \"scatter\": [{\"marker\": {\"colorbar\": {\"outlinewidth\": 0, \"ticks\": \"\"}}, \"type\": \"scatter\"}], \"scatter3d\": [{\"line\": {\"colorbar\": {\"outlinewidth\": 0, \"ticks\": \"\"}}, \"marker\": {\"colorbar\": {\"outlinewidth\": 0, \"ticks\": \"\"}}, \"type\": \"scatter3d\"}], \"scattercarpet\": [{\"marker\": {\"colorbar\": {\"outlinewidth\": 0, \"ticks\": \"\"}}, \"type\": \"scattercarpet\"}], \"scattergeo\": [{\"marker\": {\"colorbar\": {\"outlinewidth\": 0, \"ticks\": \"\"}}, \"type\": \"scattergeo\"}], \"scattergl\": [{\"marker\": {\"colorbar\": {\"outlinewidth\": 0, \"ticks\": \"\"}}, \"type\": \"scattergl\"}], \"scattermapbox\": [{\"marker\": {\"colorbar\": {\"outlinewidth\": 0, \"ticks\": \"\"}}, \"type\": \"scattermapbox\"}], \"scatterpolar\": [{\"marker\": {\"colorbar\": {\"outlinewidth\": 0, \"ticks\": \"\"}}, \"type\": \"scatterpolar\"}], \"scatterpolargl\": [{\"marker\": {\"colorbar\": {\"outlinewidth\": 0, \"ticks\": \"\"}}, \"type\": \"scatterpolargl\"}], \"scatterternary\": [{\"marker\": {\"colorbar\": {\"outlinewidth\": 0, \"ticks\": \"\"}}, \"type\": \"scatterternary\"}], \"surface\": [{\"colorbar\": {\"outlinewidth\": 0, \"ticks\": \"\"}, \"colorscale\": [[0.0, \"#0d0887\"], [0.1111111111111111, \"#46039f\"], [0.2222222222222222, \"#7201a8\"], [0.3333333333333333, \"#9c179e\"], [0.4444444444444444, \"#bd3786\"], [0.5555555555555556, \"#d8576b\"], [0.6666666666666666, \"#ed7953\"], [0.7777777777777778, \"#fb9f3a\"], [0.8888888888888888, \"#fdca26\"], [1.0, \"#f0f921\"]], \"type\": \"surface\"}], \"table\": [{\"cells\": {\"fill\": {\"color\": \"#EBF0F8\"}, \"line\": {\"color\": \"white\"}}, \"header\": {\"fill\": {\"color\": \"#C8D4E3\"}, \"line\": {\"color\": \"white\"}}, \"type\": \"table\"}]}, \"layout\": {\"annotationdefaults\": {\"arrowcolor\": \"#2a3f5f\", \"arrowhead\": 0, \"arrowwidth\": 1}, \"coloraxis\": {\"colorbar\": {\"outlinewidth\": 0, \"ticks\": \"\"}}, \"colorscale\": {\"diverging\": [[0, \"#8e0152\"], [0.1, \"#c51b7d\"], [0.2, \"#de77ae\"], [0.3, \"#f1b6da\"], [0.4, \"#fde0ef\"], [0.5, \"#f7f7f7\"], [0.6, \"#e6f5d0\"], [0.7, \"#b8e186\"], [0.8, \"#7fbc41\"], [0.9, \"#4d9221\"], [1, \"#276419\"]], \"sequential\": [[0.0, \"#0d0887\"], [0.1111111111111111, \"#46039f\"], [0.2222222222222222, \"#7201a8\"], [0.3333333333333333, \"#9c179e\"], [0.4444444444444444, \"#bd3786\"], [0.5555555555555556, \"#d8576b\"], [0.6666666666666666, \"#ed7953\"], [0.7777777777777778, \"#fb9f3a\"], [0.8888888888888888, \"#fdca26\"], [1.0, \"#f0f921\"]], \"sequentialminus\": [[0.0, \"#0d0887\"], [0.1111111111111111, \"#46039f\"], [0.2222222222222222, \"#7201a8\"], [0.3333333333333333, \"#9c179e\"], [0.4444444444444444, \"#bd3786\"], [0.5555555555555556, \"#d8576b\"], [0.6666666666666666, \"#ed7953\"], [0.7777777777777778, \"#fb9f3a\"], [0.8888888888888888, \"#fdca26\"], [1.0, \"#f0f921\"]]}, \"colorway\": [\"#636efa\", \"#EF553B\", \"#00cc96\", \"#ab63fa\", \"#FFA15A\", \"#19d3f3\", \"#FF6692\", \"#B6E880\", \"#FF97FF\", \"#FECB52\"], \"font\": {\"color\": \"#2a3f5f\"}, \"geo\": {\"bgcolor\": \"white\", \"lakecolor\": \"white\", \"landcolor\": \"#E5ECF6\", \"showlakes\": true, \"showland\": true, \"subunitcolor\": \"white\"}, \"hoverlabel\": {\"align\": \"left\"}, \"hovermode\": \"closest\", \"mapbox\": {\"style\": \"light\"}, \"paper_bgcolor\": \"white\", \"plot_bgcolor\": \"#E5ECF6\", \"polar\": {\"angularaxis\": {\"gridcolor\": \"white\", \"linecolor\": \"white\", \"ticks\": \"\"}, \"bgcolor\": \"#E5ECF6\", \"radialaxis\": {\"gridcolor\": \"white\", \"linecolor\": \"white\", \"ticks\": \"\"}}, \"scene\": {\"xaxis\": {\"backgroundcolor\": \"#E5ECF6\", \"gridcolor\": \"white\", \"gridwidth\": 2, \"linecolor\": \"white\", \"showbackground\": true, \"ticks\": \"\", \"zerolinecolor\": \"white\"}, \"yaxis\": {\"backgroundcolor\": \"#E5ECF6\", \"gridcolor\": \"white\", \"gridwidth\": 2, \"linecolor\": \"white\", \"showbackground\": true, \"ticks\": \"\", \"zerolinecolor\": \"white\"}, \"zaxis\": {\"backgroundcolor\": \"#E5ECF6\", \"gridcolor\": \"white\", \"gridwidth\": 2, \"linecolor\": \"white\", \"showbackground\": true, \"ticks\": \"\", \"zerolinecolor\": \"white\"}}, \"shapedefaults\": {\"line\": {\"color\": \"#2a3f5f\"}}, \"ternary\": {\"aaxis\": {\"gridcolor\": \"white\", \"linecolor\": \"white\", \"ticks\": \"\"}, \"baxis\": {\"gridcolor\": \"white\", \"linecolor\": \"white\", \"ticks\": \"\"}, \"bgcolor\": \"#E5ECF6\", \"caxis\": {\"gridcolor\": \"white\", \"linecolor\": \"white\", \"ticks\": \"\"}}, \"title\": {\"x\": 0.05}, \"xaxis\": {\"automargin\": true, \"gridcolor\": \"white\", \"linecolor\": \"white\", \"ticks\": \"\", \"title\": {\"standoff\": 15}, \"zerolinecolor\": \"white\", \"zerolinewidth\": 2}, \"yaxis\": {\"automargin\": true, \"gridcolor\": \"white\", \"linecolor\": \"white\", \"ticks\": \"\", \"title\": {\"standoff\": 15}, \"zerolinecolor\": \"white\", \"zerolinewidth\": 2}}}, \"title\": {\"text\": \"How Much Can Paid Apps Earn?\"}, \"xaxis\": {\"anchor\": \"y\", \"categoryorder\": \"min ascending\", \"domain\": [0.0, 1.0], \"title\": {\"text\": \"Category\"}}, \"yaxis\": {\"anchor\": \"x\", \"domain\": [0.0, 1.0], \"title\": {\"text\": \"Paid App Ballpark Revenue\"}, \"type\": \"log\"}},\n",
              "                        {\"responsive\": true}\n",
              "                    ).then(function(){\n",
              "                            \n",
              "var gd = document.getElementById('30bdc694-0074-4461-a798-22d836d09a9c');\n",
              "var x = new MutationObserver(function (mutations, observer) {{\n",
              "        var display = window.getComputedStyle(gd).display;\n",
              "        if (!display || display === 'none') {{\n",
              "            console.log([gd, 'removed!']);\n",
              "            Plotly.purge(gd);\n",
              "            observer.disconnect();\n",
              "        }}\n",
              "}});\n",
              "\n",
              "// Listen for the removal of the full notebook cells\n",
              "var notebookContainer = gd.closest('#notebook-container');\n",
              "if (notebookContainer) {{\n",
              "    x.observe(notebookContainer, {childList: true});\n",
              "}}\n",
              "\n",
              "// Listen for the clearing of the current output cell\n",
              "var outputEl = gd.closest('.output');\n",
              "if (outputEl) {{\n",
              "    x.observe(outputEl, {childList: true});\n",
              "}}\n",
              "\n",
              "                        })\n",
              "                };\n",
              "                \n",
              "            </script>\n",
              "        </div>\n",
              "</body>\n",
              "</html>"
            ]
          },
          "metadata": {}
        }
      ]
    },
    {
      "cell_type": "markdown",
      "metadata": {
        "id": "uT32ylj4WS9B"
      },
      "source": [
        "# How Much Can You Charge? Examine Paid App Pricing Strategies by Category\n",
        "\n",
        "**Challenge**: What is the median price price for a paid app? Then compare pricing by category by creating another box plot. But this time examine the prices (instead of the revenue estimates) of the paid apps. I recommend using `{categoryorder':'max descending'}` to sort the categories."
      ]
    },
    {
      "cell_type": "code",
      "metadata": {
        "id": "AdBr0TUhouqs",
        "colab": {
          "base_uri": "https://localhost:8080/"
        },
        "outputId": "3f8bc7dc-d479-4b0e-b326-0981cbd94def"
      },
      "source": [
        "df_paid_apps.Price.median()"
      ],
      "execution_count": 64,
      "outputs": [
        {
          "output_type": "execute_result",
          "data": {
            "text/plain": [
              "2.99"
            ]
          },
          "metadata": {},
          "execution_count": 64
        }
      ]
    },
    {
      "cell_type": "code",
      "metadata": {
        "id": "bJnABRw3ovwr",
        "colab": {
          "base_uri": "https://localhost:8080/",
          "height": 542
        },
        "outputId": "04db7166-e9a8-4423-b4d0-d9769e683f8c"
      },
      "source": [
        "box = px.box(df_paid_apps,\n",
        "              x='Category',\n",
        "              y=\"Price\",\n",
        "              title='Price per Category')\n",
        "  \n",
        "box.update_layout(xaxis_title='Category',\n",
        "                  yaxis_title='Paid App Price',\n",
        "                  xaxis={'categoryorder':'max descending'},\n",
        "                  yaxis=dict(type='log'))\n",
        "  \n",
        "box.show()"
      ],
      "execution_count": 65,
      "outputs": [
        {
          "output_type": "display_data",
          "data": {
            "text/html": [
              "<html>\n",
              "<head><meta charset=\"utf-8\" /></head>\n",
              "<body>\n",
              "    <div>\n",
              "            <script src=\"https://cdnjs.cloudflare.com/ajax/libs/mathjax/2.7.5/MathJax.js?config=TeX-AMS-MML_SVG\"></script><script type=\"text/javascript\">if (window.MathJax) {MathJax.Hub.Config({SVG: {font: \"STIX-Web\"}});}</script>\n",
              "                <script type=\"text/javascript\">window.PlotlyConfig = {MathJaxConfig: 'local'};</script>\n",
              "        <script src=\"https://cdn.plot.ly/plotly-latest.min.js\"></script>    \n",
              "            <div id=\"3ed139df-d649-4089-bdd5-2e259183c8da\" class=\"plotly-graph-div\" style=\"height:525px; width:100%;\"></div>\n",
              "            <script type=\"text/javascript\">\n",
              "                \n",
              "                    window.PLOTLYENV=window.PLOTLYENV || {};\n",
              "                    \n",
              "                if (document.getElementById(\"3ed139df-d649-4089-bdd5-2e259183c8da\")) {\n",
              "                    Plotly.newPlot(\n",
              "                        '3ed139df-d649-4089-bdd5-2e259183c8da',\n",
              "                        [{\"alignmentgroup\": \"True\", \"hoverlabel\": {\"namelength\": 0}, \"hovertemplate\": \"Category=%{x}<br>Price=%{y}\", \"legendgroup\": \"\", \"marker\": {\"color\": \"#636efa\"}, \"name\": \"\", \"notched\": false, \"offsetgroup\": \"\", \"orientation\": \"v\", \"showlegend\": false, \"type\": \"box\", \"x\": [\"GAME\", \"GAME\", \"FAMILY\", \"BUSINESS\", \"LIFESTYLE\", \"FAMILY\", \"PERSONALIZATION\", \"PHOTOGRAPHY\", \"FAMILY\", \"GAME\", \"PRODUCTIVITY\", \"PHOTOGRAPHY\", \"FAMILY\", \"TOOLS\", \"TOOLS\", \"PERSONALIZATION\", \"FAMILY\", \"FAMILY\", \"FAMILY\", \"FAMILY\", \"GAME\", \"TOOLS\", \"PERSONALIZATION\", \"PERSONALIZATION\", \"PERSONALIZATION\", \"TOOLS\", \"FAMILY\", \"FAMILY\", \"BUSINESS\", \"BOOKS_AND_REFERENCE\", \"FAMILY\", \"FAMILY\", \"FAMILY\", \"PERSONALIZATION\", \"PERSONALIZATION\", \"PERSONALIZATION\", \"GAME\", \"PERSONALIZATION\", \"FAMILY\", \"FINANCE\", \"SHOPPING\", \"DATING\", \"PERSONALIZATION\", \"GAME\", \"FAMILY\", \"PRODUCTIVITY\", \"FAMILY\", \"MEDICAL\", \"SPORTS\", \"MEDICAL\", \"PRODUCTIVITY\", \"BUSINESS\", \"PARENTING\", \"LIFESTYLE\", \"FAMILY\", \"TOOLS\", \"MAPS_AND_NAVIGATION\", \"COMMUNICATION\", \"PERSONALIZATION\", \"COMMUNICATION\", \"FAMILY\", \"PERSONALIZATION\", \"FAMILY\", \"FAMILY\", \"FAMILY\", \"TOOLS\", \"FAMILY\", \"SPORTS\", \"FAMILY\", \"MEDICAL\", \"FAMILY\", \"FAMILY\", \"GAME\", \"TOOLS\", \"FAMILY\", \"FAMILY\", \"PERSONALIZATION\", \"BOOKS_AND_REFERENCE\", \"GAME\", \"PERSONALIZATION\", \"GAME\", \"GAME\", \"TOOLS\", \"MEDICAL\", \"TOOLS\", \"TOOLS\", \"PERSONALIZATION\", \"GAME\", \"COMMUNICATION\", \"MEDICAL\", \"SPORTS\", \"PERSONALIZATION\", \"COMMUNICATION\", \"COMMUNICATION\", \"PERSONALIZATION\", \"TOOLS\", \"PERSONALIZATION\", \"PERSONALIZATION\", \"PRODUCTIVITY\", \"MEDICAL\", \"FAMILY\", \"TOOLS\", \"TOOLS\", \"BUSINESS\", \"COMMUNICATION\", \"FAMILY\", \"PERSONALIZATION\", \"PHOTOGRAPHY\", \"MEDICAL\", \"PERSONALIZATION\", \"MEDICAL\", \"COMMUNICATION\", \"PRODUCTIVITY\", \"BOOKS_AND_REFERENCE\", \"TOOLS\", \"WEATHER\", \"FAMILY\", \"FAMILY\", \"MEDICAL\", \"FAMILY\", \"TOOLS\", \"TOOLS\", \"SPORTS\", \"GAME\", \"MEDICAL\", \"PERSONALIZATION\", \"PERSONALIZATION\", \"NEWS_AND_MAGAZINES\", \"COMMUNICATION\", \"TOOLS\", \"MEDICAL\", \"FINANCE\", \"FAMILY\", \"PERSONALIZATION\", \"PERSONALIZATION\", \"MEDICAL\", \"FAMILY\", \"MEDICAL\", \"MEDICAL\", \"FAMILY\", \"FAMILY\", \"FAMILY\", \"GAME\", \"PERSONALIZATION\", \"TOOLS\", \"PERSONALIZATION\", \"GAME\", \"GAME\", \"GAME\", \"FAMILY\", \"FAMILY\", \"PRODUCTIVITY\", \"COMMUNICATION\", \"SPORTS\", \"SPORTS\", \"FAMILY\", \"PERSONALIZATION\", \"MEDICAL\", \"SPORTS\", \"COMMUNICATION\", \"LIFESTYLE\", \"FAMILY\", \"MEDICAL\", \"MEDICAL\", \"TOOLS\", \"PRODUCTIVITY\", \"FINANCE\", \"HEALTH_AND_FITNESS\", \"MEDICAL\", \"PHOTOGRAPHY\", \"FAMILY\", \"FAMILY\", \"PHOTOGRAPHY\", \"SPORTS\", \"ART_AND_DESIGN\", \"FAMILY\", \"PERSONALIZATION\", \"PRODUCTIVITY\", \"HEALTH_AND_FITNESS\", \"MEDICAL\", \"TOOLS\", \"PRODUCTIVITY\", \"GAME\", \"TOOLS\", \"MEDICAL\", \"LIFESTYLE\", \"GAME\", \"MEDICAL\", \"TRAVEL_AND_LOCAL\", \"BUSINESS\", \"MEDICAL\", \"COMMUNICATION\", \"PERSONALIZATION\", \"GAME\", \"TRAVEL_AND_LOCAL\", \"GAME\", \"SPORTS\", \"MEDICAL\", \"FAMILY\", \"MEDICAL\", \"TOOLS\", \"BOOKS_AND_REFERENCE\", \"FAMILY\", \"MEDICAL\", \"MEDICAL\", \"GAME\", \"BUSINESS\", \"TOOLS\", \"FAMILY\", \"MEDICAL\", \"PERSONALIZATION\", \"PHOTOGRAPHY\", \"SPORTS\", \"MAPS_AND_NAVIGATION\", \"PERSONALIZATION\", \"GAME\", \"BOOKS_AND_REFERENCE\", \"EDUCATION\", \"FAMILY\", \"FAMILY\", \"SOCIAL\", \"MEDICAL\", \"TOOLS\", \"SPORTS\", \"FAMILY\", \"FAMILY\", \"TOOLS\", \"WEATHER\", \"VIDEO_PLAYERS\", \"MEDICAL\", \"TOOLS\", \"GAME\", \"PERSONALIZATION\", \"MEDICAL\", \"LIFESTYLE\", \"MEDICAL\", \"DATING\", \"HEALTH_AND_FITNESS\", \"MEDICAL\", \"FAMILY\", \"PRODUCTIVITY\", \"EDUCATION\", \"SPORTS\", \"FAMILY\", \"PERSONALIZATION\", \"PERSONALIZATION\", \"FAMILY\", \"GAME\", \"FINANCE\", \"GAME\", \"MEDICAL\", \"FAMILY\", \"MEDICAL\", \"MEDICAL\", \"TOOLS\", \"TOOLS\", \"TOOLS\", \"TOOLS\", \"PERSONALIZATION\", \"PERSONALIZATION\", \"PERSONALIZATION\", \"PERSONALIZATION\", \"FAMILY\", \"GAME\", \"FAMILY\", \"FAMILY\", \"MEDICAL\", \"SPORTS\", \"LIFESTYLE\", \"FAMILY\", \"FAMILY\", \"TRAVEL_AND_LOCAL\", \"PERSONALIZATION\", \"BOOKS_AND_REFERENCE\", \"FAMILY\", \"MEDICAL\", \"MEDICAL\", \"MEDICAL\", \"MEDICAL\", \"PRODUCTIVITY\", \"SOCIAL\", \"SPORTS\", \"TRAVEL_AND_LOCAL\", \"TOOLS\", \"FAMILY\", \"NEWS_AND_MAGAZINES\", \"ART_AND_DESIGN\", \"GAME\", \"PERSONALIZATION\", \"LIFESTYLE\", \"PERSONALIZATION\", \"LIFESTYLE\", \"MEDICAL\", \"FAMILY\", \"FAMILY\", \"BOOKS_AND_REFERENCE\", \"LIFESTYLE\", \"MEDICAL\", \"MEDICAL\", \"TOOLS\", \"SPORTS\", \"MEDICAL\", \"PHOTOGRAPHY\", \"GAME\", \"SPORTS\", \"FAMILY\", \"SPORTS\", \"TOOLS\", \"LIFESTYLE\", \"FAMILY\", \"COMMUNICATION\", \"COMMUNICATION\", \"COMMUNICATION\", \"FAMILY\", \"FAMILY\", \"TOOLS\", \"MEDICAL\", \"TOOLS\", \"TOOLS\", \"TOOLS\", \"TOOLS\", \"TOOLS\", \"TOOLS\", \"PERSONALIZATION\", \"FAMILY\", \"MEDICAL\", \"MEDICAL\", \"MEDICAL\", \"HEALTH_AND_FITNESS\", \"GAME\", \"FAMILY\", \"FAMILY\", \"PHOTOGRAPHY\", \"PERSONALIZATION\", \"LIFESTYLE\", \"GAME\", \"FAMILY\", \"MEDICAL\", \"FAMILY\", \"BUSINESS\", \"GAME\", \"FAMILY\", \"MEDICAL\", \"FAMILY\", \"MAPS_AND_NAVIGATION\", \"BOOKS_AND_REFERENCE\", \"GAME\", \"PERSONALIZATION\", \"PERSONALIZATION\", \"COMMUNICATION\", \"DATING\", \"FOOD_AND_DRINK\", \"LIFESTYLE\", \"FAMILY\", \"FAMILY\", \"MEDICAL\", \"TRAVEL_AND_LOCAL\", \"TOOLS\", \"TOOLS\", \"TOOLS\", \"PERSONALIZATION\", \"VIDEO_PLAYERS\", \"VIDEO_PLAYERS\", \"GAME\", \"FAMILY\", \"FAMILY\", \"FAMILY\", \"FAMILY\", \"PERSONALIZATION\", \"WEATHER\", \"TOOLS\", \"PERSONALIZATION\", \"TOOLS\", \"ART_AND_DESIGN\", \"PERSONALIZATION\", \"PERSONALIZATION\", \"MEDICAL\", \"TOOLS\", \"FAMILY\", \"FINANCE\", \"TOOLS\", \"GAME\", \"FAMILY\", \"FAMILY\", \"TOOLS\", \"TOOLS\", \"GAME\", \"TOOLS\", \"HEALTH_AND_FITNESS\", \"GAME\", \"MEDICAL\", \"COMMUNICATION\", \"FAMILY\", \"GAME\", \"FAMILY\", \"MEDICAL\", \"PERSONALIZATION\", \"FAMILY\", \"SPORTS\", \"FAMILY\", \"TRAVEL_AND_LOCAL\", \"TOOLS\", \"SHOPPING\", \"TOOLS\", \"FAMILY\", \"FAMILY\", \"FAMILY\", \"FAMILY\", \"FAMILY\", \"FAMILY\", \"GAME\", \"MAPS_AND_NAVIGATION\", \"PERSONALIZATION\", \"GAME\", \"FAMILY\", \"FAMILY\", \"FINANCE\", \"TOOLS\", \"TOOLS\", \"FAMILY\", \"FAMILY\", \"MEDICAL\", \"GAME\", \"FAMILY\", \"COMMUNICATION\", \"COMMUNICATION\", \"FAMILY\", \"FAMILY\", \"MEDICAL\", \"MEDICAL\", \"MEDICAL\", \"PHOTOGRAPHY\", \"TOOLS\", \"TOOLS\", \"PERSONALIZATION\", \"PERSONALIZATION\", \"FAMILY\", \"GAME\", \"SPORTS\", \"MEDICAL\", \"GAME\", \"FAMILY\", \"AUTO_AND_VEHICLES\", \"HEALTH_AND_FITNESS\", \"FAMILY\", \"FAMILY\", \"MEDICAL\", \"PHOTOGRAPHY\", \"SPORTS\", \"TOOLS\", \"VIDEO_PLAYERS\", \"FAMILY\", \"FAMILY\", \"PRODUCTIVITY\", \"PERSONALIZATION\", \"PRODUCTIVITY\", \"PERSONALIZATION\", \"FAMILY\", \"FAMILY\", \"GAME\", \"MEDICAL\", \"FAMILY\", \"FAMILY\", \"FOOD_AND_DRINK\", \"FAMILY\", \"FAMILY\", \"FAMILY\", \"TOOLS\", \"HEALTH_AND_FITNESS\", \"PARENTING\", \"FAMILY\", \"GAME\", \"HEALTH_AND_FITNESS\", \"TRAVEL_AND_LOCAL\", \"GAME\", \"WEATHER\", \"FAMILY\", \"MEDICAL\", \"GAME\", \"GAME\", \"MEDICAL\", \"PERSONALIZATION\", \"FAMILY\", \"FAMILY\", \"FAMILY\", \"FAMILY\", \"GAME\", \"PHOTOGRAPHY\", \"FAMILY\", \"BUSINESS\", \"FAMILY\", \"GAME\", \"FAMILY\", \"FAMILY\", \"WEATHER\", \"EDUCATION\", \"COMMUNICATION\", \"ENTERTAINMENT\", \"HEALTH_AND_FITNESS\", \"HEALTH_AND_FITNESS\", \"GAME\", \"GAME\", \"FAMILY\", \"FAMILY\", \"FAMILY\", \"PHOTOGRAPHY\", \"SPORTS\", \"TRAVEL_AND_LOCAL\", \"TOOLS\", \"TOOLS\", \"PERSONALIZATION\", \"PERSONALIZATION\", \"PRODUCTIVITY\", \"PRODUCTIVITY\", \"MAPS_AND_NAVIGATION\", \"GAME\", \"GAME\", \"PRODUCTIVITY\", \"TOOLS\", \"WEATHER\", \"FAMILY\", \"GAME\", \"FAMILY\", \"GAME\", \"TOOLS\", \"GAME\", \"FAMILY\", \"FAMILY\", \"HEALTH_AND_FITNESS\", \"FAMILY\", \"GAME\", \"FAMILY\", \"PERSONALIZATION\", \"BUSINESS\", \"FINANCE\", \"FAMILY\", \"PHOTOGRAPHY\", \"GAME\", \"FAMILY\", \"FAMILY\", \"FAMILY\", \"FAMILY\", \"GAME\", \"FAMILY\", \"GAME\", \"COMMUNICATION\", \"FAMILY\", \"ENTERTAINMENT\", \"COMMUNICATION\", \"GAME\", \"GAME\", \"GAME\", \"GAME\", \"GAME\", \"GAME\", \"PERSONALIZATION\", \"FAMILY\", \"PERSONALIZATION\", \"FAMILY\", \"EDUCATION\", \"WEATHER\", \"PHOTOGRAPHY\", \"PRODUCTIVITY\", \"GAME\", \"FAMILY\", \"FAMILY\", \"PRODUCTIVITY\", \"PERSONALIZATION\", \"GAME\", \"GAME\", \"FAMILY\", \"COMMUNICATION\", \"TOOLS\", \"GAME\", \"PERSONALIZATION\", \"PHOTOGRAPHY\", \"SPORTS\", \"GAME\", \"FAMILY\", \"GAME\", \"GAME\", \"FAMILY\", \"GAME\", \"FAMILY\", \"GAME\", \"LIFESTYLE\", \"FAMILY\", \"GAME\", \"FAMILY\"], \"x0\": \" \", \"xaxis\": \"x\", \"y\": [1.49, 0.99, 14.99, 2.49, 3.04, 1.49, 0.99, 3.49, 2.99, 0.99, 0.99, 4.99, 0.99, 2.99, 0.99, 0.99, 29.99, 19.99, 4.99, 4.99, 1.99, 2.99, 0.99, 0.99, 0.99, 1.76, 2.99, 2.99, 8.99, 1.75, 1.49, 1.49, 0.99, 0.99, 0.99, 0.99, 0.99, 0.99, 12.99, 4.99, 2.49, 7.99, 1.99, 4.99, 0.99, 4.99, 3.99, 2.99, 3.88, 2.99, 2.99, 12.99, 4.59, 0.99, 9.99, 3.99, 9.99, 1.49, 1.49, 1.49, 1.49, 0.99, 2.99, 1.99, 4.99, 1.49, 0.99, 3.49, 1.99, 12.99, 0.99, 0.99, 0.99, 1.99, 4.99, 3.99, 0.99, 3.99, 14.0, 1.49, 4.49, 1.99, 0.99, 6.99, 5.99, 3.99, 2.49, 0.99, 1.49, 39.99, 3.02, 1.49, 1.49, 0.99, 0.99, 4.99, 1.49, 0.99, 6.49, 5.99, 2.99, 3.99, 0.99, 17.99, 0.99, 1.99, 1.49, 1.49, 3.99, 1.49, 2.99, 4.99, 8.99, 0.99, 0.99, 1.99, 2.49, 4.99, 0.99, 1.99, 1.99, 0.99, 2.99, 4.49, 3.49, 2.0, 1.49, 2.99, 3.99, 3.99, 15.99, 3.99, 2.99, 1.49, 0.99, 9.99, 2.99, 4.99, 9.99, 2.49, 10.99, 2.99, 0.99, 1.99, 1.99, 0.99, 3.99, 1.61, 0.99, 1.99, 2.49, 4.29, 0.99, 3.99, 0.99, 2.99, 1.49, 15.46, 1.99, 2.99, 4.99, 7.49, 3.99, 5.49, 2.49, 2.99, 1.99, 4.99, 4.99, 19.99, 2.99, 1.99, 9.99, 0.99, 1.99, 2.99, 1.7, 0.99, 7.99, 29.99, 2.99, 7.99, 0.99, 1.49, 2.99, 4.99, 2.49, 79.99, 2.56, 3.99, 19.99, 2.49, 0.99, 0.99, 8.49, 6.99, 2.99, 0.99, 2.99, 1.5, 4.99, 1.99, 4.84, 14.99, 29.99, 4.99, 4.99, 3.99, 19.4, 33.99, 1.49, 2.99, 2.99, 0.99, 0.99, 1.99, 3.08, 5.99, 3.99, 2.99, 0.99, 1.99, 5.99, 2.49, 0.99, 0.99, 0.99, 6.99, 0.99, 16.99, 0.99, 3.49, 1.7, 3.99, 37.99, 9.99, 6.99, 1.99, 3.99, 10.0, 1.29, 3.99, 4.49, 2.99, 2.49, 0.99, 4.99, 0.99, 3.99, 1.99, 7.49, 0.99, 10.99, 5.99, 0.99, 1.49, 14.99, 4.99, 4.99, 0.99, 4.99, 3.99, 4.99, 0.99, 4.49, 5.99, 3.99, 1.99, 3.99, 4.99, 1.99, 3.99, 0.99, 2.99, 1.49, 2.49, 3.99, 3.99, 3.99, 3.99, 0.99, 1.99, 2.99, 0.99, 2.99, 0.99, 1.99, 6.99, 1.99, 0.99, 1.49, 2.99, 5.99, 2.99, 2.99, 4.6, 1.99, 14.99, 0.99, 0.99, 0.99, 2.99, 2.99, 1.99, 2.99, 4.99, 1.0, 14.99, 2.49, 0.99, 4.99, 0.99, 1.49, 3.99, 2.99, 4.99, 3.99, 4.99, 4.99, 4.99, 4.99, 4.99, 1.0, 6.99, 2.99, 9.99, 24.99, 2.99, 3.99, 0.99, 3.99, 3.99, 1.99, 0.99, 7.99, 4.99, 2.99, 10.0, 2.99, 2.99, 2.99, 14.99, 7.99, 12.99, 0.99, 4.49, 16.99, 0.99, 0.99, 4.99, 3.99, 3.49, 2.49, 2.99, 1.49, 6.99, 1.99, 2.5, 3.9, 2.95, 0.99, 1.49, 1.99, 7.99, 2.99, 2.99, 4.99, 1.99, 0.99, 2.99, 2.99, 1.99, 1.97, 1.99, 9.99, 2.99, 5.49, 3.28, 0.99, 2.99, 4.99, 2.99, 14.99, 2.99, 2.99, 2.99, 17.99, 0.99, 6.99, 4.99, 3.99, 2.99, 2.99, 4.99, 1.2, 2.99, 1.99, 4.99, 4.99, 0.99, 5.99, 2.59, 2.99, 1.99, 3.99, 4.99, 3.99, 2.99, 4.99, 2.99, 4.99, 2.99, 0.99, 3.99, 2.49, 0.99, 18.99, 1.99, 1.99, 1.59, 3.99, 11.99, 1.99, 1.99, 2.99, 0.99, 9.99, 3.99, 0.99, 2.99, 1.99, 4.99, 1.99, 2.99, 0.99, 1.99, 0.99, 0.99, 29.99, 2.99, 1.99, 2.99, 1.99, 1.99, 2.99, 4.99, 3.99, 1.99, 3.99, 2.99, 5.99, 19.99, 9.99, 2.99, 2.49, 1.49, 0.99, 2.99, 2.99, 1.99, 11.99, 4.99, 3.99, 4.99, 2.99, 2.99, 4.77, 2.99, 2.99, 4.99, 4.99, 4.99, 1.99, 2.49, 4.99, 3.99, 3.99, 24.99, 4.99, 0.99, 9.0, 0.99, 2.99, 2.99, 2.99, 9.99, 2.99, 1.49, 14.99, 4.99, 7.99, 1.99, 0.99, 0.99, 4.49, 3.99, 3.99, 4.99, 2.99, 2.99, 2.99, 2.99, 3.99, 4.99, 4.99, 3.95, 8.99, 8.99, 2.49, 3.99, 4.49, 1.99, 5.99, 4.99, 11.99, 4.99, 9.99, 4.49, 3.49, 2.99, 4.99, 4.99, 4.99, 1.99, 4.49, 3.99, 2.99, 13.99, 3.49, 9.99, 4.99, 2.99, 2.99, 4.99, 2.99, 2.99, 2.99, 2.99, 2.99, 9.99, 0.99, 1.99, 2.99, 1.49, 6.99, 2.9, 2.99, 2.99, 3.99, 2.99, 4.99, 2.99, 2.99, 1.99, 5.99, 4.99, 2.99, 2.49, 0.99, 3.99, 5.99, 2.99, 2.99, 1.99, 2.99, 4.99, 1.99, 2.49, 0.99, 4.99, 2.99, 2.99, 2.99, 6.99, 0.99, 5.99, 1.99, 2.99, 0.99, 0.99, 0.99, 0.99, 0.99, 2.99, 0.99, 5.99, 1.99, 0.99, 6.99], \"y0\": \" \", \"yaxis\": \"y\"}],\n",
              "                        {\"boxmode\": \"group\", \"legend\": {\"tracegroupgap\": 0}, \"template\": {\"data\": {\"bar\": [{\"error_x\": {\"color\": \"#2a3f5f\"}, \"error_y\": {\"color\": \"#2a3f5f\"}, \"marker\": {\"line\": {\"color\": \"#E5ECF6\", \"width\": 0.5}}, \"type\": \"bar\"}], \"barpolar\": [{\"marker\": {\"line\": {\"color\": \"#E5ECF6\", \"width\": 0.5}}, \"type\": \"barpolar\"}], \"carpet\": [{\"aaxis\": {\"endlinecolor\": \"#2a3f5f\", \"gridcolor\": \"white\", \"linecolor\": \"white\", \"minorgridcolor\": \"white\", \"startlinecolor\": \"#2a3f5f\"}, \"baxis\": {\"endlinecolor\": \"#2a3f5f\", \"gridcolor\": \"white\", \"linecolor\": \"white\", \"minorgridcolor\": \"white\", \"startlinecolor\": \"#2a3f5f\"}, \"type\": \"carpet\"}], \"choropleth\": [{\"colorbar\": {\"outlinewidth\": 0, \"ticks\": \"\"}, \"type\": \"choropleth\"}], \"contour\": [{\"colorbar\": {\"outlinewidth\": 0, \"ticks\": \"\"}, \"colorscale\": [[0.0, \"#0d0887\"], [0.1111111111111111, \"#46039f\"], [0.2222222222222222, \"#7201a8\"], [0.3333333333333333, \"#9c179e\"], [0.4444444444444444, \"#bd3786\"], [0.5555555555555556, \"#d8576b\"], [0.6666666666666666, \"#ed7953\"], [0.7777777777777778, \"#fb9f3a\"], [0.8888888888888888, \"#fdca26\"], [1.0, \"#f0f921\"]], \"type\": \"contour\"}], \"contourcarpet\": [{\"colorbar\": {\"outlinewidth\": 0, \"ticks\": \"\"}, \"type\": \"contourcarpet\"}], \"heatmap\": [{\"colorbar\": {\"outlinewidth\": 0, \"ticks\": \"\"}, \"colorscale\": [[0.0, \"#0d0887\"], [0.1111111111111111, \"#46039f\"], [0.2222222222222222, \"#7201a8\"], [0.3333333333333333, \"#9c179e\"], [0.4444444444444444, \"#bd3786\"], [0.5555555555555556, \"#d8576b\"], [0.6666666666666666, \"#ed7953\"], [0.7777777777777778, \"#fb9f3a\"], [0.8888888888888888, \"#fdca26\"], [1.0, \"#f0f921\"]], \"type\": \"heatmap\"}], \"heatmapgl\": [{\"colorbar\": {\"outlinewidth\": 0, \"ticks\": \"\"}, \"colorscale\": [[0.0, \"#0d0887\"], [0.1111111111111111, \"#46039f\"], [0.2222222222222222, \"#7201a8\"], [0.3333333333333333, \"#9c179e\"], [0.4444444444444444, \"#bd3786\"], [0.5555555555555556, \"#d8576b\"], [0.6666666666666666, \"#ed7953\"], [0.7777777777777778, \"#fb9f3a\"], [0.8888888888888888, \"#fdca26\"], [1.0, \"#f0f921\"]], \"type\": \"heatmapgl\"}], \"histogram\": [{\"marker\": {\"colorbar\": {\"outlinewidth\": 0, \"ticks\": \"\"}}, \"type\": \"histogram\"}], \"histogram2d\": [{\"colorbar\": {\"outlinewidth\": 0, \"ticks\": \"\"}, \"colorscale\": [[0.0, \"#0d0887\"], [0.1111111111111111, \"#46039f\"], [0.2222222222222222, \"#7201a8\"], [0.3333333333333333, \"#9c179e\"], [0.4444444444444444, \"#bd3786\"], [0.5555555555555556, \"#d8576b\"], [0.6666666666666666, \"#ed7953\"], [0.7777777777777778, \"#fb9f3a\"], [0.8888888888888888, \"#fdca26\"], [1.0, \"#f0f921\"]], \"type\": \"histogram2d\"}], \"histogram2dcontour\": [{\"colorbar\": {\"outlinewidth\": 0, \"ticks\": \"\"}, \"colorscale\": [[0.0, \"#0d0887\"], [0.1111111111111111, \"#46039f\"], [0.2222222222222222, \"#7201a8\"], [0.3333333333333333, \"#9c179e\"], [0.4444444444444444, \"#bd3786\"], [0.5555555555555556, \"#d8576b\"], [0.6666666666666666, \"#ed7953\"], [0.7777777777777778, \"#fb9f3a\"], [0.8888888888888888, \"#fdca26\"], [1.0, \"#f0f921\"]], \"type\": \"histogram2dcontour\"}], \"mesh3d\": [{\"colorbar\": {\"outlinewidth\": 0, \"ticks\": \"\"}, \"type\": \"mesh3d\"}], \"parcoords\": [{\"line\": {\"colorbar\": {\"outlinewidth\": 0, \"ticks\": \"\"}}, \"type\": \"parcoords\"}], \"pie\": [{\"automargin\": true, \"type\": \"pie\"}], \"scatter\": [{\"marker\": {\"colorbar\": {\"outlinewidth\": 0, \"ticks\": \"\"}}, \"type\": \"scatter\"}], \"scatter3d\": [{\"line\": {\"colorbar\": {\"outlinewidth\": 0, \"ticks\": \"\"}}, \"marker\": {\"colorbar\": {\"outlinewidth\": 0, \"ticks\": \"\"}}, \"type\": \"scatter3d\"}], \"scattercarpet\": [{\"marker\": {\"colorbar\": {\"outlinewidth\": 0, \"ticks\": \"\"}}, \"type\": \"scattercarpet\"}], \"scattergeo\": [{\"marker\": {\"colorbar\": {\"outlinewidth\": 0, \"ticks\": \"\"}}, \"type\": \"scattergeo\"}], \"scattergl\": [{\"marker\": {\"colorbar\": {\"outlinewidth\": 0, \"ticks\": \"\"}}, \"type\": \"scattergl\"}], \"scattermapbox\": [{\"marker\": {\"colorbar\": {\"outlinewidth\": 0, \"ticks\": \"\"}}, \"type\": \"scattermapbox\"}], \"scatterpolar\": [{\"marker\": {\"colorbar\": {\"outlinewidth\": 0, \"ticks\": \"\"}}, \"type\": \"scatterpolar\"}], \"scatterpolargl\": [{\"marker\": {\"colorbar\": {\"outlinewidth\": 0, \"ticks\": \"\"}}, \"type\": \"scatterpolargl\"}], \"scatterternary\": [{\"marker\": {\"colorbar\": {\"outlinewidth\": 0, \"ticks\": \"\"}}, \"type\": \"scatterternary\"}], \"surface\": [{\"colorbar\": {\"outlinewidth\": 0, \"ticks\": \"\"}, \"colorscale\": [[0.0, \"#0d0887\"], [0.1111111111111111, \"#46039f\"], [0.2222222222222222, \"#7201a8\"], [0.3333333333333333, \"#9c179e\"], [0.4444444444444444, \"#bd3786\"], [0.5555555555555556, \"#d8576b\"], [0.6666666666666666, \"#ed7953\"], [0.7777777777777778, \"#fb9f3a\"], [0.8888888888888888, \"#fdca26\"], [1.0, \"#f0f921\"]], \"type\": \"surface\"}], \"table\": [{\"cells\": {\"fill\": {\"color\": \"#EBF0F8\"}, \"line\": {\"color\": \"white\"}}, \"header\": {\"fill\": {\"color\": \"#C8D4E3\"}, \"line\": {\"color\": \"white\"}}, \"type\": \"table\"}]}, \"layout\": {\"annotationdefaults\": {\"arrowcolor\": \"#2a3f5f\", \"arrowhead\": 0, \"arrowwidth\": 1}, \"coloraxis\": {\"colorbar\": {\"outlinewidth\": 0, \"ticks\": \"\"}}, \"colorscale\": {\"diverging\": [[0, \"#8e0152\"], [0.1, \"#c51b7d\"], [0.2, \"#de77ae\"], [0.3, \"#f1b6da\"], [0.4, \"#fde0ef\"], [0.5, \"#f7f7f7\"], [0.6, \"#e6f5d0\"], [0.7, \"#b8e186\"], [0.8, \"#7fbc41\"], [0.9, \"#4d9221\"], [1, \"#276419\"]], \"sequential\": [[0.0, \"#0d0887\"], [0.1111111111111111, \"#46039f\"], [0.2222222222222222, \"#7201a8\"], [0.3333333333333333, \"#9c179e\"], [0.4444444444444444, \"#bd3786\"], [0.5555555555555556, \"#d8576b\"], [0.6666666666666666, \"#ed7953\"], [0.7777777777777778, \"#fb9f3a\"], [0.8888888888888888, \"#fdca26\"], [1.0, \"#f0f921\"]], \"sequentialminus\": [[0.0, \"#0d0887\"], [0.1111111111111111, \"#46039f\"], [0.2222222222222222, \"#7201a8\"], [0.3333333333333333, \"#9c179e\"], [0.4444444444444444, \"#bd3786\"], [0.5555555555555556, \"#d8576b\"], [0.6666666666666666, \"#ed7953\"], [0.7777777777777778, \"#fb9f3a\"], [0.8888888888888888, \"#fdca26\"], [1.0, \"#f0f921\"]]}, \"colorway\": [\"#636efa\", \"#EF553B\", \"#00cc96\", \"#ab63fa\", \"#FFA15A\", \"#19d3f3\", \"#FF6692\", \"#B6E880\", \"#FF97FF\", \"#FECB52\"], \"font\": {\"color\": \"#2a3f5f\"}, \"geo\": {\"bgcolor\": \"white\", \"lakecolor\": \"white\", \"landcolor\": \"#E5ECF6\", \"showlakes\": true, \"showland\": true, \"subunitcolor\": \"white\"}, \"hoverlabel\": {\"align\": \"left\"}, \"hovermode\": \"closest\", \"mapbox\": {\"style\": \"light\"}, \"paper_bgcolor\": \"white\", \"plot_bgcolor\": \"#E5ECF6\", \"polar\": {\"angularaxis\": {\"gridcolor\": \"white\", \"linecolor\": \"white\", \"ticks\": \"\"}, \"bgcolor\": \"#E5ECF6\", \"radialaxis\": {\"gridcolor\": \"white\", \"linecolor\": \"white\", \"ticks\": \"\"}}, \"scene\": {\"xaxis\": {\"backgroundcolor\": \"#E5ECF6\", \"gridcolor\": \"white\", \"gridwidth\": 2, \"linecolor\": \"white\", \"showbackground\": true, \"ticks\": \"\", \"zerolinecolor\": \"white\"}, \"yaxis\": {\"backgroundcolor\": \"#E5ECF6\", \"gridcolor\": \"white\", \"gridwidth\": 2, \"linecolor\": \"white\", \"showbackground\": true, \"ticks\": \"\", \"zerolinecolor\": \"white\"}, \"zaxis\": {\"backgroundcolor\": \"#E5ECF6\", \"gridcolor\": \"white\", \"gridwidth\": 2, \"linecolor\": \"white\", \"showbackground\": true, \"ticks\": \"\", \"zerolinecolor\": \"white\"}}, \"shapedefaults\": {\"line\": {\"color\": \"#2a3f5f\"}}, \"ternary\": {\"aaxis\": {\"gridcolor\": \"white\", \"linecolor\": \"white\", \"ticks\": \"\"}, \"baxis\": {\"gridcolor\": \"white\", \"linecolor\": \"white\", \"ticks\": \"\"}, \"bgcolor\": \"#E5ECF6\", \"caxis\": {\"gridcolor\": \"white\", \"linecolor\": \"white\", \"ticks\": \"\"}}, \"title\": {\"x\": 0.05}, \"xaxis\": {\"automargin\": true, \"gridcolor\": \"white\", \"linecolor\": \"white\", \"ticks\": \"\", \"title\": {\"standoff\": 15}, \"zerolinecolor\": \"white\", \"zerolinewidth\": 2}, \"yaxis\": {\"automargin\": true, \"gridcolor\": \"white\", \"linecolor\": \"white\", \"ticks\": \"\", \"title\": {\"standoff\": 15}, \"zerolinecolor\": \"white\", \"zerolinewidth\": 2}}}, \"title\": {\"text\": \"Price per Category\"}, \"xaxis\": {\"anchor\": \"y\", \"categoryorder\": \"max descending\", \"domain\": [0.0, 1.0], \"title\": {\"text\": \"Category\"}}, \"yaxis\": {\"anchor\": \"x\", \"domain\": [0.0, 1.0], \"title\": {\"text\": \"Paid App Price\"}, \"type\": \"log\"}},\n",
              "                        {\"responsive\": true}\n",
              "                    ).then(function(){\n",
              "                            \n",
              "var gd = document.getElementById('3ed139df-d649-4089-bdd5-2e259183c8da');\n",
              "var x = new MutationObserver(function (mutations, observer) {{\n",
              "        var display = window.getComputedStyle(gd).display;\n",
              "        if (!display || display === 'none') {{\n",
              "            console.log([gd, 'removed!']);\n",
              "            Plotly.purge(gd);\n",
              "            observer.disconnect();\n",
              "        }}\n",
              "}});\n",
              "\n",
              "// Listen for the removal of the full notebook cells\n",
              "var notebookContainer = gd.closest('#notebook-container');\n",
              "if (notebookContainer) {{\n",
              "    x.observe(notebookContainer, {childList: true});\n",
              "}}\n",
              "\n",
              "// Listen for the clearing of the current output cell\n",
              "var outputEl = gd.closest('.output');\n",
              "if (outputEl) {{\n",
              "    x.observe(outputEl, {childList: true});\n",
              "}}\n",
              "\n",
              "                        })\n",
              "                };\n",
              "                \n",
              "            </script>\n",
              "        </div>\n",
              "</body>\n",
              "</html>"
            ]
          },
          "metadata": {}
        }
      ]
    },
    {
      "cell_type": "code",
      "metadata": {
        "id": "zSXVSlVyQ4Kz"
      },
      "source": [
        ""
      ],
      "execution_count": null,
      "outputs": []
    }
  ]
}